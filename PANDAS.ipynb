{
 "cells": [
  {
   "cell_type": "markdown",
   "id": "d751cdfb-2db0-40d7-ae1f-07125748f98b",
   "metadata": {},
   "source": [
    "# Pandas\n",
    "\n",
    "- Pandas is a python library used for working with data sets.\n",
    "- It has functions for analyzing, cleaning, exploring and manipulating data.\n",
    "- The name pandas has a reference to both \"Panel Data\" and \"Python Data Analysis\"\n",
    "\n",
    "#### Why pandas?\n",
    "- allows to analyze big data and make conclusions based on statistical theories\n",
    "- it can clean messy data sets and make them readable and relevant\n",
    "- pandas can find the correlation between two or more columns\n",
    "- find average, min, max values\n",
    "- it can also delete the rows that are not relevant or contains wrong values like empty or NULL values, which is called cleaning the data\n",
    "\n"
   ]
  },
  {
   "cell_type": "code",
   "execution_count": 1,
   "id": "73fa1fac-02e2-4c4a-b097-3cf0acd8c6a3",
   "metadata": {},
   "outputs": [
    {
     "name": "stdout",
     "output_type": "stream",
     "text": [
      "    cars  passsings\n",
      "0    BMW          3\n",
      "1  Volvo          7\n",
      "2   Ford          2\n"
     ]
    }
   ],
   "source": [
    "# importing pandas and using it\n",
    "import pandas\n",
    "mydataset = {\n",
    "    'cars':[\"BMW\", \"Volvo\", \"Ford\"],\n",
    "    'passsings':[3,7,2]\n",
    "}\n",
    "\n",
    "myvar = pandas.DataFrame(mydataset)\n",
    "print(myvar)"
   ]
  },
  {
   "cell_type": "markdown",
   "id": "edaa2b76-0dfa-4c90-8582-10dbf735e5fd",
   "metadata": {},
   "source": [
    "#### Pandas as pd\n",
    "\n",
    "- Pandas is usually imported under the pd alias.\n",
    "- alias: In Python alias are an alternate name for referring to the same thing.\n",
    "\n",
    "then"
   ]
  },
  {
   "cell_type": "code",
   "execution_count": 2,
   "id": "94bab25f-774c-4325-a62a-26976a779768",
   "metadata": {},
   "outputs": [
    {
     "name": "stdout",
     "output_type": "stream",
     "text": [
      "    cars  passings\n",
      "0    BMW         3\n",
      "1  Volvo         7\n",
      "2   Ford         2\n"
     ]
    }
   ],
   "source": [
    "import pandas as pd\n",
    "\n",
    "mydataset = {\n",
    "  'cars': [\"BMW\", \"Volvo\", \"Ford\"],\n",
    "  'passings': [3, 7, 2]\n",
    "}\n",
    "\n",
    "myvar = pd.DataFrame(mydataset)\n",
    "\n",
    "print(myvar)"
   ]
  },
  {
   "cell_type": "markdown",
   "id": "8854b7f2-93a2-411b-ac0c-df04e8d7bd5e",
   "metadata": {},
   "source": [
    "#### Checking Pandas Version\n",
    "\n",
    "The version string is stored under __version__ attribute."
   ]
  },
  {
   "cell_type": "code",
   "execution_count": 4,
   "id": "40ab3cec-ef3d-4034-9c07-f8d222646493",
   "metadata": {},
   "outputs": [
    {
     "name": "stdout",
     "output_type": "stream",
     "text": [
      "2.2.3\n"
     ]
    }
   ],
   "source": [
    "import pandas as pd\n",
    "print(pd.__version__)"
   ]
  },
  {
   "cell_type": "markdown",
   "id": "993f6140-4497-438a-8db3-fdf084b15bbf",
   "metadata": {},
   "source": [
    "## Pandas Series\n",
    "\n",
    "- A pandas series is like a column in a table\n",
    "- it is one-dimensional holding data of any type"
   ]
  },
  {
   "cell_type": "code",
   "execution_count": 6,
   "id": "2c5d8f69-30ff-47ed-baa6-91242e63df65",
   "metadata": {},
   "outputs": [
    {
     "name": "stdout",
     "output_type": "stream",
     "text": [
      "0    1\n",
      "1    7\n",
      "2    2\n",
      "dtype: int64\n"
     ]
    }
   ],
   "source": [
    "import pandas as pd\n",
    "\n",
    "a = [1,7,2]\n",
    "myvar = pd.Series(a)\n",
    "print(myvar)"
   ]
  },
  {
   "cell_type": "markdown",
   "id": "59761ab4-1c8f-4998-8c37-31c29630778d",
   "metadata": {},
   "source": [
    "### Labels\n",
    "- If nothing else is specified, the values are labeled with their index number\n",
    "- first value has index 0, second value has index 1 etc.\n",
    "- the label can be used to access a specified value\n",
    "\n",
    "#### Create Labels\n",
    "\n",
    "With the index argument, you can name your own labels."
   ]
  },
  {
   "cell_type": "code",
   "execution_count": 8,
   "id": "70664578-1cb1-41a6-be4a-2b95fda16618",
   "metadata": {},
   "outputs": [
    {
     "name": "stdout",
     "output_type": "stream",
     "text": [
      "x    1\n",
      "y    7\n",
      "z    2\n",
      "dtype: int64\n",
      "7\n"
     ]
    }
   ],
   "source": [
    "import pandas as pd\n",
    "\n",
    "a = [1, 7, 2]\n",
    "\n",
    "myvar = pd.Series(a, index = [\"x\", \"y\", \"z\"])\n",
    "\n",
    "print(myvar)\n",
    "\n",
    "print(myvar[\"y\"])"
   ]
  },
  {
   "cell_type": "markdown",
   "id": "78fa8c37-9faa-44a9-b3b7-86a6d88b57ce",
   "metadata": {},
   "source": [
    "### Key/Value Objects as Series\n",
    "\n",
    "- we can also use a key/value object, like a dictionary, when creating a Series."
   ]
  },
  {
   "cell_type": "code",
   "execution_count": 9,
   "id": "b3d04133-a0eb-44ea-9f17-e80d04b807ed",
   "metadata": {},
   "outputs": [
    {
     "name": "stdout",
     "output_type": "stream",
     "text": [
      "day1    420\n",
      "day2    380\n",
      "day3    390\n",
      "dtype: int64\n"
     ]
    }
   ],
   "source": [
    "import pandas as pd \n",
    "calories = {\"day1\":420, \"day2\":380, \"day3\":390}\n",
    "myvar = pd.Series(calories)\n",
    "print(myvar)"
   ]
  },
  {
   "cell_type": "code",
   "execution_count": 10,
   "id": "9a078061-9fec-44ba-8488-047dce1633ab",
   "metadata": {},
   "outputs": [
    {
     "name": "stdout",
     "output_type": "stream",
     "text": [
      "day1    420\n",
      "day2    380\n",
      "dtype: int64\n"
     ]
    }
   ],
   "source": [
    "# To select only some of the items in the dictionary, use the index argument and specify only the items you want to include in the Series.\n",
    "import pandas as pd\n",
    "\n",
    "calories = {\"day1\": 420, \"day2\": 380, \"day3\": 390}\n",
    "\n",
    "myvar = pd.Series(calories, index = [\"day1\", \"day2\"])\n",
    "\n",
    "print(myvar)"
   ]
  },
  {
   "cell_type": "markdown",
   "id": "5988e801-b138-4cb9-8917-d91a4e6958a8",
   "metadata": {},
   "source": [
    "## DataFrames\n",
    "\n",
    "- Data sets in Pandas are usually multi-dimensional tables called DataFrames\n",
    "- Series is like a column, a DataFrame is the whole table.\n",
    "- A Pandas DataFrame is a 2 dimensional data structure, like a 2 dimensional array, or a table with rows and columns."
   ]
  },
  {
   "cell_type": "code",
   "execution_count": 11,
   "id": "da0fa20c-2233-45fe-8b2e-6a130db0e797",
   "metadata": {},
   "outputs": [
    {
     "name": "stdout",
     "output_type": "stream",
     "text": [
      "   calories  duration\n",
      "0       420        50\n",
      "1       380        40\n",
      "2       390        45\n"
     ]
    }
   ],
   "source": [
    "import pandas as pd\n",
    "\n",
    "data = {\n",
    "    \"calories\": [420, 380,390],\n",
    "    \"duration\": [50,40,45]\n",
    "}\n",
    "\n",
    "myvar = pd.DataFrame(data)\n",
    "print(myvar)"
   ]
  },
  {
   "cell_type": "markdown",
   "id": "be98f8df-dc9a-4426-8134-b801517f946c",
   "metadata": {},
   "source": [
    "the DataFrame is like a table with rows and columns.\n",
    "\n",
    "Pandas use the loc attribute to return one or more specified row(s)"
   ]
  },
  {
   "cell_type": "code",
   "execution_count": 14,
   "id": "ec3119c6-e3d9-4363-bd8e-1e21fe8b6a01",
   "metadata": {},
   "outputs": [
    {
     "name": "stdout",
     "output_type": "stream",
     "text": [
      "calories    420\n",
      "duration     50\n",
      "Name: 0, dtype: int64\n"
     ]
    }
   ],
   "source": [
    "#returning row 0\n",
    "print(myvar.loc[0])"
   ]
  },
  {
   "cell_type": "code",
   "execution_count": 17,
   "id": "b6989147-b139-4dbc-9c04-54914e4768d7",
   "metadata": {},
   "outputs": [
    {
     "name": "stdout",
     "output_type": "stream",
     "text": [
      "   calories  duration\n",
      "0       420        50\n",
      "1       380        40\n"
     ]
    }
   ],
   "source": [
    "# returning row 0 and 1\n",
    "print(myvar.loc[[0,1]])"
   ]
  },
  {
   "cell_type": "markdown",
   "id": "86b65973-d4c4-4651-9dbf-b3b995aeac0a",
   "metadata": {},
   "source": [
    "### Named Indexes\n",
    "with the index argument, we can name our own indexes"
   ]
  },
  {
   "cell_type": "code",
   "execution_count": 19,
   "id": "9b1426fd-b4d1-47e5-ac7b-70dfd640edc2",
   "metadata": {},
   "outputs": [
    {
     "name": "stdout",
     "output_type": "stream",
     "text": [
      "      calories  duration\n",
      "day1       420        50\n",
      "day2       380        40\n",
      "day3       390        45\n"
     ]
    }
   ],
   "source": [
    "import pandas as pd\n",
    "\n",
    "data = {\n",
    "    \"calories\": [420, 380, 390],\n",
    "    \"duration\": [50,40,45]\n",
    "}\n",
    "\n",
    "df = pd.DataFrame(data, index = [\"day1\",\"day2\",\"day3\"])\n",
    "\n",
    "print(df)"
   ]
  },
  {
   "cell_type": "markdown",
   "id": "d88b80f0-e9ab-4180-91be-0062f6d34731",
   "metadata": {},
   "source": [
    "### locating named indexes\n",
    "\n",
    "- by using named index in the loc attribute to return the specified row"
   ]
  },
  {
   "cell_type": "code",
   "execution_count": 20,
   "id": "c47911b1-762c-412a-abc5-4e07e53cecb7",
   "metadata": {},
   "outputs": [
    {
     "name": "stdout",
     "output_type": "stream",
     "text": [
      "calories    380\n",
      "duration     40\n",
      "Name: day2, dtype: int64\n"
     ]
    }
   ],
   "source": [
    "print(df.loc[\"day2\"])"
   ]
  },
  {
   "cell_type": "markdown",
   "id": "49b5283a-5f9f-4a17-ab9a-370cc68f4239",
   "metadata": {},
   "source": [
    "### load files into a dataframe"
   ]
  },
  {
   "cell_type": "code",
   "execution_count": 22,
   "id": "be700bce-de08-41da-99c2-c34d92e2664a",
   "metadata": {},
   "outputs": [
    {
     "name": "stdout",
     "output_type": "stream",
     "text": [
      "     Duration  Pulse  Maxpulse  Calories\n",
      "0          60    110       130     409.1\n",
      "1          60    117       145     479.0\n",
      "2          60    103       135     340.0\n",
      "3          45    109       175     282.4\n",
      "4          45    117       148     406.0\n",
      "..        ...    ...       ...       ...\n",
      "164        60    105       140     290.8\n",
      "165        60    110       145     300.0\n",
      "166        60    115       145     310.2\n",
      "167        75    120       150     320.4\n",
      "168        75    125       150     330.4\n",
      "\n",
      "[169 rows x 4 columns]\n"
     ]
    }
   ],
   "source": [
    "import pandas as pd\n",
    "\n",
    "df = pd.read_csv('data.csv')\n",
    "\n",
    "print(df)"
   ]
  },
  {
   "cell_type": "markdown",
   "id": "02eb3819-1a8c-4ee6-ac06-7d8529ff6090",
   "metadata": {},
   "source": [
    "### Adding a new column to a data frame:"
   ]
  },
  {
   "cell_type": "code",
   "execution_count": 61,
   "id": "5a23ba3f-3e44-4946-85f7-c1fb8ae4bba6",
   "metadata": {},
   "outputs": [
    {
     "name": "stdout",
     "output_type": "stream",
     "text": [
      "      Name  Age  Salary\n",
      "0    Alice   25   50000\n",
      "1      Bob   30   60000\n",
      "2  Charlie   35   70000\n"
     ]
    }
   ],
   "source": [
    "import pandas as pd\n",
    "\n",
    "df = pd.DataFrame({'Name': ['Alice', 'Bob', 'Charlie'], 'Age': [25, 30, 35]})\n",
    "\n",
    "# Adding a new column with a list of values\n",
    "df['Salary'] = [50000, 60000, 70000]\n",
    "print(df)"
   ]
  },
  {
   "cell_type": "markdown",
   "id": "c703d873-2a9c-4cba-ad99-097ca8c1de1c",
   "metadata": {},
   "source": [
    "### Renaming Columns"
   ]
  },
  {
   "cell_type": "code",
   "execution_count": 62,
   "id": "9957b4b6-d4c6-424b-8c07-dfaba659a0ab",
   "metadata": {},
   "outputs": [
    {
     "name": "stdout",
     "output_type": "stream",
     "text": [
      "   X  Y  Z\n",
      "0  1  4  7\n",
      "1  2  5  8\n",
      "2  3  6  9\n"
     ]
    }
   ],
   "source": [
    "import pandas as pd\n",
    "\n",
    "df = pd.DataFrame({'A': [1, 2, 3], 'B': [4, 5, 6], 'C': [7, 8, 9]})\n",
    "\n",
    "# Renaming columns\n",
    "df.rename(columns={'A': 'X', 'B': 'Y', 'C': 'Z'}, inplace=True)\n",
    "print(df)"
   ]
  },
  {
   "cell_type": "markdown",
   "id": "3b5cc2f0-2219-4c39-8476-560daeee0782",
   "metadata": {},
   "source": [
    "### Reindexing"
   ]
  },
  {
   "cell_type": "code",
   "execution_count": 63,
   "id": "8cf8fa0f-ece3-47bb-ab6e-0a4cc6bd5bc4",
   "metadata": {},
   "outputs": [
    {
     "name": "stdout",
     "output_type": "stream",
     "text": [
      "Reindexed Rows:\n",
      "       A     B\n",
      "0  10.0  40.0\n",
      "1  20.0  50.0\n",
      "2  30.0  60.0\n",
      "3   NaN   NaN\n"
     ]
    }
   ],
   "source": [
    "import pandas as pd\n",
    "\n",
    "# Sample DataFrame\n",
    "data = {'A': [10, 20, 30], 'B': [40, 50, 60]}\n",
    "df = pd.DataFrame(data)\n",
    "\n",
    "# Reindex rows\n",
    "new_index = [0, 1, 2, 3]\n",
    "df_reindexed = df.reindex(new_index)\n",
    "print(\"Reindexed Rows:\\n\", df_reindexed)"
   ]
  },
  {
   "cell_type": "markdown",
   "id": "71da5cd1-3867-47eb-8c0a-754152f1e17f",
   "metadata": {},
   "source": [
    "### Merging and Concatening Data in Pandas\n",
    "\n",
    "1. Merging DataFrames: Combines data based on common column or index using functions like merge or join. There are 4 types of joins:\n",
    "\n",
    "    - Inner Join: Keep rows that match in both DataFrames.\n",
    "    - Left Join: Keep all rows from the left DataFrame and match data from the right.\n",
    "    - Right Join and Outer Join are similar but differ in data retention rules."
   ]
  },
  {
   "cell_type": "code",
   "execution_count": 65,
   "id": "ebf9adf7-535d-4a99-87db-650f262c074b",
   "metadata": {},
   "outputs": [
    {
     "name": "stdout",
     "output_type": "stream",
     "text": [
      "\n",
      "Inner Merge (Intersection of Names):\n",
      "       Name  Years_Experience     Role  Age    Location\n",
      "0    Alice                 2  Manager   25    New York\n",
      "1  Charlie                 3  Analyst   28  California\n",
      "2    Grace                 6       HR   35       Texas\n",
      "\n",
      "Outer Merge (Union of Names):\n",
      "       Name  Years_Experience       Role   Age    Location\n",
      "0    Alice               2.0    Manager  25.0    New York\n",
      "1  Charlie               3.0    Analyst  28.0  California\n",
      "2   Edward               4.0  Developer   NaN         NaN\n",
      "3    Grace               6.0         HR  35.0       Texas\n",
      "4      Zoe               NaN        NaN  40.0     Florida\n"
     ]
    }
   ],
   "source": [
    "import pandas as pd\n",
    "\n",
    "# Original DataFrame\n",
    "data = {'Name': ['Alice', 'Charlie', 'Edward', 'Grace'],\n",
    "        'Years_Experience': [2, 3, 4, 6],\n",
    "        'Role': ['Manager', 'Analyst', 'Developer', 'HR']}\n",
    "\n",
    "df = pd.DataFrame(data)\n",
    "\n",
    "# Another DataFrame to merge with (example)\n",
    "data3 = {'Name': ['Alice', 'Charlie', 'Grace', 'Zoe'],\n",
    "         'Age': [25, 28, 35, 40],\n",
    "         'Location': ['New York', 'California', 'Texas', 'Florida']}\n",
    "\n",
    "df3 = pd.DataFrame(data3)\n",
    "\n",
    "# Merging DataFrames on the 'Name' column (inner join)\n",
    "df_merged_inner = pd.merge(df, df3, on='Name', how='inner')\n",
    "\n",
    "# Merging DataFrames with outer join\n",
    "df_merged_outer = pd.merge(df, df3, on='Name', how='outer')\n",
    "\n",
    "print(\"\\nInner Merge (Intersection of Names):\\n\", df_merged_inner)\n",
    "print(\"\\nOuter Merge (Union of Names):\\n\", df_merged_outer)\n"
   ]
  },
  {
   "cell_type": "markdown",
   "id": "f2a7a0e8-ea1e-44c0-8adb-c6c06615e2cb",
   "metadata": {},
   "source": [
    "2. Concatenating Data: Refers to stacking DataFrames either vertically (adding rows) or horizontally (adding columns). This can be achieved using the pd.concat() function. Let’s create two dataFrames and concatenate it with the original one: "
   ]
  },
  {
   "cell_type": "code",
   "execution_count": 67,
   "id": "a02d0c25-10a8-4203-8ec0-c7194f462c6e",
   "metadata": {},
   "outputs": [
    {
     "name": "stdout",
     "output_type": "stream",
     "text": [
      "Concatenated DataFrame:\n",
      "       Name  Years_Experience       Role\n",
      "0    Alice                 2    Manager\n",
      "1  Charlie                 3    Analyst\n",
      "2   Edward                 4  Developer\n",
      "3    Grace                 6         HR\n",
      "4     John                 5   Designer\n",
      "5     Lily                 3  Developer\n"
     ]
    }
   ],
   "source": [
    "import pandas as pd\n",
    "data = {'Name': ['Alice', 'Charlie', 'Edward', 'Grace'],'Years_Experience': [2, 3, 4, 6],'Role': ['Manager', 'Analyst', 'Developer', 'HR']}\n",
    "df = pd.DataFrame(data)\n",
    "\n",
    "# New DataFrame to concatenate\n",
    "new_data = {'Name': ['John', 'Lily'],'Years_Experience': [5, 3],'Role': ['Designer', 'Developer']}\n",
    "new_df = pd.DataFrame(new_data)\n",
    "\n",
    "# Concatenate the original and new DataFrames along rows (axis=0)\n",
    "concatenated_df = pd.concat([df, new_df], axis=0, ignore_index=True)\n",
    "\n",
    "print(\"Concatenated DataFrame:\\n\", concatenated_df)\n",
    "\n",
    "#  The axis=0 parameter specifies concatenation along rows (vertically).\n",
    "# ignore_index=True resets the index so it doesn’t retain the original indices from both DataFrames."
   ]
  },
  {
   "cell_type": "markdown",
   "id": "b2f0ecb6-8814-482d-8b44-8ace07daeaa4",
   "metadata": {},
   "source": [
    "### Reshaping Datas\n",
    "\n",
    "Reshaping data involves changing the structure of rows and columns to better organize or analyze data. Common operations include:\n",
    "\n",
    "1. Pivot Tables in Pandas: Reshape data based on column values. The .pivot_table() method is particularly powerful for creating aggregated views of data."
   ]
  },
  {
   "cell_type": "code",
   "execution_count": 68,
   "id": "9fcd3139-135a-47f9-acda-5bba79ea31c5",
   "metadata": {},
   "outputs": [
    {
     "name": "stdout",
     "output_type": "stream",
     "text": [
      "Category     A   B\n",
      "Date              \n",
      "2024-10-01  10  20\n",
      "2024-10-02  15  25\n"
     ]
    }
   ],
   "source": [
    "import pandas as pd\n",
    "data = {'Date': ['2024-10-01', '2024-10-01', '2024-10-02', '2024-10-02'],'Category': ['A', 'B', 'A', 'B'],'Values': [10, 20, 15, 25]}\n",
    "df = pd.DataFrame(data)\n",
    "\n",
    "pivot_table = df.pivot_table(values='Values', index='Date', columns='Category', aggfunc='sum')\n",
    "print(pivot_table)"
   ]
  },
  {
   "cell_type": "markdown",
   "id": "a0654604-bfc9-4b91-af5a-31efadb07b41",
   "metadata": {},
   "source": [
    "2. Melting and Unmelting: Multiple columns are combined into a single key-value pair.\n",
    "\n",
    "    When you melt data:\n",
    "\n",
    "        The column names become the keys.\n",
    "        The values in the columns become the values.\n",
    "\n",
    "Note: To melt data, columns that act as “identifiers” (id_vars) and others that need to be melted (value_vars) must be specified."
   ]
  },
  {
   "cell_type": "code",
   "execution_count": 69,
   "id": "176b2dda-6299-4c8f-98f7-6855c6b8d587",
   "metadata": {},
   "outputs": [
    {
     "name": "stdout",
     "output_type": "stream",
     "text": [
      "         Date    Category  Values\n",
      "0  2024-10-01    Category    10.0\n",
      "1  2024-10-01    Category     NaN\n",
      "2  2024-10-02    Category    15.0\n",
      "3  2024-10-02    Category     NaN\n",
      "4  2024-10-01  Category_B     NaN\n",
      "5  2024-10-01  Category_B    20.0\n",
      "6  2024-10-02  Category_B     NaN\n",
      "7  2024-10-02  Category_B    25.0\n"
     ]
    }
   ],
   "source": [
    "import pandas as pd\n",
    "data = {'Date': ['2024-10-01', '2024-10-01', '2024-10-02', '2024-10-02'],'Category': [10, None, 15, None],'Category_B': [None, 20, None, 25]}\n",
    "df = pd.DataFrame(data)\n",
    "\n",
    "# Melt data from wide to long format\n",
    "melt_df = df.melt(id_vars='Date', var_name='Category', value_name='Values')\n",
    "print(melt_df)"
   ]
  },
  {
   "cell_type": "markdown",
   "id": "a631911e-931e-4bcf-a5b8-0799f2ff1c41",
   "metadata": {},
   "source": [
    "3. Stacking and Unstacking With Pandas: Reshape the data by changing its rows and columns, particularly when working with MultiIndex DataFrames. These techniques help pivot the layout of your data.\n",
    "\n",
    "    - Stacking: Moves the data from columns to rows (making the DataFrame taller).\n",
    "    - Unstacking: Moves the data from rows to columns (making the DataFrame wider). Let’s take a simple DataFrame with multiple levels of columns."
   ]
  },
  {
   "cell_type": "code",
   "execution_count": 70,
   "id": "dd312523-c3fa-4b2a-8926-651447af0beb",
   "metadata": {},
   "outputs": [
    {
     "name": "stdout",
     "output_type": "stream",
     "text": [
      "          Sales      Expenses    \n",
      "             Q1   Q2       Q1  Q2\n",
      "Product_A   100  200       50  80\n",
      "Product_B   150  250       70  90\n",
      "              Sales  Expenses\n",
      "Product_A Q1    100        50\n",
      "          Q2    200        80\n",
      "Product_B Q1    150        70\n",
      "          Q2    250        90\n",
      "          Sales      Expenses    \n",
      "             Q1   Q2       Q1  Q2\n",
      "Product_A   100  200       50  80\n",
      "Product_B   150  250       70  90\n"
     ]
    },
    {
     "name": "stderr",
     "output_type": "stream",
     "text": [
      "C:\\Users\\Administrator\\AppData\\Local\\Temp\\ipykernel_11456\\3503753264.py:13: FutureWarning: The previous implementation of stack is deprecated and will be removed in a future version of pandas. See the What's New notes for pandas 2.1.0 for details. Specify future_stack=True to adopt the new implementation and silence this warning.\n",
      "  stacked_df = df.stack() # Columns → Rows\n"
     ]
    }
   ],
   "source": [
    "import pandas as pd\n",
    "data = {\n",
    "    ('Sales', 'Q1'): [100, 150],\n",
    "    ('Sales', 'Q2'): [200, 250],\n",
    "    ('Expenses', 'Q1'): [50, 70],\n",
    "    ('Expenses', 'Q2'): [80, 90]\n",
    "}\n",
    "\n",
    "index = ['Product_A', 'Product_B']\n",
    "df = pd.DataFrame(data, index=index)\n",
    "print(df)\n",
    "\n",
    "stacked_df = df.stack() # Columns → Rows\n",
    "print(stacked_df)\n",
    "\n",
    "unstacked_df = stacked_df.unstack() # Rows → Columns\n",
    "print(unstacked_df)"
   ]
  },
  {
   "cell_type": "markdown",
   "id": "e3aa55ef-da0e-4257-adf5-1a2917ddcf9a",
   "metadata": {},
   "source": [
    "- Columns are stacked into rows.\n",
    "- Now, the data has a MultiIndex for rows:\n",
    "- First level: Product (e.g., Product_A, Product_B)\n",
    "- Second level: Category (e.g., Sales, Expenses).\n",
    "- Q1 and Q2 remain as columns"
   ]
  },
  {
   "cell_type": "markdown",
   "id": "d9160c35-6d9c-4f9a-b0ad-80d507c814a7",
   "metadata": {},
   "source": [
    "## Pandas Read CSV\n"
   ]
  },
  {
   "cell_type": "code",
   "execution_count": 23,
   "id": "8e8aefbd-8850-4ebd-b0a4-f5dec0323af9",
   "metadata": {},
   "outputs": [
    {
     "name": "stdout",
     "output_type": "stream",
     "text": [
      "     Duration  Pulse  Maxpulse  Calories\n",
      "0          60    110       130     409.1\n",
      "1          60    117       145     479.0\n",
      "2          60    103       135     340.0\n",
      "3          45    109       175     282.4\n",
      "4          45    117       148     406.0\n",
      "5          60    102       127     300.0\n",
      "6          60    110       136     374.0\n",
      "7          45    104       134     253.3\n",
      "8          30    109       133     195.1\n",
      "9          60     98       124     269.0\n",
      "10         60    103       147     329.3\n",
      "11         60    100       120     250.7\n",
      "12         60    106       128     345.3\n",
      "13         60    104       132     379.3\n",
      "14         60     98       123     275.0\n",
      "15         60     98       120     215.2\n",
      "16         60    100       120     300.0\n",
      "17         45     90       112       NaN\n",
      "18         60    103       123     323.0\n",
      "19         45     97       125     243.0\n",
      "20         60    108       131     364.2\n",
      "21         45    100       119     282.0\n",
      "22         60    130       101     300.0\n",
      "23         45    105       132     246.0\n",
      "24         60    102       126     334.5\n",
      "25         60    100       120     250.0\n",
      "26         60     92       118     241.0\n",
      "27         60    103       132       NaN\n",
      "28         60    100       132     280.0\n",
      "29         60    102       129     380.3\n",
      "30         60     92       115     243.0\n",
      "31         45     90       112     180.1\n",
      "32         60    101       124     299.0\n",
      "33         60     93       113     223.0\n",
      "34         60    107       136     361.0\n",
      "35         60    114       140     415.0\n",
      "36         60    102       127     300.0\n",
      "37         60    100       120     300.0\n",
      "38         60    100       120     300.0\n",
      "39         45    104       129     266.0\n",
      "40         45     90       112     180.1\n",
      "41         60     98       126     286.0\n",
      "42         60    100       122     329.4\n",
      "43         60    111       138     400.0\n",
      "44         60    111       131     397.0\n",
      "45         60     99       119     273.0\n",
      "46         60    109       153     387.6\n",
      "47         45    111       136     300.0\n",
      "48         45    108       129     298.0\n",
      "49         60    111       139     397.6\n",
      "50         60    107       136     380.2\n",
      "51         80    123       146     643.1\n",
      "52         60    106       130     263.0\n",
      "53         60    118       151     486.0\n",
      "54         30    136       175     238.0\n",
      "55         60    121       146     450.7\n",
      "56         60    118       121     413.0\n",
      "57         45    115       144     305.0\n",
      "58         20    153       172     226.4\n",
      "59         45    123       152     321.0\n",
      "60        210    108       160    1376.0\n",
      "61        160    110       137    1034.4\n",
      "62        160    109       135     853.0\n",
      "63         45    118       141     341.0\n",
      "64         20    110       130     131.4\n",
      "65        180     90       130     800.4\n",
      "66        150    105       135     873.4\n",
      "67        150    107       130     816.0\n",
      "68         20    106       136     110.4\n",
      "69        300    108       143    1500.2\n",
      "70        150     97       129    1115.0\n",
      "71         60    109       153     387.6\n",
      "72         90    100       127     700.0\n",
      "73        150     97       127     953.2\n",
      "74         45    114       146     304.0\n",
      "75         90     98       125     563.2\n",
      "76         45    105       134     251.0\n",
      "77         45    110       141     300.0\n",
      "78        120    100       130     500.4\n",
      "79        270    100       131    1729.0\n",
      "80         30    159       182     319.2\n",
      "81         45    149       169     344.0\n",
      "82         30    103       139     151.1\n",
      "83        120    100       130     500.0\n",
      "84         45    100       120     225.3\n",
      "85         30    151       170     300.0\n",
      "86         45    102       136     234.0\n",
      "87        120    100       157    1000.1\n",
      "88         45    129       103     242.0\n",
      "89         20     83       107      50.3\n",
      "90        180    101       127     600.1\n",
      "91         45    107       137       NaN\n",
      "92         30     90       107     105.3\n",
      "93         15     80       100      50.5\n",
      "94         20    150       171     127.4\n",
      "95         20    151       168     229.4\n",
      "96         30     95       128     128.2\n",
      "97         25    152       168     244.2\n",
      "98         30    109       131     188.2\n",
      "99         90     93       124     604.1\n",
      "100        20     95       112      77.7\n",
      "101        90     90       110     500.0\n",
      "102        90     90       100     500.0\n",
      "103        90     90       100     500.4\n",
      "104        30     92       108      92.7\n",
      "105        30     93       128     124.0\n",
      "106       180     90       120     800.3\n",
      "107        30     90       120      86.2\n",
      "108        90     90       120     500.3\n",
      "109       210    137       184    1860.4\n",
      "110        60    102       124     325.2\n",
      "111        45    107       124     275.0\n",
      "112        15    124       139     124.2\n",
      "113        45    100       120     225.3\n",
      "114        60    108       131     367.6\n",
      "115        60    108       151     351.7\n",
      "116        60    116       141     443.0\n",
      "117        60     97       122     277.4\n",
      "118        60    105       125       NaN\n",
      "119        60    103       124     332.7\n",
      "120        30    112       137     193.9\n",
      "121        45    100       120     100.7\n",
      "122        60    119       169     336.7\n",
      "123        60    107       127     344.9\n",
      "124        60    111       151     368.5\n",
      "125        60     98       122     271.0\n",
      "126        60     97       124     275.3\n",
      "127        60    109       127     382.0\n",
      "128        90     99       125     466.4\n",
      "129        60    114       151     384.0\n",
      "130        60    104       134     342.5\n",
      "131        60    107       138     357.5\n",
      "132        60    103       133     335.0\n",
      "133        60    106       132     327.5\n",
      "134        60    103       136     339.0\n",
      "135        20    136       156     189.0\n",
      "136        45    117       143     317.7\n",
      "137        45    115       137     318.0\n",
      "138        45    113       138     308.0\n",
      "139        20    141       162     222.4\n",
      "140        60    108       135     390.0\n",
      "141        60     97       127       NaN\n",
      "142        45    100       120     250.4\n",
      "143        45    122       149     335.4\n",
      "144        60    136       170     470.2\n",
      "145        45    106       126     270.8\n",
      "146        60    107       136     400.0\n",
      "147        60    112       146     361.9\n",
      "148        30    103       127     185.0\n",
      "149        60    110       150     409.4\n",
      "150        60    106       134     343.0\n",
      "151        60    109       129     353.2\n",
      "152        60    109       138     374.0\n",
      "153        30    150       167     275.8\n",
      "154        60    105       128     328.0\n",
      "155        60    111       151     368.5\n",
      "156        60     97       131     270.4\n",
      "157        60    100       120     270.4\n",
      "158        60    114       150     382.8\n",
      "159        30     80       120     240.9\n",
      "160        30     85       120     250.4\n",
      "161        45     90       130     260.4\n",
      "162        45     95       130     270.0\n",
      "163        45    100       140     280.9\n",
      "164        60    105       140     290.8\n",
      "165        60    110       145     300.0\n",
      "166        60    115       145     310.2\n",
      "167        75    120       150     320.4\n",
      "168        75    125       150     330.4\n"
     ]
    }
   ],
   "source": [
    "# loading csv into a dataframe\n",
    "\n",
    "import pandas as pd\n",
    "\n",
    "df = pd.read_csv('data.csv')\n",
    "\n",
    "print(df.to_string()) \n",
    "\n",
    "# to_string() is used to print the entire dataframe"
   ]
  },
  {
   "cell_type": "code",
   "execution_count": 24,
   "id": "6392c5b2-8ebe-4863-8fa0-ea6c49d95dca",
   "metadata": {},
   "outputs": [],
   "source": [
    "#If a large DataFrame with many rows is present, Pandas will only return the first 5 rows, and the last 5 rows while printing without to_string method\n"
   ]
  },
  {
   "cell_type": "code",
   "execution_count": 25,
   "id": "d7d8d046-fddd-4d7d-9c2a-60c66ac30fe6",
   "metadata": {},
   "outputs": [
    {
     "name": "stdout",
     "output_type": "stream",
     "text": [
      "60\n"
     ]
    }
   ],
   "source": [
    "# to check the number of maximum returned rows\n",
    "\n",
    "print(pd.options.display.max_rows)"
   ]
  },
  {
   "cell_type": "code",
   "execution_count": 26,
   "id": "751e25e0-c2f7-48e5-87d2-7fe1b73282de",
   "metadata": {},
   "outputs": [
    {
     "name": "stdout",
     "output_type": "stream",
     "text": [
      "     Duration  Pulse  Maxpulse  Calories\n",
      "0          60    110       130     409.1\n",
      "1          60    117       145     479.0\n",
      "2          60    103       135     340.0\n",
      "3          45    109       175     282.4\n",
      "4          45    117       148     406.0\n",
      "5          60    102       127     300.0\n",
      "6          60    110       136     374.0\n",
      "7          45    104       134     253.3\n",
      "8          30    109       133     195.1\n",
      "9          60     98       124     269.0\n",
      "10         60    103       147     329.3\n",
      "11         60    100       120     250.7\n",
      "12         60    106       128     345.3\n",
      "13         60    104       132     379.3\n",
      "14         60     98       123     275.0\n",
      "15         60     98       120     215.2\n",
      "16         60    100       120     300.0\n",
      "17         45     90       112       NaN\n",
      "18         60    103       123     323.0\n",
      "19         45     97       125     243.0\n",
      "20         60    108       131     364.2\n",
      "21         45    100       119     282.0\n",
      "22         60    130       101     300.0\n",
      "23         45    105       132     246.0\n",
      "24         60    102       126     334.5\n",
      "25         60    100       120     250.0\n",
      "26         60     92       118     241.0\n",
      "27         60    103       132       NaN\n",
      "28         60    100       132     280.0\n",
      "29         60    102       129     380.3\n",
      "30         60     92       115     243.0\n",
      "31         45     90       112     180.1\n",
      "32         60    101       124     299.0\n",
      "33         60     93       113     223.0\n",
      "34         60    107       136     361.0\n",
      "35         60    114       140     415.0\n",
      "36         60    102       127     300.0\n",
      "37         60    100       120     300.0\n",
      "38         60    100       120     300.0\n",
      "39         45    104       129     266.0\n",
      "40         45     90       112     180.1\n",
      "41         60     98       126     286.0\n",
      "42         60    100       122     329.4\n",
      "43         60    111       138     400.0\n",
      "44         60    111       131     397.0\n",
      "45         60     99       119     273.0\n",
      "46         60    109       153     387.6\n",
      "47         45    111       136     300.0\n",
      "48         45    108       129     298.0\n",
      "49         60    111       139     397.6\n",
      "50         60    107       136     380.2\n",
      "51         80    123       146     643.1\n",
      "52         60    106       130     263.0\n",
      "53         60    118       151     486.0\n",
      "54         30    136       175     238.0\n",
      "55         60    121       146     450.7\n",
      "56         60    118       121     413.0\n",
      "57         45    115       144     305.0\n",
      "58         20    153       172     226.4\n",
      "59         45    123       152     321.0\n",
      "60        210    108       160    1376.0\n",
      "61        160    110       137    1034.4\n",
      "62        160    109       135     853.0\n",
      "63         45    118       141     341.0\n",
      "64         20    110       130     131.4\n",
      "65        180     90       130     800.4\n",
      "66        150    105       135     873.4\n",
      "67        150    107       130     816.0\n",
      "68         20    106       136     110.4\n",
      "69        300    108       143    1500.2\n",
      "70        150     97       129    1115.0\n",
      "71         60    109       153     387.6\n",
      "72         90    100       127     700.0\n",
      "73        150     97       127     953.2\n",
      "74         45    114       146     304.0\n",
      "75         90     98       125     563.2\n",
      "76         45    105       134     251.0\n",
      "77         45    110       141     300.0\n",
      "78        120    100       130     500.4\n",
      "79        270    100       131    1729.0\n",
      "80         30    159       182     319.2\n",
      "81         45    149       169     344.0\n",
      "82         30    103       139     151.1\n",
      "83        120    100       130     500.0\n",
      "84         45    100       120     225.3\n",
      "85         30    151       170     300.0\n",
      "86         45    102       136     234.0\n",
      "87        120    100       157    1000.1\n",
      "88         45    129       103     242.0\n",
      "89         20     83       107      50.3\n",
      "90        180    101       127     600.1\n",
      "91         45    107       137       NaN\n",
      "92         30     90       107     105.3\n",
      "93         15     80       100      50.5\n",
      "94         20    150       171     127.4\n",
      "95         20    151       168     229.4\n",
      "96         30     95       128     128.2\n",
      "97         25    152       168     244.2\n",
      "98         30    109       131     188.2\n",
      "99         90     93       124     604.1\n",
      "100        20     95       112      77.7\n",
      "101        90     90       110     500.0\n",
      "102        90     90       100     500.0\n",
      "103        90     90       100     500.4\n",
      "104        30     92       108      92.7\n",
      "105        30     93       128     124.0\n",
      "106       180     90       120     800.3\n",
      "107        30     90       120      86.2\n",
      "108        90     90       120     500.3\n",
      "109       210    137       184    1860.4\n",
      "110        60    102       124     325.2\n",
      "111        45    107       124     275.0\n",
      "112        15    124       139     124.2\n",
      "113        45    100       120     225.3\n",
      "114        60    108       131     367.6\n",
      "115        60    108       151     351.7\n",
      "116        60    116       141     443.0\n",
      "117        60     97       122     277.4\n",
      "118        60    105       125       NaN\n",
      "119        60    103       124     332.7\n",
      "120        30    112       137     193.9\n",
      "121        45    100       120     100.7\n",
      "122        60    119       169     336.7\n",
      "123        60    107       127     344.9\n",
      "124        60    111       151     368.5\n",
      "125        60     98       122     271.0\n",
      "126        60     97       124     275.3\n",
      "127        60    109       127     382.0\n",
      "128        90     99       125     466.4\n",
      "129        60    114       151     384.0\n",
      "130        60    104       134     342.5\n",
      "131        60    107       138     357.5\n",
      "132        60    103       133     335.0\n",
      "133        60    106       132     327.5\n",
      "134        60    103       136     339.0\n",
      "135        20    136       156     189.0\n",
      "136        45    117       143     317.7\n",
      "137        45    115       137     318.0\n",
      "138        45    113       138     308.0\n",
      "139        20    141       162     222.4\n",
      "140        60    108       135     390.0\n",
      "141        60     97       127       NaN\n",
      "142        45    100       120     250.4\n",
      "143        45    122       149     335.4\n",
      "144        60    136       170     470.2\n",
      "145        45    106       126     270.8\n",
      "146        60    107       136     400.0\n",
      "147        60    112       146     361.9\n",
      "148        30    103       127     185.0\n",
      "149        60    110       150     409.4\n",
      "150        60    106       134     343.0\n",
      "151        60    109       129     353.2\n",
      "152        60    109       138     374.0\n",
      "153        30    150       167     275.8\n",
      "154        60    105       128     328.0\n",
      "155        60    111       151     368.5\n",
      "156        60     97       131     270.4\n",
      "157        60    100       120     270.4\n",
      "158        60    114       150     382.8\n",
      "159        30     80       120     240.9\n",
      "160        30     85       120     250.4\n",
      "161        45     90       130     260.4\n",
      "162        45     95       130     270.0\n",
      "163        45    100       140     280.9\n",
      "164        60    105       140     290.8\n",
      "165        60    110       145     300.0\n",
      "166        60    115       145     310.2\n",
      "167        75    120       150     320.4\n",
      "168        75    125       150     330.4\n"
     ]
    }
   ],
   "source": [
    "# Increase the maximum number of rows to display the entire DataFrame:\n",
    "\n",
    "pd.options.display.max_rows = 9999\n",
    "\n",
    "df = pd.read_csv('data.csv')\n",
    "\n",
    "print(df) "
   ]
  },
  {
   "cell_type": "markdown",
   "id": "d8839674-5f28-4f2c-9727-6710448e11f5",
   "metadata": {},
   "source": [
    "## Pandas Read JSON"
   ]
  },
  {
   "cell_type": "markdown",
   "id": "2f622063-f2ce-403c-84cb-d2c3dc7896ad",
   "metadata": {},
   "source": [
    "- Big data sets are often stored, or extracted as JSON.\n",
    "\n",
    "- JSON is plain text, but has the format of an object, and is well known in the world of programming, including Pandas.\n",
    "\n",
    "- In our examples we will be using a JSON file called 'data.json'.\n",
    "\n",
    "- simply the syntax will be read_json inplace of read_csv"
   ]
  },
  {
   "cell_type": "markdown",
   "id": "9bdac97d-f6e2-4d37-8adf-32581d353bc2",
   "metadata": {},
   "source": [
    "## Pandas Analyzing DataFrames\n",
    "\n",
    "### Viewing the Data\n",
    "- One of the most used method for getting a quick overview of the Dataframe, is the head() method.\n",
    "- The head() method returns the headers and a specified number of rows, starting from the top"
   ]
  },
  {
   "cell_type": "code",
   "execution_count": 27,
   "id": "942c1350-fd94-4c34-9216-594b1cfac158",
   "metadata": {},
   "outputs": [
    {
     "name": "stdout",
     "output_type": "stream",
     "text": [
      "   Duration  Pulse  Maxpulse  Calories\n",
      "0        60    110       130     409.1\n",
      "1        60    117       145     479.0\n",
      "2        60    103       135     340.0\n",
      "3        45    109       175     282.4\n",
      "4        45    117       148     406.0\n",
      "5        60    102       127     300.0\n",
      "6        60    110       136     374.0\n",
      "7        45    104       134     253.3\n",
      "8        30    109       133     195.1\n",
      "9        60     98       124     269.0\n"
     ]
    }
   ],
   "source": [
    "import pandas as pd\n",
    "\n",
    "df = pd.read_csv('data.csv')\n",
    "print(df.head(10))"
   ]
  },
  {
   "cell_type": "markdown",
   "id": "17618a67-c0f7-4b40-b1e5-c7073d6318cf",
   "metadata": {},
   "source": [
    "- there is also a tail() method for viewing the last rows of the DataFrame\n",
    "- the tail() method returns the headers and a specified number of rows, starting from the bottom"
   ]
  },
  {
   "cell_type": "code",
   "execution_count": 28,
   "id": "fbc82180-c0e5-441e-9ac0-ce531423883b",
   "metadata": {},
   "outputs": [
    {
     "name": "stdout",
     "output_type": "stream",
     "text": [
      "     Duration  Pulse  Maxpulse  Calories\n",
      "164        60    105       140     290.8\n",
      "165        60    110       145     300.0\n",
      "166        60    115       145     310.2\n",
      "167        75    120       150     320.4\n",
      "168        75    125       150     330.4\n"
     ]
    }
   ],
   "source": [
    "print(df.tail())"
   ]
  },
  {
   "cell_type": "markdown",
   "id": "00c8b18c-9a8b-4e80-bf15-de9890a51aa0",
   "metadata": {},
   "source": [
    "### Info about the data\n",
    "- the dataframes object has a method called info(), that gives you more information about the data set."
   ]
  },
  {
   "cell_type": "code",
   "execution_count": 29,
   "id": "7c891631-be71-4c23-9b3b-d62197e85947",
   "metadata": {},
   "outputs": [
    {
     "name": "stdout",
     "output_type": "stream",
     "text": [
      "<class 'pandas.core.frame.DataFrame'>\n",
      "RangeIndex: 169 entries, 0 to 168\n",
      "Data columns (total 4 columns):\n",
      " #   Column    Non-Null Count  Dtype  \n",
      "---  ------    --------------  -----  \n",
      " 0   Duration  169 non-null    int64  \n",
      " 1   Pulse     169 non-null    int64  \n",
      " 2   Maxpulse  169 non-null    int64  \n",
      " 3   Calories  164 non-null    float64\n",
      "dtypes: float64(1), int64(3)\n",
      "memory usage: 5.4 KB\n",
      "None\n"
     ]
    }
   ],
   "source": [
    "print(df.info())"
   ]
  },
  {
   "cell_type": "markdown",
   "id": "f0b51007-07f3-4105-ae85-2eacada04060",
   "metadata": {},
   "source": [
    "## Pandas - Cleaning Data"
   ]
  },
  {
   "cell_type": "markdown",
   "id": "fb3daffc-6842-4e1d-96d4-784c6889f815",
   "metadata": {},
   "source": [
    "### Data Cleaning\n",
    "- Data cleaning means fixing bad data in the data set.\n",
    "\n",
    "<strong> Bad Datas can be </strong>\n",
    "- Empty cells\n",
    "- Data in wrong format\n",
    "- Wrong Data\n",
    "- Duplicates"
   ]
  },
  {
   "cell_type": "markdown",
   "id": "3fc18af2-087c-4df7-b291-1d567a76f270",
   "metadata": {},
   "source": [
    "### Cleaning Empty Cells\n",
    "\n",
    "- By removing rows i.e\n",
    "\n",
    "### Remove Rows\n",
    "\n",
    "One way to deal with empty cells is to remove rows that contain empty cells.\n",
    "\n",
    "This is usually OK, since data sets can be very big, and removing a few rows will not have a big impact on the result."
   ]
  },
  {
   "cell_type": "code",
   "execution_count": 30,
   "id": "5f9ef087-ab33-4ca9-8640-d214ce1d4346",
   "metadata": {},
   "outputs": [
    {
     "name": "stdout",
     "output_type": "stream",
     "text": [
      "     Duration  Pulse  Maxpulse  Calories\n",
      "0          60    110       130     409.1\n",
      "1          60    117       145     479.0\n",
      "2          60    103       135     340.0\n",
      "3          45    109       175     282.4\n",
      "4          45    117       148     406.0\n",
      "5          60    102       127     300.0\n",
      "6          60    110       136     374.0\n",
      "7          45    104       134     253.3\n",
      "8          30    109       133     195.1\n",
      "9          60     98       124     269.0\n",
      "10         60    103       147     329.3\n",
      "11         60    100       120     250.7\n",
      "12         60    106       128     345.3\n",
      "13         60    104       132     379.3\n",
      "14         60     98       123     275.0\n",
      "15         60     98       120     215.2\n",
      "16         60    100       120     300.0\n",
      "18         60    103       123     323.0\n",
      "19         45     97       125     243.0\n",
      "20         60    108       131     364.2\n",
      "21         45    100       119     282.0\n",
      "22         60    130       101     300.0\n",
      "23         45    105       132     246.0\n",
      "24         60    102       126     334.5\n",
      "25         60    100       120     250.0\n",
      "26         60     92       118     241.0\n",
      "28         60    100       132     280.0\n",
      "29         60    102       129     380.3\n",
      "30         60     92       115     243.0\n",
      "31         45     90       112     180.1\n",
      "32         60    101       124     299.0\n",
      "33         60     93       113     223.0\n",
      "34         60    107       136     361.0\n",
      "35         60    114       140     415.0\n",
      "36         60    102       127     300.0\n",
      "37         60    100       120     300.0\n",
      "38         60    100       120     300.0\n",
      "39         45    104       129     266.0\n",
      "40         45     90       112     180.1\n",
      "41         60     98       126     286.0\n",
      "42         60    100       122     329.4\n",
      "43         60    111       138     400.0\n",
      "44         60    111       131     397.0\n",
      "45         60     99       119     273.0\n",
      "46         60    109       153     387.6\n",
      "47         45    111       136     300.0\n",
      "48         45    108       129     298.0\n",
      "49         60    111       139     397.6\n",
      "50         60    107       136     380.2\n",
      "51         80    123       146     643.1\n",
      "52         60    106       130     263.0\n",
      "53         60    118       151     486.0\n",
      "54         30    136       175     238.0\n",
      "55         60    121       146     450.7\n",
      "56         60    118       121     413.0\n",
      "57         45    115       144     305.0\n",
      "58         20    153       172     226.4\n",
      "59         45    123       152     321.0\n",
      "60        210    108       160    1376.0\n",
      "61        160    110       137    1034.4\n",
      "62        160    109       135     853.0\n",
      "63         45    118       141     341.0\n",
      "64         20    110       130     131.4\n",
      "65        180     90       130     800.4\n",
      "66        150    105       135     873.4\n",
      "67        150    107       130     816.0\n",
      "68         20    106       136     110.4\n",
      "69        300    108       143    1500.2\n",
      "70        150     97       129    1115.0\n",
      "71         60    109       153     387.6\n",
      "72         90    100       127     700.0\n",
      "73        150     97       127     953.2\n",
      "74         45    114       146     304.0\n",
      "75         90     98       125     563.2\n",
      "76         45    105       134     251.0\n",
      "77         45    110       141     300.0\n",
      "78        120    100       130     500.4\n",
      "79        270    100       131    1729.0\n",
      "80         30    159       182     319.2\n",
      "81         45    149       169     344.0\n",
      "82         30    103       139     151.1\n",
      "83        120    100       130     500.0\n",
      "84         45    100       120     225.3\n",
      "85         30    151       170     300.0\n",
      "86         45    102       136     234.0\n",
      "87        120    100       157    1000.1\n",
      "88         45    129       103     242.0\n",
      "89         20     83       107      50.3\n",
      "90        180    101       127     600.1\n",
      "92         30     90       107     105.3\n",
      "93         15     80       100      50.5\n",
      "94         20    150       171     127.4\n",
      "95         20    151       168     229.4\n",
      "96         30     95       128     128.2\n",
      "97         25    152       168     244.2\n",
      "98         30    109       131     188.2\n",
      "99         90     93       124     604.1\n",
      "100        20     95       112      77.7\n",
      "101        90     90       110     500.0\n",
      "102        90     90       100     500.0\n",
      "103        90     90       100     500.4\n",
      "104        30     92       108      92.7\n",
      "105        30     93       128     124.0\n",
      "106       180     90       120     800.3\n",
      "107        30     90       120      86.2\n",
      "108        90     90       120     500.3\n",
      "109       210    137       184    1860.4\n",
      "110        60    102       124     325.2\n",
      "111        45    107       124     275.0\n",
      "112        15    124       139     124.2\n",
      "113        45    100       120     225.3\n",
      "114        60    108       131     367.6\n",
      "115        60    108       151     351.7\n",
      "116        60    116       141     443.0\n",
      "117        60     97       122     277.4\n",
      "119        60    103       124     332.7\n",
      "120        30    112       137     193.9\n",
      "121        45    100       120     100.7\n",
      "122        60    119       169     336.7\n",
      "123        60    107       127     344.9\n",
      "124        60    111       151     368.5\n",
      "125        60     98       122     271.0\n",
      "126        60     97       124     275.3\n",
      "127        60    109       127     382.0\n",
      "128        90     99       125     466.4\n",
      "129        60    114       151     384.0\n",
      "130        60    104       134     342.5\n",
      "131        60    107       138     357.5\n",
      "132        60    103       133     335.0\n",
      "133        60    106       132     327.5\n",
      "134        60    103       136     339.0\n",
      "135        20    136       156     189.0\n",
      "136        45    117       143     317.7\n",
      "137        45    115       137     318.0\n",
      "138        45    113       138     308.0\n",
      "139        20    141       162     222.4\n",
      "140        60    108       135     390.0\n",
      "142        45    100       120     250.4\n",
      "143        45    122       149     335.4\n",
      "144        60    136       170     470.2\n",
      "145        45    106       126     270.8\n",
      "146        60    107       136     400.0\n",
      "147        60    112       146     361.9\n",
      "148        30    103       127     185.0\n",
      "149        60    110       150     409.4\n",
      "150        60    106       134     343.0\n",
      "151        60    109       129     353.2\n",
      "152        60    109       138     374.0\n",
      "153        30    150       167     275.8\n",
      "154        60    105       128     328.0\n",
      "155        60    111       151     368.5\n",
      "156        60     97       131     270.4\n",
      "157        60    100       120     270.4\n",
      "158        60    114       150     382.8\n",
      "159        30     80       120     240.9\n",
      "160        30     85       120     250.4\n",
      "161        45     90       130     260.4\n",
      "162        45     95       130     270.0\n",
      "163        45    100       140     280.9\n",
      "164        60    105       140     290.8\n",
      "165        60    110       145     300.0\n",
      "166        60    115       145     310.2\n",
      "167        75    120       150     320.4\n",
      "168        75    125       150     330.4\n"
     ]
    }
   ],
   "source": [
    "import pandas as pd\n",
    "\n",
    "df = pd.read_csv('data.csv')\n",
    "\n",
    "new_df = df.dropna()\n",
    "\n",
    "print(new_df.to_string())"
   ]
  },
  {
   "cell_type": "code",
   "execution_count": 31,
   "id": "40c910e8-fbcc-4414-a36e-7a3b1a41e852",
   "metadata": {},
   "outputs": [
    {
     "name": "stdout",
     "output_type": "stream",
     "text": [
      "     Duration  Pulse  Maxpulse  Calories\n",
      "0          60    110       130     409.1\n",
      "1          60    117       145     479.0\n",
      "2          60    103       135     340.0\n",
      "3          45    109       175     282.4\n",
      "4          45    117       148     406.0\n",
      "5          60    102       127     300.0\n",
      "6          60    110       136     374.0\n",
      "7          45    104       134     253.3\n",
      "8          30    109       133     195.1\n",
      "9          60     98       124     269.0\n",
      "10         60    103       147     329.3\n",
      "11         60    100       120     250.7\n",
      "12         60    106       128     345.3\n",
      "13         60    104       132     379.3\n",
      "14         60     98       123     275.0\n",
      "15         60     98       120     215.2\n",
      "16         60    100       120     300.0\n",
      "18         60    103       123     323.0\n",
      "19         45     97       125     243.0\n",
      "20         60    108       131     364.2\n",
      "21         45    100       119     282.0\n",
      "22         60    130       101     300.0\n",
      "23         45    105       132     246.0\n",
      "24         60    102       126     334.5\n",
      "25         60    100       120     250.0\n",
      "26         60     92       118     241.0\n",
      "28         60    100       132     280.0\n",
      "29         60    102       129     380.3\n",
      "30         60     92       115     243.0\n",
      "31         45     90       112     180.1\n",
      "32         60    101       124     299.0\n",
      "33         60     93       113     223.0\n",
      "34         60    107       136     361.0\n",
      "35         60    114       140     415.0\n",
      "36         60    102       127     300.0\n",
      "37         60    100       120     300.0\n",
      "38         60    100       120     300.0\n",
      "39         45    104       129     266.0\n",
      "40         45     90       112     180.1\n",
      "41         60     98       126     286.0\n",
      "42         60    100       122     329.4\n",
      "43         60    111       138     400.0\n",
      "44         60    111       131     397.0\n",
      "45         60     99       119     273.0\n",
      "46         60    109       153     387.6\n",
      "47         45    111       136     300.0\n",
      "48         45    108       129     298.0\n",
      "49         60    111       139     397.6\n",
      "50         60    107       136     380.2\n",
      "51         80    123       146     643.1\n",
      "52         60    106       130     263.0\n",
      "53         60    118       151     486.0\n",
      "54         30    136       175     238.0\n",
      "55         60    121       146     450.7\n",
      "56         60    118       121     413.0\n",
      "57         45    115       144     305.0\n",
      "58         20    153       172     226.4\n",
      "59         45    123       152     321.0\n",
      "60        210    108       160    1376.0\n",
      "61        160    110       137    1034.4\n",
      "62        160    109       135     853.0\n",
      "63         45    118       141     341.0\n",
      "64         20    110       130     131.4\n",
      "65        180     90       130     800.4\n",
      "66        150    105       135     873.4\n",
      "67        150    107       130     816.0\n",
      "68         20    106       136     110.4\n",
      "69        300    108       143    1500.2\n",
      "70        150     97       129    1115.0\n",
      "71         60    109       153     387.6\n",
      "72         90    100       127     700.0\n",
      "73        150     97       127     953.2\n",
      "74         45    114       146     304.0\n",
      "75         90     98       125     563.2\n",
      "76         45    105       134     251.0\n",
      "77         45    110       141     300.0\n",
      "78        120    100       130     500.4\n",
      "79        270    100       131    1729.0\n",
      "80         30    159       182     319.2\n",
      "81         45    149       169     344.0\n",
      "82         30    103       139     151.1\n",
      "83        120    100       130     500.0\n",
      "84         45    100       120     225.3\n",
      "85         30    151       170     300.0\n",
      "86         45    102       136     234.0\n",
      "87        120    100       157    1000.1\n",
      "88         45    129       103     242.0\n",
      "89         20     83       107      50.3\n",
      "90        180    101       127     600.1\n",
      "92         30     90       107     105.3\n",
      "93         15     80       100      50.5\n",
      "94         20    150       171     127.4\n",
      "95         20    151       168     229.4\n",
      "96         30     95       128     128.2\n",
      "97         25    152       168     244.2\n",
      "98         30    109       131     188.2\n",
      "99         90     93       124     604.1\n",
      "100        20     95       112      77.7\n",
      "101        90     90       110     500.0\n",
      "102        90     90       100     500.0\n",
      "103        90     90       100     500.4\n",
      "104        30     92       108      92.7\n",
      "105        30     93       128     124.0\n",
      "106       180     90       120     800.3\n",
      "107        30     90       120      86.2\n",
      "108        90     90       120     500.3\n",
      "109       210    137       184    1860.4\n",
      "110        60    102       124     325.2\n",
      "111        45    107       124     275.0\n",
      "112        15    124       139     124.2\n",
      "113        45    100       120     225.3\n",
      "114        60    108       131     367.6\n",
      "115        60    108       151     351.7\n",
      "116        60    116       141     443.0\n",
      "117        60     97       122     277.4\n",
      "119        60    103       124     332.7\n",
      "120        30    112       137     193.9\n",
      "121        45    100       120     100.7\n",
      "122        60    119       169     336.7\n",
      "123        60    107       127     344.9\n",
      "124        60    111       151     368.5\n",
      "125        60     98       122     271.0\n",
      "126        60     97       124     275.3\n",
      "127        60    109       127     382.0\n",
      "128        90     99       125     466.4\n",
      "129        60    114       151     384.0\n",
      "130        60    104       134     342.5\n",
      "131        60    107       138     357.5\n",
      "132        60    103       133     335.0\n",
      "133        60    106       132     327.5\n",
      "134        60    103       136     339.0\n",
      "135        20    136       156     189.0\n",
      "136        45    117       143     317.7\n",
      "137        45    115       137     318.0\n",
      "138        45    113       138     308.0\n",
      "139        20    141       162     222.4\n",
      "140        60    108       135     390.0\n",
      "142        45    100       120     250.4\n",
      "143        45    122       149     335.4\n",
      "144        60    136       170     470.2\n",
      "145        45    106       126     270.8\n",
      "146        60    107       136     400.0\n",
      "147        60    112       146     361.9\n",
      "148        30    103       127     185.0\n",
      "149        60    110       150     409.4\n",
      "150        60    106       134     343.0\n",
      "151        60    109       129     353.2\n",
      "152        60    109       138     374.0\n",
      "153        30    150       167     275.8\n",
      "154        60    105       128     328.0\n",
      "155        60    111       151     368.5\n",
      "156        60     97       131     270.4\n",
      "157        60    100       120     270.4\n",
      "158        60    114       150     382.8\n",
      "159        30     80       120     240.9\n",
      "160        30     85       120     250.4\n",
      "161        45     90       130     260.4\n",
      "162        45     95       130     270.0\n",
      "163        45    100       140     280.9\n",
      "164        60    105       140     290.8\n",
      "165        60    110       145     300.0\n",
      "166        60    115       145     310.2\n",
      "167        75    120       150     320.4\n",
      "168        75    125       150     330.4\n"
     ]
    }
   ],
   "source": [
    "# By default, the dropna() method returns a new DataFrame, and will not change the original.\n",
    "# to change the original DataFrame, use the inplace = True argument:\n",
    "\n",
    "import pandas as pd\n",
    "\n",
    "df = pd.read_csv('data.csv')\n",
    "\n",
    "df.dropna(inplace = True)\n",
    "\n",
    "print(df.to_string()) "
   ]
  },
  {
   "cell_type": "markdown",
   "id": "8c1aef8c-243c-48fe-97f6-7447bfee76f9",
   "metadata": {},
   "source": [
    "### Replace Empty Values\n",
    "\n",
    "Another way of dealing with empty cells is to insert a new value instead.\n",
    "\n",
    "This way you do not have to delete entire rows just because of some empty cells.\n",
    "\n",
    "The fillna() method allows us to replace empty cells with a value:"
   ]
  },
  {
   "cell_type": "code",
   "execution_count": 32,
   "id": "af4d713b-d36f-4c83-9d1d-a8248956b004",
   "metadata": {},
   "outputs": [],
   "source": [
    "import pandas as pd\n",
    "\n",
    "df = pd.read_csv('data.csv')\n",
    "\n",
    "df.fillna(130, inplace = True) "
   ]
  },
  {
   "cell_type": "markdown",
   "id": "cebc0346-0ebf-4379-ba8e-1cf2a1075096",
   "metadata": {},
   "source": [
    "### Replace Only For Specified Columns\n",
    "\n",
    "The example above replaces all empty cells in the whole Data Frame.\n",
    "\n",
    "To only replace empty values for one column, specify the column name for the DataFrame:"
   ]
  },
  {
   "cell_type": "code",
   "execution_count": 33,
   "id": "66ec28e4-7ce0-43e3-8f23-c4fd3bd7bcf9",
   "metadata": {},
   "outputs": [
    {
     "name": "stderr",
     "output_type": "stream",
     "text": [
      "C:\\Users\\Administrator\\AppData\\Local\\Temp\\ipykernel_11456\\1611452618.py:5: FutureWarning: A value is trying to be set on a copy of a DataFrame or Series through chained assignment using an inplace method.\n",
      "The behavior will change in pandas 3.0. This inplace method will never work because the intermediate object on which we are setting values always behaves as a copy.\n",
      "\n",
      "For example, when doing 'df[col].method(value, inplace=True)', try using 'df.method({col: value}, inplace=True)' or df[col] = df[col].method(value) instead, to perform the operation inplace on the original object.\n",
      "\n",
      "\n",
      "  df[\"Calories\"].fillna(130, inplace = True)\n"
     ]
    }
   ],
   "source": [
    "import pandas as pd\n",
    "\n",
    "df = pd.read_csv('data.csv')\n",
    "\n",
    "df[\"Calories\"].fillna(130, inplace = True) "
   ]
  },
  {
   "cell_type": "markdown",
   "id": "9c1a9aad-59c3-4801-ace3-2d4a98954456",
   "metadata": {},
   "source": [
    "### Replace Using Mean, Median, or Mode\n",
    "\n",
    "A common way to replace empty cells, is to calculate the mean, median or mode value of the column.\n",
    "\n",
    "Pandas uses the mean() median() and mode() methods to calculate the respective values for a specified column:"
   ]
  },
  {
   "cell_type": "code",
   "execution_count": 3,
   "id": "500e6f5a-a4c4-4c8c-9a63-9180d33eb2fd",
   "metadata": {},
   "outputs": [
    {
     "data": {
      "text/plain": [
       "0     409.100000\n",
       "1     479.000000\n",
       "2     340.000000\n",
       "3     282.400000\n",
       "4     406.000000\n",
       "5     300.000000\n",
       "6     374.000000\n",
       "7     253.300000\n",
       "8     195.100000\n",
       "9     329.300000\n",
       "10    329.300000\n",
       "11    250.700000\n",
       "12    345.300000\n",
       "13    379.300000\n",
       "14    275.000000\n",
       "15    215.200000\n",
       "16    300.000000\n",
       "17    314.285185\n",
       "18    364.200000\n",
       "19    243.000000\n",
       "20    364.200000\n",
       "21    382.000000\n",
       "22    300.000000\n",
       "23    246.000000\n",
       "24    250.000000\n",
       "25    314.285185\n",
       "26    241.000000\n",
       "27    314.285185\n",
       "28    389.300000\n",
       "29    243.000000\n",
       "30    314.285185\n",
       "31    314.285185\n",
       "Name: Calories, dtype: float64"
      ]
     },
     "execution_count": 3,
     "metadata": {},
     "output_type": "execute_result"
    }
   ],
   "source": [
    "import pandas as pd\n",
    "\n",
    "df = pd.read_csv('data.csv')\n",
    "\n",
    "x = df[\"Calories\"].mean()\n",
    "# x = df[\"Calories\"].median()\n",
    "#x = df[\"Calories\"].mode()[0]\n",
    "\n",
    "df[\"Calories\"].fillna(x) "
   ]
  },
  {
   "cell_type": "markdown",
   "id": "1a0a8783-a28f-4726-8f86-24beee7894fc",
   "metadata": {},
   "source": [
    "## Pandas - Cleaning Data of Wrong Format"
   ]
  },
  {
   "cell_type": "markdown",
   "id": "8ce10903-b7d2-4028-999d-96ea0c45118e",
   "metadata": {},
   "source": [
    "#### Data of Wrong Format\n",
    "\n",
    "Cells with data of wrong format can make it difficult, or even impossible, to analyze data.\n",
    "\n",
    "To fix it, you have two options: remove the rows, or convert all cells in the columns into the same format."
   ]
  },
  {
   "cell_type": "code",
   "execution_count": 46,
   "id": "e0c5335f-1f50-494f-a528-008a04226031",
   "metadata": {},
   "outputs": [
    {
     "name": "stdout",
     "output_type": "stream",
     "text": [
      "    Duration       Date  Pulse  Maxpulse  Calories\n",
      "0       60.0 2020-12-01  110.0     130.0     409.1\n",
      "1       60.0 2020-12-02  117.0     145.0     479.0\n",
      "2       60.0 2020-12-03  103.0     135.0     340.0\n",
      "3       60.0 2020-12-04  109.0     175.0     282.4\n",
      "4       45.0 2020-12-05  117.0     148.0     406.0\n",
      "5       45.0 2020-12-06  102.0     127.0     300.0\n",
      "6       45.0 2020-12-07  110.0     136.0     374.0\n",
      "7      450.0 2020-12-08  104.0     134.0     253.3\n",
      "8       30.0 2020-12-09  109.0     133.0     195.1\n",
      "9       60.0 2020-12-11  103.0     147.0     329.3\n",
      "10      60.0 2020-12-11  103.0     147.0     329.3\n",
      "11      45.0 2020-12-12  100.0     120.0     250.7\n",
      "12      60.0 2020-12-13  106.0     120.0     345.3\n",
      "13      60.0 2020-12-14  104.0     132.0     379.3\n",
      "14      60.0 2020-12-15   98.0     123.0     275.0\n",
      "15      60.0 2020-12-16  102.0     127.0     215.2\n",
      "16      45.0 2020-12-17  100.0     120.0     300.0\n",
      "17      60.0 2020-12-18   90.0     112.0       NaN\n",
      "18      60.0 2020-12-19  108.0     129.0     364.2\n",
      "19      45.0 2020-12-20   97.0     123.0     243.0\n",
      "20      45.0 2020-12-21  108.0     131.0     364.2\n",
      "21      60.0        NaT    NaN     119.0     382.0\n",
      "22      45.0 2020-12-23  130.0     101.0     300.0\n",
      "23      45.0 2020-12-24  105.0     132.0     246.0\n",
      "24      60.0 2020-12-25  118.0     130.0     250.0\n",
      "25       NaN 2020-12-26    NaN     120.0       NaN\n",
      "26      60.0 2020-12-27   92.0     115.0     241.0\n",
      "27      45.0 2020-12-28  110.0     131.0       NaN\n",
      "28      30.0 2020-12-29  102.0     129.0     389.3\n",
      "29      60.0 2020-12-30  104.0     120.0     243.0\n",
      "30      45.0 2020-12-31   92.0     115.0       NaN\n",
      "31      60.0        NaT    NaN       NaN       NaN\n"
     ]
    }
   ],
   "source": [
    "# Convert to date:\n",
    "\n",
    "import pandas as pd\n",
    "\n",
    "df = pd.read_csv('data.csv')\n",
    "df['Date'] = pd.to_datetime(df['Date'])\n",
    "\n",
    "print(df.to_string())"
   ]
  },
  {
   "cell_type": "markdown",
   "id": "61876d43-1872-47ea-a854-89eeb0da52c0",
   "metadata": {},
   "source": [
    "### Removing Rows\n",
    "\n",
    "The result from the converting in the example above gave us a NaT value, which can be handled as a NULL value, and we can remove the row by using the dropna() method."
   ]
  },
  {
   "cell_type": "code",
   "execution_count": 47,
   "id": "7fee8051-af5b-4884-8ab4-7fcbb96616ed",
   "metadata": {},
   "outputs": [],
   "source": [
    "df.dropna(subset=['Date'], inplace = True)"
   ]
  },
  {
   "cell_type": "code",
   "execution_count": 48,
   "id": "87a800c6-b8c7-448d-9c93-7a097268ef6c",
   "metadata": {},
   "outputs": [
    {
     "name": "stdout",
     "output_type": "stream",
     "text": [
      "    Duration       Date  Pulse  Maxpulse  Calories\n",
      "0       60.0 2020-12-01  110.0     130.0     409.1\n",
      "1       60.0 2020-12-02  117.0     145.0     479.0\n",
      "2       60.0 2020-12-03  103.0     135.0     340.0\n",
      "3       60.0 2020-12-04  109.0     175.0     282.4\n",
      "4       45.0 2020-12-05  117.0     148.0     406.0\n",
      "5       45.0 2020-12-06  102.0     127.0     300.0\n",
      "6       45.0 2020-12-07  110.0     136.0     374.0\n",
      "7      450.0 2020-12-08  104.0     134.0     253.3\n",
      "8       30.0 2020-12-09  109.0     133.0     195.1\n",
      "9       60.0 2020-12-11  103.0     147.0     329.3\n",
      "10      60.0 2020-12-11  103.0     147.0     329.3\n",
      "11      45.0 2020-12-12  100.0     120.0     250.7\n",
      "12      60.0 2020-12-13  106.0     120.0     345.3\n",
      "13      60.0 2020-12-14  104.0     132.0     379.3\n",
      "14      60.0 2020-12-15   98.0     123.0     275.0\n",
      "15      60.0 2020-12-16  102.0     127.0     215.2\n",
      "16      45.0 2020-12-17  100.0     120.0     300.0\n",
      "17      60.0 2020-12-18   90.0     112.0       NaN\n",
      "18      60.0 2020-12-19  108.0     129.0     364.2\n",
      "19      45.0 2020-12-20   97.0     123.0     243.0\n",
      "20      45.0 2020-12-21  108.0     131.0     364.2\n",
      "22      45.0 2020-12-23  130.0     101.0     300.0\n",
      "23      45.0 2020-12-24  105.0     132.0     246.0\n",
      "24      60.0 2020-12-25  118.0     130.0     250.0\n",
      "25       NaN 2020-12-26    NaN     120.0       NaN\n",
      "26      60.0 2020-12-27   92.0     115.0     241.0\n",
      "27      45.0 2020-12-28  110.0     131.0       NaN\n",
      "28      30.0 2020-12-29  102.0     129.0     389.3\n",
      "29      60.0 2020-12-30  104.0     120.0     243.0\n",
      "30      45.0 2020-12-31   92.0     115.0       NaN\n"
     ]
    }
   ],
   "source": [
    "print(df)"
   ]
  },
  {
   "cell_type": "code",
   "execution_count": 49,
   "id": "cb8c86e9-c6ae-41e4-a644-5e768cf3a7ae",
   "metadata": {},
   "outputs": [
    {
     "name": "stdout",
     "output_type": "stream",
     "text": [
      "    Duration       Date  Pulse  Maxpulse  Calories\n",
      "0       60.0 2020-12-01  110.0     130.0     409.1\n",
      "1       60.0 2020-12-02  117.0     145.0     479.0\n",
      "2       60.0 2020-12-03  103.0     135.0     340.0\n",
      "3       60.0 2020-12-04  109.0     175.0     282.4\n",
      "4       45.0 2020-12-05  117.0     148.0     406.0\n",
      "5       45.0 2020-12-06  102.0     127.0     300.0\n",
      "6       45.0 2020-12-07  110.0     136.0     374.0\n",
      "7      450.0 2020-12-08  104.0     134.0     253.3\n",
      "8       30.0 2020-12-09  109.0     133.0     195.1\n",
      "9       60.0 2020-12-11  103.0     147.0     329.3\n",
      "10      60.0 2020-12-11  103.0     147.0     329.3\n",
      "11      45.0 2020-12-12  100.0     120.0     250.7\n",
      "12      60.0 2020-12-13  106.0     120.0     345.3\n",
      "13      60.0 2020-12-14  104.0     132.0     379.3\n",
      "14      60.0 2020-12-15   98.0     123.0     275.0\n",
      "15      60.0 2020-12-16  102.0     127.0     215.2\n",
      "16      45.0 2020-12-17  100.0     120.0     300.0\n",
      "18      60.0 2020-12-19  108.0     129.0     364.2\n",
      "19      45.0 2020-12-20   97.0     123.0     243.0\n",
      "20      45.0 2020-12-21  108.0     131.0     364.2\n",
      "22      45.0 2020-12-23  130.0     101.0     300.0\n",
      "23      45.0 2020-12-24  105.0     132.0     246.0\n",
      "24      60.0 2020-12-25  118.0     130.0     250.0\n",
      "26      60.0 2020-12-27   92.0     115.0     241.0\n",
      "28      30.0 2020-12-29  102.0     129.0     389.3\n",
      "29      60.0 2020-12-30  104.0     120.0     243.0\n"
     ]
    }
   ],
   "source": [
    "df.dropna(inplace = True)\n",
    "\n",
    "print(df.to_string()) "
   ]
  },
  {
   "cell_type": "markdown",
   "id": "1a38e866-4800-4c67-bc2a-0145968e0e2d",
   "metadata": {},
   "source": [
    "### Fixing Wrong data\n",
    "- wrong data does not have to be empty cells or wrong format, it can be typing error or anything like 199 resgitered as 1.99\n",
    "- Sometimes we can spot wrong data by looking at the data set, because you have an expectation of what it should be.\n",
    "- here in row 7, the duration is 450, but for all the other rows the duration is between 30 and 60.\n",
    "- It doesn't have to be wrong, but taking in consideration that this is the data set of someone's workout sessions, we conclude with the fact that this person did not work out in 450 minutes."
   ]
  },
  {
   "cell_type": "code",
   "execution_count": 50,
   "id": "f071c975-0a9e-43a6-b00e-405ff527f4fb",
   "metadata": {},
   "outputs": [],
   "source": [
    "# replacing values\n",
    "df.loc[7,'Duration'] = 45"
   ]
  },
  {
   "cell_type": "code",
   "execution_count": 51,
   "id": "8b2e7c29-4015-48ed-827e-a8ac3d5396d1",
   "metadata": {},
   "outputs": [],
   "source": [
    "# Loop through all values in the \"Duration\" column.\n",
    "for x in df.index:\n",
    "  if df.loc[x, \"Duration\"] > 120:\n",
    "    df.loc[x, \"Duration\"] = 120"
   ]
  },
  {
   "cell_type": "code",
   "execution_count": 52,
   "id": "352ae5c1-68af-4874-969b-483df0a1f491",
   "metadata": {},
   "outputs": [],
   "source": [
    "# Removing Rows\n",
    "for x in df.index:\n",
    "  if df.loc[x, \"Duration\"] > 120:\n",
    "    df.drop(x, inplace = True) "
   ]
  },
  {
   "cell_type": "code",
   "execution_count": 53,
   "id": "e51797ea-a02d-4994-a161-414c64ac54b2",
   "metadata": {},
   "outputs": [
    {
     "name": "stdout",
     "output_type": "stream",
     "text": [
      "    Duration       Date  Pulse  Maxpulse  Calories\n",
      "0       60.0 2020-12-01  110.0     130.0     409.1\n",
      "1       60.0 2020-12-02  117.0     145.0     479.0\n",
      "2       60.0 2020-12-03  103.0     135.0     340.0\n",
      "3       60.0 2020-12-04  109.0     175.0     282.4\n",
      "4       45.0 2020-12-05  117.0     148.0     406.0\n",
      "5       45.0 2020-12-06  102.0     127.0     300.0\n",
      "6       45.0 2020-12-07  110.0     136.0     374.0\n",
      "7       45.0 2020-12-08  104.0     134.0     253.3\n",
      "8       30.0 2020-12-09  109.0     133.0     195.1\n",
      "9       60.0 2020-12-11  103.0     147.0     329.3\n",
      "10      60.0 2020-12-11  103.0     147.0     329.3\n",
      "11      45.0 2020-12-12  100.0     120.0     250.7\n",
      "12      60.0 2020-12-13  106.0     120.0     345.3\n",
      "13      60.0 2020-12-14  104.0     132.0     379.3\n",
      "14      60.0 2020-12-15   98.0     123.0     275.0\n",
      "15      60.0 2020-12-16  102.0     127.0     215.2\n",
      "16      45.0 2020-12-17  100.0     120.0     300.0\n",
      "18      60.0 2020-12-19  108.0     129.0     364.2\n",
      "19      45.0 2020-12-20   97.0     123.0     243.0\n",
      "20      45.0 2020-12-21  108.0     131.0     364.2\n",
      "22      45.0 2020-12-23  130.0     101.0     300.0\n",
      "23      45.0 2020-12-24  105.0     132.0     246.0\n",
      "24      60.0 2020-12-25  118.0     130.0     250.0\n",
      "26      60.0 2020-12-27   92.0     115.0     241.0\n",
      "28      30.0 2020-12-29  102.0     129.0     389.3\n",
      "29      60.0 2020-12-30  104.0     120.0     243.0\n"
     ]
    }
   ],
   "source": [
    "print(df)"
   ]
  },
  {
   "cell_type": "markdown",
   "id": "cb6226e7-d885-4f77-9d0b-48923273d940",
   "metadata": {},
   "source": [
    "### Removing Duplicates\n",
    "\n",
    "By taking a look at our test data set, we can assume that row 9 and 10 are duplicates.\n",
    "\n",
    "To discover duplicates, we can use the duplicated() method.\n",
    "\n",
    "The duplicated() method returns a Boolean values for each row:"
   ]
  },
  {
   "cell_type": "code",
   "execution_count": 54,
   "id": "2c955c4b-8927-43d0-98e7-c186f6c7ad05",
   "metadata": {},
   "outputs": [
    {
     "name": "stdout",
     "output_type": "stream",
     "text": [
      "0     False\n",
      "1     False\n",
      "2     False\n",
      "3     False\n",
      "4     False\n",
      "5     False\n",
      "6     False\n",
      "7     False\n",
      "8     False\n",
      "9     False\n",
      "10     True\n",
      "11    False\n",
      "12    False\n",
      "13    False\n",
      "14    False\n",
      "15    False\n",
      "16    False\n",
      "18    False\n",
      "19    False\n",
      "20    False\n",
      "22    False\n",
      "23    False\n",
      "24    False\n",
      "26    False\n",
      "28    False\n",
      "29    False\n",
      "dtype: bool\n"
     ]
    }
   ],
   "source": [
    "# Returns True for every row that is a duplicate, otherwise False:\n",
    "\n",
    "print(df.duplicated())"
   ]
  },
  {
   "cell_type": "code",
   "execution_count": 55,
   "id": "1c131cae-a17e-4f77-9f8a-3403e2ccf2ec",
   "metadata": {},
   "outputs": [],
   "source": [
    "# Remove all duplicates:\n",
    "df.drop_duplicates(inplace = True) "
   ]
  },
  {
   "cell_type": "markdown",
   "id": "1f9fc29d-779e-41d3-a9a9-0fea0188fb09",
   "metadata": {},
   "source": [
    "## Pandas - Data Correlations\n",
    "\n",
    "### Finding Relationships\n",
    "\n",
    "A great aspect of the Pandas module is the corr() method.\n",
    "\n",
    "The corr() method calculates the relationship between each column in the data set."
   ]
  },
  {
   "cell_type": "code",
   "execution_count": 56,
   "id": "76f812ef-2512-4627-aa66-e88de490bdcd",
   "metadata": {},
   "outputs": [
    {
     "data": {
      "text/html": [
       "<div>\n",
       "<style scoped>\n",
       "    .dataframe tbody tr th:only-of-type {\n",
       "        vertical-align: middle;\n",
       "    }\n",
       "\n",
       "    .dataframe tbody tr th {\n",
       "        vertical-align: top;\n",
       "    }\n",
       "\n",
       "    .dataframe thead th {\n",
       "        text-align: right;\n",
       "    }\n",
       "</style>\n",
       "<table border=\"1\" class=\"dataframe\">\n",
       "  <thead>\n",
       "    <tr style=\"text-align: right;\">\n",
       "      <th></th>\n",
       "      <th>Duration</th>\n",
       "      <th>Date</th>\n",
       "      <th>Pulse</th>\n",
       "      <th>Maxpulse</th>\n",
       "      <th>Calories</th>\n",
       "    </tr>\n",
       "  </thead>\n",
       "  <tbody>\n",
       "    <tr>\n",
       "      <th>Duration</th>\n",
       "      <td>1.000000</td>\n",
       "      <td>-0.122037</td>\n",
       "      <td>-0.052649</td>\n",
       "      <td>0.143096</td>\n",
       "      <td>0.131666</td>\n",
       "    </tr>\n",
       "    <tr>\n",
       "      <th>Date</th>\n",
       "      <td>-0.122037</td>\n",
       "      <td>1.000000</td>\n",
       "      <td>-0.155487</td>\n",
       "      <td>-0.557070</td>\n",
       "      <td>-0.383969</td>\n",
       "    </tr>\n",
       "    <tr>\n",
       "      <th>Pulse</th>\n",
       "      <td>-0.052649</td>\n",
       "      <td>-0.155487</td>\n",
       "      <td>1.000000</td>\n",
       "      <td>0.094837</td>\n",
       "      <td>0.349719</td>\n",
       "    </tr>\n",
       "    <tr>\n",
       "      <th>Maxpulse</th>\n",
       "      <td>0.143096</td>\n",
       "      <td>-0.557070</td>\n",
       "      <td>0.094837</td>\n",
       "      <td>1.000000</td>\n",
       "      <td>0.278282</td>\n",
       "    </tr>\n",
       "    <tr>\n",
       "      <th>Calories</th>\n",
       "      <td>0.131666</td>\n",
       "      <td>-0.383969</td>\n",
       "      <td>0.349719</td>\n",
       "      <td>0.278282</td>\n",
       "      <td>1.000000</td>\n",
       "    </tr>\n",
       "  </tbody>\n",
       "</table>\n",
       "</div>"
      ],
      "text/plain": [
       "          Duration      Date     Pulse  Maxpulse  Calories\n",
       "Duration  1.000000 -0.122037 -0.052649  0.143096  0.131666\n",
       "Date     -0.122037  1.000000 -0.155487 -0.557070 -0.383969\n",
       "Pulse    -0.052649 -0.155487  1.000000  0.094837  0.349719\n",
       "Maxpulse  0.143096 -0.557070  0.094837  1.000000  0.278282\n",
       "Calories  0.131666 -0.383969  0.349719  0.278282  1.000000"
      ]
     },
     "execution_count": 56,
     "metadata": {},
     "output_type": "execute_result"
    }
   ],
   "source": [
    "df.corr()"
   ]
  },
  {
   "cell_type": "markdown",
   "id": "43e5d746-13c9-4b69-913c-fe201a91662e",
   "metadata": {},
   "source": [
    "#### the corr() method ignores \"not numeric\" columns. \n",
    "\n",
    "- the result of the corr() method is a table with a lot of numbers that represents how well the relationship is between two columns.\n",
    "- this number varies from -1 to 1 where 1 means that there is a 1 to 1 relationship(perfect correlation) and for this data set each time a value went up in the first column the other one also went up as well\n",
    "\n",
    "- a good correlation depends on the use, but it is safe to say you have to have at least 0.6 (or -0.6) to call it a good correlation. "
   ]
  },
  {
   "cell_type": "markdown",
   "id": "d38e53ac-262b-4c41-b6fe-49b93fa7e414",
   "metadata": {},
   "source": [
    "## Plotting using pandas\n",
    "\n",
    "- pandas uses the plot() method to create diagrams, we can use Pyplot, a submodule of the matplotlib library to visualize the diagram on the screen"
   ]
  },
  {
   "cell_type": "code",
   "execution_count": 58,
   "id": "09736564-91f6-45b1-8a6a-95799a255f84",
   "metadata": {},
   "outputs": [
    {
     "data": {
      "image/png": "[encoded data removed]",
      "text/plain": [
       "<Figure size 640x480 with 1 Axes>"
      ]
     },
     "metadata": {},
     "output_type": "display_data"
    }
   ],
   "source": [
    "import pandas as pd\n",
    "import matplotlib.pyplot as plt\n",
    "\n",
    "df = pd.read_csv('data.csv')\n",
    "\n",
    "df.plot()\n",
    "\n",
    "plt.show() "
   ]
  },
  {
   "cell_type": "markdown",
   "id": "0b696e64-edac-4f67-8136-65c95855f3c5",
   "metadata": {},
   "source": [
    "### Scatter Plot\n",
    "\n",
    "- scatter plot can be specified with the kind argument:\n",
    "\n",
    "- kind = 'scatter'\n",
    "\n",
    "- A scatter plot needs an x- and a y-axis.\n"
   ]
  },
  {
   "cell_type": "code",
   "execution_count": 59,
   "id": "03f29206-68fa-40ff-9310-b63e5e890056",
   "metadata": {},
   "outputs": [
    {
     "data": {
      "image/png": "[encoded data removed]",
      "text/plain": [
       "<Figure size 640x480 with 1 Axes>"
      ]
     },
     "metadata": {},
     "output_type": "display_data"
    }
   ],
   "source": [
    "import pandas as pd\n",
    "import matplotlib.pyplot as plt\n",
    "\n",
    "df = pd.read_csv('data.csv')\n",
    "\n",
    "df.plot(kind = 'scatter', x = 'Duration', y = 'Calories')\n",
    "\n",
    "plt.show() "
   ]
  },
  {
   "cell_type": "markdown",
   "id": "9557b357-c549-47e5-8ddf-2524635869fd",
   "metadata": {},
   "source": [
    "### Histogram\n",
    "\n",
    "- Use the kind argument to specify that you want a histogram:\n",
    "\n",
    "- kind = 'hist'\n",
    "\n",
    "- A histogram needs only one column."
   ]
  },
  {
   "cell_type": "code",
   "execution_count": 60,
   "id": "98cc5c72-80f3-48d2-b295-beb935e01dad",
   "metadata": {},
   "outputs": [
    {
     "data": {
      "text/plain": [
       "<Axes: ylabel='Frequency'>"
      ]
     },
     "execution_count": 60,
     "metadata": {},
     "output_type": "execute_result"
    },
    {
     "data": {
      "image/png": "[encoded data removed]",
      "text/plain": [
       "<Figure size 640x480 with 1 Axes>"
      ]
     },
     "metadata": {},
     "output_type": "display_data"
    }
   ],
   "source": [
    "df[\"Duration\"].plot(kind = 'hist')"
   ]
  },
  {
   "cell_type": "code",
   "execution_count": null,
   "id": "ab87a531-9496-4f25-854b-6ad2c0a3ce20",
   "metadata": {},
   "outputs": [],
   "source": []
  }
 ],
 "metadata": {
  "kernelspec": {
   "display_name": "Python 3 (ipykernel)",
   "language": "python",
   "name": "python3"
  },
  "language_info": {
   "codemirror_mode": {
    "name": "ipython",
    "version": 3
   },
   "file_extension": ".py",
   "mimetype": "text/x-python",
   "name": "python",
   "nbconvert_exporter": "python",
   "pygments_lexer": "ipython3",
   "version": "3.13.0"
  }
 },
 "nbformat": 4,
 "nbformat_minor": 5
}
