{
 "cells": [
  {
   "cell_type": "markdown",
   "id": "ec24c7e5-11dc-4391-9a2d-3456bc0e58e0",
   "metadata": {},
   "source": [
    "# Pandas, Dask and Polars\n",
    "\n",
    "* Pandas: <br>\n",
    "General Purpose data analysis, used for small to medium datasets\n",
    "\n",
    "* Polars <br>\n",
    "Fast, multi-threaded Dataframe Library, used for ultra-fast processing, large files\n",
    "\n",
    "\n",
    "* Dask <br>\n",
    "Parallel/ Distributed computation, used for large datasets, out of core processing\n",
    "\n",
    "\n",
    "\n",
    "### Installation\n",
    "\n",
    "**pip install pandas <br>**\n",
    "**pip install polars <br>**\n",
    "**pip install dask[complete]**\n",
    "\n",
    "### Basic Syntax Comparison\n",
    "\n",
    "**csv example:**\n",
    "\n",
    "name,age,salary <br>\n",
    "Alice,30,70000<br>\n",
    "Bob,25,50000<br>\n",
    "Carol, 27,60000<br>"
   ]
  },
  {
   "cell_type": "code",
   "execution_count": 1,
   "id": "ca1c7f55-86b6-4fff-af83-0b21e3d3329e",
   "metadata": {},
   "outputs": [
    {
     "name": "stdout",
     "output_type": "stream",
     "text": [
      "60000.0\n"
     ]
    }
   ],
   "source": [
    "import pandas as pd\n",
    "\n",
    "pd_df = pd.read_csv('sample_data.csv')\n",
    "\n",
    "print(pd_df['salary'].mean())"
   ]
  },
  {
   "cell_type": "code",
   "execution_count": 2,
   "id": "c512312d-5126-4847-af71-fce99dbda2b4",
   "metadata": {},
   "outputs": [
    {
     "name": "stdout",
     "output_type": "stream",
     "text": [
      "60000.0\n"
     ]
    }
   ],
   "source": [
    "import dask.dataframe as dd\n",
    "\n",
    "dd_df = dd.read_csv('sample_data.csv')\n",
    "print(dd_df['salary'].mean().compute())\n",
    "\n",
    "# compute is needed to trigger execution"
   ]
  },
  {
   "cell_type": "code",
   "execution_count": 3,
   "id": "6ee76314-9640-4565-a9e6-274983d4b05a",
   "metadata": {},
   "outputs": [
    {
     "name": "stdout",
     "output_type": "stream",
     "text": [
      "shape: (1, 1)\n",
      "┌─────────┐\n",
      "│ salary  │\n",
      "│ ---     │\n",
      "│ f64     │\n",
      "╞═════════╡\n",
      "│ 60000.0 │\n",
      "└─────────┘\n"
     ]
    }
   ],
   "source": [
    "import polars as pl\n",
    "\n",
    "pl_df = pl.read_csv('sample_data.csv')\n",
    "print(pl_df.select(pl.col('salary').mean()))"
   ]
  },
  {
   "cell_type": "markdown",
   "id": "53467f45-c04f-4449-b0a9-a93453f32e5a",
   "metadata": {},
   "source": [
    "## Major Differences\n",
    "\n",
    "| Feature            | **Pandas**            | **Polars**                             | **Dask**                              |\n",
    "| ------------------ | --------------------- | -------------------------------------- | ------------------------------------- |\n",
    "| Execution model    | Eager                 | Lazy + Eager                           | Lazy                                  |\n",
    "| Speed              | Moderate              | Very fast (multi-threaded, Rust-based) | Scales well across cores/machines     |\n",
    "| Memory usage       | High (in-memory only) | Low (zero-copy, efficient memory use)  | Out-of-core (disk + memory)           |\n",
    "| Parallelism        | No                    | Yes (built-in)                         | Yes (distributed optional)            |\n",
    "| Syntax familiarity | Very user-friendly    | Slightly different                     | Mostly Pandas-like                    |\n",
    "| Use case           | Up to \\~1M–10M rows   | 10M+ rows, speed-critical apps         | 1GB+ files, multi-GB to TB-scale data |\n"
   ]
  },
  {
   "cell_type": "markdown",
   "id": "15e03d85-73dc-4ccf-8266-457bb78fdf08",
   "metadata": {},
   "source": [
    "**Lazy**:- computations not executed until needed<br>\n",
    "**eager**:- computation executed immediately"
   ]
  },
  {
   "cell_type": "code",
   "execution_count": 4,
   "id": "96bb2686-db3a-4fcc-9edc-317b5a6fe72e",
   "metadata": {},
   "outputs": [
    {
     "name": "stdout",
     "output_type": "stream",
     "text": [
      "65000.0\n"
     ]
    }
   ],
   "source": [
    "import pandas as pd\n",
    "\n",
    "pd_df = pd.read_csv('sample_data.csv')     # File is read immediately\n",
    "filtered = pd_df[pd_df['age'] > 25]    # Filtering happens now\n",
    "mean_salary = filtered['salary'].mean()  # Computation happens now\n",
    "print(mean_salary)"
   ]
  },
  {
   "cell_type": "code",
   "execution_count": 5,
   "id": "f6c54d6d-7869-4134-af5f-4bce1108fc08",
   "metadata": {},
   "outputs": [
    {
     "name": "stdout",
     "output_type": "stream",
     "text": [
      "shape: (1, 1)\n",
      "┌─────────┐\n",
      "│ salary  │\n",
      "│ ---     │\n",
      "│ f64     │\n",
      "╞═════════╡\n",
      "│ 65000.0 │\n",
      "└─────────┘\n"
     ]
    }
   ],
   "source": [
    "#lazy\n",
    "import polars as pl\n",
    "\n",
    "pl_df = pl.scan_csv('sample_data.csv')           # Does NOT read file yet\n",
    "result = pl_df.filter(pl.col('age') > 25) # Builds query plan\n",
    "result = result.select(pl.col('salary').mean())  # Still no execution\n",
    "final = result.collect()               # Executes everything here\n",
    "# .collect() must be called for polars and .compute() must be called for dask\n",
    "print(final)"
   ]
  },
  {
   "cell_type": "markdown",
   "id": "8efbde7f-be41-4abd-ac3d-a4f6c9c30268",
   "metadata": {},
   "source": [
    "## Filtering Rows"
   ]
  },
  {
   "cell_type": "code",
   "execution_count": 6,
   "id": "b99e04cf-ac1f-4a5e-b758-1e928c1909d6",
   "metadata": {},
   "outputs": [
    {
     "name": "stdout",
     "output_type": "stream",
     "text": [
      "    name  age  salary\n",
      "0  Alice   30   70000\n",
      "2  Carol   27   60000\n",
      "naive plan: (run LazyFrame.explain(optimized=True) to see the optimized plan)\n",
      "\n",
      "FILTER [(col(\"age\")) > (25)]\n",
      "FROM\n",
      "  Csv SCAN [sample_data.csv] [id: 3829098743232]\n",
      "  PROJECT */3 COLUMNS\n",
      "Dask DataFrame Structure:\n",
      "                 name    age salary\n",
      "npartitions=1                      \n",
      "               string  int64  int64\n",
      "                  ...    ...    ...\n",
      "Dask Name: getitem, 5 expressions\n",
      "Expr=Filter(frame=ArrowStringConversion(frame=FromMapProjectable(99f3ce3)), predicate=ArrowStringConversion(frame=FromMapProjectable(99f3ce3))['age'] > 25)\n",
      "    name  age  salary\n",
      "0  Alice   30   70000\n",
      "2  Carol   27   60000\n"
     ]
    }
   ],
   "source": [
    "#Pandas\n",
    "n = pd_df[pd_df['age'] > 25]\n",
    "print(n)\n",
    "\n",
    "#Polars\n",
    "p = pl_df.filter(pl.col('age') > 25)\n",
    "print(p)\n",
    "\n",
    "#Dask\n",
    "d = dd_df[dd_df['age'] > 25]\n",
    "print(d)\n",
    "\n",
    "# this dask creates a lazy plan for filtering to execute we must use compute\n",
    "result = dd_df[dd_df['age'] > 25].compute()\n",
    "print(result)"
   ]
  },
  {
   "cell_type": "markdown",
   "id": "362ce3c8-1eef-47d2-b946-38cd372ebfb9",
   "metadata": {},
   "source": [
    "## Group By and Aggregation"
   ]
  },
  {
   "cell_type": "code",
   "execution_count": 7,
   "id": "1a7b01c9-83d0-4d3d-b952-e8bfac3f29e2",
   "metadata": {},
   "outputs": [
    {
     "name": "stdout",
     "output_type": "stream",
     "text": [
      "name\n",
      "Alice    70000.0\n",
      "Bob      50000.0\n",
      "Carol    60000.0\n",
      "Name: salary, dtype: float64\n",
      "shape: (3, 2)\n",
      "┌───────┬─────────┐\n",
      "│ name  ┆ salary  │\n",
      "│ ---   ┆ ---     │\n",
      "│ str   ┆ f64     │\n",
      "╞═══════╪═════════╡\n",
      "│ Alice ┆ 70000.0 │\n",
      "│ Carol ┆ 60000.0 │\n",
      "│ Bob   ┆ 50000.0 │\n",
      "└───────┴─────────┘\n",
      "name\n",
      "Alice    70000.0\n",
      "Bob      50000.0\n",
      "Carol    60000.0\n",
      "Name: salary, dtype: float64\n"
     ]
    }
   ],
   "source": [
    "# Pandas\n",
    "n = pd_df.groupby('name')['salary'].mean()\n",
    "print(n)\n",
    "\n",
    "# Polars\n",
    "pl_df = pl.read_csv('sample_data.csv')  # eager mode\n",
    "p = pl_df.group_by('name').agg(pl.col('salary').mean())\n",
    "print(p)\n",
    "\n",
    "# Dask\n",
    "d= dd_df.groupby('name')['salary'].mean().compute()\n",
    "print(d)"
   ]
  },
  {
   "cell_type": "markdown",
   "id": "a810f68e-8348-483f-b8a5-852b068b68b3",
   "metadata": {},
   "source": [
    "## When to use what\n",
    "\n",
    "| Use Case                                  | Recommended Library    |\n",
    "| ----------------------------------------- | ---------------------- |\n",
    "| Simple data analysis (<500MB)             | Pandas                 |\n",
    "| Performance-critical, multi-core systems  | Polars                 |\n",
    "| Large datasets that don’t fit in memory   | Dask                   |\n",
    "| Real-time streaming-like batch processing | Dask or Polars Lazy    |\n",
    "| Familiar syntax and learning path         | Pandas → Dask → Polars |\n"
   ]
  },
  {
   "cell_type": "code",
   "execution_count": 1,
   "id": "af9eacfb-c212-43ac-a3ec-ee9ed85682ab",
   "metadata": {},
   "outputs": [],
   "source": [
    "import pandas as pd\n",
    "import dask.dataframe as dd\n",
    "import polars as pl"
   ]
  },
  {
   "cell_type": "code",
   "execution_count": 2,
   "id": "376fe5bf-fdd6-4318-a279-030e74a931c4",
   "metadata": {},
   "outputs": [],
   "source": [
    "# read csv\n",
    "\n",
    "# pandas \n",
    "pd_df = pd.read_csv(\"sample_employees.csv\")\n",
    "\n",
    "# dask\n",
    "dd_df = dd.read_csv(\"sample_employees.csv\")\n",
    "\n",
    "# Polars\n",
    "pl_df = pl.read_csv(\"sample_employees.csv\")"
   ]
  },
  {
   "cell_type": "code",
   "execution_count": 4,
   "id": "893aeb2d-eaf7-4eec-85f3-17847073cc15",
   "metadata": {},
   "outputs": [
    {
     "name": "stdout",
     "output_type": "stream",
     "text": [
      "department\n",
      "Finance    58500.0\n",
      "HR         51000.0\n",
      "IT         61000.0\n",
      "Name: salary, dtype: float64\n",
      "department\n",
      "Finance    58500.0\n",
      "HR         51000.0\n",
      "IT         61000.0\n",
      "Name: salary, dtype: float64\n",
      "shape: (3, 2)\n",
      "┌────────────┬─────────┐\n",
      "│ department ┆ salary  │\n",
      "│ ---        ┆ ---     │\n",
      "│ str        ┆ f64     │\n",
      "╞════════════╪═════════╡\n",
      "│ HR         ┆ 51000.0 │\n",
      "│ IT         ┆ 61000.0 │\n",
      "│ Finance    ┆ 58500.0 │\n",
      "└────────────┴─────────┘\n"
     ]
    }
   ],
   "source": [
    "# group by and mean\n",
    "\n",
    "# pandas\n",
    "print(pd_df.groupby(\"department\")[\"salary\"].mean())\n",
    "\n",
    "# dask\n",
    "print(dd_df.groupby(\"department\")[\"salary\"].mean().compute())\n",
    "\n",
    "# polars\n",
    "print(pl_df.group_by(\"department\").agg(pl.col(\"salary\").mean()))"
   ]
  },
  {
   "cell_type": "code",
   "execution_count": 5,
   "id": "21deee9d-736f-41cb-99a5-f75a8d74a087",
   "metadata": {},
   "outputs": [
    {
     "name": "stdout",
     "output_type": "stream",
     "text": [
      "  department employee  salary  age\n",
      "3         IT    David   61000   35\n",
      "6         IT    Grace   62000   27\n",
      "  department employee  salary  age\n",
      "3         IT    David   61000   35\n",
      "6         IT    Grace   62000   27\n",
      "shape: (2, 4)\n",
      "┌────────────┬──────────┬────────┬─────┐\n",
      "│ department ┆ employee ┆ salary ┆ age │\n",
      "│ ---        ┆ ---      ┆ ---    ┆ --- │\n",
      "│ str        ┆ str      ┆ i64    ┆ i64 │\n",
      "╞════════════╪══════════╪════════╪═════╡\n",
      "│ IT         ┆ David    ┆ 61000  ┆ 35  │\n",
      "│ IT         ┆ Grace    ┆ 62000  ┆ 27  │\n",
      "└────────────┴──────────┴────────┴─────┘\n"
     ]
    }
   ],
   "source": [
    "# filtering rows\n",
    "\n",
    "# pandas\n",
    "print(pd_df[pd_df[\"salary\"] > 60000])\n",
    "\n",
    "# dask\n",
    "print(dd_df[dd_df[\"salary\"] > 60000].compute())\n",
    "\n",
    "# polars\n",
    "print(pl_df.filter(pl.col(\"salary\") > 60000))"
   ]
  },
  {
   "cell_type": "code",
   "execution_count": 6,
   "id": "f85d81fd-8bc7-45e2-a5d8-ea48d536ad2e",
   "metadata": {},
   "outputs": [
    {
     "name": "stdout",
     "output_type": "stream",
     "text": [
      "  department employee  salary  age  salary_k\n",
      "0         HR    Alice   50000   25      50.0\n",
      "1         HR      Bob   52000   30      52.0\n",
      "2         IT  Charlie   60000   28      60.0\n",
      "3         IT    David   61000   35      61.0\n",
      "4    Finance      Eve   58000   40      58.0\n",
      "  department employee  salary  age  salary_k\n",
      "0         HR    Alice   50000   25      50.0\n",
      "1         HR      Bob   52000   30      52.0\n",
      "2         IT  Charlie   60000   28      60.0\n",
      "3         IT    David   61000   35      61.0\n",
      "4    Finance      Eve   58000   40      58.0\n",
      "shape: (5, 5)\n",
      "┌────────────┬──────────┬────────┬─────┬──────────┐\n",
      "│ department ┆ employee ┆ salary ┆ age ┆ salary_k │\n",
      "│ ---        ┆ ---      ┆ ---    ┆ --- ┆ ---      │\n",
      "│ str        ┆ str      ┆ i64    ┆ i64 ┆ f64      │\n",
      "╞════════════╪══════════╪════════╪═════╪══════════╡\n",
      "│ HR         ┆ Alice    ┆ 50000  ┆ 25  ┆ 50.0     │\n",
      "│ HR         ┆ Bob      ┆ 52000  ┆ 30  ┆ 52.0     │\n",
      "│ IT         ┆ Charlie  ┆ 60000  ┆ 28  ┆ 60.0     │\n",
      "│ IT         ┆ David    ┆ 61000  ┆ 35  ┆ 61.0     │\n",
      "│ Finance    ┆ Eve      ┆ 58000  ┆ 40  ┆ 58.0     │\n",
      "└────────────┴──────────┴────────┴─────┴──────────┘\n"
     ]
    }
   ],
   "source": [
    "# adding new column : salary in thousands\n",
    "\n",
    "# pandas\n",
    "pd_df[\"salary_k\"] = pd_df[\"salary\"] / 1000\n",
    "print(pd_df.head())\n",
    "\n",
    "# dask\n",
    "dd_df = dd_df.assign(salary_k = dd_df[\"salary\"] / 1000)\n",
    "print(dd_df.compute().head())\n",
    "\n",
    "# Polars\n",
    "pl_df = pl_df.with_columns((pl.col(\"salary\") / 1000).alias(\"salary_k\"))\n",
    "print(pl_df.head())"
   ]
  },
  {
   "cell_type": "code",
   "execution_count": 7,
   "id": "5d759a12-9b2c-4ab8-a878-36fa2e5d9e3c",
   "metadata": {},
   "outputs": [
    {
     "name": "stdout",
     "output_type": "stream",
     "text": [
      "  department employee  salary  age  salary_k\n",
      "0         HR    Alice   50000   25      50.0\n",
      "6         IT    Grace   62000   27      62.0\n",
      "2         IT  Charlie   60000   28      60.0\n",
      "1         HR      Bob   52000   30      52.0\n",
      "3         IT    David   61000   35      61.0\n",
      "5    Finance    Frank   59000   38      59.0\n",
      "4    Finance      Eve   58000   40      58.0\n",
      "  department employee  salary  age  salary_k\n",
      "0         HR    Alice   50000   25      50.0\n",
      "6         IT    Grace   62000   27      62.0\n",
      "2         IT  Charlie   60000   28      60.0\n",
      "1         HR      Bob   52000   30      52.0\n",
      "3         IT    David   61000   35      61.0\n",
      "5    Finance    Frank   59000   38      59.0\n",
      "4    Finance      Eve   58000   40      58.0\n",
      "shape: (7, 5)\n",
      "┌────────────┬──────────┬────────┬─────┬──────────┐\n",
      "│ department ┆ employee ┆ salary ┆ age ┆ salary_k │\n",
      "│ ---        ┆ ---      ┆ ---    ┆ --- ┆ ---      │\n",
      "│ str        ┆ str      ┆ i64    ┆ i64 ┆ f64      │\n",
      "╞════════════╪══════════╪════════╪═════╪══════════╡\n",
      "│ HR         ┆ Alice    ┆ 50000  ┆ 25  ┆ 50.0     │\n",
      "│ IT         ┆ Grace    ┆ 62000  ┆ 27  ┆ 62.0     │\n",
      "│ IT         ┆ Charlie  ┆ 60000  ┆ 28  ┆ 60.0     │\n",
      "│ HR         ┆ Bob      ┆ 52000  ┆ 30  ┆ 52.0     │\n",
      "│ IT         ┆ David    ┆ 61000  ┆ 35  ┆ 61.0     │\n",
      "│ Finance    ┆ Frank    ┆ 59000  ┆ 38  ┆ 59.0     │\n",
      "│ Finance    ┆ Eve      ┆ 58000  ┆ 40  ┆ 58.0     │\n",
      "└────────────┴──────────┴────────┴─────┴──────────┘\n"
     ]
    }
   ],
   "source": [
    "# sorting by age\n",
    "\n",
    "# pandas\n",
    "print(pd_df.sort_values(\"age\"))\n",
    "\n",
    "# dask\n",
    "print(dd_df.sort_values(\"age\").compute())\n",
    "\n",
    "# polars\n",
    "print(pl_df.sort(\"age\"))"
   ]
  },
  {
   "cell_type": "code",
   "execution_count": 13,
   "id": "727935ed-5d31-44fa-8447-620cc3ae782f",
   "metadata": {},
   "outputs": [
    {
     "name": "stdout",
     "output_type": "stream",
     "text": [
      "department\n",
      "IT         3\n",
      "HR         2\n",
      "Finance    2\n",
      "Name: count, dtype: int64\n",
      "department\n",
      "Finance    2\n",
      "HR         2\n",
      "IT         3\n",
      "Name: employee, dtype: int64\n",
      "department\n",
      "Finance    2\n",
      "HR         2\n",
      "IT         3\n",
      "Name: count, dtype: int64[pyarrow]\n",
      "shape: (3, 2)\n",
      "┌────────────┬─────┐\n",
      "│ department ┆ len │\n",
      "│ ---        ┆ --- │\n",
      "│ str        ┆ u32 │\n",
      "╞════════════╪═════╡\n",
      "│ IT         ┆ 3   │\n",
      "│ Finance    ┆ 2   │\n",
      "│ HR         ┆ 2   │\n",
      "└────────────┴─────┘\n"
     ]
    }
   ],
   "source": [
    "# count of Employees per Department\n",
    "\n",
    "# pandas \n",
    "print(pd_df[\"department\"].value_counts())\n",
    "print(pd_df.groupby(\"department\")['employee'].count())\n",
    "\n",
    "# dask \n",
    "print(dd_df[\"department\"].value_counts().compute())\n",
    "\n",
    "# polars\n",
    "print(pl_df.group_by(\"department\").agg(pl.len()))"
   ]
  },
  {
   "cell_type": "markdown",
   "id": "5e199780-3917-40ee-86ab-46ec3e12286c",
   "metadata": {},
   "source": [
    "### Join/ Merge\n",
    "``` python \n",
    "# pandas \n",
    "pd_merged = pd.merge(pd_main, pd_bonus, on = \"employee\", how = \"left\")\n",
    "\n",
    "#dask\n",
    "df_merged = dd.merge(dd_main, dd_bonus, on=\"employee\", how=\"left\").compute()\n",
    "\n",
    "#polars\n",
    "pl_merged = pl_main.join(pl.bonus, on = \"employee\", how = \"left\")\n",
    "\n",
    "```\n",
    "\n",
    "### Pivot Table/Melt\n"
   ]
  },
  {
   "cell_type": "code",
   "execution_count": 27,
   "id": "24625f61-0f39-41a1-a6bd-db93b4786d99",
   "metadata": {},
   "outputs": [
    {
     "name": "stdout",
     "output_type": "stream",
     "text": [
      "             salary\n",
      "department         \n",
      "Finance     58500.0\n",
      "HR          51000.0\n",
      "IT          61000.0\n",
      "   employee variable  value\n",
      "0     Alice   salary  50000\n",
      "1       Bob   salary  52000\n",
      "2   Charlie   salary  60000\n",
      "3     David   salary  61000\n",
      "4       Eve   salary  58000\n",
      "5     Frank   salary  59000\n",
      "6     Grace   salary  62000\n",
      "7     Alice      age     25\n",
      "8       Bob      age     30\n",
      "9   Charlie      age     28\n",
      "10    David      age     35\n",
      "11      Eve      age     40\n",
      "12    Frank      age     38\n",
      "13    Grace      age     27\n",
      "shape: (3, 8)\n",
      "┌────────────┬───────┬───────┬─────────┬───────┬───────┬───────┬───────┐\n",
      "│ department ┆ 50000 ┆ 52000 ┆ 60000   ┆ 61000 ┆ 58000 ┆ 59000 ┆ 62000 │\n",
      "│ ---        ┆ ---   ┆ ---   ┆ ---     ┆ ---   ┆ ---   ┆ ---   ┆ ---   │\n",
      "│ str        ┆ str   ┆ str   ┆ str     ┆ str   ┆ str   ┆ str   ┆ str   │\n",
      "╞════════════╪═══════╪═══════╪═════════╪═══════╪═══════╪═══════╪═══════╡\n",
      "│ HR         ┆ Alice ┆ Bob   ┆ null    ┆ null  ┆ null  ┆ null  ┆ null  │\n",
      "│ IT         ┆ null  ┆ null  ┆ Charlie ┆ David ┆ null  ┆ null  ┆ Grace │\n",
      "│ Finance    ┆ null  ┆ null  ┆ null    ┆ null  ┆ Eve   ┆ Frank ┆ null  │\n",
      "└────────────┴───────┴───────┴─────────┴───────┴───────┴───────┴───────┘\n",
      "shape: (14, 3)\n",
      "┌──────────┬──────────┬───────┐\n",
      "│ employee ┆ variable ┆ value │\n",
      "│ ---      ┆ ---      ┆ ---   │\n",
      "│ str      ┆ str      ┆ i64   │\n",
      "╞══════════╪══════════╪═══════╡\n",
      "│ Alice    ┆ salary   ┆ 50000 │\n",
      "│ Bob      ┆ salary   ┆ 52000 │\n",
      "│ Charlie  ┆ salary   ┆ 60000 │\n",
      "│ David    ┆ salary   ┆ 61000 │\n",
      "│ Eve      ┆ salary   ┆ 58000 │\n",
      "│ …        ┆ …        ┆ …     │\n",
      "│ Charlie  ┆ age      ┆ 28    │\n",
      "│ David    ┆ age      ┆ 35    │\n",
      "│ Eve      ┆ age      ┆ 40    │\n",
      "│ Frank    ┆ age      ┆ 38    │\n",
      "│ Grace    ┆ age      ┆ 27    │\n",
      "└──────────┴──────────┴───────┘\n"
     ]
    }
   ],
   "source": [
    "# Pandas\n",
    "print(pd.pivot_table(pd_df, values=\"salary\", index=\"department\", aggfunc=\"mean\"))\n",
    "print(pd_df.melt(id_vars=[\"employee\"], value_vars=[\"salary\", \"age\"]))\n",
    "\n",
    "#pivot is directly not supported in dask\n",
    "#pivot logic must be implemented manually \n",
    "\n",
    "# Polars\n",
    "print(pl_df.pivot(\"salary\", index=\"department\", values=\"employee\", aggregate_function=\"first\"))\n",
    "print(pl_df.unpivot(index =\"employee\", on=[\"salary\", \"age\"]))\n"
   ]
  },
  {
   "cell_type": "code",
   "execution_count": null,
   "id": "c4b59648-654d-41e4-9a59-476e1ec1d4af",
   "metadata": {},
   "outputs": [],
   "source": []
  }
 ],
 "metadata": {
  "kernelspec": {
   "display_name": "Python 3 (ipykernel)",
   "language": "python",
   "name": "python3"
  },
  "language_info": {
   "codemirror_mode": {
    "name": "ipython",
    "version": 3
   },
   "file_extension": ".py",
   "mimetype": "text/x-python",
   "name": "python",
   "nbconvert_exporter": "python",
   "pygments_lexer": "ipython3",
   "version": "3.13.3"
  }
 },
 "nbformat": 4,
 "nbformat_minor": 5
}
