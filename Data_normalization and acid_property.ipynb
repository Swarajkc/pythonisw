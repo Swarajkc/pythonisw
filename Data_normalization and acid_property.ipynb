{
 "cells": [
  {
   "cell_type": "markdown",
   "id": "84a5aa02-ab06-4e40-b6a1-c06e28836ee9",
   "metadata": {},
   "source": [
    "# Data Normalization"
   ]
  },
  {
   "cell_type": "markdown",
   "id": "9534f1f2-fcb9-4562-b2af-a26bec7ab013",
   "metadata": {},
   "source": [
    "- Normalization is an essential step in the preprocessing of data for machine learning models, and it is a feature scaling technique.\n",
    "- Normalization is especially crucial for data manipulation, scaling down, or up the range of data before it is utilized for subsequent stages in the fields of soft computing, cloud computing, etc. Min-max scaling and Z-Score Normalisation (Standardization) are the two methods most frequently used for normalization in feature scaling.\n",
    "\n",
    "\n",
    "### What is Data Normalization?\n",
    "\n",
    "Data normalization is a vital pre-processing, mapping, and scaling method that helps forecasting and prediction models become more accurate. The current data range is transformed into a new, standardized range using this method. Normalization is extremely important when it comes to bringing disparate prediction and forecasting techniques into harmony. Data normalization improves the consistency and comparability of different predictive models by standardizing the range of independent variables or features within a dataset, leading to more steady and dependable results.\n",
    "\n",
    "Normalisation, which involves reshaping numerical columns to conform to a standard scale, is essential for datasets with different units or magnitudes across different features. Finding a common scale for the data while maintaining the intrinsic variations in value ranges is the main goal of normalization. This usually entails rescaling the features to a standard range, which is typically between 0 and 1. Alternatively, the features can be adjusted to have a mean of 0 and a standard deviation of 1.\n",
    "\n",
    "Z-Score Normalisation (Standardisation) and Min-Max Scaling are two commonly used normalisation techniques. In order to enable more insightful and precise analyses in a variety of predictive modelling scenarios, these techniques are essential in bringing disparate features to a comparable scale.\n",
    "\n",
    "### Why do we need Data Normalization in Machine Learning?\n",
    "\n",
    "There are several reasons for the need for data normalization as follows:\n",
    "\n",
    "- Normalisation is essential to machine learning for a number of reasons. Throughout the learning process, it guarantees that every feature contributes equally, preventing larger-magnitude features from overshadowing others.\n",
    "- It enables faster convergence of algorithms for optimisation, especially those that depend on gradient descent. Normalisation improves the performance of distance-based algorithms like k-Nearest Neighbours.\n",
    "- Normalisation improves overall performance by addressing model sensitivity problems in algorithms such as Support Vector Machines and Neural Networks.\n",
    "- Because it assumes uniform feature scales, it also supports the use of regularisation techniques like L1 and L2 regularisation.\n",
    "- In general, normalisation is necessary when working with attributes that have different scales; otherwise, the effectiveness of a significant attribute that is equally important (on a lower scale) could be diluted due to other attributes having values on a larger scale."
   ]
  },
  {
   "cell_type": "markdown",
   "id": "19ba5635-beff-401f-9a61-c53e5391f00e",
   "metadata": {},
   "source": [
    "## Data Normalization Techniques\n",
    "\n",
    "- <b>Min-Max normalization:</b> This method of normalising data involves transforming the original data linearly. The data’s minimum and maximum values are obtained, and each value is then changed using the formula that follows.\n",
    "<br>\n",
    "        Xnormalization = (x - xmin)/(xmax - xmin)\n",
    "\n",
    "- <b>Normalisation through decimal scaling:</b> The data is normalised by shifting the decimal point of its values. By dividing each data value by the maximum absolute value of the data, we can use this technique to normalise the data. The following formula is used to normalise the data value, v, of the data to v’:\n",
    "<br>\n",
    "        v' = v/10^j\n",
    "where v’v’ is the normalized value,vv is the original value, and jj is the smallest integer such that max⁡(∣X’∣)<1max(∣X’∣)<1. This formula involves dividing each data value by an appropriate power of 10 to ensure that the resulting normalized values are within a specific range.\n",
    "\n",
    "- <b>Normalisation of Z-score or Zero Mean (Standardisation):</b> Using the mean and standard deviation of the data, values are normalised in this technique to create a standard normal distribution (mean: 0, standard deviation: 1). The equation that is applied is:\n",
    "<br>\n",
    "        Z = (X-Mean)/(S.D)\n"
   ]
  },
  {
   "cell_type": "markdown",
   "id": "a8a48843-44e3-4b22-a936-b12a36110747",
   "metadata": {},
   "source": [
    "### Normalization\n",
    "\n",
    "- Normalization scales the values of a feature to a specific range, often between 0 and 1.\n",
    "- Applicable when the feature distribution is uncertain.\n",
    "- Susceptible to the influence of outliers\n",
    "- Can alter the shape of the distribution to make it more normal.\n",
    "- Scales values to ranges like [0, 1].\n",
    "\n",
    "### Standardization\n",
    "\n",
    "- Standardization scales the features to have a mean of 0 and a standard deviation of 1.\n",
    "- Effective when the data distribution is Gaussian.\n",
    "- Less affected by the presence of outliers.\n",
    "- Maintains the shape of the original distribution.\n",
    "- Scale values are not constrained to a specific range."
   ]
  },
  {
   "cell_type": "markdown",
   "id": "5117d571-2577-4999-8c44-9082d5a8ed1b",
   "metadata": {},
   "source": [
    "## Advantages of Normalization\n",
    "\n",
    "Several benefits come with data normalisation:\n",
    "\n",
    "    More clustered indexes could potentially be produced.\n",
    "    Index searching was accelerated, which led to quicker data retrieval.\n",
    "    Quicker data modification commands.\n",
    "    The removal of redundant and null values to produce more compact data.\n",
    "    Reduction of anomalies resulting from data modification.\n",
    "    Conceptual clarity and simplicity of upkeep, enabling simple adaptations to changing needs.\n",
    "    Because more rows can fit on a data page with narrower tables, searching, sorting, and index creation are more efficient.\n",
    "\n",
    "## Disadvantages of Normalization\n",
    "\n",
    "There are various drawbacks to normalizing a database. A few disadvantages are as follows: \n",
    "\n",
    "    It gets harder to link tables together when the information is spread across multiple ones. It gets even more interesting to identify the database.\n",
    "    Given that rewritten data is saved as lines of numbers rather than actual data, tables will contain codes rather than actual data. That means that you have to keep checking the query table.\n",
    "    This information model is very hard to query because it is meant for programmes, not ad hoc queries. Operating system friendly query devices frequently perform this function. It is composed of SQL that has been accumulated over time. If you don’t first understand the needs of the client, it may be challenging to demonstrate knowledge and understanding.\n",
    "    Compared to a typical structural type, the show’s pace gradually slows down.\n",
    "    A comprehensive understanding of the various conventional structures is essential to completing the standardisation cycle successfully. Careless use can lead to a poor plan with significant anomalies and inconsistent data.\n",
    "\n",
    "## Conclusion\n",
    "\n",
    "To summarise, one of the most important aspects of machine learning preprocessing is data normalisation, which can be achieved by using techniques such as Min-Max Scaling and Z-Score Normalisation. This procedure, which is necessary for equal feature contribution, faster convergence, and improved model performance, necessitates a careful decision between Z-Score Normalisation and Min-Max Scaling based on the particulars of the data. Both strategies have trade-offs, such as increased complexity and possible performance consequences, even though they offer advantages like clustered indexes and faster searches. Making an informed choice between normalisation techniques depends on having a solid grasp of both the nature of the data and the particular needs of the machine learning algorithm being used."
   ]
  },
  {
   "cell_type": "markdown",
   "id": "7960319f-3af0-4ae7-817f-1705d8f075f5",
   "metadata": {},
   "source": [
    "## Data Normalization with Pandas\n",
    "\n",
    "- Pandas: Pandas is an open-source library that's built on top of Numpy library.it is a Python package that provides various data structures and operations for manipulating numerical data and statistics. It’s mainly popular for importing and analyzing data much easier. Pandas is fast and it’s high-performance & productive for users.\n",
    "\n",
    "  \n",
    "- Data Normalization: Data Normalization could also be a typical practice in machine learning which consists of transforming numeric columns to a standard scale. In machine learning, some feature values differ from others multiple times. The features with higher values will dominate the learning process.\n",
    "\n",
    "### Steps Needed\n",
    "\n",
    "Here, we will apply some techniques to normalize the data and discuss these with the help of examples. For this, let’s understand the steps needed for data normalization with Pandas.\n",
    "\n",
    "1. Import Library (Pandas)\n",
    "2. Import / Load / Create data.\n",
    "3. Use the technique to normalize the data.\n"
   ]
  },
  {
   "cell_type": "code",
   "execution_count": 1,
   "id": "9bc1d64e-ffdc-4c3e-93e9-bc8f41c510a3",
   "metadata": {},
   "outputs": [
    {
     "data": {
      "text/html": [
       "<div>\n",
       "<style scoped>\n",
       "    .dataframe tbody tr th:only-of-type {\n",
       "        vertical-align: middle;\n",
       "    }\n",
       "\n",
       "    .dataframe tbody tr th {\n",
       "        vertical-align: top;\n",
       "    }\n",
       "\n",
       "    .dataframe thead th {\n",
       "        text-align: right;\n",
       "    }\n",
       "</style>\n",
       "<table border=\"1\" class=\"dataframe\">\n",
       "  <thead>\n",
       "    <tr style=\"text-align: right;\">\n",
       "      <th></th>\n",
       "      <th>Col A</th>\n",
       "      <th>Col B</th>\n",
       "      <th>Col C</th>\n",
       "      <th>Col D</th>\n",
       "    </tr>\n",
       "  </thead>\n",
       "  <tbody>\n",
       "    <tr>\n",
       "      <th>0</th>\n",
       "      <td>180000</td>\n",
       "      <td>110</td>\n",
       "      <td>18.9</td>\n",
       "      <td>1400</td>\n",
       "    </tr>\n",
       "    <tr>\n",
       "      <th>1</th>\n",
       "      <td>360000</td>\n",
       "      <td>905</td>\n",
       "      <td>23.4</td>\n",
       "      <td>1800</td>\n",
       "    </tr>\n",
       "    <tr>\n",
       "      <th>2</th>\n",
       "      <td>230000</td>\n",
       "      <td>230</td>\n",
       "      <td>14.0</td>\n",
       "      <td>1300</td>\n",
       "    </tr>\n",
       "    <tr>\n",
       "      <th>3</th>\n",
       "      <td>60000</td>\n",
       "      <td>450</td>\n",
       "      <td>13.5</td>\n",
       "      <td>1500</td>\n",
       "    </tr>\n",
       "  </tbody>\n",
       "</table>\n",
       "</div>"
      ],
      "text/plain": [
       "    Col A  Col B  Col C  Col D\n",
       "0  180000    110   18.9   1400\n",
       "1  360000    905   23.4   1800\n",
       "2  230000    230   14.0   1300\n",
       "3   60000    450   13.5   1500"
      ]
     },
     "metadata": {},
     "output_type": "display_data"
    }
   ],
   "source": [
    "# importing packages \n",
    "import pandas as pd \n",
    "\n",
    "# create data \n",
    "df = pd.DataFrame([ \n",
    "\t\t\t\t[180000, 110, 18.9, 1400], \n",
    "\t\t\t\t[360000, 905, 23.4, 1800], \n",
    "\t\t\t\t[230000, 230, 14.0, 1300], \n",
    "\t\t\t\t[60000, 450, 13.5, 1500]], \n",
    "\t\n",
    "\t\t\t\tcolumns=['Col A', 'Col B', \n",
    "\t\t\t\t\t\t\t'Col C', 'Col D']) \n",
    "\n",
    "# view data \n",
    "display(df)\n"
   ]
  },
  {
   "cell_type": "code",
   "execution_count": 2,
   "id": "a1ccb2de-f5b9-4491-a0f2-8c386806d902",
   "metadata": {},
   "outputs": [
    {
     "data": {
      "text/plain": [
       "<Axes: >"
      ]
     },
     "execution_count": 2,
     "metadata": {},
     "output_type": "execute_result"
    },
    {
     "data": {
      "image/png": "[encoded data removed]",
      "text/plain": [
       "<Figure size 640x480 with 1 Axes>"
      ]
     },
     "metadata": {},
     "output_type": "display_data"
    }
   ],
   "source": [
    "\n",
    "import matplotlib.pyplot as plt \n",
    "df.plot(kind = 'bar')\n"
   ]
  },
  {
   "cell_type": "markdown",
   "id": "f0cd4245-9b4c-4d9b-a89c-a2b4e797c8b5",
   "metadata": {},
   "source": [
    "### Applying normalization techniques one by one.\n",
    "\n",
    "#### Using The maximum absolute scaling\n",
    "\n",
    "The maximum absolute scaling rescales each feature between -1 and 1 by dividing every observation by its maximum absolute value. We can apply the maximum absolute scaling in Pandas using the .max() and .abs() methods, as shown below."
   ]
  },
  {
   "cell_type": "code",
   "execution_count": 3,
   "id": "be626006-949f-4501-8b3e-deb16006c589",
   "metadata": {},
   "outputs": [
    {
     "data": {
      "text/html": [
       "<div>\n",
       "<style scoped>\n",
       "    .dataframe tbody tr th:only-of-type {\n",
       "        vertical-align: middle;\n",
       "    }\n",
       "\n",
       "    .dataframe tbody tr th {\n",
       "        vertical-align: top;\n",
       "    }\n",
       "\n",
       "    .dataframe thead th {\n",
       "        text-align: right;\n",
       "    }\n",
       "</style>\n",
       "<table border=\"1\" class=\"dataframe\">\n",
       "  <thead>\n",
       "    <tr style=\"text-align: right;\">\n",
       "      <th></th>\n",
       "      <th>Col A</th>\n",
       "      <th>Col B</th>\n",
       "      <th>Col C</th>\n",
       "      <th>Col D</th>\n",
       "    </tr>\n",
       "  </thead>\n",
       "  <tbody>\n",
       "    <tr>\n",
       "      <th>0</th>\n",
       "      <td>0.500000</td>\n",
       "      <td>0.121547</td>\n",
       "      <td>0.807692</td>\n",
       "      <td>0.777778</td>\n",
       "    </tr>\n",
       "    <tr>\n",
       "      <th>1</th>\n",
       "      <td>1.000000</td>\n",
       "      <td>1.000000</td>\n",
       "      <td>1.000000</td>\n",
       "      <td>1.000000</td>\n",
       "    </tr>\n",
       "    <tr>\n",
       "      <th>2</th>\n",
       "      <td>0.638889</td>\n",
       "      <td>0.254144</td>\n",
       "      <td>0.598291</td>\n",
       "      <td>0.722222</td>\n",
       "    </tr>\n",
       "    <tr>\n",
       "      <th>3</th>\n",
       "      <td>0.166667</td>\n",
       "      <td>0.497238</td>\n",
       "      <td>0.576923</td>\n",
       "      <td>0.833333</td>\n",
       "    </tr>\n",
       "  </tbody>\n",
       "</table>\n",
       "</div>"
      ],
      "text/plain": [
       "      Col A     Col B     Col C     Col D\n",
       "0  0.500000  0.121547  0.807692  0.777778\n",
       "1  1.000000  1.000000  1.000000  1.000000\n",
       "2  0.638889  0.254144  0.598291  0.722222\n",
       "3  0.166667  0.497238  0.576923  0.833333"
      ]
     },
     "metadata": {},
     "output_type": "display_data"
    }
   ],
   "source": [
    "# copy the data \n",
    "df_max_scaled = df.copy() \n",
    "\n",
    "# apply normalization techniques \n",
    "for column in df_max_scaled.columns: \n",
    "\tdf_max_scaled[column] = df_max_scaled[column] / df_max_scaled[column].abs().max() \n",
    "\t\n",
    "# view normalized data \n",
    "display(df_max_scaled) \n"
   ]
  },
  {
   "cell_type": "code",
   "execution_count": 4,
   "id": "5b35ceb9-2fa8-4f32-9624-df77691d2889",
   "metadata": {},
   "outputs": [
    {
     "data": {
      "text/plain": [
       "<Axes: >"
      ]
     },
     "execution_count": 4,
     "metadata": {},
     "output_type": "execute_result"
    },
    {
     "data": {
      "image/png": "[encoded data removed]",
      "text/plain": [
       "<Figure size 640x480 with 1 Axes>"
      ]
     },
     "metadata": {},
     "output_type": "display_data"
    }
   ],
   "source": [
    "import matplotlib.pyplot as plt \n",
    "df_max_scaled.plot(kind = 'bar')\n"
   ]
  },
  {
   "cell_type": "markdown",
   "id": "0c2553ed-5a92-437a-a06f-84d68191790a",
   "metadata": {},
   "source": [
    "#### Using The min-max feature scaling\n",
    "\n",
    "The min-max approach (often called normalization) rescales the feature to a hard and fast range of [0,1] by subtracting the minimum value of the feature then dividing by the range. We can apply the min-max scaling in Pandas using the .min() and .max() methods."
   ]
  },
  {
   "cell_type": "code",
   "execution_count": 5,
   "id": "59849378-2c64-47d4-a144-f741dbc1bcc3",
   "metadata": {},
   "outputs": [
    {
     "name": "stdout",
     "output_type": "stream",
     "text": [
      "      Col A     Col B     Col C  Col D\n",
      "0  0.400000  0.000000  0.545455    0.2\n",
      "1  1.000000  1.000000  1.000000    1.0\n",
      "2  0.566667  0.150943  0.050505    0.0\n",
      "3  0.000000  0.427673  0.000000    0.4\n"
     ]
    }
   ],
   "source": [
    "# copy the data \n",
    "df_min_max_scaled = df.copy() \n",
    "\n",
    "# apply normalization techniques \n",
    "for column in df_min_max_scaled.columns: \n",
    "\tdf_min_max_scaled[column] = (df_min_max_scaled[column] - df_min_max_scaled[column].min()) / (df_min_max_scaled[column].max() - df_min_max_scaled[column].min())\t \n",
    "\n",
    "# view normalized data \n",
    "print(df_min_max_scaled)\n"
   ]
  },
  {
   "cell_type": "code",
   "execution_count": 6,
   "id": "04f4f6cd-0714-448f-aca2-02776af3e319",
   "metadata": {},
   "outputs": [
    {
     "data": {
      "text/plain": [
       "<Axes: >"
      ]
     },
     "execution_count": 6,
     "metadata": {},
     "output_type": "execute_result"
    },
    {
     "data": {
      "image/png": "[encoded data removed]",
      "text/plain": [
       "<Figure size 640x480 with 1 Axes>"
      ]
     },
     "metadata": {},
     "output_type": "display_data"
    }
   ],
   "source": [
    "import matplotlib.pyplot as plt \n",
    "df_min_max_scaled.plot(kind = 'bar')\n"
   ]
  },
  {
   "cell_type": "markdown",
   "id": "08ff34b3-e21d-4724-9654-223c1e13f6f7",
   "metadata": {},
   "source": [
    "#### Using The z-score method\n",
    "\n",
    "The z-score method (often called standardization) transforms the info into distribution with a mean of 0 and a typical deviation of 1. Each standardized value is computed by subtracting the mean of the corresponding feature then dividing by the quality deviation."
   ]
  },
  {
   "cell_type": "code",
   "execution_count": 7,
   "id": "d5256fb1-9f39-4ebb-a023-599c15808256",
   "metadata": {},
   "outputs": [
    {
     "data": {
      "text/html": [
       "<div>\n",
       "<style scoped>\n",
       "    .dataframe tbody tr th:only-of-type {\n",
       "        vertical-align: middle;\n",
       "    }\n",
       "\n",
       "    .dataframe tbody tr th {\n",
       "        vertical-align: top;\n",
       "    }\n",
       "\n",
       "    .dataframe thead th {\n",
       "        text-align: right;\n",
       "    }\n",
       "</style>\n",
       "<table border=\"1\" class=\"dataframe\">\n",
       "  <thead>\n",
       "    <tr style=\"text-align: right;\">\n",
       "      <th></th>\n",
       "      <th>Col A</th>\n",
       "      <th>Col B</th>\n",
       "      <th>Col C</th>\n",
       "      <th>Col D</th>\n",
       "    </tr>\n",
       "  </thead>\n",
       "  <tbody>\n",
       "    <tr>\n",
       "      <th>0</th>\n",
       "      <td>-0.221422</td>\n",
       "      <td>-0.895492</td>\n",
       "      <td>0.311486</td>\n",
       "      <td>-0.46291</td>\n",
       "    </tr>\n",
       "    <tr>\n",
       "      <th>1</th>\n",
       "      <td>1.227884</td>\n",
       "      <td>1.373564</td>\n",
       "      <td>1.278167</td>\n",
       "      <td>1.38873</td>\n",
       "    </tr>\n",
       "    <tr>\n",
       "      <th>2</th>\n",
       "      <td>0.181163</td>\n",
       "      <td>-0.552993</td>\n",
       "      <td>-0.741122</td>\n",
       "      <td>-0.92582</td>\n",
       "    </tr>\n",
       "    <tr>\n",
       "      <th>3</th>\n",
       "      <td>-1.187625</td>\n",
       "      <td>0.074922</td>\n",
       "      <td>-0.848531</td>\n",
       "      <td>0.00000</td>\n",
       "    </tr>\n",
       "  </tbody>\n",
       "</table>\n",
       "</div>"
      ],
      "text/plain": [
       "      Col A     Col B     Col C    Col D\n",
       "0 -0.221422 -0.895492  0.311486 -0.46291\n",
       "1  1.227884  1.373564  1.278167  1.38873\n",
       "2  0.181163 -0.552993 -0.741122 -0.92582\n",
       "3 -1.187625  0.074922 -0.848531  0.00000"
      ]
     },
     "metadata": {},
     "output_type": "display_data"
    }
   ],
   "source": [
    "# copy the data \n",
    "df_z_scaled = df.copy() \n",
    "\n",
    "# apply normalization techniques \n",
    "for column in df_z_scaled.columns: \n",
    "\tdf_z_scaled[column] = (df_z_scaled[column] -\n",
    "\t\t\t\t\t\tdf_z_scaled[column].mean()) / df_z_scaled[column].std()\t \n",
    "\n",
    "# view normalized data \n",
    "display(df_z_scaled)\n"
   ]
  },
  {
   "cell_type": "code",
   "execution_count": 8,
   "id": "dbcd5f6c-972a-4ccd-874a-af5aa88242db",
   "metadata": {},
   "outputs": [
    {
     "data": {
      "text/plain": [
       "<Axes: >"
      ]
     },
     "execution_count": 8,
     "metadata": {},
     "output_type": "execute_result"
    },
    {
     "data": {
      "image/png": "[encoded data removed]",
      "text/plain": [
       "<Figure size 640x480 with 1 Axes>"
      ]
     },
     "metadata": {},
     "output_type": "display_data"
    }
   ],
   "source": [
    "import matplotlib.pyplot as plt \n",
    "df_z_scaled.plot(kind='bar')\n"
   ]
  },
  {
   "cell_type": "markdown",
   "id": "5d3db957-a5f1-4f8d-8ef3-8f5b57427962",
   "metadata": {},
   "source": [
    "## Summary\n",
    "\n",
    "Data normalization consists of remodeling numeric columns to a standard scale. In Python, we will implement data normalization in a very simple way. The Pandas library contains multiple built-in methods for calculating the foremost common descriptive statistical functions which make data normalization techniques very easy to implement."
   ]
  },
  {
   "cell_type": "markdown",
   "id": "021b0d0e-7487-48fb-9b75-5c5f3371413c",
   "metadata": {},
   "source": [
    "## ACID\n",
    "\n",
    "### What is ACID?\n",
    "\n",
    "- ACID stands for atomicity, consistency, isolation, and durability.\n",
    "- Earlier on in the course we learned that database operations occur in transactions. These ACID properties are part of every SQL database system.\n",
    "- We've learned that when working with psycopg2, using the context manager (with connection.cursor() as cursor) puts the statements inside the context manager in a transaction.\n",
    "- If you don't use psycopg2, for example if you want to use just plain SQL, you can precede a set of statements with BEGIN TRANSACTION and follow them with END TRANSACTION.\n",
    " -ACID is not something you have to implement yourself. It's a description of core concepts that SQL follows.\n",
    "\n",
    "#### Atomicity\n",
    "\n",
    "- Atomicity means that transactions are considered to be an indivisible series of operations. Every operation inside a transaction must happen, or none do: there's no possibility of a partial transaction occurring. If any operation within a transaction fails, all other operations are cancelled.\n",
    "\n",
    "- This ensures that you can group together operations, and you'll be sure that all of them will run. This is especially useful if the two transactions depend on each other, but you can group transactions that don't depend on each other and you just want them to happen at the same time.\n",
    "\n",
    "- For example, let's say you try to UPDATE and INSERT in the same transaction (two operations).\n",
    "\n",
    "- If the UPDATE fails, the INSERT will not happen. Similarly, if the INSERT fails, the UPDATE will not happen.\n",
    "\n",
    "\n",
    "#### Consistency\n",
    "\n",
    "- Consistency in SQL means that the rules and constraints of the database are followed at all times.\n",
    "\n",
    "- For example, if you had a foreign key constraint where options.poll_id is a foreign key to polls.id, it would mean you cannot delete a poll that has an id that is being used in the options table.\n",
    "\n",
    "- If you did that, the data in the database would no longer be valid: the option would be referencing a nonexistent poll.\n",
    "\n",
    "- Many other tutorials and guides provide confusing explanations about atomicity and consistency that often conflates the two terms. Be careful!\n",
    "\n",
    "- Atomicity is about the operations in each transaction all happening. Consistency is about the constraints being applied at all times[1].\n",
    "\n",
    "\n",
    "#### Isolation\n",
    "\n",
    "- Isolation means that data is only visible in the database once the transaction has ended (that's when the data is committed, or saved, to the disk).\n",
    "\n",
    "- So for example if you have a long transaction making 10 different INSERT queries, another separate transaction won't be able to use the result of any of those queries until the long transaction has ended.\n",
    "\n",
    "\n",
    "#### Durability\n",
    "\n",
    "- Durability means that the data is saved to a permanent storage once a transaction is saved or committed. Even if there is a power outage after a transaction has ended, the data will not go missing.\n",
    "\n",
    "- This is in contrast to some other databases that operate either partially or fully \"in memory\".\n",
    "\n",
    "- Operating in memory is much faster, since RAM has faster read and write speeds than hard drives, but the data gets lost when the device is turned off. We normally want durability for data that we want to keep and reuse, and we're not so worried about durability for data that we don't need to store.\n",
    "\n",
    "- Some examples of data you may not need to store are things like:\n",
    "\n",
    "    - Logged in status of users (if this data is lost, users need to log in again, but it's not a massive deal).\n",
    "    - Cache data (if this data is lost, temporarily accessing it from the source may be slower, but it's not a big deal).\n",
    "\n",
    "## Conclusion\n",
    "\n",
    "In conclusion, ACID properties involve four properties i.e. Atomicity, Consistency, Isolation and Durability that are responsible for data consistency, integrity and reliability in DBMS. Atomicity ensures that a transaction is rolled back if any part of it fails. Consistency ensures that the database remains consistent before and after the transaction. Isolation ensures that one transaction is not affected by the other. Durability ensures that the changes introduced by a particular transaction persist even after a system failure."
   ]
  },
  {
   "cell_type": "markdown",
   "id": "ecfa0a57-19fc-4fc8-bcb4-d96fe687e1df",
   "metadata": {},
   "source": [
    "## Implementing ACID Transactions in Python"
   ]
  },
  {
   "cell_type": "code",
   "execution_count": 9,
   "id": "d3a010a6-075e-4a2c-8250-b458fd21ccb4",
   "metadata": {},
   "outputs": [
    {
     "name": "stdout",
     "output_type": "stream",
     "text": [
      "Transferring 30 from account A to account B\n",
      "Account A balance: 70\n",
      "Account B balance: 80\n"
     ]
    }
   ],
   "source": [
    "import threading\n",
    "import json\n",
    "\n",
    "class BankAccount:\n",
    "    def __init__(self, balance=0):\n",
    "        self.balance = balance\n",
    "        self.lock = threading.Lock()\n",
    "\n",
    "    def deposit(self, amount):\n",
    "        with self.lock:\n",
    "            print(\"Depositing:\", amount)\n",
    "            self.balance += amount\n",
    "\n",
    "    def withdraw(self, amount):\n",
    "        with self.lock:\n",
    "            if self.balance >= amount:\n",
    "                print(\"Withdrawing:\", amount)\n",
    "                self.balance -= amount\n",
    "            else:\n",
    "                print(\"Insufficient funds\")\n",
    "\n",
    "def transfer_funds(from_account, to_account, amount):\n",
    "    with from_account.lock:\n",
    "        if from_account.balance >= amount:\n",
    "            print(\"Transferring\", amount, \"from account A to account B\")\n",
    "            from_account.balance -= amount\n",
    "            to_account.balance += amount\n",
    "        else:\n",
    "            print(\"Insufficient funds for transfer\")\n",
    "\n",
    "def persist_state(accounts):\n",
    "    with open(\"bank_accounts.json\", \"w\") as file:\n",
    "        json.dump(accounts, file)\n",
    "\n",
    "def load_state():\n",
    "    try:\n",
    "        with open(\"bank_accounts.json\", \"r\") as file:\n",
    "            return json.load(file)\n",
    "    except FileNotFoundError:\n",
    "        return None\n",
    "\n",
    "def simulate_transaction():\n",
    "    # Load previous state or create new accounts\n",
    "    previous_state = load_state()\n",
    "    if previous_state:\n",
    "        account_A = BankAccount(previous_state[\"A\"])\n",
    "        account_B = BankAccount(previous_state[\"B\"])\n",
    "    else:\n",
    "        account_A = BankAccount(100)\n",
    "        account_B = BankAccount(50)\n",
    "\n",
    "    # Simulate a transaction\n",
    "    transfer_amount = 30\n",
    "    transfer_funds(account_A, account_B, transfer_amount)\n",
    "\n",
    "    # Persist current state\n",
    "    current_state = {\"A\": account_A.balance, \"B\": account_B.balance}\n",
    "    persist_state(current_state)\n",
    "\n",
    "    print(\"Account A balance:\", account_A.balance)\n",
    "    print(\"Account B balance:\", account_B.balance)\n",
    "\n",
    "# Simulate the transaction\n",
    "simulate_transaction()"
   ]
  },
  {
   "cell_type": "markdown",
   "id": "c5eb6cec-e0fb-419a-b4fe-342bbb546f6d",
   "metadata": {},
   "source": [
    "### Explanation:\n",
    "\n",
    "1. <b>Atomicity:</b> We ensure atomicity by using locks (threading.Lock()) to ensure that a transaction is treated as a single unit of work. The with self.lock: and with from_account.lock: blocks ensure that the critical sections of code are executed atomically. If an exception occurs within these blocks, the lock is released automatically, preventing inconsistent state.\n",
    "\n",
    "2. <b>Consistency:</b> In the transfer_funds function, we check for sufficient funds before transferring money between accounts. This ensures that the database remains in a consistent state. If there are insufficient funds, the transaction is aborted, maintaining consistency.\n",
    "\n",
    "3. <b>Isolation:</b> The locks acquired by each thread ensure that transactions are executed sequentially, preventing interference between concurrent transactions. This ensures that the outcome of concurrent execution is equivalent to sequential execution.\n",
    "\n",
    "4. <b>Durability:</b> We introduced two new functions, persist_state and load_state, responsible for persisting the current state of bank accounts to a JSON file (bank_accounts.json) and loading the previous state from the same file, respectively. After each transaction, we save the current state to ensure that changes made by committed transactions persist even in the event of system failures.\n",
    "\n",
    "5. In the simulate_transaction function, we first attempt to load the previous state from the JSON file. If the file doesn't exist (indicating no previous state), we create new bank accounts. Otherwise, we initialize the accounts with the balances from the previous state.\n",
    "\n",
    "6. After simulating the transaction, we persist the current state to the JSON file using the persist_state function. This ensures that the state of bank accounts is durable and can be recovered even after system failures."
   ]
  },
  {
   "cell_type": "markdown",
   "id": "fe4da500-730a-4b2c-902a-c99aab9c68eb",
   "metadata": {},
   "source": [
    "# Database Normalization\n",
    "\n",
    "- Database normalization is the process of organizing the attributes of the database to reduce or eliminate data redundancy (having the same data but at different places).\n",
    "- Data redundancy unnecessarily increases the size of the database as the same data is repeated in many places. Inconsistency problems also arise during insert, delete, and update operations. \n",
    "- In the relational model, there exist standard methods to quantify how efficient a databases is. These methods are called normal forms and there are algorithms to covert a given database into normal forms.\n",
    "- Normalization generally involves splitting a table into multiple ones which must be linked each time a query is made requiring data from the split tables.\n",
    "\n",
    "### Why do we need Normalization?\n",
    "\n",
    "The primary objective for normalizing the relations is to eliminate the below anomalies. Failure to reduce anomalies results in data redundancy, which may threaten data integrity and cause additional issues as the database increases. Normalization consists of a set of procedures that assist you in developing an effective database structure.\n",
    "\n",
    "- <b>Insertion Anomalies:</b> Insertion anomalies occur when it is not possible to insert data into a database because the required fields are missing or because the data is incomplete. For example, if a database requires that every record has a primary key, but no value is provided for a particular record, it cannot be inserted into the database.\n",
    "\n",
    "- <b>Deletion anomalies:</b> Deletion anomalies occur when deleting a record from a database and can result in the unintentional loss of data. For example, if a database contains information about customers and orders, deleting a customer record may also delete all the orders associated with that customer.\n",
    "\n",
    "- <b>Updation anomalies:</b> Updation anomalies occur when modifying data in a database and can result in inconsistencies or errors. For example, if a database contains information about employees and their salaries, updating an employee’s salary in one record but not in all related records could lead to incorrect calculations and reporting."
   ]
  },
  {
   "cell_type": "markdown",
   "id": "5b772f65-5b38-4f0b-af30-42fdfa565cd2",
   "metadata": {},
   "source": [
    "## Features of Database Normalization\n",
    "\n",
    "- <b>Elimination of Data Redundancy:</b> One of the main features of normalization is to eliminate the data redundancy that can occur in a database. Data redundancy refers to the repetition of data in different parts of the database. Normalization helps in reducing or eliminating this redundancy, which can improve the efficiency and consistency of the database.\n",
    "\n",
    "- <b>Ensuring Data Consistency:</b> Normalization helps in ensuring that the data in the database is consistent and accurate. By eliminating redundancy, normalization helps in preventing inconsistencies and contradictions that can arise due to different versions of the same data.\n",
    "\n",
    "- <b>Simplification of Data Management:</b> Normalization simplifies the process of managing data in a database. By breaking down a complex data structure into simpler tables, normalization makes it easier to manage the data, update it, and retrieve it.\n",
    "\n",
    "- <b>Improved Database Design:</b> Normalization helps in improving the overall design of the database. By organizing the data in a structured and systematic way, normalization makes it easier to design and maintain the database. It also makes the database more flexible and adaptable to changing business needs.\n",
    "\n",
    "- <b>Avoiding Update Anomalies:</b> Normalization helps in avoiding update anomalies, which can occur when updating a single record in a table affects multiple records in other tables. Normalization ensures that each table contains only one type of data and that the relationships between the tables are clearly defined, which helps in avoiding such anomalies.\n",
    "\n",
    "- <b>Standardization:</b> Normalization helps in standardizing the data in the database. By organizing the data into tables and defining relationships between them, normalization helps in ensuring that the data is stored in a consistent and uniform manner."
   ]
  },
  {
   "cell_type": "markdown",
   "id": "8cbf0032-5c45-455d-8127-a291946bc3af",
   "metadata": {},
   "source": [
    "## Normal Forms\n",
    "\n",
    "- <b>First Normal Form (1NF)</b>\n",
    "\n",
    "A relation is in first normal form if every attribute in that relation is <strong>single-valued attribute</strong>. \n",
    "\n",
    "- <b>Second Normal Form (2NF)</b>\n",
    "\t\n",
    "A relation that is in First Normal Form and <strong>every non-primary-key attribute is fully functionally dependent on the primary key</strong>, then the relation is in Second Normal Form (2NF).\n",
    "\n",
    "- <b>Third Normal Form (3NF)</b>\n",
    "\n",
    "A relation is in the third normal form, if there is no transitive dependency for non-prime attributes as well as it is in the second normal form. A relation is in 3NF if at least one of the following conditions holds in every non-trivial function dependency X –> Y.\n",
    "\n",
    "    X is a super key.\n",
    "    Y is a prime attribute (each element of Y is part of some candidate key).\n",
    "\n",
    "- <b>Boyce-Codd Normal Form (BCNF)</b>\n",
    "\n",
    "For BCNF the relation should satisfy the below conditions\n",
    "\n",
    "    The relation should be in the 3rd Normal Form.\n",
    "    X should be a super-key for every functional dependency (FD) X−>Y in a given relation. \n",
    "\n",
    "- <b>Fourth Normal Form (4NF)</b>\n",
    "\t\n",
    "A relation R is in 4NF if and only if the following conditions are satisfied: \n",
    "\n",
    "    It should be in the Boyce-Codd Normal Form (BCNF).\n",
    "    The table should not have any Multi-valued Dependency.\n",
    "\n",
    "- <b>Fifth Normal Form (5NF)</b>\n",
    "\t\n",
    " A relation R is in 5NF if and only if it satisfies the following conditions:\n",
    "\n",
    "    R should be already in 4NF. \n",
    "    It cannot be further non loss decomposed (join dependency).\n",
    "\n",
    "Database normalization is a key concept in organizing data efficiently within a database. By reducing redundancy, ensuring data consistency, and breaking data into well-structured tables, normalization enhances the accuracy, scalability, and maintainability of a database. It simplifies data updates, improves integrity, and supports flexible querying, making it an essential practice for designing reliable and efficient database systems."
   ]
  },
  {
   "cell_type": "code",
   "execution_count": null,
   "id": "4ab52fe7-9f36-45e3-a93a-2aff65b5c05f",
   "metadata": {},
   "outputs": [],
   "source": []
  }
 ],
 "metadata": {
  "kernelspec": {
   "display_name": "Python 3 (ipykernel)",
   "language": "python",
   "name": "python3"
  },
  "language_info": {
   "codemirror_mode": {
    "name": "ipython",
    "version": 3
   },
   "file_extension": ".py",
   "mimetype": "text/x-python",
   "name": "python",
   "nbconvert_exporter": "python",
   "pygments_lexer": "ipython3",
   "version": "3.13.0"
  }
 },
 "nbformat": 4,
 "nbformat_minor": 5
}
