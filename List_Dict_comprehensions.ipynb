{
 "cells": [
  {
   "cell_type": "markdown",
   "id": "13993798-eb28-46ca-8c05-0684a133936c",
   "metadata": {},
   "source": [
    "### **List Comprehension Questions**\n",
    "\n",
    "1. Write a Python program to create a new list containing the squares of all even numbers from the given list of integers, but only if the square is greater than 50.\n",
    "    \n",
    "    **Given List:** `lst = [4, 5, 7, 8, 10, 12]`\n",
    "    \n",
    "    "
   ]
  },
  {
   "cell_type": "code",
   "execution_count": 2,
   "id": "8001cecd-6670-45d0-9e53-78a0b468498a",
   "metadata": {},
   "outputs": [
    {
     "name": "stdout",
     "output_type": "stream",
     "text": [
      "New List: [64, 100, 144]\n"
     ]
    }
   ],
   "source": [
    "lst = [4, 5, 7, 8, 10, 12]\n",
    "result = [x**2 for x in lst if x**2 > 50]\n",
    "print(\"New List:\", result)"
   ]
  },
  {
   "cell_type": "markdown",
   "id": "fcfd078c-bf10-461e-a9a4-38bd31a5dff1",
   "metadata": {},
   "source": [
    "2. Write a Python program using list comprehension to filter out all words in a given list that are shorter than 5 characters and contain the letter 'a'.\n",
    "    \n",
    "    **Given List:** `words = ['apple', 'cat', 'banana', 'cherry', 'grape', 'kiwi']`\n",
    "    \n"
   ]
  },
  {
   "cell_type": "code",
   "execution_count": 2,
   "id": "48868d41-e5d9-4255-b308-c58368a27d7f",
   "metadata": {},
   "outputs": [
    {
     "name": "stdout",
     "output_type": "stream",
     "text": [
      "['apple', 'banana', 'grape']\n"
     ]
    }
   ],
   "source": [
    "words = ['apple', 'cat', 'banana', 'cherry', 'grape', 'kiwi']\n",
    "new_list = [x for x in words if len(x)>=5 and 'a' in x]\n",
    "print(new_list)"
   ]
  },
  {
   "cell_type": "markdown",
   "id": "71bcfc3a-f511-4815-a53e-4094bc7faac7",
   "metadata": {},
   "source": [
    "3. Given a matrix represented as a list of lists, write a list comprehension to find the transpose of the matrix.\n",
    "    \n",
    "    **Given Matrix:** `matrix = [[1, 2, 3], [4, 5, 6], [7, 8, 9]]`\n",
    "    \n",
    "    **Hint:** Transpose swaps rows and columns.\n",
    "    "
   ]
  },
  {
   "cell_type": "code",
   "execution_count": 3,
   "id": "53f11fdb-ff77-40b0-8f66-fbca3b4f7a64",
   "metadata": {},
   "outputs": [
    {
     "name": "stdout",
     "output_type": "stream",
     "text": [
      "[[1, 4, 7], [2, 5, 8], [3, 6, 9]]\n"
     ]
    }
   ],
   "source": [
    "matrix = [[1, 2, 3], [4, 5, 6], [7, 8, 9]]\n",
    "transpose = [[row[i] for row in matrix] for i in range(len(matrix[0]))]\n",
    "print(transpose)"
   ]
  },
  {
   "cell_type": "markdown",
   "id": "9ad586fa-12f4-4227-9f44-29dbfcba0691",
   "metadata": {},
   "source": [
    "### **Dictionary Comprehension Questions**\n",
    "\n",
    "1. Write a dictionary comprehension to create a dictionary where keys are numbers from 1 to 10, and the values are `'even'` or `'odd'` based on whether the key is even or odd.\n",
    "\n"
   ]
  },
  {
   "cell_type": "code",
   "execution_count": 4,
   "id": "f3643cbe-b7a5-460d-9dae-369ef112c275",
   "metadata": {},
   "outputs": [
    {
     "name": "stdout",
     "output_type": "stream",
     "text": [
      "{1: 'odd', 2: 'even', 3: 'odd', 4: 'even', 5: 'odd', 6: 'even', 7: 'odd', 8: 'even', 9: 'odd', 10: 'even'}\n"
     ]
    }
   ],
   "source": [
    "dict_new = { x: ('even' if x%2 == 0 else 'odd') for x in range(1,11)}\n",
    "print(dict_new)"
   ]
  },
  {
   "cell_type": "markdown",
   "id": "0acfcac2-050f-43d4-b31c-ae19cbbab504",
   "metadata": {},
   "source": [
    "2. Create a dictionary from a given string where the keys are the unique characters in the string, and the values are their frequencies.\n",
    "    \n",
    "    **Given String:** `\"dictionarycomprehension\"`\n"
   ]
  },
  {
   "cell_type": "code",
   "execution_count": 5,
   "id": "009dcf17-1f44-479e-abc9-230630721ee2",
   "metadata": {},
   "outputs": [
    {
     "name": "stdout",
     "output_type": "stream",
     "text": [
      "{'p': 1, 'o': 3, 'e': 2, 'y': 1, 's': 1, 'i': 3, 'r': 2, 'a': 1, 't': 1, 'd': 1, 'c': 2, 'h': 1, 'm': 1, 'n': 3}\n"
     ]
    }
   ],
   "source": [
    "string = \"dictionarycomprehension\"\n",
    "dict_new = {x: string.count(x) for x in set(string)}\n",
    "print(dict_new)"
   ]
  },
  {
   "cell_type": "markdown",
   "id": "18ba539a-43c2-4bcb-97a1-825f41d32936",
   "metadata": {},
   "source": [
    "3. Create a nested dictionary where keys are numbers from 1 to 5, and each value is another dictionary containing the square and cube of the key.\n",
    "    \n",
    "    **Example Output:** `{1: {'square': 1, 'cube': 1}, 2: {'square': 4, 'cube': 8}, ...}`\n",
    "    \n"
   ]
  },
  {
   "cell_type": "code",
   "execution_count": 6,
   "id": "fbdd394d-c8ca-4a95-925d-8e9ec52b6305",
   "metadata": {},
   "outputs": [
    {
     "name": "stdout",
     "output_type": "stream",
     "text": [
      "{1: {'square': 1, 'cube': 1}, 2: {'square': 4, 'cube': 8}, 3: {'square': 9, 'cube': 27}, 4: {'square': 16, 'cube': 64}, 5: {'square': 25, 'cube': 125}}\n"
     ]
    }
   ],
   "source": [
    "nested_dict = {x : {'square' : x**2, 'cube' : x**3} for x in range(1,6)}\n",
    "print(nested_dict)"
   ]
  },
  {
   "cell_type": "markdown",
   "id": "8ddb964e-2fe2-4b52-a77b-16fe008bd960",
   "metadata": {},
   "source": [
    "### MORE QUESTIONS\n",
    "\n",
    "1. Given a list of numbers, create a new list containing only the prime numbers.\n",
    "    \n",
    "    **Given List:** `lst = [10, 11, 12, 13, 14, 15, 16, 17]`\n"
   ]
  },
  {
   "cell_type": "code",
   "execution_count": 7,
   "id": "fcb1f4c2-4ac6-468c-ba77-7d6054d5d0ac",
   "metadata": {},
   "outputs": [
    {
     "name": "stdout",
     "output_type": "stream",
     "text": [
      "[11, 13, 17]\n"
     ]
    }
   ],
   "source": [
    "lst = [10, 11, 12, 13, 14, 15, 16, 17]\n",
    "prime_lst = [ x for x in lst if x>1 and all(x % i != 0 for i in range(2,x))]\n",
    "print(prime_lst)"
   ]
  },
  {
   "cell_type": "markdown",
   "id": "544efb70-df7b-4012-86ce-c4a0f532e0f3",
   "metadata": {},
   "source": [
    "2. Create a dictionary where the keys are integers between 1 and 10, and the values are lists of their divisors.\n",
    "    \n",
    "    **Example Output:** `{1: [1], 2: [1, 2], 3: [1, 3], ...}`"
   ]
  },
  {
   "cell_type": "code",
   "execution_count": 8,
   "id": "e76ac16f-f69c-4722-bbc6-ce9870af1500",
   "metadata": {},
   "outputs": [
    {
     "name": "stdout",
     "output_type": "stream",
     "text": [
      "{1: [1], 2: [1, 2], 3: [1, 3], 4: [1, 2, 4], 5: [1, 5], 6: [1, 2, 3, 6], 7: [1, 7], 8: [1, 2, 4, 8], 9: [1, 3, 9], 10: [1, 2, 5, 10]}\n"
     ]
    }
   ],
   "source": [
    "new_dict = {x: [i for i in range(1,x+1) if x % i ==0] for x in range(1,11)}\n",
    "print(new_dict)"
   ]
  },
  {
   "cell_type": "code",
   "execution_count": null,
   "id": "2bf2f87e-0de9-4e54-92a8-c10c603aacb0",
   "metadata": {},
   "outputs": [],
   "source": []
  }
 ],
 "metadata": {
  "kernelspec": {
   "display_name": "Python 3 (ipykernel)",
   "language": "python",
   "name": "python3"
  },
  "language_info": {
   "codemirror_mode": {
    "name": "ipython",
    "version": 3
   },
   "file_extension": ".py",
   "mimetype": "text/x-python",
   "name": "python",
   "nbconvert_exporter": "python",
   "pygments_lexer": "ipython3",
   "version": "3.13.0"
  }
 },
 "nbformat": 4,
 "nbformat_minor": 5
}
