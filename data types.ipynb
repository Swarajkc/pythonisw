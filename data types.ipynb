{
 "cells": [
  {
   "cell_type": "markdown",
   "id": "8123e103-e84b-432e-bbe4-30ad4c7fcec0",
   "metadata": {},
   "source": [
    "- Write a Python program that takes a list of integers and returns the sum of elements at odd indices (i.e., elements at positions 1, 3, 5, etc.).\n",
    "\n",
    "**Given List:**\n",
    "\n",
    "```python\n",
    "lst = [10, 20, 30, 40, 50, 60]\n",
    "\n",
    "```\n"
   ]
  },
  {
   "cell_type": "code",
   "execution_count": 1,
   "id": "47b4ed98-d6ad-4058-a3d6-a59deb5b02af",
   "metadata": {},
   "outputs": [
    {
     "name": "stdout",
     "output_type": "stream",
     "text": [
      "120\n"
     ]
    }
   ],
   "source": [
    "lst = [10,20,30,40,50,60]\n",
    "sum_odd = 0\n",
    "for i in range(len(lst)):\n",
    "    if i % 2 != 0:\n",
    "        sum_odd += lst[i] \n",
    "print(sum_odd)"
   ]
  },
  {
   "cell_type": "markdown",
   "id": "19c784a1-eb4d-4d80-9869-3650ae566e0b",
   "metadata": {},
   "source": [
    "\n",
    "---"
   ]
  },
  {
   "cell_type": "markdown",
   "id": "2d719882-3b73-4fdd-88d8-d7c4aceea279",
   "metadata": {},
   "source": [
    "- Given a nested list (a list containing other lists), write a program to flatten the list into a single list containing all the elements from the nested lists.\n",
    "\n",
    "**Given Nested List:**\n",
    "\n",
    "```python\n",
    "nested_lst = [1, [2, 3], [4, [5, 6]], 7]\n",
    "\n",
    "```\n"
   ]
  },
  {
   "cell_type": "code",
   "execution_count": 2,
   "id": "9fb1f948-3940-4bad-9ec5-317a16fc4a09",
   "metadata": {},
   "outputs": [
    {
     "name": "stdout",
     "output_type": "stream",
     "text": [
      "Flattened List: [1, 2, 3, 4, 5, 6, 7]\n"
     ]
    }
   ],
   "source": [
    "def flatten_list(nested_list):\n",
    "    flat_list = []\n",
    "    for item in nested_list:\n",
    "        if isinstance(item, list):\n",
    "            flat_list.extend(flatten_list(item))\n",
    "        else:\n",
    "            flat_list.append(item) \n",
    "    return flat_list\n",
    "\n",
    "nested_lst = [1, [2, 3], [4, [5, 6]], 7, dict(a=2)]\n",
    "\n",
    "result = flatten_list(nested_lst)\n",
    "\n",
    "print(\"Flattened List:\", result)\n"
   ]
  },
  {
   "cell_type": "markdown",
   "id": "20b6167d-d863-47bb-b7c2-aec97f57bec5",
   "metadata": {},
   "source": [
    "---"
   ]
  },
  {
   "cell_type": "markdown",
   "id": "9121d365-c398-429d-80c4-0bb305491083",
   "metadata": {},
   "source": [
    "### \n",
    "\n",
    "- Given a list of lists, write a program that finds and returns the longest sublist.\n",
    "\n",
    "**Given List of Lists:**\n",
    "\n",
    "```python\n",
    "lst_of_lists = [[1, 2], [3, 4, 5], [6]]\n",
    "\n",
    "```\n"
   ]
  },
  {
   "cell_type": "code",
   "execution_count": 1,
   "id": "b3339975-baa5-4e78-b08f-90bc6511b85c",
   "metadata": {},
   "outputs": [
    {
     "name": "stdout",
     "output_type": "stream",
     "text": [
      "The longest chain is 3478458458774538787\n"
     ]
    }
   ],
   "source": [
    "lst = [[1, 2], [3, 4, 5], [6], (2,3,4,5,65), \"3478458458774538787\"]\n",
    "longest = max(lst, key=len)\n",
    "print(f'The longest chain is {longest}')"
   ]
  },
  {
   "cell_type": "code",
   "execution_count": 8,
   "id": "eac9c141-590c-49d4-9b49-7595a0a8deea",
   "metadata": {},
   "outputs": [
    {
     "name": "stdout",
     "output_type": "stream",
     "text": [
      "the longest list is: [3, 4, 5]\n"
     ]
    }
   ],
   "source": [
    "lst_of_lists = [[1, 2], [3, 4, 5], [6]]\n",
    "longest_list = []\n",
    "max_len = 0\n",
    "for item in lst_of_lists:\n",
    "    if len(item)>max_len:\n",
    "        max_len = len(item)\n",
    "        longest_list = item\n",
    "\n",
    "print(\"the longest list is:\", longest_list)"
   ]
  },
  {
   "cell_type": "markdown",
   "id": "12baf165-300f-4230-93c7-21a7b48e3d4a",
   "metadata": {},
   "source": [
    "---"
   ]
  },
  {
   "cell_type": "markdown",
   "id": "8202e617-0974-40f1-9244-6ace29ee5abc",
   "metadata": {},
   "source": [
    "- Write a Python program that takes a dictionary and sorts it by its values in descending order. Return the sorted dictionary.\n",
    "\n",
    "**Given Dictionary:**\n",
    "\n",
    "```python\n",
    "d = {'a': 3, 'b': 1, 'c': 2}\n",
    "\n",
    "```\n"
   ]
  },
  {
   "cell_type": "code",
   "execution_count": 4,
   "id": "a4ebaafc-e5ca-43db-b4f8-97c5370d0f03",
   "metadata": {},
   "outputs": [
    {
     "name": "stdout",
     "output_type": "stream",
     "text": [
      "{'a': 3, 'c': 2, 'b': 1}\n"
     ]
    }
   ],
   "source": [
    "d = {'a': 3, 'b': 1, 'c': 2}\n",
    "sort = dict(sorted(d.items(),key = lambda item:item[1], reverse = True))\n",
    "print(sort)"
   ]
  },
  {
   "cell_type": "markdown",
   "id": "8293be1b-b266-4251-af61-8edb9c6a0959",
   "metadata": {},
   "source": [
    "---\n"
   ]
  },
  {
   "cell_type": "markdown",
   "id": "eeac4ebd-d647-4d2b-a367-d276b2c9da14",
   "metadata": {},
   "source": [
    "### \n",
    "\n",
    "- Given two dictionaries, write a program that finds and prints all the common keys between the two.\n",
    "\n",
    "**Given Dictionaries:**\n",
    "\n",
    "```python\n",
    "d1 = {'a': 1, 'b': 2, 'c': 3}\n",
    "d2 = {'b': 4, 'c': 5, 'd': 6}\n",
    "\n",
    "```\n"
   ]
  },
  {
   "cell_type": "code",
   "execution_count": 4,
   "id": "852524d4-58bc-408d-9d43-7382b76639f6",
   "metadata": {},
   "outputs": [
    {
     "name": "stdout",
     "output_type": "stream",
     "text": [
      "<class 'dict_keys'>\n",
      "the common keys are {'b', 'c'}\n"
     ]
    }
   ],
   "source": [
    "d1 = {'a': 1, 'b': 2, 'c': 3}\n",
    "d2 = {'b': 4, 'c': 5, 'd': 6}\n",
    "commonkeys = d1.keys() & d2.keys()\n",
    "print(type(d1.keys()))\n",
    "print(\"the common keys are\", commonkeys)"
   ]
  },
  {
   "cell_type": "markdown",
   "id": "1a942e7b-4f60-43fd-a148-09f26dc6479a",
   "metadata": {},
   "source": [
    "---\n",
    "\n"
   ]
  },
  {
   "cell_type": "markdown",
   "id": "6bed4d87-9dbd-4057-989c-487547b41439",
   "metadata": {},
   "source": [
    "### \n",
    "\n",
    "- Write a Python program that converts a list of tuples into a dictionary.\n",
    "\n",
    "**Given List of Tuples:**\n",
    "\n",
    "```python\n",
    "lst_of_tuples = [('a', 1), ('b', 2), ('c', 3)]\n",
    "\n",
    "```\n",
    "\n"
   ]
  },
  {
   "cell_type": "code",
   "execution_count": 6,
   "id": "d80fc578-ffbe-4901-b8cd-8dc0af86654d",
   "metadata": {},
   "outputs": [
    {
     "name": "stdout",
     "output_type": "stream",
     "text": [
      "{'a': 1, 'b': 2, 'c': 3}\n"
     ]
    }
   ],
   "source": [
    "tuples = [('a', 1), ('b', 2), ('c', 3)]\n",
    "d = dict(tuples)\n",
    "print(d)"
   ]
  },
  {
   "cell_type": "markdown",
   "id": "7596b868-6cb7-4dd8-a61e-e3b76428b517",
   "metadata": {},
   "source": [
    "---\n",
    "\n"
   ]
  },
  {
   "cell_type": "markdown",
   "id": "3a365165-3ec9-4500-94ff-c2ba73b50280",
   "metadata": {},
   "source": [
    "### \n",
    "\n",
    "- Write a Python program that finds the symmetric difference of two sets, i.e., the elements that are in either of the sets but not in both.\n",
    "\n",
    "**Given Sets:**\n",
    "\n",
    "```python\n",
    "set1 = {1, 2, 3, 4}\n",
    "set2 = {3, 4, 5, 6}\n",
    "\n",
    "```\n",
    "\n"
   ]
  },
  {
   "cell_type": "code",
   "execution_count": 7,
   "id": "16037b4b-f285-45bc-be9e-b6df664386b0",
   "metadata": {},
   "outputs": [
    {
     "name": "stdout",
     "output_type": "stream",
     "text": [
      "{1, 2, 5, 6}\n"
     ]
    }
   ],
   "source": [
    "set1 = {1, 2, 3, 4}\n",
    "set2 = {3, 4, 5, 6}\n",
    "symmetric_diff = set1^set2\n",
    "print(symmetric_diff)"
   ]
  },
  {
   "cell_type": "markdown",
   "id": "2846f02b-9280-4dc5-a802-e3ac3a9d871b",
   "metadata": {},
   "source": [
    "---\n",
    "\n"
   ]
  },
  {
   "cell_type": "markdown",
   "id": "f4943fa3-e245-4a6a-9f5a-94e60eb3c00d",
   "metadata": {},
   "source": [
    "### \n",
    "\n",
    "- Write a Python program that checks if one set is a subset of another set. If it is, return `True`; otherwise, return `False`.\n",
    "\n",
    "**Given Sets:**\n",
    "\n",
    "```python\n",
    "set1 = {1, 2, 3}\n",
    "set2 = {1, 2, 3, 4, 5}\n",
    "\n",
    "```\n",
    "\n"
   ]
  },
  {
   "cell_type": "code",
   "execution_count": 8,
   "id": "8261a879-919a-4709-8c35-3d154c5d5da4",
   "metadata": {},
   "outputs": [
    {
     "name": "stdout",
     "output_type": "stream",
     "text": [
      "True\n"
     ]
    }
   ],
   "source": [
    "set1 = {1, 2, 3}\n",
    "set2 = {1, 2, 3, 4, 5}\n",
    "\n",
    "if set1.issubset(set2):\n",
    "    print(True)\n",
    "elif set2.issubset(set1):\n",
    "    print(True)\n",
    "else:\n",
    "    print(False)"
   ]
  },
  {
   "cell_type": "markdown",
   "id": "ebedfca2-db6e-42a1-a644-5d3258a3dce4",
   "metadata": {},
   "source": [
    "---\n",
    "\n"
   ]
  },
  {
   "cell_type": "markdown",
   "id": "c363b7ed-2560-438a-a427-37ef8e3f1ee8",
   "metadata": {},
   "source": [
    "### \n",
    "\n",
    "- Write a Python program that finds the common elements between two tuples and returns a tuple containing those common elements.\n",
    "\n",
    "**Given Tuples:**\n",
    "\n",
    "```python\n",
    "tuple1 = (1, 2, 3, 4)\n",
    "tuple2 = (3, 4, 5, 6)\n",
    "\n",
    "```\n",
    "\n"
   ]
  },
  {
   "cell_type": "code",
   "execution_count": 11,
   "id": "ab5918e5-721e-4c25-83d4-3226a44ec975",
   "metadata": {},
   "outputs": [
    {
     "name": "stdout",
     "output_type": "stream",
     "text": [
      "(3, 4)\n"
     ]
    }
   ],
   "source": [
    "tuple1 = (1, 2, 3, 4)\n",
    "tuple2 = (3, 4, 5, 6)\n",
    "common = tuple(set(tuple1).intersection(set(tuple2)))\n",
    "print(common)"
   ]
  },
  {
   "cell_type": "markdown",
   "id": "205d9edc-1356-434a-be5a-32d77d21f769",
   "metadata": {},
   "source": [
    "### \n",
    "\n",
    "- Write a Python program that converts a string representing a date (e.g., `\"2025-01-06\"`) to a `datetime` object, adds 7 days to it, and prints the new date.\n",
    "\n",
    "**Given String:**\n",
    "\n",
    "```python\n",
    "date_str = \"2025-01-06\"\n",
    "\n",
    "```\n",
    "\n"
   ]
  },
  {
   "cell_type": "code",
   "execution_count": 10,
   "id": "bb634dfe-7f98-48ff-a615-483378e5647e",
   "metadata": {},
   "outputs": [
    {
     "name": "stdout",
     "output_type": "stream",
     "text": [
      "<class 'str'>\n",
      "2025-01-06 00:00:00\n",
      "<class 'datetime.datetime'>\n",
      "New Date: 2025-01-13 00:00:00\n"
     ]
    }
   ],
   "source": [
    "from datetime import datetime, timedelta\n",
    "date_str = \"2025-01-06\"\n",
    "print(type(date_str))\n",
    "date = datetime.strptime(date_str, \"%Y-%m-%d\")\n",
    "print(date)\n",
    "print(type(date))\n",
    "new_date = date + timedelta(days=7)\n",
    "print(\"New Date:\", new_date)"
   ]
  },
  {
   "cell_type": "markdown",
   "id": "3bac97b5-5281-49c9-9f05-99eeaa7a3b73",
   "metadata": {},
   "source": [
    "---"
   ]
  },
  {
   "cell_type": "markdown",
   "id": "d941313d-b28b-4a5e-99c1-aedfa112c1e8",
   "metadata": {},
   "source": []
  }
 ],
 "metadata": {
  "kernelspec": {
   "display_name": "Python 3 (ipykernel)",
   "language": "python",
   "name": "python3"
  },
  "language_info": {
   "codemirror_mode": {
    "name": "ipython",
    "version": 3
   },
   "file_extension": ".py",
   "mimetype": "text/x-python",
   "name": "python",
   "nbconvert_exporter": "python",
   "pygments_lexer": "ipython3",
   "version": "3.13.3"
  }
 },
 "nbformat": 4,
 "nbformat_minor": 5
}
