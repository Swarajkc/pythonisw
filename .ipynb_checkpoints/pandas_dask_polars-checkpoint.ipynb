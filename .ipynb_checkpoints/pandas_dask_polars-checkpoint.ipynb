{
 "cells": [
  {
   "cell_type": "markdown",
   "id": "ec24c7e5-11dc-4391-9a2d-3456bc0e58e0",
   "metadata": {},
   "source": [
    "# Pandas, Dask and Polars\n",
    "\n",
    "* Pandas: <br>\n",
    "General Purpose data analysis, used for small to medium datasets\n",
    "\n",
    "* Polars <br>\n",
    "Fast, multi-threaded Dataframe Library, used for ultra-fast processing, large files\n",
    "\n",
    "\n",
    "* Dask <br>\n",
    "Parallel/ Distributed computation, used for large datasets, out of core processing\n",
    "\n",
    "\n",
    "\n",
    "### Installation\n",
    "\n",
    "**pip install pandas <br>**\n",
    "**pip install polars <br>**\n",
    "**pip install dask[complete]**\n",
    "\n",
    "### Basic Syntax Comparison\n",
    "\n",
    "**csv example:**\n",
    "\n",
    "name,age,salary <br>\n",
    "Alice,30,70000<br>\n",
    "Bob,25,50000<br>\n",
    "Carol, 27,60000<br>"
   ]
  },
  {
   "cell_type": "code",
   "execution_count": 1,
   "id": "ca1c7f55-86b6-4fff-af83-0b21e3d3329e",
   "metadata": {},
   "outputs": [
    {
     "name": "stdout",
     "output_type": "stream",
     "text": [
      "60000.0\n"
     ]
    }
   ],
   "source": [
    "import pandas as pd\n",
    "\n",
    "pd_df = pd.read_csv('sample_data.csv')\n",
    "\n",
    "print(pd_df['salary'].mean())"
   ]
  },
  {
   "cell_type": "code",
   "execution_count": 2,
   "id": "c512312d-5126-4847-af71-fce99dbda2b4",
   "metadata": {},
   "outputs": [
    {
     "name": "stdout",
     "output_type": "stream",
     "text": [
      "60000.0\n"
     ]
    }
   ],
   "source": [
    "import dask.dataframe as dd\n",
    "\n",
    "dd_df = dd.read_csv('sample_data.csv')\n",
    "print(dd_df['salary'].mean().compute())\n",
    "\n",
    "# compute is needed to trigger execution"
   ]
  },
  {
   "cell_type": "code",
   "execution_count": 3,
   "id": "6ee76314-9640-4565-a9e6-274983d4b05a",
   "metadata": {},
   "outputs": [
    {
     "name": "stdout",
     "output_type": "stream",
     "text": [
      "shape: (1, 1)\n",
      "┌─────────┐\n",
      "│ salary  │\n",
      "│ ---     │\n",
      "│ f64     │\n",
      "╞═════════╡\n",
      "│ 60000.0 │\n",
      "└─────────┘\n"
     ]
    }
   ],
   "source": [
    "import polars as pl\n",
    "\n",
    "pl_df = pl.read_csv('sample_data.csv')\n",
    "print(pl_df.select(pl.col('salary').mean()))"
   ]
  },
  {
   "cell_type": "markdown",
   "id": "53467f45-c04f-4449-b0a9-a93453f32e5a",
   "metadata": {},
   "source": [
    "## Major Differences\n",
    "\n",
    "| Feature            | **Pandas**            | **Polars**                             | **Dask**                              |\n",
    "| ------------------ | --------------------- | -------------------------------------- | ------------------------------------- |\n",
    "| Execution model    | Eager                 | Lazy + Eager                           | Lazy                                  |\n",
    "| Speed              | Moderate              | Very fast (multi-threaded, Rust-based) | Scales well across cores/machines     |\n",
    "| Memory usage       | High (in-memory only) | Low (zero-copy, efficient memory use)  | Out-of-core (disk + memory)           |\n",
    "| Parallelism        | No                    | Yes (built-in)                         | Yes (distributed optional)            |\n",
    "| Syntax familiarity | Very user-friendly    | Slightly different                     | Mostly Pandas-like                    |\n",
    "| Use case           | Up to \\~1M–10M rows   | 10M+ rows, speed-critical apps         | 1GB+ files, multi-GB to TB-scale data |\n"
   ]
  },
  {
   "cell_type": "markdown",
   "id": "15e03d85-73dc-4ccf-8266-457bb78fdf08",
   "metadata": {},
   "source": [
    "**Lazy**:- computations not executed until needed<br>\n",
    "**eager**:- computation executed immediately"
   ]
  },
  {
   "cell_type": "code",
   "execution_count": 4,
   "id": "96bb2686-db3a-4fcc-9edc-317b5a6fe72e",
   "metadata": {},
   "outputs": [
    {
     "name": "stdout",
     "output_type": "stream",
     "text": [
      "65000.0\n"
     ]
    }
   ],
   "source": [
    "import pandas as pd\n",
    "\n",
    "pd_df = pd.read_csv('sample_data.csv')     # File is read immediately\n",
    "filtered = pd_df[pd_df['age'] > 25]    # Filtering happens now\n",
    "mean_salary = filtered['salary'].mean()  # Computation happens now\n",
    "print(mean_salary)"
   ]
  },
  {
   "cell_type": "code",
   "execution_count": 5,
   "id": "f6c54d6d-7869-4134-af5f-4bce1108fc08",
   "metadata": {},
   "outputs": [
    {
     "name": "stdout",
     "output_type": "stream",
     "text": [
      "shape: (1, 1)\n",
      "┌─────────┐\n",
      "│ salary  │\n",
      "│ ---     │\n",
      "│ f64     │\n",
      "╞═════════╡\n",
      "│ 65000.0 │\n",
      "└─────────┘\n"
     ]
    }
   ],
   "source": [
    "#lazy\n",
    "import polars as pl\n",
    "\n",
    "pl_df = pl.scan_csv('sample_data.csv')           # Does NOT read file yet\n",
    "result = pl_df.filter(pl.col('age') > 25) # Builds query plan\n",
    "result = result.select(pl.col('salary').mean())  # Still no execution\n",
    "final = result.collect()               # Executes everything here\n",
    "# .collect() must be called for polars and .compute() must be called for dask\n",
    "print(final)"
   ]
  },
  {
   "cell_type": "markdown",
   "id": "8efbde7f-be41-4abd-ac3d-a4f6c9c30268",
   "metadata": {},
   "source": [
    "## Filtering Rows"
   ]
  },
  {
   "cell_type": "code",
   "execution_count": 6,
   "id": "b99e04cf-ac1f-4a5e-b758-1e928c1909d6",
   "metadata": {},
   "outputs": [
    {
     "name": "stdout",
     "output_type": "stream",
     "text": [
      "    name  age  salary\n",
      "0  Alice   30   70000\n",
      "2  Carol   27   60000\n",
      "naive plan: (run LazyFrame.explain(optimized=True) to see the optimized plan)\n",
      "\n",
      "FILTER [(col(\"age\")) > (25)]\n",
      "FROM\n",
      "  Csv SCAN [sample_data.csv] [id: 3829098743232]\n",
      "  PROJECT */3 COLUMNS\n",
      "Dask DataFrame Structure:\n",
      "                 name    age salary\n",
      "npartitions=1                      \n",
      "               string  int64  int64\n",
      "                  ...    ...    ...\n",
      "Dask Name: getitem, 5 expressions\n",
      "Expr=Filter(frame=ArrowStringConversion(frame=FromMapProjectable(99f3ce3)), predicate=ArrowStringConversion(frame=FromMapProjectable(99f3ce3))['age'] > 25)\n",
      "    name  age  salary\n",
      "0  Alice   30   70000\n",
      "2  Carol   27   60000\n"
     ]
    }
   ],
   "source": [
    "#Pandas\n",
    "n = pd_df[pd_df['age'] > 25]\n",
    "print(n)\n",
    "\n",
    "#Polars\n",
    "p = pl_df.filter(pl.col('age') > 25)\n",
    "print(p)\n",
    "\n",
    "#Dask\n",
    "d = dd_df[dd_df['age'] > 25]\n",
    "print(d)\n",
    "\n",
    "# this dask creates a lazy plan for filtering to execute we must use compute\n",
    "result = dd_df[dd_df['age'] > 25].compute()\n",
    "print(result)"
   ]
  },
  {
   "cell_type": "markdown",
   "id": "362ce3c8-1eef-47d2-b946-38cd372ebfb9",
   "metadata": {},
   "source": [
    "## Group By and Aggregation"
   ]
  },
  {
   "cell_type": "code",
   "execution_count": 7,
   "id": "1a7b01c9-83d0-4d3d-b952-e8bfac3f29e2",
   "metadata": {},
   "outputs": [
    {
     "name": "stdout",
     "output_type": "stream",
     "text": [
      "name\n",
      "Alice    70000.0\n",
      "Bob      50000.0\n",
      "Carol    60000.0\n",
      "Name: salary, dtype: float64\n",
      "shape: (3, 2)\n",
      "┌───────┬─────────┐\n",
      "│ name  ┆ salary  │\n",
      "│ ---   ┆ ---     │\n",
      "│ str   ┆ f64     │\n",
      "╞═══════╪═════════╡\n",
      "│ Alice ┆ 70000.0 │\n",
      "│ Carol ┆ 60000.0 │\n",
      "│ Bob   ┆ 50000.0 │\n",
      "└───────┴─────────┘\n",
      "name\n",
      "Alice    70000.0\n",
      "Bob      50000.0\n",
      "Carol    60000.0\n",
      "Name: salary, dtype: float64\n"
     ]
    }
   ],
   "source": [
    "# Pandas\n",
    "n = pd_df.groupby('name')['salary'].mean()\n",
    "print(n)\n",
    "\n",
    "# Polars\n",
    "pl_df = pl.read_csv('sample_data.csv')  # eager mode\n",
    "p = pl_df.group_by('name').agg(pl.col('salary').mean())\n",
    "print(p)\n",
    "\n",
    "# Dask\n",
    "d= dd_df.groupby('name')['salary'].mean().compute()\n",
    "print(d)"
   ]
  },
  {
   "cell_type": "markdown",
   "id": "a810f68e-8348-483f-b8a5-852b068b68b3",
   "metadata": {},
   "source": [
    "## When to use what\n",
    "\n",
    "| Use Case                                  | Recommended Library    |\n",
    "| ----------------------------------------- | ---------------------- |\n",
    "| Simple data analysis (<500MB)             | Pandas                 |\n",
    "| Performance-critical, multi-core systems  | Polars                 |\n",
    "| Large datasets that don’t fit in memory   | Dask                   |\n",
    "| Real-time streaming-like batch processing | Dask or Polars Lazy    |\n",
    "| Familiar syntax and learning path         | Pandas → Dask → Polars |\n"
   ]
  },
  {
   "cell_type": "code",
   "execution_count": null,
   "id": "af9eacfb-c212-43ac-a3ec-ee9ed85682ab",
   "metadata": {},
   "outputs": [],
   "source": []
  }
 ],
 "metadata": {
  "kernelspec": {
   "display_name": "Python 3 (ipykernel)",
   "language": "python",
   "name": "python3"
  },
  "language_info": {
   "codemirror_mode": {
    "name": "ipython",
    "version": 3
   },
   "file_extension": ".py",
   "mimetype": "text/x-python",
   "name": "python",
   "nbconvert_exporter": "python",
   "pygments_lexer": "ipython3",
   "version": "3.13.3"
  }
 },
 "nbformat": 4,
 "nbformat_minor": 5
}
