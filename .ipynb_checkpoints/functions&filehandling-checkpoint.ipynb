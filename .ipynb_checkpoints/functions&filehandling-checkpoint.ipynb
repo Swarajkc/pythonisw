{
 "cells": [
  {
   "cell_type": "markdown",
   "id": "3019aa68-8235-46d5-bbea-451f08a9d606",
   "metadata": {},
   "source": [
    "### Write a Python function to find the maximum of three numbers."
   ]
  },
  {
   "cell_type": "code",
   "execution_count": 8,
   "id": "599c15de-3e45-44c1-b560-f1ffc301369a",
   "metadata": {},
   "outputs": [
    {
     "name": "stdout",
     "output_type": "stream",
     "text": [
      "the maximum number is 14\n"
     ]
    }
   ],
   "source": [
    "def maximum(a, b, c):##numeric data type\n",
    "    if a>b and a>c:\n",
    "        print(f\"the maximum number is {a}\")\n",
    "    elif b>a and b>c:\n",
    "        print(f\"the maximum number is {b}\")\n",
    "    else:\n",
    "        print(f\"the maximum number is {c}\")\n",
    "\n",
    "maximum(13,14,5)"
   ]
  },
  {
   "cell_type": "code",
   "execution_count": 12,
   "id": "33bdb421-52fb-4ff6-a7d3-13f613f64a90",
   "metadata": {},
   "outputs": [
    {
     "name": "stdout",
     "output_type": "stream",
     "text": [
      "the maximum number is 15\n"
     ]
    }
   ],
   "source": [
    "def maximum(a, b, c):\n",
    "    if a>b and a>c:\n",
    "        return a\n",
    "    elif b>a and b>c:\n",
    "        return b\n",
    "    else:\n",
    "        return c\n",
    "\n",
    "result = maximum(13,14,15)\n",
    "print(f'the maximum number is {result}')"
   ]
  },
  {
   "cell_type": "markdown",
   "id": "c430e88d-1183-41ca-a14c-2a6537e885e3",
   "metadata": {},
   "source": [
    "### Write a Python function to sum all the numbers in a list.\n",
    "#### Sample List : (8, 2, 3, 0, 7)\n",
    "#### Expected Output : 20 "
   ]
  },
  {
   "cell_type": "code",
   "execution_count": 21,
   "id": "72a965b4-aa78-46e7-9ce8-db7641e98aff",
   "metadata": {},
   "outputs": [
    {
     "data": {
      "text/plain": [
       "20"
      ]
     },
     "execution_count": 21,
     "metadata": {},
     "output_type": "execute_result"
    }
   ],
   "source": [
    "def sums(*numbers):## arbitrary positional arguments, it packs them into a tuple\n",
    "    summed = 0\n",
    "    for x in numbers:\n",
    "        summed += x\n",
    "    return summed\n",
    "\n",
    "sums(8,2,3,0,7)"
   ]
  },
  {
   "cell_type": "markdown",
   "id": "f1e70262-3686-4000-b0af-555b29f08348",
   "metadata": {},
   "source": [
    "### Write a Python function to multiply all the numbers in a list.\n",
    "#### Sample List : (8, 2, 3, -1, 7)\n",
    "#### Expected Output : -336 "
   ]
  },
  {
   "cell_type": "code",
   "execution_count": 22,
   "id": "56ce5c11-172c-4f67-bc5c-96fb2799031f",
   "metadata": {},
   "outputs": [
    {
     "data": {
      "text/plain": [
       "-336"
      ]
     },
     "execution_count": 22,
     "metadata": {},
     "output_type": "execute_result"
    }
   ],
   "source": [
    "def multiplied(*numbers):\n",
    "    output = 1 \n",
    "    for x in numbers:\n",
    "        output *= x\n",
    "    return output\n",
    "\n",
    "multiplied(8, 2, 3, -1, 7)"
   ]
  },
  {
   "cell_type": "markdown",
   "id": "4658b47f-ef47-4f7b-8558-0fcae57a257d",
   "metadata": {},
   "source": [
    "### Write a Python program to reverse a string.\n",
    "#### Sample String : \"1234abcd\"\n",
    "#### Expected Output : \"dcba4321\""
   ]
  },
  {
   "cell_type": "code",
   "execution_count": 125,
   "id": "12607edb-3d83-48b8-8553-a66a758c18b5",
   "metadata": {},
   "outputs": [
    {
     "data": {
      "text/plain": [
       "'dcba4321'"
      ]
     },
     "execution_count": 125,
     "metadata": {},
     "output_type": "execute_result"
    }
   ],
   "source": [
    "def reverse(string):\n",
    "    return string[::-1]\n",
    "reverse(\"1234abcd\")"
   ]
  },
  {
   "cell_type": "markdown",
   "id": "5cab19c2-6030-446e-bc13-ab5245c0a969",
   "metadata": {},
   "source": [
    "### Write a Python function to calculate the factorial of a number (a non-negative integer). The function accepts the number as an argument. "
   ]
  },
  {
   "cell_type": "code",
   "execution_count": 126,
   "id": "c39bd065-3854-454b-b2c2-f0f64d4ee448",
   "metadata": {},
   "outputs": [
    {
     "name": "stdout",
     "output_type": "stream",
     "text": [
      "the factorial is: 24\n"
     ]
    },
    {
     "data": {
      "text/plain": [
       "'\\nfact(4)\\nx= 4\\nx not equals to 1 so \\n4*fact(3)\\nfact(3)\\nx = 3\\n3*fact(2)\\nfact(2)\\n2*fact(1)\\nfact(1)\\n1\\nfact(1)=1,fact(2)=2, fact(3) = 3*2=6, fact(4) = 4*6 = 24\\n'"
      ]
     },
     "execution_count": 126,
     "metadata": {},
     "output_type": "execute_result"
    }
   ],
   "source": [
    "def fact(x):\n",
    "    if x == 1:\n",
    "        return 1\n",
    "    else:\n",
    "        return(x*fact(x-1))\n",
    "\n",
    "print(\"the factorial is:\", fact(4))\n",
    "\"\"\"\n",
    "fact(4)\n",
    "x= 4\n",
    "x not equals to 1 so \n",
    "4*fact(3)\n",
    "fact(3)\n",
    "x = 3\n",
    "3*fact(2)\n",
    "fact(2)\n",
    "2*fact(1)\n",
    "fact(1)\n",
    "1\n",
    "fact(1)=1,fact(2)=2, fact(3) = 3*2=6, fact(4) = 4*6 = 24\n",
    "\"\"\""
   ]
  },
  {
   "cell_type": "markdown",
   "id": "ecbe81a8-2b80-4045-b79f-768db8cf4f56",
   "metadata": {},
   "source": [
    "### Write a Python function to check whether a number is \"Perfect\" or not. "
   ]
  },
  {
   "cell_type": "code",
   "execution_count": 33,
   "id": "2898797e-18e3-4d3f-9046-d1088ec70385",
   "metadata": {},
   "outputs": [
    {
     "name": "stdout",
     "output_type": "stream",
     "text": [
      "False\n",
      "True\n"
     ]
    }
   ],
   "source": [
    "def perfect(n):\n",
    "    sums = 0\n",
    "    for x in range(1,n):\n",
    "        if n% x == 0:\n",
    "            sums += x\n",
    "    return sums == n\n",
    "print(perfect(9))\n",
    "print(perfect(6))"
   ]
  },
  {
   "cell_type": "markdown",
   "id": "380a86c2-5fb7-427c-b1ca-b91018c15417",
   "metadata": {},
   "source": [
    "## Write a Python program to read an entire text file."
   ]
  },
  {
   "cell_type": "code",
   "execution_count": 34,
   "id": "eacd0743-e074-4e89-857c-5c0d385dacd7",
   "metadata": {},
   "outputs": [
    {
     "name": "stdout",
     "output_type": "stream",
     "text": [
      "Write a Python function to check whether a number is \"Perfect\" or not. Write a Python function to check whether a number is \"Perfect\" or not. Write a Python function to check whether a number is \"Perfect\" or not. Write a Python function to check whether a number is \"Perfect\" or not. Write a Python function to check whether a number is \"Perfect\" or not. Write a Python function to check whether a number is \"Perfect\" or not. Write a Python function to check whether a number is \"Perfect\" or not. Write a Python function to check whether a number is \"Perfect\" or not. Write a Python function to check whether a number is \"Perfect\" or not. Write a Python function to check whether a number is \"Perfect\" or not. Write a Python function to check whether a number is \"Perfect\" or not. Write a Python function to check whether a number is \"Perfect\" or not. Write a Python function to check whether a number is \"Perfect\" or not. Write a Python function to check whether a number is \"Perfect\" or not. Write a Python function to check whether a number is \"Perfect\" or not. Write a Python function to check whether a number is \"Perfect\" or not. Write a Python function to check whether a number is \"Perfect\" or not. Write a Python function to check whether a number is \"Perfect\" or not. Write a Python function to check whether a number is \"Perfect\" or not. Write a Python function to check whether a number is \"Perfect\" or not. Write a Python function to check whether a number is \"Perfect\" or not. Write a Python function to check whether a number is \"Perfect\" or not. Write a Python function to check whether a number is \"Perfect\" or not. Write a Python function to check whether a number is \"Perfect\" or not. Write a Python function to check whether a number is \"Perfect\" or not. Write a Python function to check whether a number is \"Perfect\" or not. Write a Python function to check whether a number is \"Perfect\" or not. Write a Python function to check whether a number is \"Perfect\" or not. Write a Python function to check whether a number is \"Perfect\" or not. Write a Python function to check whether a number is \"Perfect\" or not. Write a Python function to check whether a number is \"Perfect\" or not. Write a Python function to check whether a number is \"Perfect\" or not. Write a Python function to check whether a number is \"Perfect\" or not. Write a Python function to check whether a number is \"Perfect\" or not. Write a Python function to check whether a number is \"Perfect\" or not. Write a Python function to check whether a number is \"Perfect\" or not. Write a Python function to check whether a number is \"Perfect\" or not. Write a Python function to check whether a number is \"Perfect\" or not. Write a Python function to check whether a number is \"Perfect\" or not. Write a Python function to check whether a number is \"Perfect\" or not. Write a Python function to check whether a number is \"Perfect\" or not. Write a Python function to check whether a number is \"Perfect\" or not. Write a Python function to check whether a number is \"Perfect\" or not. Write a Python function to check whether a number is \"Perfect\" or not. Write a Python function to check whether a number is \"Perfect\" or not. Write a Python function to check whether a number is \"Perfect\" or not. Write a Python function to check whether a number is \"Perfect\" or not. Write a Python function to check whether a number is \"Perfect\" or not. Write a Python function to check whether a number is \"Perfect\" or not. Write a Python function to check whether a number is \"Perfect\" or not. Write a Python function to check whether a number is \"Perfect\" or not. Write a Python function to check whether a number is \"Perfect\" or not. Write a Python function to check whether a number is \"Perfect\" or not. Write a Python function to check whether a number is \"Perfect\" or not. Write a Python function to check whether a number is \"Perfect\" or not. Write a Python function to check whether a number is \"Perfect\" or not. Write a Python function to check whether a number is \"Perfect\" or not. Write a Python function to check whether a number is \"Perfect\" or not. Write a Python function to check whether a number is \"Perfect\" or not. Write a Python function to check whether a number is \"Perfect\" or not. Write a Python function to check whether a number is \"Perfect\" or not. Write a Python function to check whether a number is \"Perfect\" or not. Write a Python function to check whether a number is \"Perfect\" or not. Write a Python function to check whether a number is \"Perfect\" or not. Write a Python function to check whether a number is \"Perfect\" or not. Write a Python function to check whether a number is \"Perfect\" or not. Write a Python function to check whether a number is \"Perfect\" or not. Write a Python function to check whether a number is \"Perfect\" or not. Write a Python function to check whether a number is \"Perfect\" or not. Write a Python function to check whether a number is \"Perfect\" or not. Write a Python function to check whether a number is \"Perfect\" or not. Write a Python function to check whether a number is \"Perfect\" or not. Write a Python function to check whether a number is \"Perfect\" or not. Write a Python function to check whether a number is \"Perfect\" or not. Write a Python function to check whether a number is \"Perfect\" or not. Write a Python function to check whether a number is \"Perfect\" or not. Write a Python function to check whether a number is \"Perfect\" or not. Write a Python function to check whether a number is \"Perfect\" or not. Write a Python function to check whether a number is \"Perfect\" or not. Write a Python function to check whether a number is \"Perfect\" or not. Write a Python function to check whether a number is \"Perfect\" or not. Write a Python function to check whether a number is \"Perfect\" or not. Write a Python function to check whether a number is \"Perfect\" or not. Write a Python function to check whether a number is \"Perfect\" or not. Write a Python function to check whether a number is \"Perfect\" or not. Write a Python function to check whether a number is \"Perfect\" or not. Write a Python function to check whether a number is \"Perfect\" or not. Write a Python function to check whether a number is \"Perfect\" or not. Write a Python function to check whether a number is \"Perfect\" or not. Write a Python function to check whether a number is \"Perfect\" or not. Write a Python function to check whether a number is \"Perfect\" or not. Write a Python function to check whether a number is \"Perfect\" or not. Write a Python function to check whether a number is \"Perfect\" or not. Write a Python function to check whether a number is \"Perfect\" or not. Write a Python function to check whether a number is \"Perfect\" or not. Write a Python function to check whether a number is \"Perfect\" or not. Write a Python function to check whether a number is \"Perfect\" or not. Write a Python function to check whether a number is \"Perfect\" or not. Write a Python function to check whether a number is \"Perfect\" or not. Write a Python function to check whether a number is \"Perfect\" or not. Write a Python function to check whether a number is \"Perfect\" or not. Write a Python function to check whether a number is \"Perfect\" or not. Write a Python function to check whether a number is \"Perfect\" or not. Write a Python function to check whether a number is \"Perfect\" or not. Write a Python function to check whether a number is \"Perfect\" or not. Write a Python function to check whether a number is \"Perfect\" or not. Write a Python function to check whether a number is \"Perfect\" or not. Write a Python function to check whether a number is \"Perfect\" or not. Write a Python function to check whether a number is \"Perfect\" or not. Write a Python function to check whether a number is \"Perfect\" or not. Write a Python function to check whether a number is \"Perfect\" or not. Write a Python function to check whether a number is \"Perfect\" or not. Write a Python function to check whether a number is \"Perfect\" or not. Write a Python function to check whether a number is \"Perfect\" or not. Write a Python function to check whether a number is \"Perfect\" or not. Write a Python function to check whether a number is \"Perfect\" or not. Write a Python function to check whether a number is \"Perfect\" or not. Write a Python function to check whether a number is \"Perfect\" or not. Write a Python function to check whether a number is \"Perfect\" or not. Write a Python function to check whether a number is \"Perfect\" or not. Write a Python function to check whether a number is \"Perfect\" or not. Write a Python function to check whether a number is \"Perfect\" or not. Write a Python function to check whether a number is \"Perfect\" or not. Write a Python function to check whether a number is \"Perfect\" or not. Write a Python function to check whether a number is \"Perfect\" or not. Write a Python function to check whether a number is \"Perfect\" or not. Write a Python function to check whether a number is \"Perfect\" or not. Write a Python function to check whether a number is \"Perfect\" or not. Write a Python function to check whether a number is \"Perfect\" or not. Write a Python function to check whether a number is \"Perfect\" or not. Write a Python function to check whether a number is \"Perfect\" or not. Write a Python function to check whether a number is \"Perfect\" or not. Write a Python function to check whether a number is \"Perfect\" or not. Write a Python function to check whether a number is \"Perfect\" or not. Write a Python function to check whether a number is \"Perfect\" or not. Write a Python function to check whether a number is \"Perfect\" or not. Write a Python function to check whether a number is \"Perfect\" or not. Write a Python function to check whether a number is \"Perfect\" or not. Write a Python function to check whether a number is \"Perfect\" or not. Write a Python function to check whether a number is \"Perfect\" or not. Write a Python function to check whether a number is \"Perfect\" or not. Write a Python function to check whether a number is \"Perfect\" or not. Write a Python function to check whether a number is \"Perfect\" or not. Write a Python function to check whether a number is \"Perfect\" or not. Write a Python function to check whether a number is \"Perfect\" or not. Write a Python function to check whether a number is \"Perfect\" or not. Write a Python function to check whether a number is \"Perfect\" or not. Write a Python function to check whether a number is \"Perfect\" or not. Write a Python function to check whether a number is \"Perfect\" or not. Write a Python function to check whether a number is \"Perfect\" or not. Write a Python function to check whether a number is \"Perfect\" or not. Write a Python function to check whether a number is \"Perfect\" or not. Write a Python function to check whether a number is \"Perfect\" or not. Write a Python function to check whether a number is \"Perfect\" or not. Write a Python function to check whether a number is \"Perfect\" or not. Write a Python function to check whether a number is \"Perfect\" or not. Write a Python function to check whether a number is \"Perfect\" or not. Write a Python function to check whether a number is \"Perfect\" or not. Write a Python function to check whether a number is \"Perfect\" or not. Write a Python function to check whether a number is \"Perfect\" or not. Write a Python function to check whether a number is \"Perfect\" or not. Write a Python function to check whether a number is \"Perfect\" or not. Write a Python function to check whether a number is \"Perfect\" or not. Write a Python function to check whether a number is \"Perfect\" or not. Write a Python function to check whether a number is \"Perfect\" or not. Write a Python function to check whether a number is \"Perfect\" or not. Write a Python function to check whether a number is \"Perfect\" or not. Write a Python function to check whether a number is \"Perfect\" or not. Write a Python function to check whether a number is \"Perfect\" or not. Write a Python function to check whether a number is \"Perfect\" or not. Write a Python function to check whether a number is \"Perfect\" or not. Write a Python function to check whether a number is \"Perfect\" or not. Write a Python function to check whether a number is \"Perfect\" or not. Write a Python function to check whether a number is \"Perfect\" or not. \n",
      "Write a Python function to check whether a number is \"Perfect\" or not. Write a Python function to check whether a number is \"Perfect\" or not. \n",
      "Write a Python function to check whether a number is \"Perfect\" or not. Write a Python function to check whether a number is \"Perfect\" or not. \n",
      "Write a Python function to check whether a number is \"Perfect\" or not. Write a Python function to check whether a number is \"Perfect\" or not. \n",
      "Write a Python function to check whether a number is \"Perfect\" or not. Write a Python function to check whether a number is \"Perfect\" or not. \n",
      "Write a Python function to check whether a number is \"Perfect\" or not. Write a Python function to check whether a number is \"Perfect\" or not. \n",
      "Write a Python function to check whether a number is \"Perfect\" or not. Write a Python function to check whether a number is \"Perfect\" or not. \n",
      "Write a Python function to check whether a number is \"Perfect\" or not. Write a Python function to check whether a number is \"Perfect\" or not. \n",
      "Write a Python function to check whether a number is \"Perfect\" or not. Write a Python function to check whether a number is \"Perfect\" or not. \n",
      "Write a Python function to check whether a number is \"Perfect\" or not. Write a Python function to check whether a number is \"Perfect\" or not. \n",
      "Write a Python function to check whether a number is \"Perfect\" or not. Write a Python function to check whether a number is \"Perfect\" or not. \n",
      "Write a Python function to check whether a number is \"Perfect\" or not. Write a Python function to check whether a number is \"Perfect\" or not. \n",
      "Write a Python function to check whether a number is \"Perfect\" or not. Write a Python function to check whether a number is \"Perfect\" or not. \n",
      "Write a Python function to check whether a number is \"Perfect\" or not. Write a Python function to check whether a number is \"Perfect\" or not. \n",
      "Write a Python function to check whether a number is \"Perfect\" or not. Write a Python function to check whether a number is \"Perfect\" or not. \n",
      "Write a Python function to check whether a number is \"Perfect\" or not. Write a Python function to check whether a number is \"Perfect\" or not. \n",
      "Write a Python function to check whether a number is \"Perfect\" or not. Write a Python function to check whether a number is \"Perfect\" or not. \n",
      "Write a Python function to check whether a number is \"Perfect\" or not. Write a Python function to check whether a number is \"Perfect\" or not. \n",
      "Write a Python function to check whether a number is \"Perfect\" or not. Write a Python function to check whether a number is \"Perfect\" or not. \n",
      "Write a Python function to check whether a number is \"Perfect\" or not. Write a Python function to check whether a number is \"Perfect\" or not. \n",
      "Write a Python function to check whether a number is \"Perfect\" or not. Write a Python function to check whether a number is \"Perfect\" or not. \n",
      "Write a Python function to check whether a number is \"Perfect\" or not. Write a Python function to check whether a number is \"Perfect\" or not. \n",
      "Write a Python function to check whether a number is \"Perfect\" or not. Write a Python function to check whether a number is \"Perfect\" or not. \n",
      "Write a Python function to check whether a number is \"Perfect\" or not. Write a Python function to check whether a number is \"Perfect\" or not. \n",
      "Write a Python function to check whether a number is \"Perfect\" or not. Write a Python function to check whether a number is \"Perfect\" or not. \n",
      "Write a Python function to check whether a number is \"Perfect\" or not. Write a Python function to check whether a number is \"Perfect\" or not. \n",
      "Write a Python function to check whether a number is \"Perfect\" or not. Write a Python function to check whether a number is \"Perfect\" or not. \n",
      "Write a Python function to check whether a number is \"Perfect\" or not. Write a Python function to check whether a number is \"Perfect\" or not. \n",
      "Write a Python function to check whether a number is \"Perfect\" or not. Write a Python function to check whether a number is \"Perfect\" or not. \n",
      "\n"
     ]
    }
   ],
   "source": [
    "with open('sample.txt','r') as file:\n",
    "    content = file.read()\n",
    "    print(content)"
   ]
  },
  {
   "cell_type": "markdown",
   "id": "1a457b8d-acef-4db9-8ba9-242b5b25324c",
   "metadata": {},
   "source": [
    "### Write a Python program to read first sentence of a file."
   ]
  },
  {
   "cell_type": "code",
   "execution_count": 46,
   "id": "3657eee4-9ec9-4f90-90bc-b27fa8082904",
   "metadata": {},
   "outputs": [
    {
     "name": "stdout",
     "output_type": "stream",
     "text": [
      "Write a Python function to check whether a number is \"Perfect\" or not\n"
     ]
    }
   ],
   "source": [
    "import re\n",
    "\n",
    "with open(\"sample.txt\", \"r\") as file:\n",
    "    first_line = file.readline()\n",
    "\n",
    "first_sentence = re.split(r'[.]', first_line)[0].strip()\n",
    "\n",
    "print(first_sentence)"
   ]
  },
  {
   "cell_type": "markdown",
   "id": "2cd1a1d9-3d7e-4f02-bf93-a8df99ce9837",
   "metadata": {},
   "source": [
    " ### Write a Python program to write a list to a file. "
   ]
  },
  {
   "cell_type": "code",
   "execution_count": 48,
   "id": "c6d37d79-0b4a-44b1-93ec-c0f37f38d5cb",
   "metadata": {},
   "outputs": [
    {
     "name": "stdout",
     "output_type": "stream",
     "text": [
      "List successfully written to fruits.txt\n"
     ]
    }
   ],
   "source": [
    " my_list = [\"apple\", \"banana\", \"cherry\", \"date\", \"elderberry\"]\n",
    "file_name = \"fruits.txt\"\n",
    "\n",
    "with open(file_name, 'w') as file:\n",
    "    for item in my_list:\n",
    "        file.write(f\"{item}\\n\")\n",
    "\n",
    "print(f\"List successfully written to {file_name}\")\n"
   ]
  },
  {
   "cell_type": "markdown",
   "id": "af4c4aac-8cb7-45af-a79d-53a7d2c9c48f",
   "metadata": {},
   "source": [
    "### Write a Python program to handle a ZeroDivisionError exception when dividing a number by zero."
   ]
  },
  {
   "cell_type": "code",
   "execution_count": 55,
   "id": "222c9410-8875-447c-8b21-be5e0972ff3d",
   "metadata": {},
   "outputs": [
    {
     "name": "stdout",
     "output_type": "stream",
     "text": [
      "Cannot divide by zero!\n",
      "1.0\n"
     ]
    }
   ],
   "source": [
    "def zerodiv(a, b):\n",
    "    try:\n",
    "        result = a/b\n",
    "    except ZeroDivisionError:\n",
    "        print(\"Cannot divide by zero!\")\n",
    "    else:\n",
    "        print(result)\n",
    "\n",
    "zerodiv(3,0)\n",
    "zerodiv(3,3)"
   ]
  },
  {
   "cell_type": "markdown",
   "id": "d4ac35a8-4e1a-47b3-92eb-811f398018b8",
   "metadata": {},
   "source": [
    "**General Functions**\n",
    "\n",
    "1. Write a function that takes a list of strings and returns a new list with the strings in uppercase.\n"
   ]
  },
  {
   "cell_type": "code",
   "execution_count": 26,
   "id": "fcf60b83-fb41-42cb-950f-e5f26408cad0",
   "metadata": {},
   "outputs": [
    {
     "name": "stdout",
     "output_type": "stream",
     "text": [
      "the new list is : ['ASDFDGFDGERQWEG', 'ASDFSDGFCX']\n"
     ]
    }
   ],
   "source": [
    "def lst_of_string(*a):\n",
    "    new_list = [item.upper() for item in a] \n",
    "    return new_list\n",
    "print(\"the new list is :\", lst_of_string(\"asdfdgfdgerqweg\", \"asdfsdgfcx\"))"
   ]
  },
  {
   "cell_type": "markdown",
   "id": "9ea3b0bc-fdc8-4f12-9555-a8ff0c032c08",
   "metadata": {},
   "source": [
    "2. Define a function that takes two numbers and returns a list of all numbers between them divisible by a given divisor.\n"
   ]
  },
  {
   "cell_type": "code",
   "execution_count": 33,
   "id": "5900e067-996d-44f5-beaa-6d3cfb99d231",
   "metadata": {},
   "outputs": [
    {
     "name": "stdout",
     "output_type": "stream",
     "text": [
      "[10, 12, 14, 16, 18, 20]\n"
     ]
    }
   ],
   "source": [
    "def divisible(a,b,divisor):\n",
    "    if divisor == 0:\n",
    "        raise ValueError(\"Divisor cannot be zero.\")\n",
    "        \n",
    "    return [i for i in range(a,b+1) if i % divisor == 0]\n",
    "\n",
    "a = 10\n",
    "b = 20\n",
    "divisor = 2\n",
    "result = divisible(a,b,divisor)\n",
    "print(result)"
   ]
  },
  {
   "cell_type": "markdown",
   "id": "d4c354cc-7388-4784-b54e-faf9ee2c3ac8",
   "metadata": {},
   "source": [
    "3. Create a function that takes a list of numbers and returns a new list containing only the square roots of even numbers.\n"
   ]
  },
  {
   "cell_type": "code",
   "execution_count": 43,
   "id": "f0a1cd25-c2e0-40ed-9dab-599f79b420ea",
   "metadata": {},
   "outputs": [
    {
     "name": "stdout",
     "output_type": "stream",
     "text": [
      "the new list is [1.4142135623730951, 2.0]\n"
     ]
    }
   ],
   "source": [
    "import math\n",
    "\n",
    "def divisible(*numbers):\n",
    "    new_list = []\n",
    "    for x in numbers:\n",
    "        if x %2 == 0:\n",
    "            new_list.append(math.sqrt(x))\n",
    "    return new_list\n",
    "\n",
    "print('the new list is', divisible(1,2,3,4,5))"
   ]
  },
  {
   "cell_type": "markdown",
   "id": "58ab88a8-fc21-42fa-818a-57bb1b0b8660",
   "metadata": {},
   "source": [
    "### Lambda Functions\n",
    "\n",
    "1. Use a lambda function to find the maximum of two numbers.\n"
   ]
  },
  {
   "cell_type": "code",
   "execution_count": 44,
   "id": "a89af89b-48f9-48b4-9b8e-279316767a07",
   "metadata": {},
   "outputs": [
    {
     "name": "stdout",
     "output_type": "stream",
     "text": [
      "5\n"
     ]
    }
   ],
   "source": [
    "maximum = lambda a,b: max(a,b)\n",
    "print(maximum(5,4))"
   ]
  },
  {
   "cell_type": "markdown",
   "id": "d996b24e-8cf0-4ae5-8cd2-4c04c0c3882c",
   "metadata": {},
   "source": [
    "2. Write a lambda function that checks if a number is divisible by 3 or 5.\n"
   ]
  },
  {
   "cell_type": "code",
   "execution_count": 52,
   "id": "a1c86b8a-fe99-4cd7-9604-67b0bb7c7646",
   "metadata": {},
   "outputs": [
    {
     "name": "stdout",
     "output_type": "stream",
     "text": [
      " the number is divisible\n"
     ]
    }
   ],
   "source": [
    "divisible = lambda a: a%3 == 0 or a%5 == 0 \n",
    "if divisible(5) == True:\n",
    "    print(\" the number is divisible\")\n",
    "else:\n",
    "    print(\"the number is not divisible\")"
   ]
  },
  {
   "cell_type": "markdown",
   "id": "f2a810d9-a187-4650-aa9a-614d1012442c",
   "metadata": {},
   "source": [
    "3. Create a lambda function with `filter` to remove all negative numbers from a list.\n",
    "\n"
   ]
  },
  {
   "cell_type": "code",
   "execution_count": 54,
   "id": "18c14a6b-3c7d-43e2-b538-6a94fb57ddde",
   "metadata": {},
   "outputs": [
    {
     "name": "stdout",
     "output_type": "stream",
     "text": [
      "[1, 3, 6, 7, 8]\n"
     ]
    }
   ],
   "source": [
    "numbers = [1,-2,3,-4,-5,6,7,8,-9]\n",
    "filtering = filter(lambda x: x>=0, numbers)\n",
    "print(list(filtering))"
   ]
  },
  {
   "cell_type": "markdown",
   "id": "2ec3e5fb-9cf0-403f-8252-d928eea55a19",
   "metadata": {},
   "source": [
    "### Map, Reduce, Filter\n",
    "\n",
    "1. Use `map` to convert a list of temperatures in Celsius to Fahrenheit.\n"
   ]
  },
  {
   "cell_type": "code",
   "execution_count": 56,
   "id": "7f73660e-f82a-408c-8fe2-48fa97fe87d0",
   "metadata": {},
   "outputs": [
    {
     "name": "stdout",
     "output_type": "stream",
     "text": [
      "Temperatures in Fahrenheit: [32.0, 68.0, 98.6, 212.0]\n"
     ]
    }
   ],
   "source": [
    "celsius_temperatures = [0, 20, 37, 100]\n",
    "\n",
    "def celsius_to_fahrenheit(celsius):\n",
    "    return (celsius * 9/5) + 32\n",
    "\n",
    "fahrenheit_temperatures = list(map(celsius_to_fahrenheit, celsius_temperatures))\n",
    "\n",
    "print(f\"Temperatures in Fahrenheit: {fahrenheit_temperatures}\")"
   ]
  },
  {
   "cell_type": "markdown",
   "id": "9bc9abfe-10e1-4d8d-af64-47138f861276",
   "metadata": {},
   "source": [
    "2. Use `filter` to extract all words longer than 4 characters from a list of strings.\n"
   ]
  },
  {
   "cell_type": "code",
   "execution_count": 57,
   "id": "858f59e1-21a7-4b54-9c52-d50dabc6427b",
   "metadata": {},
   "outputs": [
    {
     "name": "stdout",
     "output_type": "stream",
     "text": [
      "['asdfg', 'asfdbvcxasdf', 'qwerwe']\n"
     ]
    }
   ],
   "source": [
    "strings = [\"asdfg\", \"asdf\", \"asfd\", \"asfdbvcxasdf\",\"qwerwe\"]\n",
    "\n",
    "longer = filter(lambda x: len(x)>4, strings)\n",
    "print(list(longer))"
   ]
  },
  {
   "cell_type": "markdown",
   "id": "1b3521b6-b5fc-46da-b5fc-6fcdf9ff7a5e",
   "metadata": {},
   "source": [
    "3. Use `reduce` to find the greatest common divisor (GCD) of a list of numbers.\n"
   ]
  },
  {
   "cell_type": "code",
   "execution_count": 59,
   "id": "18476406-f200-45fe-9434-9d126bb9ba4a",
   "metadata": {},
   "outputs": [
    {
     "name": "stdout",
     "output_type": "stream",
     "text": [
      "The GCD of the list is: 5\n"
     ]
    }
   ],
   "source": [
    "from functools import reduce\n",
    "from math import gcd\n",
    "\n",
    "numbers = [10,20,30,35,45]\n",
    "result = reduce(gcd, numbers)\n",
    "\n",
    "print(f\"The GCD of the list is: {result}\")"
   ]
  },
  {
   "cell_type": "markdown",
   "id": "2c074fe1-708d-4a5a-9516-98ad50a5710d",
   "metadata": {},
   "source": [
    "4. Combine `map` and `filter` to double all even numbers in a list and return the results.\n",
    "\n"
   ]
  },
  {
   "cell_type": "code",
   "execution_count": 62,
   "id": "449b5529-5098-4e88-ad77-572011129411",
   "metadata": {},
   "outputs": [
    {
     "name": "stdout",
     "output_type": "stream",
     "text": [
      "the result is [20, 40, 60]\n"
     ]
    }
   ],
   "source": [
    "numbers = [10,20,30,35,45]\n",
    "new_number = list(map(lambda x: x*2, filter(lambda x: x % 2 == 0, numbers)))\n",
    "print(\"the result is\", new_number)"
   ]
  },
  {
   "cell_type": "markdown",
   "id": "72a4b904-3cf6-4b6c-a4c1-f28f0c26a4b0",
   "metadata": {},
   "source": [
    "### Decorators\n",
    "\n",
    "1. Write a decorator that ensures a function can only be called with positive integer arguments.\n"
   ]
  },
  {
   "cell_type": "code",
   "execution_count": 127,
   "id": "eb72066a-8114-4db5-8b72-3828504e0220",
   "metadata": {},
   "outputs": [
    {
     "name": "stdout",
     "output_type": "stream",
     "text": [
      "15\n"
     ]
    }
   ],
   "source": [
    "def positive_args_only(func):## parameter that represents function that is being decorated, function lai argument jasari pass gardincha\n",
    "    def wrapper(*args):##accepts variable number of positional arguments, wrapper function wraps another function adding some functionality\n",
    "        if any(arg <= 0 or not isinstance(arg, int) for arg in args):## args is a tuple received from *args, harek item = arg\n",
    "            ##any() function returns true if any element is present\n",
    "            ##if arg less than 0 or arg is integer or not\n",
    "            ##isinstance() returns boolean value whether object matches type or not, i.e isinstance(object,classsinfo), object to be checked and class, \n",
    "            ##type or a typle of classes to be checked against\n",
    "            raise ValueError(\"All arguments must be positive integers\")\n",
    "        return func(*args)\n",
    "    return wrapper\n",
    "\n",
    "@positive_args_only\n",
    "def add(a, b):\n",
    "    return a + b\n",
    "    \n",
    "print(add(5, 10))"
   ]
  },
  {
   "cell_type": "markdown",
   "id": "2f119691-aea2-4797-82b6-fd11a3954f83",
   "metadata": {},
   "source": [
    "2. Create a decorator that retries a function three times if it raises an exception, then raises the exception if it still fails.\n",
    "\n"
   ]
  },
  {
   "cell_type": "code",
   "execution_count": 66,
   "id": "f84ca735-8245-492d-af89-099a63ce6d1d",
   "metadata": {},
   "outputs": [
    {
     "name": "stdout",
     "output_type": "stream",
     "text": [
      "Running test_function...\n",
      "Attempt 1 failed. Retrying...\n",
      "Running test_function...\n",
      "Attempt 2 failed. Retrying...\n",
      "Running test_function...\n",
      "Attempt 3 failed. No more retries left.\n"
     ]
    },
    {
     "ename": "ValueError",
     "evalue": "An example exception",
     "output_type": "error",
     "traceback": [
      "\u001b[1;31m---------------------------------------------------------------------------\u001b[0m",
      "\u001b[1;31mValueError\u001b[0m                                Traceback (most recent call last)",
      "Cell \u001b[1;32mIn[66], line 22\u001b[0m\n\u001b[0;32m     19\u001b[0m     \u001b[38;5;28;01mraise\u001b[39;00m \u001b[38;5;167;01mValueError\u001b[39;00m(\u001b[38;5;124m\"\u001b[39m\u001b[38;5;124mAn example exception\u001b[39m\u001b[38;5;124m\"\u001b[39m)\n\u001b[0;32m     21\u001b[0m \u001b[38;5;66;03m# Call the decorated function\u001b[39;00m\n\u001b[1;32m---> 22\u001b[0m \u001b[43mtest_function\u001b[49m\u001b[43m(\u001b[49m\u001b[43m)\u001b[49m\n",
      "Cell \u001b[1;32mIn[66], line 6\u001b[0m, in \u001b[0;36mretry_three_times.<locals>.wrapper\u001b[1;34m(*args)\u001b[0m\n\u001b[0;32m      4\u001b[0m \u001b[38;5;28;01mfor\u001b[39;00m attempt \u001b[38;5;129;01min\u001b[39;00m \u001b[38;5;28mrange\u001b[39m(attempts):\n\u001b[0;32m      5\u001b[0m     \u001b[38;5;28;01mtry\u001b[39;00m:\n\u001b[1;32m----> 6\u001b[0m         \u001b[38;5;28;01mreturn\u001b[39;00m \u001b[43mfunc\u001b[49m\u001b[43m(\u001b[49m\u001b[38;5;241;43m*\u001b[39;49m\u001b[43margs\u001b[49m\u001b[43m)\u001b[49m\n\u001b[0;32m      7\u001b[0m     \u001b[38;5;28;01mexcept\u001b[39;00m \u001b[38;5;167;01mException\u001b[39;00m \u001b[38;5;28;01mas\u001b[39;00m e:\n\u001b[0;32m      8\u001b[0m         \u001b[38;5;28;01mif\u001b[39;00m attempt \u001b[38;5;241m<\u001b[39m attempts \u001b[38;5;241m-\u001b[39m \u001b[38;5;241m1\u001b[39m:\n",
      "Cell \u001b[1;32mIn[66], line 19\u001b[0m, in \u001b[0;36mtest_function\u001b[1;34m()\u001b[0m\n\u001b[0;32m     16\u001b[0m \u001b[38;5;129m@retry_three_times\u001b[39m\n\u001b[0;32m     17\u001b[0m \u001b[38;5;28;01mdef\u001b[39;00m\u001b[38;5;250m \u001b[39m\u001b[38;5;21mtest_function\u001b[39m():\n\u001b[0;32m     18\u001b[0m     \u001b[38;5;28mprint\u001b[39m(\u001b[38;5;124m\"\u001b[39m\u001b[38;5;124mRunning test_function...\u001b[39m\u001b[38;5;124m\"\u001b[39m)\n\u001b[1;32m---> 19\u001b[0m     \u001b[38;5;28;01mraise\u001b[39;00m \u001b[38;5;167;01mValueError\u001b[39;00m(\u001b[38;5;124m\"\u001b[39m\u001b[38;5;124mAn example exception\u001b[39m\u001b[38;5;124m\"\u001b[39m)\n",
      "\u001b[1;31mValueError\u001b[0m: An example exception"
     ]
    }
   ],
   "source": [
    "def retry_three_times(func):\n",
    "    def wrapper(*args):\n",
    "        attempts = 3\n",
    "        for attempt in range(attempts):\n",
    "            try:\n",
    "                return func(*args)\n",
    "            except Exception as e:\n",
    "                if attempt < attempts - 1:\n",
    "                    print(f\"Attempt {attempt + 1} failed. Retrying...\")\n",
    "                else:\n",
    "                    print(f\"Attempt {attempt + 1} failed. No more retries left.\")\n",
    "                    raise\n",
    "    return wrapper\n",
    "\n",
    "# Example usage:\n",
    "@retry_three_times\n",
    "def test_function():\n",
    "    print(\"Running test_function...\")\n",
    "    raise ValueError(\"An example exception\")\n",
    "\n",
    "# Call the decorated function\n",
    "test_function()"
   ]
  },
  {
   "cell_type": "markdown",
   "id": "fda44bd7-248f-4e7a-85a7-c00866801fb0",
   "metadata": {},
   "source": [
    "### **Exception Handling**\n",
    "\n",
    "1. Write a function that divides two numbers and handles exceptions like `ZeroDivisionError` and `TypeError`.\n"
   ]
  },
  {
   "cell_type": "code",
   "execution_count": 74,
   "id": "24d3539f-9bf3-409d-8954-bcbcc5249e4a",
   "metadata": {},
   "outputs": [
    {
     "name": "stdout",
     "output_type": "stream",
     "text": [
      "type error occured\n",
      "Can't divide by zero\n",
      "the result is 0.6666666666666666\n"
     ]
    }
   ],
   "source": [
    "def dividing(a,b):\n",
    "    try:\n",
    "        divide = a/b\n",
    "    except ZeroDivisionError:\n",
    "        print(\"Can't divide by zero\")\n",
    "    except TypeError:\n",
    "        print(\"type error occured\")\n",
    "    else:\n",
    "        print(\"the result is\", divide)\n",
    "\n",
    "dividing(4,\"5\")\n",
    "dividing(4,0)\n",
    "dividing(4,6)"
   ]
  },
  {
   "cell_type": "markdown",
   "id": "95e5e05a-a224-47ea-8bb7-ce3412149cd5",
   "metadata": {},
   "source": [
    "2. Create a program that reads an integer input from the user and catches a `ValueError` if the input is invalid.\n"
   ]
  },
  {
   "cell_type": "code",
   "execution_count": 81,
   "id": "9ebada2d-a4e7-4072-90f4-f1001f52ce28",
   "metadata": {},
   "outputs": [
    {
     "name": "stdin",
     "output_type": "stream",
     "text": [
      "enter an integer number a\n"
     ]
    },
    {
     "name": "stdout",
     "output_type": "stream",
     "text": [
      "value error occured\n"
     ]
    },
    {
     "name": "stdin",
     "output_type": "stream",
     "text": [
      "enter an integer number 4\n"
     ]
    },
    {
     "name": "stdout",
     "output_type": "stream",
     "text": [
      "the input is integer\n"
     ]
    }
   ],
   "source": [
    "def intinput():\n",
    "    try:\n",
    "        a = int(input(\"enter an integer number\"))\n",
    "    except ValueError:\n",
    "        print(\"value error occured\")\n",
    "    else:\n",
    "        print(\"the input is integer\")\n",
    "\n",
    "intinput()\n",
    "intinput()"
   ]
  },
  {
   "cell_type": "markdown",
   "id": "6a12c164-f6e0-4884-9d5e-f741ee6d4c21",
   "metadata": {},
   "source": [
    "3. Implement a function that attempts to open a file and handles the `FileNotFoundError`.\n",
    "\n"
   ]
  },
  {
   "cell_type": "code",
   "execution_count": 82,
   "id": "d52e2c3f-2145-42aa-8d36-9574e2900a38",
   "metadata": {},
   "outputs": [
    {
     "name": "stdout",
     "output_type": "stream",
     "text": [
      "file not found\n"
     ]
    }
   ],
   "source": [
    "try:\n",
    "    with open('handling.txt', 'r') as file:\n",
    "        print(file.read())\n",
    "except FileNotFoundError:\n",
    "    print(\"file not found\")"
   ]
  },
  {
   "cell_type": "markdown",
   "id": "4f10faf8-b3f2-46a4-bac4-113e3dff0689",
   "metadata": {},
   "source": [
    "### **File Handling**\n",
    "\n",
    "1. Write a program that reads a file line by line and counts the number of words in each line.\n"
   ]
  },
  {
   "cell_type": "code",
   "execution_count": 90,
   "id": "9323a58d-5bd9-4895-b7bb-48723d67cf15",
   "metadata": {},
   "outputs": [
    {
     "name": "stdout",
     "output_type": "stream",
     "text": [
      "line 6 words\n",
      "line 6 words\n",
      "line 9 words\n",
      "line 5 words\n",
      "line 12 words\n",
      "line 10 words\n",
      "line 5 words\n",
      "line 14 words\n",
      "line 6 words\n",
      "line 7 words\n"
     ]
    }
   ],
   "source": [
    "with open('random.txt', 'r') as file:\n",
    "    for line in file:\n",
    "        word_count = len(line.split())\n",
    "        print(f\"line {word_count} words\")"
   ]
  },
  {
   "cell_type": "markdown",
   "id": "fc398713-a3a9-452c-92e8-d785e2fd739c",
   "metadata": {},
   "source": [
    "2. Create a function to write a list of strings to a file, one string per line.\n"
   ]
  },
  {
   "cell_type": "code",
   "execution_count": null,
   "id": "59f66bf4-271f-4619-a1d9-c929cd9c8cf2",
   "metadata": {},
   "outputs": [],
   "source": [
    "my_list = [\"apple\", \"banana\", \"cherry\", \"date\", \"elderberry\"]\n",
    "file_name = \"fruits.txt\"\n",
    "\n",
    "with open(file_name, 'w') as file:\n",
    "    for item in my_list:\n",
    "        file.write(f\"{item}\\n\")\n",
    "\n",
    "print(f\"List successfully written to {file_name}\")"
   ]
  },
  {
   "cell_type": "markdown",
   "id": "79d824d8-9266-4d94-9eac-03cf1f6ebc92",
   "metadata": {},
   "source": [
    "3. Implement a function that appends text to an existing file and then reads its contents.\n"
   ]
  },
  {
   "cell_type": "code",
   "execution_count": 93,
   "id": "c81b6225-75f7-419e-8c1e-2b40222161f8",
   "metadata": {},
   "outputs": [
    {
     "name": "stdout",
     "output_type": "stream",
     "text": [
      "dqx sped wvc jcu fpuvjm bqbz\n",
      "xbufadrb mmz lzevojwl rirxgagp ytcgue boyypqo\n",
      "vlhd ynivh bsdvbrh xpqhl brpajzqv ahdq kgjgh lkajyric aaeavt\n",
      "joanfia ocfj ymrodhb wyeslux esnsfz\n",
      "ojznoswy wniygc rmjpsdup uedk kjfdxj iaplsrrz lybpld kzwpze bgzi achla ykuqfnfk pvx\n",
      "jbmf zvqgjma sspancl fexyu qla bed mcq wwii supahh wxpbqq\n",
      "muudu xjwjc cjtjck prbaflj jao\n",
      "bub leiwwh plr kprmwblr pri bnd rlxklvyh ybj oblnw hulzu mpo fwahtbs jrcla xypbujx\n",
      "qxc xgbcgq xcbghxtj tkidd pxhtamni xvwnljs\n",
      "qjsewbw gghmmxvo vxsmolj nuuwnlrs txybsl lbwtk eshf\n",
      "\n",
      "This is the new line of text that is appended.\n"
     ]
    }
   ],
   "source": [
    "with open('random.txt', 'a') as file:\n",
    "    file.write(\"\\nThis is the new line of text that is appended.\")\n",
    "    with open('random.txt', 'r') as file:\n",
    "        content = file.read()\n",
    "        \n",
    "print(content)"
   ]
  },
  {
   "cell_type": "markdown",
   "id": "85a022c4-d430-4354-adf6-5c45baa6209d",
   "metadata": {},
   "source": [
    "4. Create a program to copy the contents of one file to another, ensuring the target file is created if it doesn’t exist.\n"
   ]
  },
  {
   "cell_type": "code",
   "execution_count": 96,
   "id": "bd9cd34e-4404-4500-8e86-8defbb349e38",
   "metadata": {},
   "outputs": [
    {
     "name": "stdout",
     "output_type": "stream",
     "text": [
      "Contents copied successfully from <_io.TextIOWrapper name='random.txt' mode='r' encoding='cp1252'> to <_io.TextIOWrapper name='files.txt' mode='w' encoding='cp1252'>.\n"
     ]
    }
   ],
   "source": [
    "with open('random.txt', 'r') as original:\n",
    "    content = original.read()\n",
    "    with open('files.txt', 'w') as copy:\n",
    "        copy.write(content)\n",
    "\n",
    "print(f\"Contents copied successfully from {original} to {copy}.\")"
   ]
  },
  {
   "cell_type": "markdown",
   "id": "d92558cf-4aa4-4083-89e6-f388df7fa1eb",
   "metadata": {},
   "source": [
    "5. Write the file to create directory, write files to that directory, and iterate through that directory to access and print each files content ( use os library)\n",
    "\n"
   ]
  },
  {
   "cell_type": "code",
   "execution_count": 128,
   "id": "9af6c416-ff16-4dde-ba44-5b73ced50890",
   "metadata": {},
   "outputs": [
    {
     "name": "stdout",
     "output_type": "stream",
     "text": [
      "Directory 'example_directory' already exists.\n",
      "File 'file1.txt' written to 'example_directory'.\n",
      "File 'file2.txt' written to 'example_directory'.\n",
      "File 'file3.txt' written to 'example_directory'.\n",
      "\n",
      "Reading files in the directory:\n",
      "Contents of 'file1.txt':\n",
      "This is the content of file1.\n",
      "--------------------\n",
      "Contents of 'file2.txt':\n",
      "This is the content of file2.\n",
      "--------------------\n",
      "Contents of 'file3.txt':\n",
      "This is the content of file3.\n",
      "--------------------\n"
     ]
    }
   ],
   "source": [
    "import os\n",
    "\n",
    "dir_name = \"example_directory\"\n",
    "\n",
    "files_content = {\n",
    "    \"file1.txt\": \"This is the content of file1.\",\n",
    "    \"file2.txt\": \"This is the content of file2.\",\n",
    "    \"file3.txt\": \"This is the content of file3.\"\n",
    "}\n",
    "\n",
    "if not os.path.exists(dir_name):## it checks a file or directory exists does not diffferentiate, it can be absolute or relative path both\n",
    "    os.makedirs(dir_name)\n",
    "    print(f\"Directory '{dir_name}' created.\")\n",
    "else:\n",
    "    print(f\"Directory '{dir_name}' already exists.\")\n",
    "\n",
    "for file_name, content in files_content.items():\n",
    "    file_path = os.path.join(dir_name, file_name)## it makes full path by joining, it automatically handles separators line /\\,\n",
    "    ## data path that it returns is str, string\n",
    "    with open(file_path, 'w') as file:\n",
    "        file.write(content)\n",
    "    print(f\"File '{file_name}' written to '{dir_name}'.\")\n",
    "\n",
    "print(\"\\nReading files in the directory:\")\n",
    "for file_name in os.listdir(dir_name):\n",
    "    file_path = os.path.join(dir_name, file_name)\n",
    "    if os.path.isfile(file_path):\n",
    "        with open(file_path, 'r') as file:\n",
    "            print(f\"Contents of '{file_name}':\")\n",
    "            print(file.read())\n",
    "            print(\"-\" * 20)\n"
   ]
  },
  {
   "cell_type": "markdown",
   "id": "075bbcee-46d6-4e55-a960-13cb841379cf",
   "metadata": {},
   "source": [
    "### **Assertion**\n",
    "\n",
    "1. Write a program that uses `assert` to ensure a given number is positive before proceeding with a calculation.\n"
   ]
  },
  {
   "cell_type": "code",
   "execution_count": 100,
   "id": "b3100fc0-48f0-4f4e-820d-4a10210bc613",
   "metadata": {},
   "outputs": [
    {
     "ename": "AssertionError",
     "evalue": "x must be positive",
     "output_type": "error",
     "traceback": [
      "\u001b[1;31m---------------------------------------------------------------------------\u001b[0m",
      "\u001b[1;31mAssertionError\u001b[0m                            Traceback (most recent call last)",
      "Cell \u001b[1;32mIn[100], line 2\u001b[0m\n\u001b[0;32m      1\u001b[0m x \u001b[38;5;241m=\u001b[39m \u001b[38;5;241m-\u001b[39m\u001b[38;5;241m1\u001b[39m\n\u001b[1;32m----> 2\u001b[0m \u001b[38;5;28;01massert\u001b[39;00m x\u001b[38;5;241m>\u001b[39m\u001b[38;5;241m0\u001b[39m, \u001b[38;5;124m\"\u001b[39m\u001b[38;5;124mx must be positive\u001b[39m\u001b[38;5;124m\"\u001b[39m\n",
      "\u001b[1;31mAssertionError\u001b[0m: x must be positive"
     ]
    }
   ],
   "source": [
    "x = -1\n",
    "assert x>0, \"x must be positive\""
   ]
  },
  {
   "cell_type": "markdown",
   "id": "38fc2fc6-157c-4e3a-97cc-3ba846277b4b",
   "metadata": {},
   "source": [
    "2. Create a function to check if a list is sorted using an assertion.\n"
   ]
  },
  {
   "cell_type": "code",
   "execution_count": 110,
   "id": "1e312dc2-dbfd-4bd9-a9b1-78094c666d38",
   "metadata": {},
   "outputs": [
    {
     "name": "stdout",
     "output_type": "stream",
     "text": [
      "The list is sorted.\n",
      "The list is not sorted!\n"
     ]
    }
   ],
   "source": [
    "def check_sorted(lst):\n",
    "    for i in range(len(lst) - 1):\n",
    "        assert lst[i] <= lst[i + 1], \"The list is not sorted!\"\n",
    "    print(\"The list is sorted.\")\n",
    "    \n",
    "try:\n",
    "    check_sorted([1, 2, 3, 4, 5]) \n",
    "    check_sorted([1, 3, 2, 4, 5])\n",
    "except AssertionError as e:\n",
    "    print(e)"
   ]
  },
  {
   "cell_type": "markdown",
   "id": "9a68d2b7-c0cd-4482-96c0-f6005d11c5a0",
   "metadata": {},
   "source": [
    "3. Implement a program that asserts a dictionary has a specific key before accessing it.\n"
   ]
  },
  {
   "cell_type": "code",
   "execution_count": 121,
   "id": "326cfdaf-3708-4266-85c3-503ace718b4e",
   "metadata": {},
   "outputs": [
    {
     "name": "stdout",
     "output_type": "stream",
     "text": [
      "Name: Alice\n",
      "Assertion Error: Key 'country' not found in the dictionary.\n"
     ]
    }
   ],
   "source": [
    "def access_key(dictionary, key):\n",
    "    value = dictionary.get(key)\n",
    "    assert value is not None, f\"Key '{key}' not found in the dictionary.\"\n",
    "    return value\n",
    "\n",
    "sample_dict = {\"name\": \"Alice\", \"age\": 30, \"city\": \"Wonderland\"}\n",
    "try:\n",
    "        print(f\"Name: {access_key(sample_dict, 'name')}\")\n",
    "\n",
    "        print(f\"Country: {access_key(sample_dict, 'country')}\")\n",
    "except AssertionError as e:\n",
    "    print(f\"Assertion Error: {e}\")"
   ]
  },
  {
   "cell_type": "code",
   "execution_count": null,
   "id": "2d0c2188-ce1a-4b29-938c-a1fa9bda4839",
   "metadata": {},
   "outputs": [],
   "source": []
  }
 ],
 "metadata": {
  "kernelspec": {
   "display_name": "Python 3 (ipykernel)",
   "language": "python",
   "name": "python3"
  },
  "language_info": {
   "codemirror_mode": {
    "name": "ipython",
    "version": 3
   },
   "file_extension": ".py",
   "mimetype": "text/x-python",
   "name": "python",
   "nbconvert_exporter": "python",
   "pygments_lexer": "ipython3",
   "version": "3.13.0"
  }
 },
 "nbformat": 4,
 "nbformat_minor": 5
}
