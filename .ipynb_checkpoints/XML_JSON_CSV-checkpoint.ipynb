{
 "cells": [
  {
   "cell_type": "markdown",
   "id": "3c1fd255-afb0-4d5c-94f8-c438ffa6cc6e",
   "metadata": {},
   "source": [
    "# XML to JSON to CSV"
   ]
  },
  {
   "cell_type": "code",
   "execution_count": 1,
   "id": "7968151e-ace4-4c47-928b-cb3325c464a6",
   "metadata": {},
   "outputs": [
    {
     "name": "stdout",
     "output_type": "stream",
     "text": [
      "XML converted to JSON and CSV successfully!\n"
     ]
    }
   ],
   "source": [
    "import json\n",
    "import xmltodict\n",
    "import pandas as pd\n",
    "\n",
    "\n",
    "def flatten_json_to_rows(data, parent_key='', sep='_'):\n",
    "    \"\"\"Flatten nested JSON into rows for DataFrame.\"\"\"\n",
    "    if isinstance(data, dict):\n",
    "        rows = [{}]\n",
    "        for k, v in data.items():\n",
    "            new_key = f\"{parent_key}{sep}{k}\" if parent_key else k\n",
    "            if isinstance(v, list):\n",
    "                expanded_rows = []\n",
    "                for row in rows:\n",
    "                    for item in v:\n",
    "                        flattened_item = flatten_json_to_rows(item, new_key, sep=sep)\n",
    "                        for flat_row in flattened_item:\n",
    "                            new_row = row.copy()\n",
    "                            new_row.update(flat_row)\n",
    "                            expanded_rows.append(new_row)\n",
    "                rows = expanded_rows\n",
    "            elif isinstance(v, dict):\n",
    "                expanded_rows = []\n",
    "                for row in rows:\n",
    "                    flattened_dict = flatten_json_to_rows(v, new_key, sep=sep)\n",
    "                    for flat_row in flattened_dict:\n",
    "                        new_row = row.copy()\n",
    "                        new_row.update(flat_row)\n",
    "                        expanded_rows.append(new_row)\n",
    "                rows = expanded_rows\n",
    "            else:\n",
    "                for row in rows:\n",
    "                    row[new_key] = v\n",
    "        return rows\n",
    "    elif isinstance(data, list):\n",
    "        rows = []\n",
    "        for item in data:\n",
    "            rows.extend(flatten_json_to_rows(item, parent_key, sep=sep))\n",
    "        return rows\n",
    "    else:\n",
    "        return [{parent_key: data}]\n",
    "\n",
    "\n",
    "def main():\n",
    "    # Step 1: Convert XML to JSON\n",
    "    with open(\"nested_data.xml\") as xml_file:\n",
    "        data_dict = xmltodict.parse(xml_file.read())\n",
    "        with open(\"data1.json\", \"w\") as json_file:\n",
    "            json.dump(data_dict, json_file, indent=4)\n",
    "\n",
    "    # Step 2: Flatten JSON and Convert to CSV\n",
    "    flattened_data = flatten_json_to_rows(data_dict)\n",
    "\n",
    "    dataframe = pd.DataFrame(flattened_data)\n",
    "    dataframe.columns = [col.replace(\"root_\", \"\") for col in dataframe.columns]\n",
    "    \n",
    "    dataframe.to_csv(\"nested.csv\", index=False)\n",
    "\n",
    "    print(\"XML converted to JSON and CSV successfully!\")\n",
    "\n",
    "\n",
    "if __name__ == \"__main__\":\n",
    "    main()\n"
   ]
  },
  {
   "cell_type": "code",
   "execution_count": 2,
   "id": "21eb4fbd-caa6-41bb-a8f7-d4e4328f60eb",
   "metadata": {},
   "outputs": [
    {
     "name": "stdout",
     "output_type": "stream",
     "text": [
      "<root>\n",
      "    <person>\n",
      "        <name>\n",
      "            <first>John</first>\n",
      "            <last>Doe</last>\n",
      "        </name>\n",
      "        <address>\n",
      "            <street>Main Street</street>\n",
      "            <city>Springfield</city>\n",
      "        </address>\n",
      "        <contacts>\n",
      "            <contact>\n",
      "                <type>email</type>\n",
      "                <value>john.doe@example.com</value>\n",
      "            </contact>\n",
      "            <contact>\n",
      "                <type>phone</type>\n",
      "                <value>123456789</value>\n",
      "            </contact>\n",
      "        </contacts>\n",
      "    </person>\n",
      "    <person>\n",
      "        <name>\n",
      "            <first>Jane</first>\n",
      "            <last>Smith</last>\n",
      "        </name>\n",
      "        <address>\n",
      "            <street>Second Street</street>\n",
      "            <city>Metropolis</city>\n",
      "        </address>\n",
      "        <contacts>\n",
      "            <contact>\n",
      "                <type>email</type>\n",
      "                <value>jane.smith@example.com</value>\n",
      "            </contact>\n",
      "            <contact>\n",
      "                <type>phone</type>\n",
      "                <value>987654321</value>\n",
      "            </contact>\n",
      "        </contacts>\n",
      "    </person>\n",
      "</root>\n",
      "\n"
     ]
    }
   ],
   "source": [
    "with open(\"nested_data.xml\", \"r\") as xml_file:\n",
    "    print(xml_file.read())\n"
   ]
  },
  {
   "cell_type": "code",
   "execution_count": 3,
   "id": "a74b0859-15b3-4fe7-b5d7-ac115a0ae7cf",
   "metadata": {},
   "outputs": [
    {
     "name": "stdout",
     "output_type": "stream",
     "text": [
      "{\n",
      "    \"root\": {\n",
      "        \"person\": [\n",
      "            {\n",
      "                \"name\": {\n",
      "                    \"first\": \"John\",\n",
      "                    \"last\": \"Doe\"\n",
      "                },\n",
      "                \"address\": {\n",
      "                    \"street\": \"Main Street\",\n",
      "                    \"city\": \"Springfield\"\n",
      "                },\n",
      "                \"contacts\": {\n",
      "                    \"contact\": [\n",
      "                        {\n",
      "                            \"type\": \"email\",\n",
      "                            \"value\": \"john.doe@example.com\"\n",
      "                        },\n",
      "                        {\n",
      "                            \"type\": \"phone\",\n",
      "                            \"value\": \"123456789\"\n",
      "                        }\n",
      "                    ]\n",
      "                }\n",
      "            },\n",
      "            {\n",
      "                \"name\": {\n",
      "                    \"first\": \"Jane\",\n",
      "                    \"last\": \"Smith\"\n",
      "                },\n",
      "                \"address\": {\n",
      "                    \"street\": \"Second Street\",\n",
      "                    \"city\": \"Metropolis\"\n",
      "                },\n",
      "                \"contacts\": {\n",
      "                    \"contact\": [\n",
      "                        {\n",
      "                            \"type\": \"email\",\n",
      "                            \"value\": \"jane.smith@example.com\"\n",
      "                        },\n",
      "                        {\n",
      "                            \"type\": \"phone\",\n",
      "                            \"value\": \"987654321\"\n",
      "                        }\n",
      "                    ]\n",
      "                }\n",
      "            }\n",
      "        ]\n",
      "    }\n",
      "}\n"
     ]
    }
   ],
   "source": [
    "with open(\"data1.json\", \"r\") as json_file:\n",
    "    print(json_file.read())\n"
   ]
  },
  {
   "cell_type": "code",
   "execution_count": 4,
   "id": "07729e53-08bf-4fff-b401-c37bed297dcf",
   "metadata": {},
   "outputs": [
    {
     "data": {
      "text/html": [
       "<div>\n",
       "<style scoped>\n",
       "    .dataframe tbody tr th:only-of-type {\n",
       "        vertical-align: middle;\n",
       "    }\n",
       "\n",
       "    .dataframe tbody tr th {\n",
       "        vertical-align: top;\n",
       "    }\n",
       "\n",
       "    .dataframe thead th {\n",
       "        text-align: right;\n",
       "    }\n",
       "</style>\n",
       "<table border=\"1\" class=\"dataframe\">\n",
       "  <thead>\n",
       "    <tr style=\"text-align: right;\">\n",
       "      <th></th>\n",
       "      <th>person_name_first</th>\n",
       "      <th>person_name_last</th>\n",
       "      <th>person_address_street</th>\n",
       "      <th>person_address_city</th>\n",
       "      <th>person_contacts_contact_type</th>\n",
       "      <th>person_contacts_contact_value</th>\n",
       "    </tr>\n",
       "  </thead>\n",
       "  <tbody>\n",
       "    <tr>\n",
       "      <th>0</th>\n",
       "      <td>John</td>\n",
       "      <td>Doe</td>\n",
       "      <td>Main Street</td>\n",
       "      <td>Springfield</td>\n",
       "      <td>email</td>\n",
       "      <td>john.doe@example.com</td>\n",
       "    </tr>\n",
       "    <tr>\n",
       "      <th>1</th>\n",
       "      <td>John</td>\n",
       "      <td>Doe</td>\n",
       "      <td>Main Street</td>\n",
       "      <td>Springfield</td>\n",
       "      <td>phone</td>\n",
       "      <td>123456789</td>\n",
       "    </tr>\n",
       "    <tr>\n",
       "      <th>2</th>\n",
       "      <td>Jane</td>\n",
       "      <td>Smith</td>\n",
       "      <td>Second Street</td>\n",
       "      <td>Metropolis</td>\n",
       "      <td>email</td>\n",
       "      <td>jane.smith@example.com</td>\n",
       "    </tr>\n",
       "    <tr>\n",
       "      <th>3</th>\n",
       "      <td>Jane</td>\n",
       "      <td>Smith</td>\n",
       "      <td>Second Street</td>\n",
       "      <td>Metropolis</td>\n",
       "      <td>phone</td>\n",
       "      <td>987654321</td>\n",
       "    </tr>\n",
       "  </tbody>\n",
       "</table>\n",
       "</div>"
      ],
      "text/plain": [
       "  person_name_first person_name_last person_address_street  \\\n",
       "0              John              Doe           Main Street   \n",
       "1              John              Doe           Main Street   \n",
       "2              Jane            Smith         Second Street   \n",
       "3              Jane            Smith         Second Street   \n",
       "\n",
       "  person_address_city person_contacts_contact_type  \\\n",
       "0         Springfield                        email   \n",
       "1         Springfield                        phone   \n",
       "2          Metropolis                        email   \n",
       "3          Metropolis                        phone   \n",
       "\n",
       "  person_contacts_contact_value  \n",
       "0          john.doe@example.com  \n",
       "1                     123456789  \n",
       "2        jane.smith@example.com  \n",
       "3                     987654321  "
      ]
     },
     "execution_count": 4,
     "metadata": {},
     "output_type": "execute_result"
    }
   ],
   "source": [
    "pd.read_csv(\"nested.csv\")"
   ]
  },
  {
   "cell_type": "markdown",
   "id": "9f2a7bc4-93a1-4256-929d-104a15fa4488",
   "metadata": {},
   "source": [
    "# Shallow Copy Vs Deep Copy\n",
    "\n",
    "| **Aspect**       | **Shallow Copy**                                    | **Deep Copy**                                   |\n",
    "|-------------------|----------------------------------------------------|------------------------------------------------|\n",
    "| **Definition**    | Creates a new object but references the original objects inside the copied object. | Creates a new object and recursively copies all objects inside the original object. |\n",
    "| **Copy Level**    | Copies only the top-level structure.               | Copies both the top-level structure and nested structures. |\n",
    "| **Memory**        | Changes in the nested (mutable) objects of the original will reflect in the copy. | Changes in the original nested objects do not affect the deep copy. |\n",
    "| **Performance**   | Faster, as it does not create new objects for nested elements. | Slower, as it creates new objects recursively. |\n",
    "| **Modules Used**  | `copy.copy()`                                      | `copy.deepcopy()`                              |\n",
    "\n",
    "### Examples of Shallow Copy and Deep Copy\n",
    "1. Shallow Copy Example"
   ]
  },
  {
   "cell_type": "code",
   "execution_count": 5,
   "id": "5e1dbb0a-b157-43cb-8fe2-762c907e61de",
   "metadata": {},
   "outputs": [
    {
     "name": "stdout",
     "output_type": "stream",
     "text": [
      "Original List: [[99, 2, 3], [4, 5, 6]]\n",
      "Shallow Copy:  [[99, 2, 3], [4, 5, 6]]\n"
     ]
    }
   ],
   "source": [
    "import copy\n",
    "\n",
    "original_list = [[1, 2, 3], [4, 5, 6]]\n",
    "\n",
    "shallow_copy = copy.copy(original_list)\n",
    "\n",
    "original_list[0][0] = 99\n",
    "\n",
    "print(\"Original List:\", original_list)  \n",
    "print(\"Shallow Copy: \", shallow_copy)  \n"
   ]
  },
  {
   "cell_type": "markdown",
   "id": "c3ee750a-a344-480b-ae8f-2781b75ed4ec",
   "metadata": {},
   "source": [
    "### Explanation:\n",
    "\n",
    "- The shallow_copy references the same nested lists as the original_list.\n",
    "- Modifying original_list[0][0] affects shallow_copy because the inner lists are not copied.\n",
    "\n",
    "2. Deep Copy Example"
   ]
  },
  {
   "cell_type": "code",
   "execution_count": 6,
   "id": "f8dc908c-0181-4fae-8e6b-053ae591a4a9",
   "metadata": {},
   "outputs": [
    {
     "name": "stdout",
     "output_type": "stream",
     "text": [
      "Original List: [[99, 2, 3], [4, 5, 6]]\n",
      "Deep Copy:     [[1, 2, 3], [4, 5, 6]]\n"
     ]
    }
   ],
   "source": [
    "import copy\n",
    "\n",
    "original_list = [[1, 2, 3], [4, 5, 6]]\n",
    "\n",
    "deep_copy = copy.deepcopy(original_list)\n",
    "\n",
    "original_list[0][0] = 99\n",
    "\n",
    "print(\"Original List:\", original_list)\n",
    "print(\"Deep Copy:    \", deep_copy)      \n"
   ]
  },
  {
   "cell_type": "markdown",
   "id": "b957369b-9c62-411d-bfe5-cb6f79b0d5ff",
   "metadata": {},
   "source": [
    "### Explanation:\n",
    "\n",
    "- The deep_copy creates a completely new copy of the original_list and its nested elements.\n",
    "- Modifying original_list[0][0] does not affect the deep_copy because the nested lists are independent."
   ]
  },
  {
   "cell_type": "markdown",
   "id": "835588f8-3ac0-408d-a922-3e37b2d1c32a",
   "metadata": {},
   "source": [
    "### Illustration: Shallow vs Deep Copy\n",
    "\n",
    "| **Original List** | **Shallow Copy Behavior**       | **Deep Copy Behavior**          |\n",
    "|-------------------|----------------------------------|----------------------------------|\n",
    "| `[[1, 2, 3], [4, 5, 6]]` | References the same nested lists inside. | Recursively creates new copies of all nested lists. |\n",
    "| Modification: `original_list[0][0] = 99` | Affects both `original_list` and `shallow_copy`. | Affects only `original_list`. |\n",
    "\n",
    "\n",
    "### Key Takeaway\n",
    "\n",
    "- Use shallow copy when you don’t need independent copies of nested elements.\n",
    "- Use deep copy when you need a completely independent duplicate of the entire object, including all nested structures."
   ]
  },
  {
   "cell_type": "code",
   "execution_count": null,
   "id": "df2927af-0b3d-4f2f-a92b-d0cd3ad02552",
   "metadata": {},
   "outputs": [],
   "source": []
  }
 ],
 "metadata": {
  "kernelspec": {
   "display_name": "Python 3 (ipykernel)",
   "language": "python",
   "name": "python3"
  },
  "language_info": {
   "codemirror_mode": {
    "name": "ipython",
    "version": 3
   },
   "file_extension": ".py",
   "mimetype": "text/x-python",
   "name": "python",
   "nbconvert_exporter": "python",
   "pygments_lexer": "ipython3",
   "version": "3.13.0"
  }
 },
 "nbformat": 4,
 "nbformat_minor": 5
}
