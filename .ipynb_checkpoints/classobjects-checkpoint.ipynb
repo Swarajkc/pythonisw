{
 "cells": [
  {
   "cell_type": "code",
   "execution_count": 1,
   "id": "c40c781c-48df-46fb-97a5-1bb2c03a5aec",
   "metadata": {},
   "outputs": [
    {
     "name": "stdout",
     "output_type": "stream",
     "text": [
      "Name:Mountain Bike, Gears11\n"
     ]
    }
   ],
   "source": [
    "#class ClassName:\n",
    "    #constructor, attributes and methods\n",
    "\n",
    "class Bike:\n",
    "    name = \"\"\n",
    "    gear = 0\n",
    "#object = ClassName()\n",
    "\n",
    "bike1 = Bike()\n",
    "#bike1 is an instance of class i.e. it is an object and it can access the attributes of the class\n",
    "bike1.name = \"Mountain Bike\"\n",
    "bike1.gear = 11\n",
    "\n",
    "print(f'Name:{bike1.name}, Gears{bike1.gear}')"
   ]
  },
  {
   "cell_type": "code",
   "execution_count": 2,
   "id": "eed24a5f-8412-4189-992b-0c0ec4674c2b",
   "metadata": {},
   "outputs": [
    {
     "name": "stdout",
     "output_type": "stream",
     "text": [
      "Employee ID: 1001\n",
      "Employee ID: 1002\n"
     ]
    }
   ],
   "source": [
    "# multiple objects\n",
    "# define a class\n",
    "class Employee:\n",
    "    # define a property\n",
    "    employee_id = 0\n",
    "\n",
    "# create two objects of the Employee class\n",
    "employee1 = Employee()\n",
    "employee2 = Employee()\n",
    "\n",
    "# access property using employee1\n",
    "employee1.employeeID = 1001\n",
    "print(f\"Employee ID: {employee1.employeeID}\")\n",
    "\n",
    "# access properties using employee2\n",
    "employee2.employeeID = 1002\n",
    "print(f\"Employee ID: {employee2.employeeID}\")"
   ]
  },
  {
   "cell_type": "code",
   "execution_count": 3,
   "id": "7dbe0efc-377d-4116-bac0-35309315ae54",
   "metadata": {},
   "outputs": [
    {
     "name": "stdout",
     "output_type": "stream",
     "text": [
      "Area of Room = 1309.0\n"
     ]
    }
   ],
   "source": [
    "# python methods is simply a function inside a class which can be accessed using objects\n",
    "# create a class\n",
    "class Room:\n",
    "    length = 0.0\n",
    "    breadth = 0.0\n",
    "    \n",
    "    # method to calculate area\n",
    "    def calculate_area(self):# self represents the instance that calls the method, it is a convention, used to set or get instance attributes\n",
    "        print(\"Area of Room =\", self.length * self.breadth)\n",
    "\n",
    "# create object of Room class\n",
    "study_room = Room()\n",
    "\n",
    "# assign values to all the properties/ attributes\n",
    "study_room.length = 42.5\n",
    "study_room.breadth = 30.8\n",
    "\n",
    "# access method inside class\n",
    "study_room.calculate_area()"
   ]
  },
  {
   "cell_type": "code",
   "execution_count": 4,
   "id": "04fc2972-67d7-414e-b148-6ff2c30d3d09",
   "metadata": {},
   "outputs": [
    {
     "name": "stdout",
     "output_type": "stream",
     "text": [
      "honda\n"
     ]
    }
   ],
   "source": [
    "# constructors, instead of assigninng default values to a class attribute, the values can be initialized using constructors \n",
    "class Bike:\n",
    "\n",
    "    # constructor function    \n",
    "    def __init__(self, name = \"\"):\n",
    "        self.name = name\n",
    "\n",
    "bike1 = Bike()\n",
    "bike1.name = \"honda\"\n",
    "print(bike1.name)"
   ]
  },
  {
   "cell_type": "code",
   "execution_count": 5,
   "id": "22b56157-34a2-42f5-a720-4ebf1a67791f",
   "metadata": {},
   "outputs": [
    {
     "name": "stdout",
     "output_type": "stream",
     "text": [
      "I can eat\n",
      "My name is: Ram\n"
     ]
    }
   ],
   "source": [
    "#inheritance :- creating new class from existing class, new class is called a sub class\n",
    "# define a superclass\n",
    "    #class super_class:\n",
    "        # attributes and method definition\n",
    "\n",
    "# inheritance\n",
    "    #class sub_class(super_class):\n",
    "        # attributes and method of super_class\n",
    "        # attributes and method of sub_class\n",
    "class Animal:\n",
    "    def __init__(self, name=\"\"):\n",
    "        self.name = name\n",
    "    def eat(self):\n",
    "        print(\"I can eat\")\n",
    "# inherit from animal\n",
    "class Dog(Animal):\n",
    "    def display(self):\n",
    "        print(\"My name is:\", self.name)\n",
    "labrador = Dog()\n",
    "\n",
    "labrador.name = \"Ram\"\n",
    "labrador.eat()\n",
    "labrador.display()"
   ]
  },
  {
   "cell_type": "code",
   "execution_count": 6,
   "id": "c1505d85-f72f-4e92-9923-220c83e3daf0",
   "metadata": {},
   "outputs": [
    {
     "name": "stdout",
     "output_type": "stream",
     "text": [
      "I like to eat bones\n"
     ]
    }
   ],
   "source": [
    "# overriding in python Inheritance\n",
    "class Animal:\n",
    "\n",
    "    # attributes and method of the parent class\n",
    "    name = \"\"\n",
    "    \n",
    "    def eat(self):\n",
    "        print(\"I can eat\")\n",
    "\n",
    "# inherit from Animal\n",
    "class Dog(Animal):\n",
    "\n",
    "    # override eat() method\n",
    "    def eat(self):\n",
    "        print(\"I like to eat bones\")\n",
    "\n",
    "# create an object of the subclass\n",
    "labrador = Dog()\n",
    "\n",
    "# call the eat() method on the labrador object\n",
    "labrador.eat()"
   ]
  },
  {
   "cell_type": "code",
   "execution_count": 7,
   "id": "1959608d-711d-4c7d-ad4a-089f62f6bc82",
   "metadata": {},
   "outputs": [
    {
     "name": "stdout",
     "output_type": "stream",
     "text": [
      "I can eat\n",
      "I like to eat bones\n"
     ]
    }
   ],
   "source": [
    "# which is why a super() function is used in inheritance\n",
    "class Animal:\n",
    "\n",
    "    name = \"\"\n",
    "    \n",
    "    def eat(self):\n",
    "        print(\"I can eat\")\n",
    "\n",
    "# inherit from Animal\n",
    "class Dog(Animal):\n",
    "    \n",
    "    # override eat() method\n",
    "    def eat(self):\n",
    "        \n",
    "        # call the eat() method of the superclass using super()\n",
    "        super().eat()\n",
    "        \n",
    "        print(\"I like to eat bones\")\n",
    "\n",
    "# create an object of the subclass\n",
    "labrador = Dog()\n",
    "\n",
    "labrador.eat()"
   ]
  },
  {
   "cell_type": "code",
   "execution_count": 8,
   "id": "046d3591-a4c5-4b34-a56e-362db1b3fbb1",
   "metadata": {},
   "outputs": [],
   "source": [
    "# multiple inheritance :- a class derived from more than one superclass\n",
    "#syntax:\n",
    "#class SuperClass1:\n",
    "    # features of SuperClass1\n",
    "\n",
    "#class SuperClass2:\n",
    "    # features of SuperClass2\n",
    "\n",
    "#class MultiDerived(SuperClass1, SuperClass2):\n",
    "    # features of SuperClass1 + SuperClass2 + MultiDerived class\n"
   ]
  },
  {
   "cell_type": "code",
   "execution_count": 9,
   "id": "fd1acba9-fdf3-4571-9d8f-bdb6044628fd",
   "metadata": {},
   "outputs": [
    {
     "name": "stdout",
     "output_type": "stream",
     "text": [
      "Mammals can give direct birth.\n",
      "Winged animals can flap.\n",
      "bats hang upside down\n"
     ]
    }
   ],
   "source": [
    "class Mammal:\n",
    "    def mammal_info(self):\n",
    "        print(\"Mammals can give direct birth.\")\n",
    "\n",
    "class WingedAnimal:\n",
    "    def winged_animal_info(self):\n",
    "        print(\"Winged animals can flap.\")\n",
    "\n",
    "class Bat(Mammal, WingedAnimal):\n",
    "    def behavior(self):\n",
    "        print(\"bats hang upside down\")\n",
    "\n",
    "# create an object of Bat class\n",
    "b1 = Bat()\n",
    "\n",
    "b1.mammal_info()\n",
    "b1.winged_animal_info()\n",
    "b1.behavior()"
   ]
  },
  {
   "cell_type": "code",
   "execution_count": 10,
   "id": "f80dab8e-3339-4e09-b5c8-2c623e4bf03b",
   "metadata": {},
   "outputs": [],
   "source": [
    "# multilevel inheritance:- deriving a class from previously derived class\n",
    "# syntax\n",
    "#class SuperClass:\n",
    "    # Super class code here\n",
    "\n",
    "#class DerivedClass1(SuperClass):\n",
    "    # Derived class 1 code here\n",
    "\n",
    "#class DerivedClass2(DerivedClass1):\n",
    "    # Derived class 2 code here"
   ]
  },
  {
   "cell_type": "code",
   "execution_count": 11,
   "id": "a17d5f35-32ee-445f-8e85-d8aa79fba45a",
   "metadata": {},
   "outputs": [
    {
     "name": "stdout",
     "output_type": "stream",
     "text": [
      "Super class method called\n",
      "Derived class 1 method called\n",
      "derived class 2 method called\n"
     ]
    }
   ],
   "source": [
    "class SuperClass:\n",
    "    def super_method(self):\n",
    "        print(\"Super class method called\")\n",
    "\n",
    "class DerivedClass1(SuperClass):\n",
    "    def derived1_method(self):\n",
    "        print(\"Derived class 1 method called\")\n",
    "\n",
    "class DerivedClass2(DerivedClass1):\n",
    "    def derived2_method(self):\n",
    "        print(\"derived class 2 method called\")\n",
    "\n",
    "d2 = DerivedClass2()\n",
    "d2.super_method()\n",
    "d2.derived1_method()\n",
    "d2.derived2_method()"
   ]
  },
  {
   "cell_type": "code",
   "execution_count": 12,
   "id": "6c034a58-7a6e-43af-8162-16eb0837184b",
   "metadata": {},
   "outputs": [
    {
     "name": "stdout",
     "output_type": "stream",
     "text": [
      "Super Class 1 method called\n"
     ]
    }
   ],
   "source": [
    "# method resolution order(MRO) in python: if two superclass have same method then derived class calls that method\n",
    "class SuperClass1:\n",
    "    def info(self):\n",
    "        print(\"Super Class 1 method called\")\n",
    "\n",
    "class SuperClass2:\n",
    "    def info(self):\n",
    "        print(\"Super Class 2 method called\")\n",
    "\n",
    "class Derived(SuperClass1, SuperClass2):\n",
    "    pass\n",
    "\n",
    "d1 = Derived()\n",
    "d1.info()  \n",
    "\n",
    "# both have same method info(),in this case MRO is used, MRO specifies methods should be inherited from the left most superclass first so 1 is used"
   ]
  },
  {
   "cell_type": "code",
   "execution_count": 13,
   "id": "7ed326bd-cb48-49ac-96e2-0ac321d5b377",
   "metadata": {},
   "outputs": [
    {
     "name": "stdout",
     "output_type": "stream",
     "text": [
      "3\n",
      "Python Programming\n"
     ]
    }
   ],
   "source": [
    "# polymorphism:- condition of occurrence in different forms, single type entity(method, operator or object) \n",
    "                 #to represent different types in different scenarios\n",
    "# polymorphism in addition operator\n",
    "num1 = 1 \n",
    "num2 = 2\n",
    "print(num1+num2)\n",
    "str1 = \"Python\"\n",
    "str2 = \"Programming\"\n",
    "print(str1+\" \"+str2)\n"
   ]
  },
  {
   "cell_type": "code",
   "execution_count": 14,
   "id": "fa54aedc-d245-4c23-97ba-642bd66d1052",
   "metadata": {},
   "outputs": [
    {
     "name": "stdout",
     "output_type": "stream",
     "text": [
      "9\n",
      "3\n",
      "2\n"
     ]
    }
   ],
   "source": [
    "# function polymorphism\n",
    "#There are some functions in Python which are compatible to run with multiple data types. One such function is the len() function.\n",
    "print(len(\"Programiz\"))\n",
    "print(len([\"Python\", \"Java\", \"C\"]))\n",
    "print(len({\"Name\": \"John\", \"Address\": \"Nepal\"}))\n"
   ]
  },
  {
   "cell_type": "code",
   "execution_count": 15,
   "id": "a906b177-d72e-4e80-ba9a-d2a949f1cff8",
   "metadata": {},
   "outputs": [
    {
     "name": "stdout",
     "output_type": "stream",
     "text": [
      "Meow\n",
      "I am a cat. My name is Kitty. I am 2.5 years old.\n",
      "Meow\n",
      "Bark\n",
      "I am a dog. My name is Fluffy. I am 4 years old.\n",
      "Bark\n"
     ]
    },
    {
     "data": {
      "text/plain": [
       "'\\nHere, we have created two classes Cat and Dog. They share a similar structure and have the same method names info() and make_sound().\\nHowever, notice that we have not created a common superclass or linked the classes together in any way. \\nEven then, we can pack these two different objects into a tuple and iterate through it using a common animal variable.\\nIt is possible due to polymorphism.\\n'"
      ]
     },
     "execution_count": 15,
     "metadata": {},
     "output_type": "execute_result"
    }
   ],
   "source": [
    "# class polymorphism\n",
    "class Cat:\n",
    "    def __init__(self, name, age):\n",
    "        self.name = name\n",
    "        self.age = age\n",
    "\n",
    "    def info(self):\n",
    "        print(f\"I am a cat. My name is {self.name}. I am {self.age} years old.\")\n",
    "\n",
    "    def make_sound(self):\n",
    "        print(\"Meow\")\n",
    "\n",
    "\n",
    "class Dog:\n",
    "    def __init__(self, name, age):\n",
    "        self.name = name\n",
    "        self.age = age\n",
    "\n",
    "    def info(self):\n",
    "        print(f\"I am a dog. My name is {self.name}. I am {self.age} years old.\")\n",
    "\n",
    "    def make_sound(self):\n",
    "        print(\"Bark\")\n",
    "\n",
    "\n",
    "cat1 = Cat(\"Kitty\", 2.5)\n",
    "dog1 = Dog(\"Fluffy\", 4)\n",
    "\n",
    "for animal in (cat1, dog1):\n",
    "    animal.make_sound()\n",
    "    animal.info()\n",
    "    animal.make_sound()\n",
    "\"\"\"\n",
    "Here, we have created two classes Cat and Dog. They share a similar structure and have the same method names info() and make_sound().\n",
    "However, notice that we have not created a common superclass or linked the classes together in any way. \n",
    "Even then, we can pack these two different objects into a tuple and iterate through it using a common animal variable.\n",
    "It is possible due to polymorphism.\n",
    "\"\"\""
   ]
  },
  {
   "cell_type": "markdown",
   "id": "7fb7ff91-4b9d-44d0-bc6f-d689334a19fc",
   "metadata": {},
   "source": [
    "#### polymorphism and inheritance:- \n",
    "the child classes in Python also inherit methods and attributes from the parent class.<br>\n",
    "We can redefine certain methods and attributes specifically to fit the child class, \n",
    "which is known as Method Overriding.<br>\n",
    "Polymorphism allows us to access these overridden methods and attributes that have the same name as the parent class.<br>"
   ]
  },
  {
   "cell_type": "code",
   "execution_count": 16,
   "id": "61e3fcd7-2f2e-4053-804b-c85317eeee8f",
   "metadata": {},
   "outputs": [
    {
     "name": "stdout",
     "output_type": "stream",
     "text": [
      "Circle\n",
      "I am a two dimensional shape\n",
      "Squares have each angle equal to 90 degrees.\n",
      "153.93804002589985\n"
     ]
    }
   ],
   "source": [
    "# method overriding\n",
    "from math import pi\n",
    "class Shape:\n",
    "    def __init__(self,name):\n",
    "        self.name = name\n",
    "    def area(self):\n",
    "        pass\n",
    "    def fact(self):\n",
    "        return \"I am a two dimensional shape\"\n",
    "    def __str__(self):\n",
    "        return self.name\n",
    "\n",
    "class Square(Shape):\n",
    "    def __init__(self, length):\n",
    "        super().__init__(\"Square\")\n",
    "        self.length = length\n",
    "\n",
    "    def area(self):\n",
    "        return self.length**2\n",
    "\n",
    "    def fact(self):\n",
    "        return \"Squares have each angle equal to 90 degrees.\"\n",
    "\n",
    "class Circle(Shape):\n",
    "    def __init__(self, radius):\n",
    "        super().__init__(\"Circle\")\n",
    "        self.radius = radius\n",
    "\n",
    "    def area(self):\n",
    "        return pi*self.radius**2\n",
    "\n",
    "a = Square(4)\n",
    "b = Circle(7)\n",
    "print(b)\n",
    "print(b.fact())\n",
    "print(a.fact())\n",
    "print(b.area())"
   ]
  },
  {
   "cell_type": "markdown",
   "id": "32063430-7042-4cb0-a0d7-c40332400696",
   "metadata": {},
   "source": [
    "#### python operator overloading\n",
    "As we know, the + operator can perform addition on two numbers, merge two lists, or concatenate two strings.<br>\n",
    "With some tweaks, we can use the + operator to work with user-defined objects as well. This feature in Python,<br> \n",
    "which allows the same operator to have different meanings depending on the context is called operator overloading."
   ]
  },
  {
   "cell_type": "code",
   "execution_count": 17,
   "id": "3dbc7f29-8253-4e55-b8ed-6f1385281136",
   "metadata": {},
   "outputs": [
    {
     "name": "stdout",
     "output_type": "stream",
     "text": [
      "11\n"
     ]
    }
   ],
   "source": [
    "# python special functions\n",
    "#methods that have two underscores, __, before and after their names have a special meaning. \n",
    "#For example, __add__(), __len__()\n",
    "number1 = 5\n",
    "\n",
    "# similar to number2 = number1 + 6\n",
    "number2 = number1.__add__(6)\n",
    "    \n",
    "print(number2)  \n",
    "# + operator internally calls the __add__() method to add integers and floats."
   ]
  },
  {
   "cell_type": "markdown",
   "id": "741cc421-253e-4bbd-bdec-b98790c0aa44",
   "metadata": {},
   "source": [
    "#### Special Functions\n",
    "\n",
    "1. __init__()\n",
    "\tInitialize the attributes of the object.\n",
    "2. __str__()\n",
    "\tReturns a string representation of the object.\n",
    "3. __len__()\n",
    "\tReturns the length of the object.\n",
    "4. __add__()\n",
    "\tAdds two objects.\n",
    "5. __call__()\n",
    "\tCall objects of the class like a normal function."
   ]
  },
  {
   "cell_type": "code",
   "execution_count": 18,
   "id": "149a8c59-aec5-445b-9681-b5f8e81bb7c2",
   "metadata": {},
   "outputs": [
    {
     "name": "stdout",
     "output_type": "stream",
     "text": [
      "(3, 5)\n"
     ]
    }
   ],
   "source": [
    "#How to Use Operator Overloading?\n",
    "# Example: Add Two Coordinates (Without Overloading)\n",
    "class Point:\n",
    "    def __init__(self, x = 0, y = 0):\n",
    "        self.x = x\n",
    "        self.y = y\n",
    "    \n",
    "    def add_points(self, other):\n",
    "        x = self.x + other.x\n",
    "        y = self.y + other.y\n",
    "        return Point(x, y)\n",
    "        \n",
    "    \n",
    "    \n",
    "p1 = Point(1, 2)\n",
    "p2 = Point(2, 3)\n",
    "\n",
    "p3 = p1.add_points(p2)\n",
    "\n",
    "print((p3.x, p3.y))"
   ]
  },
  {
   "cell_type": "code",
   "execution_count": 19,
   "id": "bc4cded7-fbe5-4c30-9fc1-17fffe1bc739",
   "metadata": {},
   "outputs": [
    {
     "name": "stdout",
     "output_type": "stream",
     "text": [
      "(3, 5)\n"
     ]
    }
   ],
   "source": [
    "# Example: Add Two Coordinates (With Overloading)\n",
    "class Point:\n",
    "    def __init__(self, x = 0, y = 0):\n",
    "        self.x = x\n",
    "        self.y = y\n",
    "    \n",
    "    def __add__(self, other):\n",
    "        x = self.x + other.x\n",
    "        y = self.y + other.y\n",
    "        return Point(x, y)\n",
    "    \n",
    "    \n",
    "p1 = Point(1, 2)\n",
    "p2 = Point(2, 3)\n",
    "\n",
    "# this statment calls the __add__() method\n",
    "p3 = p1 + p2\n",
    "\n",
    "print((p3.x, p3.y))   # Output: (3, 5)"
   ]
  },
  {
   "cell_type": "markdown",
   "id": "744c7bcb-8f25-4059-a74c-7cb3216dcf0a",
   "metadata": {},
   "source": [
    "### Write a Python program to create a class representing a Circle. Include methods to calculate its area and perimeter."
   ]
  },
  {
   "cell_type": "code",
   "execution_count": 20,
   "id": "b68ebc86-9a45-4926-a07f-82399e4d761b",
   "metadata": {},
   "outputs": [
    {
     "name": "stdout",
     "output_type": "stream",
     "text": [
      "113.09733552923255\n",
      "37.69911184307752\n"
     ]
    }
   ],
   "source": [
    "from math import pi\n",
    "class Circle:\n",
    "    def __init__(self, radius):\n",
    "        self.radius = radius\n",
    "\n",
    "    def area(self):\n",
    "        return pi*self.radius**2\n",
    "\n",
    "    def perimeter(self):\n",
    "        return 2*pi*self.radius\n",
    "        \n",
    "d1 = Circle(5)\n",
    "d1.radius = (6)\n",
    "print(d1.area())\n",
    "print(d1.perimeter())"
   ]
  },
  {
   "cell_type": "markdown",
   "id": "8048db1a-2b96-4031-bf31-0ff02f995584",
   "metadata": {},
   "source": [
    "### Write a Python program to create a person class. Include attributes like name, country and date of birth. Implement a method to determine the person's age. "
   ]
  },
  {
   "cell_type": "code",
   "execution_count": 21,
   "id": "dfbbb4e3-264e-4426-aa23-0011cdf0d0f1",
   "metadata": {},
   "outputs": [
    {
     "name": "stdout",
     "output_type": "stream",
     "text": [
      "<__main__.Person object at 0x000001EB3775A900>\n",
      "{'year': 22, 'month': 4, 'days': 20, 'age': 22.383561643835616}\n"
     ]
    }
   ],
   "source": [
    "import datetime\n",
    "\n",
    "class Person:\n",
    "    def __init__(self, name, country, year, month, day):\n",
    "        self.name = name\n",
    "        self.country = country\n",
    "        self.dob = datetime.date(year,month,day)\n",
    "\n",
    "    def age(self):\n",
    "        time = datetime.datetime.now().date() - self.dob\n",
    "        diff_years = time.days//365\n",
    "        diff_month = (time.days%365)//30\n",
    "        diff_days = (time.days%365)%30\n",
    "        return{\n",
    "            'year':diff_years,\n",
    "            'month':diff_month,\n",
    "            'days':diff_days,\n",
    "            'age':time.days/365\n",
    "        }\n",
    "\n",
    "a1 = Person(\"Swaraj\", \"Nepal\", 2002, 9, 18)\n",
    "print(a1)\n",
    "print(a1.age())"
   ]
  },
  {
   "cell_type": "markdown",
   "id": "aa28ab9e-e7df-479f-b247-997be05fdcfb",
   "metadata": {},
   "source": [
    "### Write a Python program to create a calculator class. Include methods for basic arithmetic operations."
   ]
  },
  {
   "cell_type": "code",
   "execution_count": 22,
   "id": "e0eae22f-c0b7-44dc-80b0-97e28d0a9bd6",
   "metadata": {},
   "outputs": [
    {
     "name": "stdout",
     "output_type": "stream",
     "text": [
      "9\n",
      "1\n",
      "20\n",
      "1.25\n"
     ]
    }
   ],
   "source": [
    "class Calculator:\n",
    "    def __init__(self,x,y):\n",
    "        self.x = x\n",
    "        self.y = y\n",
    "        \n",
    "    def add(self):\n",
    "        return (self.x + self.y)\n",
    "    def subtract(self):\n",
    "        return (self.x - self.y)\n",
    "    def multiply(self):\n",
    "        return (self.x * self.y)\n",
    "    def divide(self):\n",
    "        return (self.x / self.y)\n",
    "\n",
    "a = Calculator(5,4)\n",
    "\n",
    "print(a.add())\n",
    "print(a.subtract())\n",
    "print(a.multiply())\n",
    "print(a.divide())"
   ]
  },
  {
   "cell_type": "markdown",
   "id": "2eafa33e-1366-4485-bcd6-a9937c82d574",
   "metadata": {},
   "source": [
    "### Write a Python program to create a class that represents a shape. Include methods to calculate its area and perimeter. Implement subclasses for different shapes like circle, rectangle, and square."
   ]
  },
  {
   "cell_type": "code",
   "execution_count": 23,
   "id": "1893405a-9759-40bf-921f-c4e37e44e0be",
   "metadata": {},
   "outputs": [
    {
     "name": "stdout",
     "output_type": "stream",
     "text": [
      "Radius of the circle: 7\n",
      "Circle Area: 153.93804002589985\n",
      "Circle Perimeter: 43.982297150257104\n",
      "\n",
      "Rectangle: Length = 5  Width = 7\n",
      "Rectangle Area: 35\n",
      "Rectangle Perimeter: 24\n",
      "\n",
      "Square: Length = 4\n",
      "Square Area: 16\n",
      "Square Perimeter: 16\n"
     ]
    }
   ],
   "source": [
    "import math\n",
    "\n",
    "class Shape:\n",
    "    def calculate_area(self):\n",
    "        pass\n",
    "        \n",
    "    def calculate_perimeter(self):\n",
    "        pass\n",
    "\n",
    "class Circle(Shape):\n",
    "    def __init__(self, radius):\n",
    "        self.radius = radius\n",
    "\n",
    "    def calculate_area(self):\n",
    "        return math.pi * self.radius**2\n",
    "\n",
    "    def calculate_perimeter(self):\n",
    "        return 2 * math.pi * self.radius\n",
    "\n",
    "class Rectangle(Shape):\n",
    "    def __init__(self, length, width):\n",
    "        self.length = length\n",
    "        self.width = width\n",
    "\n",
    "    def calculate_area(self):\n",
    "        return self.length * self.width\n",
    "\n",
    "    def calculate_perimeter(self):\n",
    "        return 2 * (self.length + self.width)\n",
    "\n",
    "class Square(Shape):\n",
    "    def __init__(self, length):\n",
    "        self.length = length\n",
    "\n",
    "    def calculate_area(self):\n",
    "        return self.length ** 2\n",
    "\n",
    "    def calculate_perimeter(self):\n",
    "        return 4 * (self.length)\n",
    "r = 7\n",
    "circle = Circle(r)\n",
    "circle_area = circle.calculate_area()\n",
    "circle_perimeter = circle.calculate_perimeter()\n",
    "\n",
    "print(\"Radius of the circle:\", r)\n",
    "print(\"Circle Area:\", circle_area)\n",
    "print(\"Circle Perimeter:\", circle_perimeter)\n",
    "\n",
    "l = 5\n",
    "w = 7\n",
    "rectangle = Rectangle(l, w)\n",
    "rectangle_area = rectangle.calculate_area()\n",
    "rectangle_perimeter = rectangle.calculate_perimeter()\n",
    "\n",
    "print(\"\\nRectangle: Length =\", l, \" Width =\", w)\n",
    "print(\"Rectangle Area:\", rectangle_area)\n",
    "print(\"Rectangle Perimeter:\", rectangle_perimeter)\n",
    "\n",
    "length = 4\n",
    "\n",
    "print(\"\\nSquare: Length =\", length)\n",
    "square = Square(length)\n",
    "square_area = square.calculate_area()\n",
    "square_perimeter = square.calculate_perimeter()\n",
    "print(\"Square Area:\", square_area)\n",
    "print(\"Square Perimeter:\", square_perimeter)"
   ]
  },
  {
   "cell_type": "markdown",
   "id": "73c9443c-068b-4323-a81e-c4699f018c52",
   "metadata": {},
   "source": [
    "### Write a Python program to create a class representing a stack data structure. Include methods for pushing and popping elements."
   ]
  },
  {
   "cell_type": "code",
   "execution_count": 24,
   "id": "418c8187-c647-4d41-88c5-bad23e2dd04a",
   "metadata": {},
   "outputs": [
    {
     "name": "stdout",
     "output_type": "stream",
     "text": [
      "Stack size: 5\n",
      "Top element: 4\n",
      "\n",
      "Popped item: 4\n",
      "\n",
      "Stack size: 4\n",
      "Top element: 3\n",
      "\n",
      "Stack size: 0\n",
      "\n",
      "Popped item: Cannot pop from an empty stack\n"
     ]
    }
   ],
   "source": [
    "class Stack:\n",
    "    def __init__(self):\n",
    "        self.items = []\n",
    "\n",
    "    def push(self, item):\n",
    "        self.items.append(item)\n",
    "\n",
    "    def pop(self):\n",
    "        if len(self.items) != 0:\n",
    "            return self.items.pop()\n",
    "        else:\n",
    "            return \"Cannot pop from an empty stack\"\n",
    "            \n",
    "    def size(self):\n",
    "        return len(self.items)\n",
    "\n",
    "    def peek(self):\n",
    "        if len(self.items) != 0:\n",
    "            return self.items[-1]\n",
    "        else:\n",
    "            return \"Empty stack.\"\n",
    "\n",
    "stack = Stack()\n",
    "stack.push(0)\n",
    "stack.push(1)\n",
    "stack.push(2)\n",
    "stack.push(3)\n",
    "stack.push(4)\n",
    "\n",
    "print(\"Stack size:\", stack.size())\n",
    "print(\"Top element:\", stack.peek())\n",
    "\n",
    "popped_item = stack.pop()\n",
    "print(\"\\nPopped item:\", popped_item)\n",
    "print(\"\\nStack size:\", stack.size())\n",
    "print(\"Top element:\", stack.peek())\n",
    "\n",
    "stack1 = Stack()\n",
    "print(\"\\nStack size:\", stack1.size())\n",
    "popped_item = stack1.pop()\n",
    "print(\"\\nPopped item:\", popped_item) "
   ]
  },
  {
   "cell_type": "markdown",
   "id": "281c7233-a495-470a-ae75-64b1cae3000a",
   "metadata": {},
   "source": [
    "### Write a Python program to create a class representing a shopping cart. Include methods for adding and removing items, and calculating the total price. "
   ]
  },
  {
   "cell_type": "code",
   "execution_count": 25,
   "id": "84747e55-2787-436a-82b1-fc825d5df817",
   "metadata": {},
   "outputs": [
    {
     "name": "stdout",
     "output_type": "stream",
     "text": [
      "Current Items in Cart:\n",
      "Papaya - 100\n",
      "Guava - 200\n",
      "Orange - 150\n",
      "Total Quantity: 450\n",
      "\n",
      "Updated Items in Cart after removing Orange:\n",
      "Papaya - 100\n",
      "Guava - 200\n",
      "Total Quantity: 300\n"
     ]
    }
   ],
   "source": [
    "class Cart:\n",
    "    def __init__(self):\n",
    "        self.items = []\n",
    "        \n",
    "    def add_items(self, item_name, qty):\n",
    "        item = (item_name, qty)\n",
    "        self.items.append(item)\n",
    "        \n",
    "    def remove_items(self, item_name):\n",
    "        for item in self.items:\n",
    "            if item[0] == item_name:\n",
    "                self.items.remove(item)\n",
    "                break\n",
    "                \n",
    "    def total(self):\n",
    "        total = 0\n",
    "        for item in self.items:\n",
    "            total += item[1]\n",
    "        return total\n",
    "\n",
    "cart = Cart()\n",
    "\n",
    "cart.add_items(\"Papaya\", 100)\n",
    "cart.add_items(\"Guava\", 200)\n",
    "cart.add_items(\"Orange\", 150)\n",
    "\n",
    "print(\"Current Items in Cart:\")\n",
    "for item in cart.items:\n",
    "    print(item[0], \"-\", item[1])\n",
    "\n",
    "total_qty = cart.total()\n",
    "print(\"Total Quantity:\", total_qty)\n",
    "\n",
    "cart.remove_items(\"Orange\")\n",
    "print(\"\\nUpdated Items in Cart after removing Orange:\")\n",
    "for item in cart.items:\n",
    "    print(item[0], \"-\", item[1])\n",
    "\n",
    "total_qty = cart.total()\n",
    "print(\"Total Quantity:\", total_qty) "
   ]
  },
  {
   "cell_type": "markdown",
   "id": "c24d0f84-4d47-4034-91b4-e676f03622de",
   "metadata": {},
   "source": [
    "### Write a Python program to create a class representing a queue data structure. Include methods for enqueueing and dequeueing elements"
   ]
  },
  {
   "cell_type": "code",
   "execution_count": 26,
   "id": "7f9983f6-6157-4911-bde4-1ec505d2f761",
   "metadata": {},
   "outputs": [
    {
     "name": "stdout",
     "output_type": "stream",
     "text": [
      "Current Queue: [10, 20, 30, 40, 50]\n",
      "Dequeued item: 10\n",
      "Dequeued item: 20\n",
      "Updated Queue: [30, 40, 50]\n"
     ]
    }
   ],
   "source": [
    "class Queue:\n",
    "    def __init__(self):\n",
    "        self.items = []\n",
    "\n",
    "    def enqueue(self, item):\n",
    "        self.items.append(item)\n",
    "\n",
    "    def dequeue(self):\n",
    "        if len(self.items)!= 0:\n",
    "            return self.items.pop(0)\n",
    "        else:\n",
    "            print(\"Empty queue\")\n",
    "\n",
    "queue = Queue()\n",
    "queue.enqueue(10)\n",
    "queue.enqueue(20)\n",
    "queue.enqueue(30)\n",
    "queue.enqueue(40)\n",
    "queue.enqueue(50)\n",
    "\n",
    "print(\"Current Queue:\", queue.items)\n",
    "dequeued_item = queue.dequeue()\n",
    "print(\"Dequeued item:\", dequeued_item)\n",
    "dequeued_item = queue.dequeue()\n",
    "print(\"Dequeued item:\", dequeued_item)\n",
    "\n",
    "print(\"Updated Queue:\", queue.items) "
   ]
  },
  {
   "cell_type": "markdown",
   "id": "69c59489-6946-4af2-a8b1-daa7a9b4abbf",
   "metadata": {},
   "source": [
    "### Write a Python program to create a class representing a bank. Include methods for managing customer accounts and transactions."
   ]
  },
  {
   "cell_type": "code",
   "execution_count": 27,
   "id": "2b9efa0e-7eed-49bc-8acc-6ba1de233fd0",
   "metadata": {},
   "outputs": [
    {
     "name": "stdout",
     "output_type": "stream",
     "text": [
      "New a/c No.:  123 Deposit Amount: 1000\n",
      "Account created successfully.\n",
      "New a/c No.:  124 Deposit Amount: 1500\n",
      "Account created successfully.\n",
      "\n",
      "Deposit Rs. 600 to A/c No. 123\n",
      "Deposit successful.\n",
      "Withdraw Rs. 350 From A/c No. 124\n",
      "Withdrawal successful.\n",
      "A/c. No. 123\n",
      "Account balance: 1600\n",
      "A/c. No. 124\n",
      "Account balance: 1150\n",
      "Withdraw Rs. 1200 From A/c No. 124\n",
      "Insufficient funds.\n",
      "A/c. No. 134\n",
      "Account number does not exist.\n"
     ]
    }
   ],
   "source": [
    "class Bank:\n",
    "    def __init__(self):\n",
    "        self.customers = {}\n",
    "\n",
    "    def create_account(self, account_number, initial_balance=0):\n",
    "        if account_number in self.customers:\n",
    "            print(\"Account number already exists.\")\n",
    "        else:\n",
    "            self.customers[account_number] = initial_balance\n",
    "            print(\"Account created successfully.\")\n",
    "\n",
    "    def make_deposit(self, account_number, amount):\n",
    "        if account_number in self.customers:\n",
    "            self.customers[account_number] += amount\n",
    "            print(\"Deposit successful.\")\n",
    "        else:\n",
    "            print(\"Account number does not exist.\")\n",
    "\n",
    "    def make_withdrawal(self, account_number, amount):\n",
    "        if account_number in self.customers:\n",
    "            if self.customers[account_number] >= amount:\n",
    "                self.customers[account_number] -= amount\n",
    "                print(\"Withdrawal successful.\")\n",
    "            else:\n",
    "                print(\"Insufficient funds.\")\n",
    "        else:\n",
    "            print(\"Account number does not exist.\")\n",
    "\n",
    "    def check_balance(self, account_number):\n",
    "        if account_number in self.customers:\n",
    "            balance = self.customers[account_number]\n",
    "            print(f\"Account balance: {balance}\")\n",
    "        else:\n",
    "            print(\"Account number does not exist.\")\n",
    "\n",
    "bank = Bank()\n",
    "\n",
    "acno1= \"123\"\n",
    "damt1 = 1000\n",
    "print(\"New a/c No.: \",acno1,\"Deposit Amount:\",damt1)\n",
    "bank.create_account(acno1, damt1)\n",
    "\n",
    "acno2= \"124\"\n",
    "damt2 = 1500\n",
    "print(\"New a/c No.: \",acno2,\"Deposit Amount:\",damt2)\n",
    "bank.create_account(acno2, damt2)\n",
    "\n",
    "wamt1 = 600\n",
    "print(\"\\nDeposit Rs.\",wamt1,\"to A/c No.\",acno1)\n",
    "bank.make_deposit(acno1, wamt1)\n",
    "\n",
    "wamt2 = 350\n",
    "print(\"Withdraw Rs.\",wamt2,\"From A/c No.\",acno2)\n",
    "bank.make_withdrawal(acno2, wamt2)\n",
    "\n",
    "print(\"A/c. No.\",acno1)\n",
    "bank.check_balance(acno1)\n",
    "\n",
    "print(\"A/c. No.\",acno2)\n",
    "bank.check_balance(acno2)\n",
    "\n",
    "wamt3 = 1200\n",
    "print(\"Withdraw Rs.\",wamt3,\"From A/c No.\",acno2)\n",
    "bank.make_withdrawal(acno2, wamt3)\n",
    "\n",
    "acno3 = \"134\"\n",
    "print(\"A/c. No.\",acno3)\n",
    "bank.check_balance(acno3)"
   ]
  },
  {
   "cell_type": "markdown",
   "id": "1c3fb23e-a8b7-41aa-9082-ea466d7e4591",
   "metadata": {},
   "source": [
    " ### Write a Python class Employee with attributes like emp_id, emp_name, emp_salary, and emp_department and methods like calculate_emp_salary, emp_assign_department, and print_employee_details.\n",
    "Sample Employee Data:\n",
    "\"ADAMS\", \"E7876\", 50000, \"ACCOUNTING\"<br>\n",
    "\"JONES\", \"E7499\", 45000, \"RESEARCH\"<br>\n",
    "\"MARTIN\", \"E7900\", 50000, \"SALES\"<br>\n",
    "\"SMITH\", \"E7698\", 55000, \"OPERATIONS\"<br>\n",
    "\n",
    "    Use 'assign_department' method to change the department of an employee.\n",
    "    Use 'print_employee_details' method to print the details of an employee.\n",
    "    Use 'calculate_emp_salary' method takes two arguments: salary and hours_worked, which is the number of hours worked by the employee. If the number of hours worked is more than 50, the method computes overtime and adds it to the salary. Overtime is calculated as following formula:\n",
    "\n",
    "overtime = hours_worked - 50<br>\n",
    "Overtime amount = (overtime * (salary / 50))<br>"
   ]
  },
  {
   "cell_type": "code",
   "execution_count": 28,
   "id": "4fad3f67-ab89-47ee-a783-1dd08c5296dc",
   "metadata": {},
   "outputs": [
    {
     "name": "stdout",
     "output_type": "stream",
     "text": [
      "Original Employee Details:\n",
      "\n",
      " ID: ADAMS\n",
      "Name: E7876\n",
      "Salary: 50000\n",
      "Department: ACCOUNTING\n",
      "\n",
      " ID: JONES\n",
      "Name: E7499\n",
      "Salary: 45000\n",
      "Department: RESEARCH\n",
      "\n",
      " ID: MARTIN\n",
      "Name: E7900\n",
      "Salary: 50000\n",
      "Department: SALES\n",
      "\n",
      " ID: SMITH\n",
      "Name: E7698\n",
      "Salary: 55000\n",
      "Department: OPERATIONS\n",
      "Updated Employee Details:\n",
      "\n",
      " ID: ADAMS\n",
      "Name: E7876\n",
      "Salary: 50000\n",
      "Department: OPERATIONS\n",
      "\n",
      " ID: JONES\n",
      "Name: E7499\n",
      "Salary: 46800.0\n",
      "Department: RESEARCH\n",
      "\n",
      " ID: MARTIN\n",
      "Name: E7900\n",
      "Salary: 50000\n",
      "Department: SALES\n",
      "\n",
      " ID: SMITH\n",
      "Name: E7698\n",
      "Salary: 64000.0\n",
      "Department: SALES\n"
     ]
    }
   ],
   "source": [
    "class Employee:\n",
    "    def __init__(self, emp_id, emp_name, emp_salary, emp_department):\n",
    "        self.emp_id = emp_id\n",
    "        self.emp_name = emp_name\n",
    "        self.emp_salary = emp_salary\n",
    "        self.emp_department = emp_department\n",
    "    \n",
    "    def calc_salary(self, salary, hours_worked):\n",
    "        overtime = 0\n",
    "        if hours_worked>50:\n",
    "            overtime = hours_worked - 50\n",
    "        self.emp_salary = self.emp_salary + (overtime*(salary/50))\n",
    "\n",
    "    def assign_dept(self, emp_department):\n",
    "        self.emp_department = emp_department\n",
    "\n",
    "    def print_emp_details(self):\n",
    "        print(\"\\n ID:\",self.emp_id)\n",
    "        print(\"Name:\",self.emp_name)\n",
    "        print(\"Salary:\",self.emp_salary)\n",
    "        print(\"Department:\",self.emp_department)\n",
    "        \n",
    "\n",
    "employee1 = Employee(\"ADAMS\", \"E7876\", 50000, \"ACCOUNTING\")\n",
    "employee2 = Employee(\"JONES\", \"E7499\", 45000, \"RESEARCH\")\n",
    "employee3 = Employee(\"MARTIN\", \"E7900\", 50000, \"SALES\")\n",
    "employee4 = Employee(\"SMITH\", \"E7698\", 55000, \"OPERATIONS\")\n",
    "\n",
    "print(\"Original Employee Details:\")\n",
    "employee1.print_emp_details()\n",
    "employee2.print_emp_details()\n",
    "employee3.print_emp_details()\n",
    "employee4.print_emp_details()\n",
    "\n",
    "employee1.assign_dept(\"OPERATIONS\")\n",
    "employee4.assign_dept(\"SALES\")\n",
    "employee2.calc_salary(45000, 52)\n",
    "employee4.calc_salary(45000, 60)\n",
    "\n",
    "print(\"Updated Employee Details:\")\n",
    "employee1.print_emp_details()\n",
    "employee2.print_emp_details()\n",
    "employee3.print_emp_details()\n",
    "employee4.print_emp_details()"
   ]
  },
  {
   "cell_type": "markdown",
   "id": "cde05e50-f778-4404-a176-2f1ee22d9a09",
   "metadata": {},
   "source": [
    "### Write a Python class Inventory with attributes like item_id, item_name, stock_count, and price, and methods like add_item, update_item, and check_item_details.\n",
    "Use a dictionary to store the item details, where the key is the item_id and the value is a dictionary containing the item_name, stock_count, and price."
   ]
  },
  {
   "cell_type": "code",
   "execution_count": 29,
   "id": "a54c3080-1294-4cc4-91f0-ce52d027ba80",
   "metadata": {},
   "outputs": [
    {
     "name": "stdout",
     "output_type": "stream",
     "text": [
      "Item Details:\n",
      "Product Name: Laptop, Stock Count: 100, Price: 500\n",
      "Product Name: Mobile, Stock Count: 110, Price: 450\n",
      "Product Name: Desktop, Stock Count: 120, Price: 500\n",
      "Product Name: Tablet, Stock Count: 90, Price: 550\n",
      "\n",
      "Update the price of item code - '1':\n",
      "Item not found in inventory.\n",
      "Product Name: Laptop, Stock Count: 100, Price: 500\n",
      "\n",
      "Update the stock of item code - '3':\n",
      "Product Name: Desktop, Stock Count: 115, Price: 500\n"
     ]
    }
   ],
   "source": [
    "class Inventory:\n",
    "    def __init__(self):\n",
    "        self.inventory = {}\n",
    "    \n",
    "    def add_item(self, item_id, item_name, stock_count, price):\n",
    "        self.inventory[item_id] = {\"item_name\": item_name, \"stock_count\": stock_count, \"price\": price}\n",
    "\n",
    "    def update_item(self,item_id, stock_count, price):\n",
    "        if item_id in self.inventory:\n",
    "            self.inventory[item_id][\"stock_count\"] = stock_count\n",
    "            self.inventory[item_id][\"price\"] = price\n",
    "        else:\n",
    "            print(\"Item not found in inventory.\")\n",
    "\n",
    "\n",
    "    def check_item_details(self, item_id):\n",
    "        if item_id in self.inventory:\n",
    "            item = self.inventory[item_id]\n",
    "            return f\"Product Name: {item['item_name']}, Stock Count: {item['stock_count']}, Price: {item['price']}\"\n",
    "        else:\n",
    "            return \"Item not found in inventory.\"\n",
    "\n",
    "inventory = Inventory()\n",
    "\n",
    "inventory.add_item(\"1\", \"Laptop\", 100, 500)\n",
    "inventory.add_item(\"2\", \"Mobile\", 110, 450)\n",
    "inventory.add_item(\"3\", \"Desktop\", 120, 500)\n",
    "inventory.add_item(\"4\", \"Tablet\", 90, 550)\n",
    "\n",
    "print(\"Item Details:\")\n",
    "print(inventory.check_item_details(\"1\"))\n",
    "print(inventory.check_item_details(\"2\"))\n",
    "print(inventory.check_item_details(\"3\"))\n",
    "print(inventory.check_item_details(\"4\"))\n",
    "\n",
    "print(\"\\nUpdate the price of item code - '1':\")\n",
    "inventory.update_item(\"I001\", 100, 505)\n",
    "print(inventory.check_item_details(\"1\"))\n",
    "\n",
    "print(\"\\nUpdate the stock of item code - '3':\")\n",
    "inventory.update_item(\"3\", 115, 500)\n",
    "print(inventory.check_item_details(\"3\"))\n"
   ]
  },
  {
   "cell_type": "markdown",
   "id": "fc760a45-f565-4a52-8274-1b2adec73741",
   "metadata": {},
   "source": [
    "## Method overloading in python\n",
    "\n",
    "for C++ simply another function can be created to do overloading of methods but for python if we try to do the same then it throws error\n",
    "i.e:-"
   ]
  },
  {
   "cell_type": "code",
   "execution_count": 30,
   "id": "79d35c81-9db6-46ee-81d2-71af63fbe5ad",
   "metadata": {},
   "outputs": [
    {
     "name": "stdout",
     "output_type": "stream",
     "text": [
      "Second method: 104\n"
     ]
    },
    {
     "ename": "TypeError",
     "evalue": "sumClass.sum() missing 1 required positional argument: 'c'",
     "output_type": "error",
     "traceback": [
      "\u001b[1;31m---------------------------------------------------------------------------\u001b[0m",
      "\u001b[1;31mTypeError\u001b[0m                                 Traceback (most recent call last)",
      "Cell \u001b[1;32mIn[30], line 9\u001b[0m\n\u001b[0;32m      7\u001b[0m obj\u001b[38;5;241m=\u001b[39msumClass()\n\u001b[0;32m      8\u001b[0m obj\u001b[38;5;241m.\u001b[39msum(\u001b[38;5;241m19\u001b[39m, \u001b[38;5;241m8\u001b[39m, \u001b[38;5;241m77\u001b[39m) \u001b[38;5;66;03m#correct output\u001b[39;00m\n\u001b[1;32m----> 9\u001b[0m \u001b[43mobj\u001b[49m\u001b[38;5;241;43m.\u001b[39;49m\u001b[43msum\u001b[49m\u001b[43m(\u001b[49m\u001b[38;5;241;43m18\u001b[39;49m\u001b[43m,\u001b[49m\u001b[43m \u001b[49m\u001b[38;5;241;43m20\u001b[39;49m\u001b[43m)\u001b[49m \u001b[38;5;66;03m#throws error\u001b[39;00m\n",
      "\u001b[1;31mTypeError\u001b[0m: sumClass.sum() missing 1 required positional argument: 'c'"
     ]
    }
   ],
   "source": [
    "class sumClass:\n",
    "    def sum(self, a, b):\n",
    "        print(\"First method:\",a+b)\n",
    "    def sum(self, a, b, c):\n",
    "        print(\"Second method:\", a + b + c)\n",
    "        \n",
    "obj=sumClass()\n",
    "obj.sum(19, 8, 77) #correct output\n",
    "obj.sum(18, 20) #throws error"
   ]
  },
  {
   "cell_type": "markdown",
   "id": "bde3426b-08a8-4847-8e58-e6cf2826fff1",
   "metadata": {},
   "source": [
    "so two ways to achieve method overloading:-\n"
   ]
  },
  {
   "cell_type": "code",
   "execution_count": 31,
   "id": "5991c51e-a548-4c09-aa54-28bd0cf22781",
   "metadata": {},
   "outputs": [
    {
     "name": "stdout",
     "output_type": "stream",
     "text": [
      "First method: 104\n",
      "Provide more numbers\n"
     ]
    }
   ],
   "source": [
    "class sumClass:\n",
    "    def sum(self, a = None, b = None, c = None):\n",
    "        if a != None and b == None or c == None:\n",
    "            print(\"Provide more numbers\") #if there is only 1 number as input\n",
    "        else:   \n",
    "            print(\"First method:\", a + b + c) #for calculating the sum\n",
    "        \n",
    "obj=sumClass()\n",
    "obj.sum(19, 8, 77)#104\n",
    "obj.sum(18)#Provide more numbers\n"
   ]
  },
  {
   "cell_type": "code",
   "execution_count": 32,
   "id": "c970674c-af49-4da0-b631-74d4df648828",
   "metadata": {},
   "outputs": [
    {
     "name": "stdout",
     "output_type": "stream",
     "text": [
      "11\n",
      "Hi Hello\n"
     ]
    }
   ],
   "source": [
    "def add(datatype, *args):\n",
    "\n",
    "    if datatype == 'int':\n",
    "        answer = 0\n",
    "\n",
    "    if datatype == 'str':\n",
    "        answer = ''\n",
    "\n",
    "    for x in args:\n",
    "        answer = answer + x\n",
    "\n",
    "    print(answer)\n",
    "\n",
    "\n",
    "# Integer\n",
    "add('int', 5, 6)\n",
    "\n",
    "# String\n",
    "add('str', 'Hi ', 'Hello')"
   ]
  },
  {
   "cell_type": "markdown",
   "id": "2f2c4fa2-3d0c-4404-a904-1f14ccee3a79",
   "metadata": {},
   "source": [
    "## Abstraction"
   ]
  },
  {
   "cell_type": "markdown",
   "id": "339b82c9-a35c-4ce1-be9a-09214fa62b0f",
   "metadata": {},
   "source": [
    "abstraction is one of the most essential concepts of Python OOPs which is used to hide irrelevant details from the user and show the details that are relevant to the users. For example, the readers of geeksforgeeks only know that a writer can write an article on geeksforgeeks, and when it gets published readers can read the articles but the reader is not aware of the background process of publishing the article.\n",
    "\n",
    "A simple example of this can be a car. A car has an accelerator, clutch, and break and we all know that pressing an accelerator will increase the speed of the car and applying the brake can stop the car but we don't know the internal mechanism of the car and how these functionalities can work this detail hiding is known as data abstraction."
   ]
  },
  {
   "cell_type": "markdown",
   "id": "a182a264-4c05-402d-8dec-9c47b26ae62f",
   "metadata": {},
   "source": [
    "Abstract class is a class in which one or more abstract methods are defined. When a method is declared inside the class without its implementation is known as abstract method.\n",
    "\n",
    "Abstract Method: In Python, abstract method feature is not a default feature. To create abstract method and abstract classes we have to import the \"ABC\" and \"abstractmethod\" classes from abc (Abstract Base Class) library. Abstract method of base class force its child class to write the implementation of the all abstract methods defined in base class. If we do not implement the abstract methods of base class in the child class then our code will give error. In the below code method_1 is a abstract method created using @abstractmethod decorator."
   ]
  },
  {
   "cell_type": "code",
   "execution_count": 33,
   "id": "1ac2d46e-6429-470e-b52e-617aff369cf6",
   "metadata": {},
   "outputs": [],
   "source": [
    "from abc import ABC, abstractmethod\n",
    "class BaseClass(ABC):\n",
    "    @abstractmethod\n",
    "    def method_1(self):\n",
    "         #empty body\n",
    "         pass"
   ]
  },
  {
   "cell_type": "markdown",
   "id": "c713cc56-84f7-40ab-803b-551a04b5807d",
   "metadata": {},
   "source": [
    "Concrete Method: Concrete methods are the methods defined in an abstract base class with their complete implementation. Concrete methods are required to avoid reprication of code in subclasses. For example, in abstract base class there may be a method that implementation is to be same in all its subclasses, so we write the implementation of that method in abstract base class after which we do not need to write implementation of the concrete method again and again in every subclass. In the below code startEngine is a concrete method."
   ]
  },
  {
   "cell_type": "code",
   "execution_count": 34,
   "id": "415a9147-93ed-48e7-982e-b94abb6d2da1",
   "metadata": {},
   "outputs": [],
   "source": [
    "class Car(ABC):\n",
    "    def __init__(self, brand, model, year):\n",
    "        self.brand = brand\n",
    "        self.model = model\n",
    "        self.year = year\n",
    "        self.engine_started = True\n",
    "\n",
    "    def startEngine(self):\n",
    "        if not self.engine_started:\n",
    "            print(f\"Starting the {self.model}'s engine.\")\n",
    "            self.engine_started = True\n",
    "        else:\n",
    "            print(\"Engine is already running.\")"
   ]
  },
  {
   "cell_type": "markdown",
   "id": "24d5edd3-e9c3-4de4-a62b-da8bd09d7a26",
   "metadata": {},
   "source": [
    "Steps to Create Abstract Base Class and Abstract Method:\n",
    "\n",
    "    Firstly, we import ABC and abstractmethod class from abc (Abstract Base Class) library.\n",
    "    Create a BaseClass that inherits from the ABC class. In Python, when a class inherits from ABC, it indicates that the class is intended to be an abstract base class.\n",
    "    Inside BaseClass we declare an abstract method named \"method_1\" by using \"abstractmethod\" decorater. Any subclass derived from BaseClass must implement this method_1 method. We write pass in this method which indicates that there is no code or logic in this method."
   ]
  },
  {
   "cell_type": "code",
   "execution_count": 35,
   "id": "e7d4b7ae-ccdc-4d52-b95a-4fa71cd2a235",
   "metadata": {},
   "outputs": [],
   "source": [
    "from abc import ABC, abstractmethod\n",
    "class BaseClass(ABC):\n",
    "    @abstractmethod\n",
    "    def method_1(self):\n",
    "         #empty body\n",
    "         pass"
   ]
  },
  {
   "cell_type": "markdown",
   "id": "6bad9122-ae7f-464c-85b4-964e764a1c57",
   "metadata": {},
   "source": [
    "Implementation"
   ]
  },
  {
   "cell_type": "code",
   "execution_count": 36,
   "id": "beab43d4-a091-4149-bba2-99f0449ebc5f",
   "metadata": {},
   "outputs": [
    {
     "name": "stdout",
     "output_type": "stream",
     "text": [
      "Bark\n",
      "This animal is sleeping.\n",
      "Meow\n",
      "This animal is sleeping.\n"
     ]
    }
   ],
   "source": [
    "from abc import ABC, abstractmethod\n",
    "\n",
    "# Abstract class\n",
    "class Animal(ABC):\n",
    "\n",
    "    @abstractmethod\n",
    "    def make_sound(self):\n",
    "        \"\"\"Abstract method to be implemented by subclasses.\"\"\"\n",
    "        pass\n",
    "\n",
    "    def sleep(self):\n",
    "        \"\"\"Concrete method common to all subclasses.\"\"\"\n",
    "        print(\"This animal is sleeping.\")\n",
    "\n",
    "# Subclass 1\n",
    "class Dog(Animal):\n",
    "    def make_sound(self):\n",
    "        print(\"Bark\")\n",
    "\n",
    "# Subclass 2\n",
    "class Cat(Animal):\n",
    "    def make_sound(self):\n",
    "        print(\"Meow\")\n",
    "\n",
    "# Using the classes\n",
    "# animal = Animal()  # This will raise an error as you can't instantiate an abstract class\n",
    "dog = Dog()\n",
    "dog.make_sound()  # Output: Bark\n",
    "dog.sleep()       # Output: This animal is sleeping.\n",
    "\n",
    "cat = Cat()\n",
    "cat.make_sound()  # Output: Meow\n",
    "cat.sleep()       # Output: This animal is sleeping.\n"
   ]
  },
  {
   "cell_type": "code",
   "execution_count": 37,
   "id": "882654ef-9d9e-40c8-b914-a49bc628ad20",
   "metadata": {},
   "outputs": [],
   "source": [
    "## in simple terms, abstract class are defined using ABC(abstract base class) module from abc module\n",
    "## and have a decorator called @abstractmethod to define abstract methods,\n",
    "## these abstract methods are declared but not implemented in the abstract class, subclasses must override these methods\n",
    "## concrete methods are also defined in the abstract class which is fully implemented in abstract class and can be inherited by the subclass\n",
    "## general behavior is given in abstract class and their specific behavior is given in subclass\n",
    "## also objects of abstract class cannot be created"
   ]
  },
  {
   "cell_type": "code",
   "execution_count": 38,
   "id": "fa79aa9c-db82-4d82-9256-e41f730e7121",
   "metadata": {},
   "outputs": [],
   "source": [
    "## in python implementation is not strictly hidden as other languags like C++"
   ]
  },
  {
   "cell_type": "markdown",
   "id": "3a844a32-c26e-45fc-b1d9-791d773f9b9c",
   "metadata": {},
   "source": [
    "## Encapsulation"
   ]
  },
  {
   "cell_type": "markdown",
   "id": "3af0f18e-dfbb-4c71-9294-e2139eb61ad9",
   "metadata": {},
   "source": [
    "Encapsulation is an Object-Oriented Programming (OOP) principle that involves bundling the data (attributes) and methods (functions) that operate on the data into a single unit, called a class. This concept helps hide the internal state of an object from the outside world, providing a controlled interface for interacting with the object’s data and methods.\n",
    "\n"
   ]
  },
  {
   "cell_type": "markdown",
   "id": "0e968300-213a-4dfd-bf52-bdb0155f71db",
   "metadata": {},
   "source": [
    "### How to Implement Encapsulation in Python Classes?\n",
    "\n",
    "> Encapsulation in Python is implemented using access specifiers to control access to class members:\n",
    "> \n",
    "> 1. **Public Members**: By default, attributes and methods are public and can be accessed from outside the class.\n",
    "> 2. **Protected Members**: Use a single underscore (`_`) prefix to indicate that an attribute or method is intended for internal use within the class and its subclasses.\n",
    "> 3. **Private Members**: Use double underscores (`__`) prefix to make an attribute or method private. This leads to name mangling, making it more challenging to access from outside the class."
   ]
  },
  {
   "cell_type": "markdown",
   "id": "860fce7f-8efd-4fc7-8882-7cc89be98fa0",
   "metadata": {},
   "source": [
    "### What are Private and Protected Members in Python Classes?\n",
    "\n",
    "> Private Members: Members with double underscores (__) are private. They are intended to be accessed only within the class where they are defined. Python uses name mangling to make these members harder to access from outside the class.\n",
    "> \n",
    "> Protected Members: Members with a single underscore (_) are protected. They are intended for use within the class and its subclasses. This is a convention and does not enforce strict access control.\n",
    ">"
   ]
  },
  {
   "cell_type": "markdown",
   "id": "4c0a3754-f71b-47a9-a72b-8f022b7606b9",
   "metadata": {},
   "source": [
    "### What are Key Differences Between Encapsulation and Abstraction?\n",
    "\n",
    "> Encapsulation:\n",
    "> \n",
    ">Definition: The bundling of data and methods that operate on the data into a single unit, with controlled access to the internal state.\n",
    ">     \n",
    ">Purpose: To protect an object’s internal state and expose a controlled interface.\n",
    ">     \n",
    ">Implementation: Achieved through private and protected members.\n",
    "\n",
    "\n",
    "\n",
    "> Abstraction:\n",
    "> \n",
    "> Definition: The concept of hiding complex implementation details and showing only the essential features of an object.\n",
    "> \n",
    "> Purpose: To simplify interaction with objects by focusing on high-level operations rather than implementation details.\n",
    "> \n",
    "> Implementation: Achieved through abstract classes and methods, interfaces, and high-level class design.\n",
    ">"
   ]
  },
  {
   "cell_type": "code",
   "execution_count": 39,
   "id": "f6977758-39e9-419b-8423-c296be84e6b9",
   "metadata": {},
   "outputs": [
    {
     "name": "stdout",
     "output_type": "stream",
     "text": [
      "Account Holder: Alice\n",
      "Initial Balance: 1000\n",
      "$500 deposited successfully!\n",
      "$300 withdrawn successfully!\n",
      "Final Balance: 1200\n"
     ]
    }
   ],
   "source": [
    "class BankAccount:\n",
    "    def __init__(self, account_holder, balance):\n",
    "        self.account_holder = account_holder  # Public attribute\n",
    "        self.__balance = balance  # Private attribute (indicated by the double underscore)\n",
    "\n",
    "    # Public method to access the private attribute\n",
    "    def get_balance(self):\n",
    "        return self.__balance\n",
    "\n",
    "    # Public method to modify the private attribute\n",
    "    def deposit(self, amount):\n",
    "        if amount > 0:\n",
    "            self.__balance += amount\n",
    "            print(f\"${amount} deposited successfully!\")\n",
    "        else:\n",
    "            print(\"Deposit amount must be positive.\")\n",
    "\n",
    "    def withdraw(self, amount):\n",
    "        if amount > self.__balance:\n",
    "            print(\"Insufficient balance!\")\n",
    "        elif amount > 0:\n",
    "            self.__balance -= amount\n",
    "            print(f\"${amount} withdrawn successfully!\")\n",
    "        else:\n",
    "            print(\"Withdrawal amount must be positive.\")\n",
    "\n",
    "# Creating an instance of the class\n",
    "account = BankAccount(\"Alice\", 1000)\n",
    "\n",
    "# Accessing public attribute\n",
    "print(\"Account Holder:\", account.account_holder)\n",
    "\n",
    "# Accessing private attribute directly (Not recommended, will raise an AttributeError)\n",
    "# print(account.__balance)  # Uncommenting this line will raise an AttributeError\n",
    "\n",
    "# Accessing private attribute through a public method\n",
    "print(\"Initial Balance:\", account.get_balance())\n",
    "\n",
    "# Modifying private attribute through public methods\n",
    "account.deposit(500)\n",
    "account.withdraw(300)\n",
    "\n",
    "# Checking balance after transactions\n",
    "print(\"Final Balance:\", account.get_balance())\n"
   ]
  },
  {
   "cell_type": "markdown",
   "id": "f922e203-8bd5-4135-87f7-4a6c4c088940",
   "metadata": {},
   "source": [
    "### public attribute is defined normally\n",
    "### it is protected if it has a single underscore\n",
    "### it is private if it has a double underscore"
   ]
  },
  {
   "cell_type": "code",
   "execution_count": 40,
   "id": "4c84905d-8ab4-45c0-a6e4-f05d50f5df8c",
   "metadata": {},
   "outputs": [
    {
     "name": "stdout",
     "output_type": "stream",
     "text": [
      "TechCorp\n",
      "InnoCorp\n"
     ]
    }
   ],
   "source": [
    "# class and static methods \n",
    "# instance method requires an instance to call it which is usually self\n",
    "\n",
    "# class methods are the methods that operate on class level, they act on a whole class rather than on instances, class methods are used \n",
    "# when we need to modify or access the class-level state\n",
    "\n",
    "class Employee:\n",
    "    company_name = \"TechCorp\"  # Class variable\n",
    "\n",
    "    def __init__(self, name):\n",
    "        self.name = name  # Instance variable\n",
    "\n",
    "    @classmethod\n",
    "    def change_company_name(cls, new_name):\n",
    "        cls.company_name = new_name\n",
    "\n",
    "# Usage\n",
    "print(Employee.company_name) \n",
    "Employee.change_company_name(\"InnoCorp\")\n",
    "print(Employee.company_name) \n"
   ]
  },
  {
   "cell_type": "code",
   "execution_count": 41,
   "id": "52846d25-2776-40f5-a839-fe70b23ee86b",
   "metadata": {},
   "outputs": [
    {
     "name": "stdout",
     "output_type": "stream",
     "text": [
      "8\n",
      "2\n"
     ]
    }
   ],
   "source": [
    "# static method is independent of class and instance, it behaves like a regular function but is grouped within a class \n",
    "# static method is used when the behavior is related to the class but does not need to access or modify class or instance attributes\n",
    "\n",
    "class Calculator:\n",
    "    @staticmethod\n",
    "    def add(a, b):\n",
    "        return a + b\n",
    "\n",
    "    @staticmethod\n",
    "    def subtract(a, b):\n",
    "        return a - b\n",
    "\n",
    "# Usage\n",
    "print(Calculator.add(5, 3))       \n",
    "print(Calculator.subtract(5, 3))  \n"
   ]
  },
  {
   "cell_type": "code",
   "execution_count": 42,
   "id": "88c3dd4d-b55d-4f65-989b-f2004b732ab9",
   "metadata": {},
   "outputs": [
    {
     "name": "stdout",
     "output_type": "stream",
     "text": [
      "Instance Variable: Unique Value, Class Variable: Shared Value\n",
      "Class Variable: Shared Value\n",
      "Sum: 7\n"
     ]
    }
   ],
   "source": [
    "# combining all the methods\n",
    "class Demo:\n",
    "    class_variable = \"Shared Value\"\n",
    "\n",
    "    def __init__(self, instance_variable):\n",
    "        self.instance_variable = instance_variable\n",
    "\n",
    "    # Instance Method\n",
    "    def instance_method(self):\n",
    "        return f\"Instance Variable: {self.instance_variable}, Class Variable: {self.class_variable}\"\n",
    "\n",
    "    # Class Method\n",
    "    @classmethod\n",
    "    def class_method(cls):\n",
    "        return f\"Class Variable: {cls.class_variable}\"\n",
    "\n",
    "    # Static Method\n",
    "    @staticmethod\n",
    "    def static_method(a, b):\n",
    "        return f\"Sum: {a + b}\"\n",
    "\n",
    "# Usage\n",
    "obj = Demo(\"Unique Value\")\n",
    "print(obj.instance_method())       # Access instance and class variables\n",
    "print(Demo.class_method())         # Access class-level data\n",
    "print(Demo.static_method(3, 4))    # Independent utility\n"
   ]
  },
  {
   "cell_type": "code",
   "execution_count": null,
   "id": "6e505096-66a3-4098-bff3-2070a2642679",
   "metadata": {},
   "outputs": [],
   "source": []
  }
 ],
 "metadata": {
  "kernelspec": {
   "display_name": "Python 3 (ipykernel)",
   "language": "python",
   "name": "python3"
  },
  "language_info": {
   "codemirror_mode": {
    "name": "ipython",
    "version": 3
   },
   "file_extension": ".py",
   "mimetype": "text/x-python",
   "name": "python",
   "nbconvert_exporter": "python",
   "pygments_lexer": "ipython3",
   "version": "3.13.0"
  }
 },
 "nbformat": 4,
 "nbformat_minor": 5
}
