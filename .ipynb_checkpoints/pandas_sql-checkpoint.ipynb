{
 "cells": [
  {
   "cell_type": "markdown",
   "id": "ed986212-009c-493a-ae50-c2f113998e2a",
   "metadata": {},
   "source": [
    "1. Write a Pandas program to display all the records of REGIONS file."
   ]
  },
  {
   "cell_type": "code",
   "execution_count": 1,
   "id": "3af88329-5e22-4c4e-b889-e9fe01312c94",
   "metadata": {},
   "outputs": [
    {
     "name": "stdout",
     "output_type": "stream",
     "text": [
      "   REGION_ID             REGION_NAME\n",
      "0          1                  Europe\n",
      "1          2                Americas\n",
      "2          3                    Asia\n",
      "3          4  Middle East and Africa\n"
     ]
    }
   ],
   "source": [
    "import pandas as pd\n",
    "\n",
    "regions = pd.read_csv(\"REGIONS.csv\")\n",
    "print(regions)"
   ]
  },
  {
   "cell_type": "markdown",
   "id": "c136d964-546d-4b3d-a8a0-e75eeec09884",
   "metadata": {},
   "source": [
    "2. Write a Pandas program to display all the location id from locations file. "
   ]
  },
  {
   "cell_type": "code",
   "execution_count": 5,
   "id": "67782f90-ac10-4124-9ad4-0050bf0e0398",
   "metadata": {},
   "outputs": [
    {
     "name": "stdout",
     "output_type": "stream",
     "text": [
      "0     1000\n",
      "1     1100\n",
      "2     1200\n",
      "3     1300\n",
      "4     1400\n",
      "5     1500\n",
      "6     1600\n",
      "7     1700\n",
      "8     1800\n",
      "9     1900\n",
      "10    2000\n",
      "11    2100\n",
      "12    2200\n",
      "13    2300\n",
      "14    2400\n",
      "15    2500\n",
      "16    2600\n",
      "17    2700\n",
      "18    2800\n",
      "19    2900\n",
      "20    3000\n",
      "21    3100\n",
      "22    3200\n",
      "Name: location_id, dtype: int64\n"
     ]
    }
   ],
   "source": [
    "locations = pd.read_csv(\"LOCATIONS.csv\")\n",
    "\n",
    "print(locations['location_id'])"
   ]
  },
  {
   "cell_type": "markdown",
   "id": "42da96e5-380e-4f1e-a080-5d0eac98d11b",
   "metadata": {},
   "source": [
    "3. Write a Pandas program to extract first 7 records from employees file. "
   ]
  },
  {
   "cell_type": "code",
   "execution_count": 6,
   "id": "7721d337-c1e5-4bae-a958-74d8d950c473",
   "metadata": {},
   "outputs": [
    {
     "name": "stdout",
     "output_type": "stream",
     "text": [
      "   employ_id first_name  last_name     email  phone_number   hire_date  \\\n",
      "0        100     Steven       King     SKING  515.123.4567  2003-06-17   \n",
      "1        101      Neena    Kochhar  NKOCHHAR  515.123.4568  2005-09-21   \n",
      "2        102        Lex    De Haan   LDEHAAN  515.123.4569  2001-01-13   \n",
      "3        103  Alexander     Hunold   AHUNOLD  590.423.4567  2006-01-03   \n",
      "4        104      Bruce      Ernst    BERNST  590.423.4568  2007-05-21   \n",
      "5        105      David     Austin   DAUSTIN  590.423.4569  2005-06-25   \n",
      "6        106      Valli  Pataballa  VPATABAL  590.423.4560  2006-02-05   \n",
      "\n",
      "    job_id  salary  commission_pct  manager_id  department_id  \n",
      "0  AD_PRES   24000             NaN         NaN           90.0  \n",
      "1    AD_VP   17000             NaN       100.0           90.0  \n",
      "2    AD_VP   17000             NaN       100.0           90.0  \n",
      "3  IT_PROG    9000             NaN       102.0           60.0  \n",
      "4  IT_PROG    6000             NaN       103.0           60.0  \n",
      "5  IT_PROG    4800             NaN       103.0           60.0  \n",
      "6  IT_PROG    4800             NaN       103.0           60.0  \n"
     ]
    }
   ],
   "source": [
    "employee = pd.read_csv(\"EMPLOYEES.csv\")\n",
    "\n",
    "print(employee.head(7))"
   ]
  },
  {
   "cell_type": "markdown",
   "id": "4756ca7d-cb03-48a2-9e4c-6a1ffd077fa2",
   "metadata": {},
   "source": [
    "4. Write a Pandas program to select distinct department id from employees file. "
   ]
  },
  {
   "cell_type": "code",
   "execution_count": 7,
   "id": "580f7d1d-38e9-4b6e-a8bf-68ba839234f0",
   "metadata": {},
   "outputs": [
    {
     "name": "stdout",
     "output_type": "stream",
     "text": [
      "[ 90.  60. 100.  30.  50.  80.  nan  10.  20.  40.  70. 110.]\n"
     ]
    }
   ],
   "source": [
    "print(employee.department_id.unique())"
   ]
  },
  {
   "cell_type": "markdown",
   "id": "0293df65-e897-4f8b-ae13-2c3b079e4e2a",
   "metadata": {},
   "source": [
    "5. Write a Pandas program to display the first and last name, and department number for all employees whose last name is \"McEwen\". "
   ]
  },
  {
   "cell_type": "code",
   "execution_count": 14,
   "id": "a31f4afe-1984-4170-8f44-7b6593e1577e",
   "metadata": {},
   "outputs": [
    {
     "name": "stdout",
     "output_type": "stream",
     "text": [
      "First name   Last name   Department ID\n",
      "Allan        McEwen      80.0\n"
     ]
    }
   ],
   "source": [
    "import pandas as pd\n",
    "employees = pd.read_csv(r\"EMPLOYEES.csv\")\n",
    "departments = pd.read_csv(r\"DEPARTMENTS.csv\")\n",
    "print(\"First name   Last name   Department ID\")\n",
    "result = employees[employees.last_name == 'McEwen']\n",
    "\n",
    "for i, row in result.iterrows():\n",
    "    print(row['first_name'], '      ', row['last_name'],'    ',row['department_id'])\n",
    "\n",
    "# - equivalent sql\n",
    "# SELECT first_name, last_name, department_id\n",
    "#  FROM employees\n",
    "#   WHERE last_name = 'McEwen';"
   ]
  },
  {
   "cell_type": "markdown",
   "id": "8f7964c0-cf41-4cd2-bf6d-ab9257a28a33",
   "metadata": {},
   "source": [
    "6. Write a Pandas program to display the first, last name, salary and department number for those employees whose first name starts with the letter 'S'. "
   ]
  },
  {
   "cell_type": "code",
   "execution_count": 23,
   "id": "561f86c7-347c-422f-ab1b-9917172a13a6",
   "metadata": {},
   "outputs": [
    {
     "name": "stdout",
     "output_type": "stream",
     "text": [
      "first name      Last name       salary    Department ID\n",
      "Steven          King            24000     90.0\n",
      "Shelli          Baida           2900      30.0\n",
      "Sigal           Tobias          2800      30.0\n",
      "Shanta          Vollman         6500      50.0\n",
      "Steven          Markle          2200      50.0\n",
      "Stephen         Stiles          3200      50.0\n",
      "Sarath          Sewall          7000      80.0\n",
      "Sundar          Ande            6400      80.0\n",
      "Sundita         Kumar           6100      80.0\n",
      "Sarah           Bell            4000      50.0\n",
      "Samuel          McCain          3200      50.0\n",
      "Susan           Mavris          6500      40.0\n",
      "Shelley         Higgins         12000     110.0\n"
     ]
    }
   ],
   "source": [
    "import pandas as pd\n",
    "employee = pd.read_csv(\"EMPLOYEES.csv\")\n",
    "\n",
    "print(\"first name      Last name       salary    Department ID\")\n",
    "result = employees[employees['first_name'].str[:1] == 'S']\n",
    "for index, row in result.iterrows():\n",
    "    print(row['first_name'].ljust(15), row['last_name'].ljust(15), str(row['salary']).ljust(9), row['department_id'])\n",
    "\n",
    "#ljust = adding equivalent space in the text\n",
    "# Equivalent SQL Syntax:\n",
    "\n",
    "# SELECT first_name, last_name, salary,  department_id\n",
    "#   FROM employees\n",
    "#    WHERE first_name  LIKE 'S%';\n",
    "# index holds rows index and row holds actual data, iterrows is usually used in pandas data frame to iterate through rows"
   ]
  },
  {
   "cell_type": "markdown",
   "id": "eee9ce98-4c31-4b01-ab01-e85aec98ca27",
   "metadata": {},
   "source": [
    "7. Write a Pandas program to display the first, last name, salary and department number for those employees whose first name does not contain the letter 'M'. "
   ]
  },
  {
   "cell_type": "code",
   "execution_count": 25,
   "id": "196b957c-e4da-461e-b42c-ace6efc45943",
   "metadata": {},
   "outputs": [
    {
     "name": "stdout",
     "output_type": "stream",
     "text": [
      "first name      Last name       salary    Department ID\n",
      "Steven          King            24000     90.0\n",
      "Neena           Kochhar         17000     90.0\n",
      "Lex             De Haan         17000     90.0\n",
      "Alexander       Hunold          9000      60.0\n",
      "Bruce           Ernst           6000      60.0\n",
      "David           Austin          4800      60.0\n",
      "Valli           Pataballa       4800      60.0\n",
      "Diana           Lorentz         4200      60.0\n",
      "Nancy           Greenberg       12000     100.0\n",
      "Daniel          Faviet          9000      100.0\n",
      "John            Chen            8200      100.0\n",
      "Ismael          Sciarra         7700      100.0\n",
      "Jose Manuel     Urman           7800      100.0\n",
      "Luis            Popp            6900      100.0\n",
      "Den             Raphaely        11000     30.0\n",
      "Alexander       Khoo            3100      30.0\n",
      "Shelli          Baida           2900      30.0\n",
      "Sigal           Tobias          2800      30.0\n",
      "Guy             Himuro          2600      30.0\n",
      "Karen           Colmenares      2500      30.0\n",
      "Adam            Fripp           8200      50.0\n",
      "Payam           Kaufling        7900      50.0\n",
      "Shanta          Vollman         6500      50.0\n",
      "Kevin           Mourgos         5800      50.0\n",
      "Julia           Nayer           3200      50.0\n",
      "Irene           Mikkilineni     2700      50.0\n",
      "James           Landry          2400      50.0\n",
      "Steven          Markle          2200      50.0\n",
      "Laura           Bissot          3300      50.0\n",
      "James           Marlow          2500      50.0\n",
      "TJ              Olson           2100      50.0\n",
      "Jason           Mallin          3300      50.0\n",
      "Ki              Gee             2400      50.0\n",
      "Hazel           Philtanker      2200      50.0\n",
      "Renske          Ladwig          3600      50.0\n",
      "Stephen         Stiles          3200      50.0\n",
      "John            Seo             2700      50.0\n",
      "Joshua          Patel           2500      50.0\n",
      "Trenna          Rajs            3500      50.0\n",
      "Curtis          Davies          3100      50.0\n",
      "Randall         Matos           2600      50.0\n",
      "Peter           Vargas          2500      50.0\n",
      "John            Russell         14000     80.0\n",
      "Karen           Partners        13500     80.0\n",
      "Alberto         Errazuriz       12000     80.0\n",
      "Gerald          Cambrault       11000     80.0\n",
      "Eleni           Zlotkey         10500     80.0\n",
      "Peter           Tucker          10000     80.0\n",
      "David           Bernstein       9500      80.0\n",
      "Peter           Hall            9000      80.0\n",
      "Christopher     Olsen           8000      80.0\n",
      "Nanette         Cambrault       7500      80.0\n",
      "Oliver          Tuvault         7000      80.0\n",
      "Janette         King            10000     80.0\n",
      "Patrick         Sully           9500      80.0\n",
      "Allan           McEwen          9000      80.0\n",
      "Lindsey         Smith           8000      80.0\n",
      "Louise          Doran           7500      80.0\n",
      "Sarath          Sewall          7000      80.0\n",
      "Clara           Vishney         10500     80.0\n",
      "Danielle        Greene          9500      80.0\n",
      "David           Lee             6800      80.0\n",
      "Sundar          Ande            6400      80.0\n",
      "Amit            Banda           6200      80.0\n",
      "Lisa            Ozer            11500     80.0\n",
      "Harrison        Bloom           10000     80.0\n",
      "Tayler          Fox             9600      80.0\n",
      "William         Smith           7400      80.0\n",
      "Elizabeth       Bates           7300      80.0\n",
      "Sundita         Kumar           6100      80.0\n",
      "Ellen           Abel            11000     80.0\n",
      "Alyssa          Hutton          8800      80.0\n",
      "Jonathon        Taylor          8600      80.0\n",
      "Jack            Livingston      8400      80.0\n",
      "Kimberely       Grant           7000      nan\n",
      "Charles         Johnson         6200      80.0\n",
      "Winston         Taylor          3200      50.0\n",
      "Jean            Fleaur          3100      50.0\n",
      "Girard          Geoni           2800      50.0\n",
      "Nandita         Sarchand        4200      50.0\n",
      "Alexis          Bull            4100      50.0\n",
      "Julia           Dellinger       3400      50.0\n",
      "Anthony         Cabrio          3000      50.0\n",
      "Kelly           Chung           3800      50.0\n",
      "Jennifer        Dilly           3600      50.0\n",
      "Timothy         Gates           2900      50.0\n",
      "Randall         Perkins         2500      50.0\n",
      "Sarah           Bell            4000      50.0\n",
      "Britney         Everett         3900      50.0\n",
      "Samuel          McCain          3200      50.0\n",
      "Vance           Jones           2800      50.0\n",
      "Alana           Walsh           3100      50.0\n",
      "Kevin           Feeney          3000      50.0\n",
      "Donald          OConnell        2600      50.0\n",
      "Douglas         Grant           2600      50.0\n",
      "Jennifer        Whalen          4400      10.0\n",
      "Pat             Fay             6000      20.0\n",
      "Susan           Mavris          6500      40.0\n",
      "Hermann         Baer            10000     70.0\n",
      "Shelley         Higgins         12000     110.0\n",
      "William         Gietz           8300      110.0\n"
     ]
    }
   ],
   "source": [
    "print(\"first name      Last name       salary    Department ID\")\n",
    "result = employees[employees['first_name'].str[:1] != 'M']\n",
    "for index, row in result.iterrows():\n",
    "    print(row['first_name'].ljust(15), row['last_name'].ljust(15), str(row['salary']).ljust(9), row['department_id'])\n",
    "\n",
    "# Equivalent SQL Syntax:\n",
    "\n",
    "# SELECT first_name, last_name, salary,  department_id\n",
    "#   FROM employees\n",
    "#    WHERE first_name NOT LIKE '%M%';\n"
   ]
  },
  {
   "cell_type": "markdown",
   "id": "583edb78-9aad-4d03-ad38-9283c5e48e92",
   "metadata": {},
   "source": [
    "8. Write a Pandas program to display the first name, last name, salary and department number in ascending order by department number."
   ]
  },
  {
   "cell_type": "code",
   "execution_count": 27,
   "id": "17e1fba5-5462-4a2e-9e29-6ba71f896812",
   "metadata": {},
   "outputs": [
    {
     "name": "stdout",
     "output_type": "stream",
     "text": [
      "first name      Last name       salary    Department ID\n",
      "Jennifer        Whalen          4400      10.0\n",
      "Michael         Hartstein       13000     20.0\n",
      "Pat             Fay             6000      20.0\n",
      "Alexander       Khoo            3100      30.0\n",
      "Karen           Colmenares      2500      30.0\n",
      "Den             Raphaely        11000     30.0\n",
      "Sigal           Tobias          2800      30.0\n",
      "Shelli          Baida           2900      30.0\n",
      "Guy             Himuro          2600      30.0\n",
      "Susan           Mavris          6500      40.0\n",
      "Adam            Fripp           8200      50.0\n",
      "Matthew         Weiss           8000      50.0\n",
      "Shanta          Vollman         6500      50.0\n",
      "Payam           Kaufling        7900      50.0\n",
      "Laura           Bissot          3300      50.0\n",
      "Steven          Markle          2200      50.0\n",
      "Mozhe           Atkinson        2800      50.0\n",
      "James           Marlow          2500      50.0\n",
      "Renske          Ladwig          3600      50.0\n",
      "Peter           Vargas          2500      50.0\n",
      "Randall         Matos           2600      50.0\n",
      "Curtis          Davies          3100      50.0\n",
      "Trenna          Rajs            3500      50.0\n",
      "Joshua          Patel           2500      50.0\n",
      "John            Seo             2700      50.0\n",
      "Stephen         Stiles          3200      50.0\n",
      "Jason           Mallin          3300      50.0\n",
      "Hazel           Philtanker      2200      50.0\n",
      "James           Landry          2400      50.0\n",
      "Irene           Mikkilineni     2700      50.0\n",
      "Julia           Nayer           3200      50.0\n",
      "Kevin           Mourgos         5800      50.0\n",
      "Jennifer        Dilly           3600      50.0\n",
      "Timothy         Gates           2900      50.0\n",
      "Randall         Perkins         2500      50.0\n",
      "Sarah           Bell            4000      50.0\n",
      "Alexis          Bull            4100      50.0\n",
      "Julia           Dellinger       3400      50.0\n",
      "Anthony         Cabrio          3000      50.0\n",
      "Kelly           Chung           3800      50.0\n",
      "Jean            Fleaur          3100      50.0\n",
      "Martha          Sullivan        2500      50.0\n",
      "Girard          Geoni           2800      50.0\n",
      "Nandita         Sarchand        4200      50.0\n",
      "Douglas         Grant           2600      50.0\n",
      "Donald          OConnell        2600      50.0\n",
      "Kevin           Feeney          3000      50.0\n",
      "Alana           Walsh           3100      50.0\n",
      "Britney         Everett         3900      50.0\n",
      "Samuel          McCain          3200      50.0\n",
      "Vance           Jones           2800      50.0\n",
      "Winston         Taylor          3200      50.0\n",
      "Ki              Gee             2400      50.0\n",
      "Michael         Rogers          2900      50.0\n",
      "TJ              Olson           2100      50.0\n",
      "Valli           Pataballa       4800      60.0\n",
      "David           Austin          4800      60.0\n",
      "Diana           Lorentz         4200      60.0\n",
      "Alexander       Hunold          9000      60.0\n",
      "Bruce           Ernst           6000      60.0\n",
      "Hermann         Baer            10000     70.0\n",
      "Gerald          Cambrault       11000     80.0\n",
      "Nanette         Cambrault       7500      80.0\n",
      "Christopher     Olsen           8000      80.0\n",
      "William         Smith           7400      80.0\n",
      "Mattea          Marvins         7200      80.0\n",
      "Sundar          Ande            6400      80.0\n",
      "David           Lee             6800      80.0\n",
      "Lisa            Ozer            11500     80.0\n",
      "Harrison        Bloom           10000     80.0\n",
      "Tayler          Fox             9600      80.0\n",
      "Amit            Banda           6200      80.0\n",
      "Oliver          Tuvault         7000      80.0\n",
      "Danielle        Greene          9500      80.0\n",
      "Sarath          Sewall          7000      80.0\n",
      "Clara           Vishney         10500     80.0\n",
      "Lindsey         Smith           8000      80.0\n",
      "Allan           McEwen          9000      80.0\n",
      "Patrick         Sully           9500      80.0\n",
      "Louise          Doran           7500      80.0\n",
      "Alberto         Errazuriz       12000     80.0\n",
      "Karen           Partners        13500     80.0\n",
      "John            Russell         14000     80.0\n",
      "Peter           Hall            9000      80.0\n",
      "David           Bernstein       9500      80.0\n",
      "Peter           Tucker          10000     80.0\n",
      "Eleni           Zlotkey         10500     80.0\n",
      "Janette         King            10000     80.0\n",
      "Sundita         Kumar           6100      80.0\n",
      "Charles         Johnson         6200      80.0\n",
      "Jonathon        Taylor          8600      80.0\n",
      "Jack            Livingston      8400      80.0\n",
      "Elizabeth       Bates           7300      80.0\n",
      "Ellen           Abel            11000     80.0\n",
      "Alyssa          Hutton          8800      80.0\n",
      "Lex             De Haan         17000     90.0\n",
      "Steven          King            24000     90.0\n",
      "Neena           Kochhar         17000     90.0\n",
      "Daniel          Faviet          9000      100.0\n",
      "Nancy           Greenberg       12000     100.0\n",
      "John            Chen            8200      100.0\n",
      "Ismael          Sciarra         7700      100.0\n",
      "Jose Manuel     Urman           7800      100.0\n",
      "Luis            Popp            6900      100.0\n",
      "Shelley         Higgins         12000     110.0\n",
      "William         Gietz           8300      110.0\n",
      "Kimberely       Grant           7000      nan\n"
     ]
    }
   ],
   "source": [
    "print(\"first name      Last name       salary    Department ID\")\n",
    "result = employees.sort_values('department_id', ascending = True)\n",
    "\n",
    "for index, row in result.iterrows():\n",
    "    print(row['first_name'].ljust(15),row['last_name'].ljust(15),str(row['salary']).ljust(9),row['department_id'])\n",
    "\n",
    "\n",
    "# Equivalent SQL Syntax:\n",
    "\n",
    "# SELECT first_name, last_name, salary,  department_id\n",
    "#   FROM employees\n",
    "#    ORDER BY department_id;\n"
   ]
  },
  {
   "cell_type": "markdown",
   "id": "f507a4c8-60bd-4011-8748-468297c61dc6",
   "metadata": {},
   "source": [
    "9. Write a Pandas program to display the first name, last name, salary and department number in descending order by first name."
   ]
  },
  {
   "cell_type": "code",
   "execution_count": 28,
   "id": "3fb8299f-fda1-4d88-9789-9898a899fb2d",
   "metadata": {},
   "outputs": [
    {
     "name": "stdout",
     "output_type": "stream",
     "text": [
      "first name      Last name       salary    Department ID\n",
      "Winston         Taylor          3200      50.0\n",
      "William         Gietz           8300      110.0\n",
      "William         Smith           7400      80.0\n",
      "Vance           Jones           2800      50.0\n",
      "Valli           Pataballa       4800      60.0\n",
      "Trenna          Rajs            3500      50.0\n",
      "Timothy         Gates           2900      50.0\n",
      "Tayler          Fox             9600      80.0\n",
      "TJ              Olson           2100      50.0\n",
      "Susan           Mavris          6500      40.0\n",
      "Sundita         Kumar           6100      80.0\n",
      "Sundar          Ande            6400      80.0\n",
      "Steven          Markle          2200      50.0\n",
      "Steven          King            24000     90.0\n",
      "Stephen         Stiles          3200      50.0\n",
      "Sigal           Tobias          2800      30.0\n",
      "Shelli          Baida           2900      30.0\n",
      "Shelley         Higgins         12000     110.0\n",
      "Shanta          Vollman         6500      50.0\n",
      "Sarath          Sewall          7000      80.0\n",
      "Sarah           Bell            4000      50.0\n",
      "Samuel          McCain          3200      50.0\n",
      "Renske          Ladwig          3600      50.0\n",
      "Randall         Perkins         2500      50.0\n",
      "Randall         Matos           2600      50.0\n",
      "Peter           Vargas          2500      50.0\n",
      "Peter           Hall            9000      80.0\n",
      "Peter           Tucker          10000     80.0\n",
      "Payam           Kaufling        7900      50.0\n",
      "Patrick         Sully           9500      80.0\n",
      "Pat             Fay             6000      20.0\n",
      "Oliver          Tuvault         7000      80.0\n",
      "Neena           Kochhar         17000     90.0\n",
      "Nanette         Cambrault       7500      80.0\n",
      "Nandita         Sarchand        4200      50.0\n",
      "Nancy           Greenberg       12000     100.0\n",
      "Mozhe           Atkinson        2800      50.0\n",
      "Michael         Rogers          2900      50.0\n",
      "Michael         Hartstein       13000     20.0\n",
      "Matthew         Weiss           8000      50.0\n",
      "Mattea          Marvins         7200      80.0\n",
      "Martha          Sullivan        2500      50.0\n",
      "Luis            Popp            6900      100.0\n",
      "Louise          Doran           7500      80.0\n",
      "Lisa            Ozer            11500     80.0\n",
      "Lindsey         Smith           8000      80.0\n",
      "Lex             De Haan         17000     90.0\n",
      "Laura           Bissot          3300      50.0\n",
      "Kimberely       Grant           7000      nan\n",
      "Ki              Gee             2400      50.0\n",
      "Kevin           Feeney          3000      50.0\n",
      "Kevin           Mourgos         5800      50.0\n",
      "Kelly           Chung           3800      50.0\n",
      "Karen           Partners        13500     80.0\n",
      "Karen           Colmenares      2500      30.0\n",
      "Julia           Nayer           3200      50.0\n",
      "Julia           Dellinger       3400      50.0\n",
      "Joshua          Patel           2500      50.0\n",
      "Jose Manuel     Urman           7800      100.0\n",
      "Jonathon        Taylor          8600      80.0\n",
      "John            Seo             2700      50.0\n",
      "John            Russell         14000     80.0\n",
      "John            Chen            8200      100.0\n",
      "Jennifer        Whalen          4400      10.0\n",
      "Jennifer        Dilly           3600      50.0\n",
      "Jean            Fleaur          3100      50.0\n",
      "Jason           Mallin          3300      50.0\n",
      "Janette         King            10000     80.0\n",
      "James           Landry          2400      50.0\n",
      "James           Marlow          2500      50.0\n",
      "Jack            Livingston      8400      80.0\n",
      "Ismael          Sciarra         7700      100.0\n",
      "Irene           Mikkilineni     2700      50.0\n",
      "Hermann         Baer            10000     70.0\n",
      "Hazel           Philtanker      2200      50.0\n",
      "Harrison        Bloom           10000     80.0\n",
      "Guy             Himuro          2600      30.0\n",
      "Girard          Geoni           2800      50.0\n",
      "Gerald          Cambrault       11000     80.0\n",
      "Ellen           Abel            11000     80.0\n",
      "Elizabeth       Bates           7300      80.0\n",
      "Eleni           Zlotkey         10500     80.0\n",
      "Douglas         Grant           2600      50.0\n",
      "Donald          OConnell        2600      50.0\n",
      "Diana           Lorentz         4200      60.0\n",
      "Den             Raphaely        11000     30.0\n",
      "David           Austin          4800      60.0\n",
      "David           Lee             6800      80.0\n",
      "David           Bernstein       9500      80.0\n",
      "Danielle        Greene          9500      80.0\n",
      "Daniel          Faviet          9000      100.0\n",
      "Curtis          Davies          3100      50.0\n",
      "Clara           Vishney         10500     80.0\n",
      "Christopher     Olsen           8000      80.0\n",
      "Charles         Johnson         6200      80.0\n",
      "Bruce           Ernst           6000      60.0\n",
      "Britney         Everett         3900      50.0\n",
      "Anthony         Cabrio          3000      50.0\n",
      "Amit            Banda           6200      80.0\n",
      "Alyssa          Hutton          8800      80.0\n",
      "Allan           McEwen          9000      80.0\n",
      "Alexis          Bull            4100      50.0\n",
      "Alexander       Khoo            3100      30.0\n",
      "Alexander       Hunold          9000      60.0\n",
      "Alberto         Errazuriz       12000     80.0\n",
      "Alana           Walsh           3100      50.0\n",
      "Adam            Fripp           8200      50.0\n"
     ]
    }
   ],
   "source": [
    "print(\"first name      Last name       salary    Department ID\")\n",
    "result = employees.sort_values('first_name', ascending = False)\n",
    "\n",
    "for index, row in result.iterrows():\n",
    "    print(row['first_name'].ljust(15),row['last_name'].ljust(15),str(row['salary']).ljust(9),row['department_id'])\n",
    "\n",
    "\n",
    "# Equivalent SQL Syntax:\n",
    "\n",
    "# SELECT first_name, last_name, salary,  department_id\n",
    "#   FROM employees\n",
    "#    ORDER BY first_name desc;\n"
   ]
  },
  {
   "cell_type": "markdown",
   "id": "8641879d-9217-4e87-b342-0d634d175820",
   "metadata": {},
   "source": [
    "10. Write a Pandas program to display the first name, last name, salary and manger id where manager ids are null.\n"
   ]
  },
  {
   "cell_type": "code",
   "execution_count": 30,
   "id": "785f7731-4d52-4cd8-96e2-d5988575b0e2",
   "metadata": {},
   "outputs": [
    {
     "name": "stdout",
     "output_type": "stream",
     "text": [
      "first name      Last name       Salary    Manager ID\n",
      "Steven          King            24000     nan\n"
     ]
    }
   ],
   "source": [
    "print(\"first name      Last name       Salary    Manager ID\")\n",
    "result = employees[employees['manager_id'].isnull()]\n",
    "\n",
    "for index, row in result.iterrows():\n",
    "    print(row['first_name'].ljust(15),row['last_name'].ljust(15),str(row['salary']).ljust(9),row['manager_id'])\n",
    "\n",
    "\n",
    "# Equivalent SQL Syntax:\n",
    "\n",
    "# SELECT first_name, last_name, salary, manager_id\n",
    "# FROM employees\n",
    "# WHERE manager_id IS NULL;\n"
   ]
  },
  {
   "cell_type": "markdown",
   "id": "68cee1aa-074b-4bee-ad7c-f3894240e161",
   "metadata": {},
   "source": [
    "11. Write a Pandas program to display the first name, last name, salary and manger id where manager ids are not null."
   ]
  },
  {
   "cell_type": "code",
   "execution_count": 33,
   "id": "33698050-46e5-48d1-ab4c-14c9c5d23625",
   "metadata": {},
   "outputs": [
    {
     "name": "stdout",
     "output_type": "stream",
     "text": [
      "first name      Last name       Salary    Manager ID\n",
      "Neena           Kochhar         17000     100.0\n",
      "Lex             De Haan         17000     100.0\n",
      "Alexander       Hunold          9000      102.0\n",
      "Bruce           Ernst           6000      103.0\n",
      "David           Austin          4800      103.0\n",
      "Valli           Pataballa       4800      103.0\n",
      "Diana           Lorentz         4200      103.0\n",
      "Nancy           Greenberg       12000     101.0\n",
      "Daniel          Faviet          9000      108.0\n",
      "John            Chen            8200      108.0\n",
      "Ismael          Sciarra         7700      108.0\n",
      "Jose Manuel     Urman           7800      108.0\n",
      "Luis            Popp            6900      108.0\n",
      "Den             Raphaely        11000     100.0\n",
      "Alexander       Khoo            3100      114.0\n",
      "Shelli          Baida           2900      114.0\n",
      "Sigal           Tobias          2800      114.0\n",
      "Guy             Himuro          2600      114.0\n",
      "Karen           Colmenares      2500      114.0\n",
      "Matthew         Weiss           8000      100.0\n",
      "Adam            Fripp           8200      100.0\n",
      "Payam           Kaufling        7900      100.0\n",
      "Shanta          Vollman         6500      100.0\n",
      "Kevin           Mourgos         5800      100.0\n",
      "Julia           Nayer           3200      120.0\n",
      "Irene           Mikkilineni     2700      120.0\n",
      "James           Landry          2400      120.0\n",
      "Steven          Markle          2200      120.0\n",
      "Laura           Bissot          3300      121.0\n",
      "Mozhe           Atkinson        2800      121.0\n",
      "James           Marlow          2500      121.0\n",
      "TJ              Olson           2100      121.0\n",
      "Jason           Mallin          3300      122.0\n",
      "Michael         Rogers          2900      122.0\n",
      "Ki              Gee             2400      122.0\n",
      "Hazel           Philtanker      2200      122.0\n",
      "Renske          Ladwig          3600      123.0\n",
      "Stephen         Stiles          3200      123.0\n",
      "John            Seo             2700      123.0\n",
      "Joshua          Patel           2500      123.0\n",
      "Trenna          Rajs            3500      124.0\n",
      "Curtis          Davies          3100      124.0\n",
      "Randall         Matos           2600      124.0\n",
      "Peter           Vargas          2500      124.0\n",
      "John            Russell         14000     100.0\n",
      "Karen           Partners        13500     100.0\n",
      "Alberto         Errazuriz       12000     100.0\n",
      "Gerald          Cambrault       11000     100.0\n",
      "Eleni           Zlotkey         10500     100.0\n",
      "Peter           Tucker          10000     145.0\n",
      "David           Bernstein       9500      145.0\n",
      "Peter           Hall            9000      145.0\n",
      "Christopher     Olsen           8000      145.0\n",
      "Nanette         Cambrault       7500      145.0\n",
      "Oliver          Tuvault         7000      145.0\n",
      "Janette         King            10000     146.0\n",
      "Patrick         Sully           9500      146.0\n",
      "Allan           McEwen          9000      146.0\n",
      "Lindsey         Smith           8000      146.0\n",
      "Louise          Doran           7500      146.0\n",
      "Sarath          Sewall          7000      146.0\n",
      "Clara           Vishney         10500     147.0\n",
      "Danielle        Greene          9500      147.0\n",
      "Mattea          Marvins         7200      147.0\n",
      "David           Lee             6800      147.0\n",
      "Sundar          Ande            6400      147.0\n",
      "Amit            Banda           6200      147.0\n",
      "Lisa            Ozer            11500     148.0\n",
      "Harrison        Bloom           10000     148.0\n",
      "Tayler          Fox             9600      148.0\n",
      "William         Smith           7400      148.0\n",
      "Elizabeth       Bates           7300      148.0\n",
      "Sundita         Kumar           6100      148.0\n",
      "Ellen           Abel            11000     149.0\n",
      "Alyssa          Hutton          8800      149.0\n",
      "Jonathon        Taylor          8600      149.0\n",
      "Jack            Livingston      8400      149.0\n",
      "Kimberely       Grant           7000      149.0\n",
      "Charles         Johnson         6200      149.0\n",
      "Winston         Taylor          3200      120.0\n",
      "Jean            Fleaur          3100      120.0\n",
      "Martha          Sullivan        2500      120.0\n",
      "Girard          Geoni           2800      120.0\n",
      "Nandita         Sarchand        4200      121.0\n",
      "Alexis          Bull            4100      121.0\n",
      "Julia           Dellinger       3400      121.0\n",
      "Anthony         Cabrio          3000      121.0\n",
      "Kelly           Chung           3800      122.0\n",
      "Jennifer        Dilly           3600      122.0\n",
      "Timothy         Gates           2900      122.0\n",
      "Randall         Perkins         2500      122.0\n",
      "Sarah           Bell            4000      123.0\n",
      "Britney         Everett         3900      123.0\n",
      "Samuel          McCain          3200      123.0\n",
      "Vance           Jones           2800      123.0\n",
      "Alana           Walsh           3100      124.0\n",
      "Kevin           Feeney          3000      124.0\n",
      "Donald          OConnell        2600      124.0\n",
      "Douglas         Grant           2600      124.0\n",
      "Jennifer        Whalen          4400      101.0\n",
      "Michael         Hartstein       13000     100.0\n",
      "Pat             Fay             6000      201.0\n",
      "Susan           Mavris          6500      101.0\n",
      "Hermann         Baer            10000     101.0\n",
      "Shelley         Higgins         12000     101.0\n",
      "William         Gietz           8300      205.0\n"
     ]
    }
   ],
   "source": [
    "print(\"first name      Last name       Salary    Manager ID\")\n",
    "result = employees[employees['manager_id'].notnull()]\n",
    "\n",
    "for index, row in result.iterrows():\n",
    "    print(row['first_name'].ljust(15),row['last_name'].ljust(15),str(row['salary']).ljust(9),row['manager_id'])\n",
    "\n",
    "# Equivalent SQL Syntax:\n",
    "\n",
    "# SELECT first_name, last_name, salary, manager_id\n",
    "# FROM employees\n",
    "# WHERE manager_id IS NOT NULL;\n"
   ]
  },
  {
   "cell_type": "markdown",
   "id": "6be313f8-0005-4891-b3a5-3640bfd265b6",
   "metadata": {},
   "source": [
    "12. Write a Pandas program to create and display a boolean series, where True for not null and False for null values or missing values in state_province column of locations file. "
   ]
  },
  {
   "cell_type": "code",
   "execution_count": 34,
   "id": "c11d1dd8-32f0-4d6f-89c5-2ca85f9f6a48",
   "metadata": {},
   "outputs": [
    {
     "name": "stdout",
     "output_type": "stream",
     "text": [
      "Original data / State Province\n",
      "0                   NaN\n",
      "1                   NaN\n",
      "2      Tokyo Prefecture\n",
      "3                   NaN\n",
      "4                 Texas\n",
      "5            California\n",
      "6            New Jersey\n",
      "7            Washington\n",
      "8               Ontario\n",
      "9                 Yukon\n",
      "10                  NaN\n",
      "11          Maharashtra\n",
      "12      New South Wales\n",
      "13                  NaN\n",
      "14                  NaN\n",
      "15               Oxford\n",
      "16           Manchester\n",
      "17              Bavaria\n",
      "18            Sao Paulo\n",
      "19               Geneve\n",
      "20                   BE\n",
      "21              Utrecht\n",
      "22    Distrito Federal,\n",
      "Name: state_province, dtype: object\n",
      "\n",
      "\n",
      "   State Province(Not null / Null Series\n",
      "0     False\n",
      "1     False\n",
      "2      True\n",
      "3     False\n",
      "4      True\n",
      "5      True\n",
      "6      True\n",
      "7      True\n",
      "8      True\n",
      "9      True\n",
      "10    False\n",
      "11     True\n",
      "12     True\n",
      "13    False\n",
      "14    False\n",
      "15     True\n",
      "16     True\n",
      "17     True\n",
      "18     True\n",
      "19     True\n",
      "20     True\n",
      "21     True\n",
      "22     True\n",
      "Name: state_province, dtype: bool\n"
     ]
    }
   ],
   "source": [
    "import pandas as pd\n",
    "\n",
    "locations = pd.read_csv(r\"LOCATIONS.csv\")\n",
    "print(\"Original data / State Province\")\n",
    "print(locations.state_province)\n",
    "\n",
    "print(\"\\n\\n   State Province(Not null / Null Series\")\n",
    "print(locations.state_province.notnull())"
   ]
  },
  {
   "cell_type": "markdown",
   "id": "bee7f740-1ec1-4227-8a35-2fad8f929200",
   "metadata": {},
   "source": [
    "13. Write a Pandas program to create a boolean series selecting rows with one or more nulls from locations file. "
   ]
  },
  {
   "cell_type": "code",
   "execution_count": 35,
   "id": "eee22580-9dd9-4edd-b25e-86561f87373d",
   "metadata": {},
   "outputs": [
    {
     "name": "stdout",
     "output_type": "stream",
     "text": [
      "    location_id  street_address  postal_code   city  state_province  \\\n",
      "0         False           False        False  False            True   \n",
      "1         False           False        False  False            True   \n",
      "2         False           False        False  False           False   \n",
      "3         False           False        False  False            True   \n",
      "4         False           False        False  False           False   \n",
      "5         False           False        False  False           False   \n",
      "6         False           False        False  False           False   \n",
      "7         False           False        False  False           False   \n",
      "8         False           False        False  False           False   \n",
      "9         False           False        False  False           False   \n",
      "10        False           False        False  False            True   \n",
      "11        False           False        False  False           False   \n",
      "12        False           False        False  False           False   \n",
      "13        False           False        False  False            True   \n",
      "14        False           False         True  False            True   \n",
      "15        False           False        False  False           False   \n",
      "16        False           False        False  False           False   \n",
      "17        False           False        False  False           False   \n",
      "18        False           False        False  False           False   \n",
      "19        False           False        False  False           False   \n",
      "20        False           False        False  False           False   \n",
      "21        False           False        False  False           False   \n",
      "22        False           False        False  False           False   \n",
      "\n",
      "    country_id  \n",
      "0        False  \n",
      "1        False  \n",
      "2        False  \n",
      "3        False  \n",
      "4        False  \n",
      "5        False  \n",
      "6        False  \n",
      "7        False  \n",
      "8        False  \n",
      "9        False  \n",
      "10       False  \n",
      "11       False  \n",
      "12       False  \n",
      "13       False  \n",
      "14       False  \n",
      "15       False  \n",
      "16       False  \n",
      "17       False  \n",
      "18       False  \n",
      "19       False  \n",
      "20       False  \n",
      "21       False  \n",
      "22       False  \n"
     ]
    }
   ],
   "source": [
    "print(locations.isnull())"
   ]
  },
  {
   "cell_type": "markdown",
   "id": "2c2ae3e9-7ebe-446a-9606-60bdd2c90bab",
   "metadata": {},
   "source": [
    "14. Write a Pandas program to count the NaN values of all the columns of locations file. "
   ]
  },
  {
   "cell_type": "code",
   "execution_count": 39,
   "id": "078da84c-a064-47e0-b278-57186ee5ce95",
   "metadata": {},
   "outputs": [
    {
     "name": "stdout",
     "output_type": "stream",
     "text": [
      "\n",
      "NaN values of all the columns of locations file:\n",
      "location_id       0\n",
      "street_address    0\n",
      "postal_code       1\n",
      "city              0\n",
      "state_province    6\n",
      "country_id        0\n",
      "dtype: int64\n"
     ]
    }
   ],
   "source": [
    "print(\"\\nNaN values of all the columns of locations file:\" )\n",
    "print(locations.isna().sum())"
   ]
  },
  {
   "cell_type": "markdown",
   "id": "c3b6e8c6-a253-4f24-8912-f72ae6f8cd0a",
   "metadata": {},
   "source": [
    "15. Write a Pandas program to display the first name, last name, salary and department number for those employees whose first name ends with the letter 'm'. "
   ]
  },
  {
   "cell_type": "code",
   "execution_count": 43,
   "id": "82ccd3b7-c348-41a6-9e98-db2c6aaaa00e",
   "metadata": {},
   "outputs": [
    {
     "name": "stdout",
     "output_type": "stream",
     "text": [
      "first name      Last name       salary    Department ID\n",
      "Adam            Fripp           8200      50.0\n",
      "Payam           Kaufling        7900      50.0\n",
      "William         Smith           7400      80.0\n",
      "William         Gietz           8300      110.0\n"
     ]
    }
   ],
   "source": [
    "print(\"first name      Last name       salary    Department ID\")\n",
    "result = employees[employees['first_name'].str[-1] == 'm']\n",
    "for index, row in result.iterrows():\n",
    "    print(row['first_name'].ljust(15), row['last_name'].ljust(15), str(row['salary']).ljust(9), row['department_id'])\n",
    "\n",
    "# Equivalent SQL Syntax:\n",
    "\n",
    "# SELECT first_name, last_name, salary,  department_id\n",
    "#   FROM employees\n",
    "#    WHERE first_name LIKE '%m';"
   ]
  },
  {
   "cell_type": "markdown",
   "id": "4a139c6b-9bf7-4490-9b33-558e0d3bac30",
   "metadata": {},
   "source": [
    "16. Write a Pandas program to display the first name, last name, salary and department number for those employees whose first name ends with the letter 'd' or 'n' or 's' and also arrange the result in descending order by department id. "
   ]
  },
  {
   "cell_type": "code",
   "execution_count": 50,
   "id": "4b3bfe54-056b-4082-8be7-7a9484ef1e14",
   "metadata": {},
   "outputs": [
    {
     "name": "stdout",
     "output_type": "stream",
     "text": [
      "first name      Last name       salary    Department ID\n",
      "John            Chen            8200      100.0\n",
      "Luis            Popp            6900      100.0\n",
      "Steven          King            24000     90.0\n",
      "Gerald          Cambrault       11000     80.0\n",
      "Karen           Partners        13500     80.0\n",
      "John            Russell         14000     80.0\n",
      "David           Lee             6800      80.0\n",
      "Allan           McEwen          9000      80.0\n",
      "David           Bernstein       9500      80.0\n",
      "Harrison        Bloom           10000     80.0\n",
      "Charles         Johnson         6200      80.0\n",
      "Jonathon        Taylor          8600      80.0\n",
      "Ellen           Abel            11000     80.0\n",
      "Hermann         Baer            10000     70.0\n",
      "David           Austin          4800      60.0\n",
      "Steven          Markle          2200      50.0\n",
      "Kevin           Mourgos         5800      50.0\n",
      "Winston         Taylor          3200      50.0\n",
      "Jean            Fleaur          3100      50.0\n",
      "Curtis          Davies          3100      50.0\n",
      "Jason           Mallin          3300      50.0\n",
      "James           Marlow          2500      50.0\n",
      "James           Landry          2400      50.0\n",
      "Stephen         Stiles          3200      50.0\n",
      "John            Seo             2700      50.0\n",
      "Kevin           Feeney          3000      50.0\n",
      "Donald          OConnell        2600      50.0\n",
      "Alexis          Bull            4100      50.0\n",
      "Girard          Geoni           2800      50.0\n",
      "Douglas         Grant           2600      50.0\n",
      "Susan           Mavris          6500      40.0\n",
      "Den             Raphaely        11000     30.0\n",
      "Karen           Colmenares      2500      30.0\n"
     ]
    }
   ],
   "source": [
    "import pandas as pd \n",
    "\n",
    "employees = pd.read_csv(\"EMPLOYEES.csv\")\n",
    "\n",
    "print(\"first name      Last name       salary    Department ID\")\n",
    "\n",
    "result = employees[employees['first_name'].str[-1].isin([ 'd', 'n', 's'])]\n",
    "result = result.sort_values('department_id', ascending = False)\n",
    "\n",
    "for index, row in result.iterrows():\n",
    "    print(row['first_name'].ljust(15), row['last_name'].ljust(15), str(row['salary']).ljust(9), row['department_id'])\n",
    "\n",
    "# SELECT first_name, last_name, salary, department_id\n",
    "# FROM employees\n",
    "# WHERE first_name LIKE '%d'\n",
    "#    OR first_name LIKE '%n'\n",
    "#    OR first_name LIKE '%s'\n",
    "# ORDER BY department_id DESC;"
   ]
  },
  {
   "cell_type": "markdown",
   "id": "a9ed2f43-460f-4061-b9a5-83a1f96f6697",
   "metadata": {},
   "source": [
    "17. Write a Pandas program to display the first name, last name, salary and department number for employees who works either in department 70 or 90. "
   ]
  },
  {
   "cell_type": "code",
   "execution_count": 53,
   "id": "5e625056-4371-4d96-864c-279cdb1e140a",
   "metadata": {},
   "outputs": [
    {
     "name": "stdout",
     "output_type": "stream",
     "text": [
      "first name      Last name       salary    Department ID\n",
      "Steven          King            24000     90.0\n",
      "Neena           Kochhar         17000     90.0\n",
      "Lex             De Haan         17000     90.0\n",
      "Hermann         Baer            10000     70.0\n"
     ]
    }
   ],
   "source": [
    "print(\"first name      Last name       salary    Department ID\")\n",
    "\n",
    "result = employees[employees['department_id'].isin([ 70, 90])]\n",
    "\n",
    "for index, row in result.iterrows():\n",
    "    print(row['first_name'].ljust(15), row['last_name'].ljust(15), str(row['salary']).ljust(9), row['department_id'])\n"
   ]
  },
  {
   "cell_type": "markdown",
   "id": "af6e1adc-1efe-4807-b632-4d5f2b32702d",
   "metadata": {},
   "source": [
    "18. Write a Pandas program to display the first name, last name, salary and department number for those employees whose managers are hold the ID 120, 103 or 145. "
   ]
  },
  {
   "cell_type": "code",
   "execution_count": 56,
   "id": "15d54472-5740-4c51-8949-3dfc6e8e3ee9",
   "metadata": {},
   "outputs": [
    {
     "name": "stdout",
     "output_type": "stream",
     "text": [
      "first name      Last name       salary    Department ID\n",
      "Bruce           Ernst           6000      60.0\n",
      "David           Austin          4800      60.0\n",
      "Valli           Pataballa       4800      60.0\n",
      "Diana           Lorentz         4200      60.0\n",
      "Julia           Nayer           3200      50.0\n",
      "Irene           Mikkilineni     2700      50.0\n",
      "James           Landry          2400      50.0\n",
      "Steven          Markle          2200      50.0\n",
      "Peter           Tucker          10000     80.0\n",
      "David           Bernstein       9500      80.0\n",
      "Peter           Hall            9000      80.0\n",
      "Christopher     Olsen           8000      80.0\n",
      "Nanette         Cambrault       7500      80.0\n",
      "Oliver          Tuvault         7000      80.0\n",
      "Winston         Taylor          3200      50.0\n",
      "Jean            Fleaur          3100      50.0\n",
      "Martha          Sullivan        2500      50.0\n",
      "Girard          Geoni           2800      50.0\n"
     ]
    }
   ],
   "source": [
    "print(\"first name      Last name       salary    Department ID\")\n",
    "result = employees[employees['manager_id'].isin([120, 103, 145])]\n",
    "for index , row in result.iterrows():\n",
    "    print(row['first_name'].ljust(15), row['last_name'].ljust(15), str(row['salary']).ljust(9), row['department_id'])"
   ]
  },
  {
   "cell_type": "markdown",
   "id": "7ced692b-5ee0-4503-8a55-ce0daa4d05fb",
   "metadata": {},
   "source": [
    "19. Write a Pandas program to display the first, last name, salary and department number for those employees who holds a letter n as a 3rd character in their first name. "
   ]
  },
  {
   "cell_type": "code",
   "execution_count": 60,
   "id": "e13943fc-9e78-47b7-9739-2773a3390d2d",
   "metadata": {},
   "outputs": [
    {
     "name": "stdout",
     "output_type": "stream",
     "text": [
      "first name      Last name       salary    Department ID\n",
      "Nancy           Greenberg       12000     100.0\n",
      "Daniel          Faviet          9000      100.0\n",
      "Den             Raphaely        11000     30.0\n",
      "Renske          Ladwig          3600      50.0\n",
      "Randall         Matos           2600      50.0\n",
      "Nanette         Cambrault       7500      80.0\n",
      "Janette         King            10000     80.0\n",
      "Lindsey         Smith           8000      80.0\n",
      "Danielle        Greene          9500      80.0\n",
      "Sundar          Ande            6400      80.0\n",
      "Sundita         Kumar           6100      80.0\n",
      "Jonathon        Taylor          8600      80.0\n",
      "Winston         Taylor          3200      50.0\n",
      "Nandita         Sarchand        4200      50.0\n",
      "Jennifer        Dilly           3600      50.0\n",
      "Randall         Perkins         2500      50.0\n",
      "Vance           Jones           2800      50.0\n",
      "Donald          OConnell        2600      50.0\n",
      "Jennifer        Whalen          4400      10.0\n"
     ]
    }
   ],
   "source": [
    "print(\"first name      Last name       salary    Department ID\")\n",
    "result = employees[employees['first_name'].str[2:3] == 'n']\n",
    "\n",
    "for index , row in result.iterrows():\n",
    "    print(row['first_name'].ljust(15), row['last_name'].ljust(15), str(row['salary']).ljust(9), row['department_id'])"
   ]
  },
  {
   "cell_type": "markdown",
   "id": "8e395faa-48d4-47b7-ad3e-496943915283",
   "metadata": {},
   "source": [
    "20. Write a  Pandas program to display the first name, job id, salary and department for those employees not working in the departments 50,30 and 80. "
   ]
  },
  {
   "cell_type": "code",
   "execution_count": 62,
   "id": "c9d30098-bdff-4178-bcd1-fd4100371cd6",
   "metadata": {},
   "outputs": [
    {
     "name": "stdout",
     "output_type": "stream",
     "text": [
      "first name      Last name       salary    Department ID\n",
      "Steven          King            24000     90.0\n",
      "Neena           Kochhar         17000     90.0\n",
      "Lex             De Haan         17000     90.0\n",
      "Alexander       Hunold          9000      60.0\n",
      "Bruce           Ernst           6000      60.0\n",
      "David           Austin          4800      60.0\n",
      "Valli           Pataballa       4800      60.0\n",
      "Diana           Lorentz         4200      60.0\n",
      "Nancy           Greenberg       12000     100.0\n",
      "Daniel          Faviet          9000      100.0\n",
      "John            Chen            8200      100.0\n",
      "Ismael          Sciarra         7700      100.0\n",
      "Jose Manuel     Urman           7800      100.0\n",
      "Luis            Popp            6900      100.0\n",
      "Kimberely       Grant           7000      nan\n",
      "Jennifer        Whalen          4400      10.0\n",
      "Michael         Hartstein       13000     20.0\n",
      "Pat             Fay             6000      20.0\n",
      "Susan           Mavris          6500      40.0\n",
      "Hermann         Baer            10000     70.0\n",
      "Shelley         Higgins         12000     110.0\n",
      "William         Gietz           8300      110.0\n"
     ]
    }
   ],
   "source": [
    "print(\"first name      Last name       salary    Department ID\")\n",
    "\n",
    "result = employees[~employees['department_id'].isin([ 50, 30, 80])]\n",
    "\n",
    "for index, row in result.iterrows():\n",
    "    print(row['first_name'].ljust(15), row['last_name'].ljust(15), str(row['salary']).ljust(9), row['department_id'])"
   ]
  },
  {
   "cell_type": "markdown",
   "id": "808315e7-cfed-4f88-90a0-9f05700b12f1",
   "metadata": {},
   "source": [
    "21. Write a Pandas program to display the ID for those employees who did two or more jobs in the past."
   ]
  },
  {
   "cell_type": "code",
   "execution_count": 65,
   "id": "ba234da0-933f-4c07-8aee-7050becd82dc",
   "metadata": {},
   "outputs": [
    {
     "name": "stdout",
     "output_type": "stream",
     "text": [
      "employee_id\n",
      "101    2\n",
      "176    2\n",
      "200    2\n",
      "dtype: int64\n"
     ]
    }
   ],
   "source": [
    "import pandas as pd\n",
    "\n",
    "job_history = pd.read_csv(r\"JOB_HISTORY.csv\")\n",
    "result = job_history.groupby(['employee_id']) \n",
    "print(result.filter(lambda x: len(x) > 1).groupby('employee_id').size().sort_values(ascending=False))\n",
    "\n",
    "\n",
    "# SELECT employee_id \n",
    "# \tFROM job_history \n",
    "# \t\tGROUP BY employee_id \n",
    "# \t\t\tHAVING COUNT(*) >=2;"
   ]
  },
  {
   "cell_type": "markdown",
   "id": "69cece10-b0f7-4478-8d2d-4030b3aef92f",
   "metadata": {},
   "source": [
    "22. Write a Pandas program to calculate minimum, maximum and mean salary from employees file."
   ]
  },
  {
   "cell_type": "code",
   "execution_count": 70,
   "id": "d4c09386-e3b1-4ac4-88f5-0bc68391019c",
   "metadata": {},
   "outputs": [
    {
     "name": "stdout",
     "output_type": "stream",
     "text": [
      "            salary\n",
      "min    2100.000000\n",
      "max   24000.000000\n",
      "mean   6461.682243\n"
     ]
    }
   ],
   "source": [
    "print(employees.agg({'salary': ['min', 'max', 'mean']}))\n",
    "\n",
    "# .agg does multiple aggregation in the same dataframe"
   ]
  },
  {
   "cell_type": "code",
   "execution_count": 71,
   "id": "9ceb9c2b-484b-4465-be87-56de6f7c205f",
   "metadata": {},
   "outputs": [
    {
     "name": "stdout",
     "output_type": "stream",
     "text": [
      "Minimum salary is 2100\n",
      "Maximum salary is 24000\n",
      "Mean salary is 6461.682242990654\n"
     ]
    }
   ],
   "source": [
    "print(\"Minimum salary is\", employee['salary'].min())\n",
    "print(\"Maximum salary is\", employee['salary'].max())\n",
    "print(\"Mean salary is\", employee['salary'].mean())"
   ]
  },
  {
   "cell_type": "markdown",
   "id": "0b32f93a-86da-40fd-9c49-c138080906cd",
   "metadata": {},
   "source": [
    "23. Write a Pandas program to display the details of jobs in descending sequence on job title."
   ]
  },
  {
   "cell_type": "code",
   "execution_count": 86,
   "id": "fbd7237d-bfc5-4ca4-9b83-4670df251564",
   "metadata": {},
   "outputs": [
    {
     "name": "stdout",
     "output_type": "stream",
     "text": [
      "Job ID       Job Title                                  Min-salary    Max-salary\n",
      "ST_MAN       Stock Manager                              5500          8500\n",
      "ST_CLERK     Stock Clerk                                2000          5000\n",
      "SH_CLERK     Shipping Clerk                             2500          5500\n",
      "SA_REP       Sales Representative                       6000          12000\n",
      "SA_MAN       Sales Manager                              10000         20000\n",
      "PU_MAN       Purchasing Manager                         8000          15000\n",
      "PU_CLERK     Purchasing Clerk                           2500          5500\n",
      "PR_REP       Public Relations Representative            4500          10500\n",
      "AC_ACCOUNT   Public Accountant                          4200          9000\n",
      "IT_PROG      Programmer                                 4000          10000\n",
      "AD_PRES      President                                  20000         40000\n",
      "MK_REP       Marketing Representative                   4000          9000\n",
      "MK_MAN       Marketing Manager                          9000          15000\n",
      "HR_REP       Human Resources Representative             4000          9000\n",
      "FI_MGR       Finance Manager                            8200          16000\n",
      "AD_VP        Administration Vice President              15000         30000\n",
      "AD_ASST      Administration Assistant                   3000          6000\n",
      "AC_MGR       Accounting Manager                         8200          16000\n",
      "FI_ACCOUNT   Accountant                                 4200          9000\n"
     ]
    }
   ],
   "source": [
    "job = pd.read_csv('jobs.csv')\n",
    "print(\"Job ID       Job Title                                  Min-salary    Max-salary\")\n",
    "result = job.sort_values('job_title', ascending = False)\n",
    "\n",
    "for index, row in result.iterrows():\n",
    "    print(row['job_id'].ljust(12),row['job_title'].ljust(42),str(row['min_salary']).ljust(13),row['max_salary'])\n"
   ]
  },
  {
   "cell_type": "markdown",
   "id": "11820c9a-6fe8-44b3-bfc4-00b9c1b7a1bf",
   "metadata": {},
   "source": [
    "24. Write a Pandas program to display the first and last name and date of joining of the employees who is either Sales Representative or Sales Man. "
   ]
  },
  {
   "cell_type": "code",
   "execution_count": 87,
   "id": "bcfbf267-079a-4661-beaf-57fea06984d9",
   "metadata": {},
   "outputs": [
    {
     "name": "stdout",
     "output_type": "stream",
     "text": [
      "First name      Last name       Job ID          Hire Date\n",
      "John            Russell         SA_MAN          2004-10-01\n",
      "Karen           Partners        SA_MAN          2005-01-05\n",
      "Alberto         Errazuriz       SA_MAN          2005-03-10\n",
      "Gerald          Cambrault       SA_MAN          2007-10-15\n",
      "Eleni           Zlotkey         SA_MAN          2008-01-29\n",
      "Peter           Tucker          SA_REP          2005-01-30\n",
      "David           Bernstein       SA_REP          2005-03-24\n",
      "Peter           Hall            SA_REP          2005-08-20\n",
      "Christopher     Olsen           SA_REP          2006-03-30\n",
      "Nanette         Cambrault       SA_REP          2006-12-09\n",
      "Oliver          Tuvault         SA_REP          2007-11-23\n",
      "Janette         King            SA_REP          2004-01-30\n",
      "Patrick         Sully           SA_REP          2004-03-04\n",
      "Allan           McEwen          SA_REP          2004-08-01\n",
      "Lindsey         Smith           SA_REP          2005-03-10\n",
      "Louise          Doran           SA_REP          2005-12-15\n",
      "Sarath          Sewall          SA_REP          2006-11-03\n",
      "Clara           Vishney         SA_REP          2005-11-11\n",
      "Danielle        Greene          SA_REP          2007-03-19\n",
      "Mattea          Marvins         SA_REP          2008-01-24\n",
      "David           Lee             SA_REP          2008-02-23\n",
      "Sundar          Ande            SA_REP          2008-03-24\n",
      "Amit            Banda           SA_REP          2008-04-21\n",
      "Lisa            Ozer            SA_REP          2005-03-11\n",
      "Harrison        Bloom           SA_REP          2006-03-23\n",
      "Tayler          Fox             SA_REP          2006-01-24\n",
      "William         Smith           SA_REP          2007-02-23\n",
      "Elizabeth       Bates           SA_REP          2007-03-24\n",
      "Sundita         Kumar           SA_REP          2008-04-21\n",
      "Ellen           Abel            SA_REP          2004-05-11\n",
      "Alyssa          Hutton          SA_REP          2005-03-19\n",
      "Jonathon        Taylor          SA_REP          2006-03-24\n",
      "Jack            Livingston      SA_REP          2006-04-23\n",
      "Kimberely       Grant           SA_REP          2007-05-24\n",
      "Charles         Johnson         SA_REP          2008-01-04\n"
     ]
    }
   ],
   "source": [
    "print(\"First name      Last name       Job ID          Hire Date\")\n",
    "result = employees[employees['job_id'].isin(['SA_REP', 'SA_MAN'])]\n",
    "for index, row in result.iterrows():\n",
    "    print(row['first_name'].ljust(15),row['last_name'].ljust(15),str(row['job_id']).ljust(15),str(row['hire_date']).ljust(10))\n",
    "\n",
    "\n",
    "# Equivalent SQL Syntax:\n",
    "\n",
    "# SELECT first_name, last_name, hire_date\n",
    "# \tFROM employees \n",
    "# \t\tWHERE job_id IN ('SA_REP', 'SA_MAN');\n"
   ]
  },
  {
   "cell_type": "code",
   "execution_count": null,
   "id": "019d0ef6-8121-490c-a837-9c09fc599b72",
   "metadata": {},
   "outputs": [],
   "source": []
  }
 ],
 "metadata": {
  "kernelspec": {
   "display_name": "Python 3 (ipykernel)",
   "language": "python",
   "name": "python3"
  },
  "language_info": {
   "codemirror_mode": {
    "name": "ipython",
    "version": 3
   },
   "file_extension": ".py",
   "mimetype": "text/x-python",
   "name": "python",
   "nbconvert_exporter": "python",
   "pygments_lexer": "ipython3",
   "version": "3.13.0"
  }
 },
 "nbformat": 4,
 "nbformat_minor": 5
}
