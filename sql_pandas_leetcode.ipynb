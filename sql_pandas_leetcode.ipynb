{
 "cells": [
  {
   "cell_type": "markdown",
   "id": "44d3f633-4948-4b10-849b-b5f321b72313",
   "metadata": {},
   "source": [
    "Write a solution to find the second highest distinct salary from the Employee table. If there is no second highest salary, return null (return None in Pandas).\n",
    "\n"
   ]
  },
  {
   "cell_type": "raw",
   "id": "6dbec9ef-96a5-4914-a8c6-47af53993796",
   "metadata": {},
   "source": [
    "SELECT MAX(salary) AS SecondHighestSalary\n",
    "FROM Employee\n",
    "WHERE salary < (SELECT MAX(salary) FROM Employee);\n"
   ]
  },
  {
   "cell_type": "code",
   "execution_count": 2,
   "id": "24f9c6b0-e084-40ed-9959-a6c75695aebd",
   "metadata": {},
   "outputs": [
    {
     "name": "stdout",
     "output_type": "stream",
     "text": [
      "   Second highest salary\n",
      "0                    200\n"
     ]
    }
   ],
   "source": [
    "import pandas as pd\n",
    "\n",
    "data = {'id':[1,2,3], 'salary':[100,200,300]}\n",
    "df = pd.DataFrame(data)\n",
    "\n",
    "def second_highest(employee_df):\n",
    "    distinct_salaries = employee_df['salary'].drop_duplicates().sort_values(ascending = False)\n",
    "\n",
    "    if len(distinct_salaries)>1:\n",
    "        return distinct_salaries.iloc[1]\n",
    "    else:\n",
    "        return None\n",
    "\n",
    "salary_second = second_highest(df)\n",
    "\n",
    "result = pd.DataFrame({'Second highest salary':[salary_second]})\n",
    "\n",
    "print(result)"
   ]
  },
  {
   "cell_type": "markdown",
   "id": "df7861c4-46e9-49d9-bbbb-574efa7fb7fa",
   "metadata": {},
   "source": [
    "Write a solution to delete all duplicate emails, keeping only one unique email with the smallest id.\n",
    "\n",
    "For SQL users, please note that you are supposed to write a DELETE statement and not a SELECT one.\n",
    "\n",
    "For Pandas users, please note that you are supposed to modify Person in place.\n",
    "\n",
    "After running your script, the answer shown is the Person table. The driver will first compile and run your piece of code and then show the Person table. The final order of the Person table does not matter."
   ]
  },
  {
   "cell_type": "raw",
   "id": "0900a78a-9ca2-4b66-8e76-63e1c69e36af",
   "metadata": {},
   "source": [
    "DELETE FROM Person\n",
    "WHERE id NOT IN (\n",
    "    SELECT id FROM (\n",
    "        SELECT MIN(id) AS id\n",
    "        FROM Person\n",
    "        GROUP BY email\n",
    "    ) AS temp\n",
    ");\n"
   ]
  },
  {
   "cell_type": "code",
   "execution_count": 4,
   "id": "7fd6e728-c6e6-4601-b006-4251a2e6a241",
   "metadata": {},
   "outputs": [
    {
     "name": "stdout",
     "output_type": "stream",
     "text": [
      "   id             email\n",
      "0   1  john@example.com\n",
      "1   2   bob@example.com\n"
     ]
    }
   ],
   "source": [
    "import pandas as pd\n",
    "\n",
    "data = {'id': [1, 2, 3], 'email': ['john@example.com', 'bob@example.com', 'john@example.com']}\n",
    "df = pd.DataFrame(data)\n",
    "\n",
    "df.sort_values(by='id', inplace=True)\n",
    "df.drop_duplicates(subset='email', keep='first', inplace=True)\n",
    "\n",
    "print(df)\n"
   ]
  },
  {
   "cell_type": "markdown",
   "id": "d4e8d836-3290-4846-aa4a-2dc8d3cd1502",
   "metadata": {},
   "source": [
    "Write a solution to find all customers who never order anything.\n",
    "\n",
    "Return the result table in any order."
   ]
  },
  {
   "cell_type": "raw",
   "id": "1cf31ccd-1029-4abf-bd39-4439386e1295",
   "metadata": {},
   "source": [
    "SELECT c.name AS Customers\n",
    "FROM Customers c\n",
    "LEFT JOIN Orders o\n",
    "ON c.id = o.customerId\n",
    "WHERE o.customerId IS NULL;\n"
   ]
  },
  {
   "cell_type": "code",
   "execution_count": 5,
   "id": "a3dd1fbd-8f84-494a-80be-f5764ff45019",
   "metadata": {},
   "outputs": [
    {
     "name": "stdout",
     "output_type": "stream",
     "text": [
      "  Customers\n",
      "1     Henry\n",
      "3       Max\n"
     ]
    }
   ],
   "source": [
    "import pandas as pd\n",
    "\n",
    "customers_data = {'id': [1, 2, 3, 4], 'name': ['Joe', 'Henry', 'Sam', 'Max']}\n",
    "customers_df = pd.DataFrame(customers_data)\n",
    "\n",
    "orders_data = {'id': [1, 2], 'customerId': [3, 1]}\n",
    "orders_df = pd.DataFrame(orders_data)\n",
    "\n",
    "merged_df = customers_df.merge(orders_df, left_on='id', right_on='customerId', how='left')\n",
    "result_df = merged_df[merged_df['customerId'].isna()][['name']]\n",
    "result_df.columns = ['Customers']\n",
    "\n",
    "print(result_df)\n"
   ]
  },
  {
   "cell_type": "markdown",
   "id": "3804ae75-efef-4f48-b9fd-0f4c421c6b26",
   "metadata": {},
   "source": [
    "Write a solution to find the employees who earn more than their managers.\n",
    "\n",
    "Return the result table in any order."
   ]
  },
  {
   "cell_type": "raw",
   "id": "b0bd056a-319f-403f-abbf-02af94e341c2",
   "metadata": {},
   "source": [
    "SELECT e1.name AS Employee\n",
    "FROM Employee e1\n",
    "JOIN Employee e2\n",
    "ON e1.managerId = e2.id\n",
    "WHERE e1.salary > e2.salary;\n"
   ]
  },
  {
   "cell_type": "code",
   "execution_count": 8,
   "id": "e63d8414-cb4f-403c-82e7-f2059a7a952c",
   "metadata": {},
   "outputs": [
    {
     "name": "stdout",
     "output_type": "stream",
     "text": [
      "  Employee\n",
      "0      Joe\n"
     ]
    }
   ],
   "source": [
    "import pandas as pd\n",
    "\n",
    "data = {\n",
    "    'id': [1, 2, 3, 4],\n",
    "    'name': ['Joe', 'Henry', 'Sam', 'Max'],\n",
    "    'salary': [70000, 80000, 60000, 90000],\n",
    "    'managerId': [3, 4, None, None]\n",
    "}\n",
    "df = pd.DataFrame(data)\n",
    "\n",
    "merged_df = df.merge(df, left_on='managerId', right_on='id', suffixes=('_emp', '_mgr'))\n",
    "\n",
    "result_df = merged_df[merged_df['salary_emp'] > merged_df['salary_mgr']][['name_emp']]\n",
    "result_df.columns = ['Employee']\n",
    "\n",
    "print(result_df)\n"
   ]
  },
  {
   "cell_type": "code",
   "execution_count": null,
   "id": "2cc653b8-2f1d-4c51-a3ab-f39e5e3834da",
   "metadata": {},
   "outputs": [],
   "source": []
  }
 ],
 "metadata": {
  "kernelspec": {
   "display_name": "Python 3 (ipykernel)",
   "language": "python",
   "name": "python3"
  },
  "language_info": {
   "codemirror_mode": {
    "name": "ipython",
    "version": 3
   },
   "file_extension": ".py",
   "mimetype": "text/x-python",
   "name": "python",
   "nbconvert_exporter": "python",
   "pygments_lexer": "ipython3",
   "version": "3.13.0"
  }
 },
 "nbformat": 4,
 "nbformat_minor": 5
}
