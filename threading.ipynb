{
 "cells": [
  {
   "cell_type": "markdown",
   "id": "691ec9ca-2923-44d2-a03b-fa8676bca3b9",
   "metadata": {},
   "source": [
    "## Multithreading in Python\n",
    "\n",
    "- Thread is an entity within a process that can be scheduled for execution, smallest unit of processing that can be performed in an OS\n",
    "- Multithreading is defined as the ability of a processor to execute multiple threads concurrently.\n",
    "- multithreading can be done by importing a module called threading\n",
    "\n",
    "### Steps for multithreading in python\n",
    "\n",
    "1. Import module\n",
    "        import threading\n",
    "\n",
    "2. Creating a thread\n",
    "        t1 = threading.Thread(target, args)\n",
    "        t2 = threading.Thread(target, args)\n",
    "\n",
    "3. Start a thread\n",
    "        t1.start()\n",
    "        t2.start()\n",
    "\n",
    "4. End the thread Execution\n",
    "        t1.join()\n",
    "        t2.join()\n",
    "\n",
    "\n",
    "#### Example"
   ]
  },
  {
   "cell_type": "code",
   "execution_count": 1,
   "id": "8a61b3c0-de5e-4cd5-b501-7e4ca1148310",
   "metadata": {},
   "outputs": [
    {
     "name": "stdout",
     "output_type": "stream",
     "text": [
      "Square:100\n",
      "Cube:1000\n",
      "Done!\n"
     ]
    }
   ],
   "source": [
    "import threading\n",
    "\n",
    "def print_cube(num):\n",
    "    print(\"Cube:{}\" .format(num*num*num))\n",
    "\n",
    "def print_square(num):\n",
    "    print(\"Square:{}\" . format(num*num))\n",
    "\n",
    "if __name__ == \"__main__\":\n",
    "    t1 = threading.Thread(target = print_square, args=(10,))\n",
    "    t2 = threading.Thread(target = print_cube, args=(10,))\n",
    "\n",
    "    t1.start()\n",
    "    t2.start()\n",
    "\n",
    "    t1.join()\n",
    "    t2.join()\n",
    "\n",
    "    print(\"Done!\")\n",
    "    "
   ]
  },
  {
   "cell_type": "markdown",
   "id": "74714b52-8344-45bf-8609-f53cf757588d",
   "metadata": {},
   "source": [
    "#### Example:\n",
    "\n",
    "In this example, we use os.getpid() function to get the ID of the current process. We use threading.main_thread() function to get the main thread object. In normal conditions, the main thread is the thread from which the Python interpreter was started. name attribute of the thread object is used to get the name of the thread. Then we use the threading.current_thread() function to get the current thread object.\n",
    "\n",
    "Consider the Python program given below in which we print the thread name and corresponding process for each task.\n",
    "\n",
    "This code demonstrates how to use Python’s threading module to run two tasks concurrently. The main program initiates two threads, t1 and t2 , each responsible for executing a specific task. The threads run in parallel, and the code provides information about the process ID and thread names. The os module is used to access the process ID, and the ‘ threading' module is used to manage threads and their execution. "
   ]
  },
  {
   "cell_type": "code",
   "execution_count": 2,
   "id": "79fc1321-571c-4453-8d76-70831ed48b07",
   "metadata": {},
   "outputs": [
    {
     "name": "stdout",
     "output_type": "stream",
     "text": [
      "id of process running main program: 2664\n",
      "Main thread name: MainThread\n",
      "Task 1 assigned to thread:t1\n",
      "ID of process running task 1: 2664\n",
      "Task 2 assigned to thread:t2\n",
      "ID of process running task 2: 2664\n"
     ]
    }
   ],
   "source": [
    "import threading \n",
    "import os \n",
    "\n",
    "def task1():\n",
    "    print(\"Task 1 assigned to thread:{}\" .format(threading.current_thread().name))\n",
    "    print(\"ID of process running task 1: {}\" .format(os.getpid()))\n",
    "\n",
    "def task2():\n",
    "    print(\"Task 2 assigned to thread:{}\" .format(threading.current_thread().name))\n",
    "    print(\"ID of process running task 2: {}\" .format(os.getpid()))\n",
    "\n",
    "\n",
    "if __name__ == \"__main__\":\n",
    "    print(\"id of process running main program: {}\" .format(os.getpid()))\n",
    "    print(\"Main thread name: {}\" .format(threading.current_thread().name))\n",
    "\n",
    "    t1 = threading.Thread(target = task1, name = 't1')\n",
    "    t2 = threading.Thread(target = task2, name = 't2')\n",
    "\n",
    "    t1.start()\n",
    "    t2.start()\n",
    "\n",
    "    t1.join()\n",
    "    t2.join()"
   ]
  },
  {
   "cell_type": "markdown",
   "id": "e606a3a9-c664-42f5-a54e-7c2a5224b500",
   "metadata": {},
   "source": [
    "## Generators\n",
    "\n",
    "- Generator is a function that returns an iterator that produces a sequence of values when iterated over\n",
    "- Generators are useful when we want to produce a large sequence of values but we don't want to store all of them in memory at once\n",
    "- The yield keyword is used to produce a value from the generator and pause the generator function's execution until the next value is requested.\n",
    "\n",
    "### Creating a python generator\n",
    "\n",
    "def generator_name(arg):\n",
    "\n",
    "        #statements\n",
    "        yield something\n",
    "\n",
    "#### Example"
   ]
  },
  {
   "cell_type": "code",
   "execution_count": 3,
   "id": "d24f41b1-a8e6-482f-a641-8d634681f759",
   "metadata": {},
   "outputs": [
    {
     "name": "stdout",
     "output_type": "stream",
     "text": [
      "0\n",
      "1\n",
      "2\n"
     ]
    }
   ],
   "source": [
    "def my_generator(n):\n",
    "    #initialize counter\n",
    "    value = 0 \n",
    "    #loop\n",
    "    while value < n:\n",
    "        yield value #counter\n",
    "        value += 1 #increment counter\n",
    "        \n",
    "#iterate over the generator object produced by my_generator\n",
    "for value in my_generator(3):\n",
    "    print (value)"
   ]
  },
  {
   "cell_type": "markdown",
   "id": "9c731c66-dc96-42a3-947e-d7ca059ff955",
   "metadata": {},
   "source": [
    "### Generator expression syntax\n",
    "(expression for item in iterable)\n",
    "\n",
    "#### Example"
   ]
  },
  {
   "cell_type": "code",
   "execution_count": 4,
   "id": "23d35d38-15e8-4275-949c-623c7317061c",
   "metadata": {},
   "outputs": [
    {
     "name": "stdout",
     "output_type": "stream",
     "text": [
      "0\n",
      "1\n",
      "4\n",
      "9\n",
      "16\n"
     ]
    }
   ],
   "source": [
    "# create the generator object\n",
    "squares_generator = (i * i for i in range(5))\n",
    "\n",
    "# iterate over the generator and print the values\n",
    "for i in squares_generator:\n",
    "    print(i)\n",
    "\n",
    "# similar to list comprehension but instead of creating list it creates a generator that can be iterated over to produce the values in the generator"
   ]
  },
  {
   "cell_type": "markdown",
   "id": "22c1d885-192c-4bd9-8a90-f3aaa02e7121",
   "metadata": {},
   "source": [
    "### generators are easy to implement and make code simpler\n",
    "\n",
    "#### Example"
   ]
  },
  {
   "cell_type": "code",
   "execution_count": 5,
   "id": "b195b9cb-1100-4c28-acbd-8e2a0ffd406e",
   "metadata": {},
   "outputs": [
    {
     "name": "stdout",
     "output_type": "stream",
     "text": [
      "1\n",
      "2\n",
      "4\n",
      "8\n",
      "16\n",
      "32\n",
      "64\n",
      "128\n",
      "256\n",
      "512\n",
      "1024\n"
     ]
    }
   ],
   "source": [
    "class PowTwo:\n",
    "    def __init__(self, max=0):\n",
    "        self.n = 0\n",
    "        self.max = max\n",
    "\n",
    "    def __iter__(self):\n",
    "        return self\n",
    "\n",
    "    def __next__(self):\n",
    "        if self.n > self.max:\n",
    "            raise StopIteration\n",
    "\n",
    "        result = 2 ** self.n\n",
    "        self.n += 1\n",
    "        return result\n",
    "\n",
    "p1 = PowTwo(10)\n",
    "for i in p1:\n",
    "    print(i)"
   ]
  },
  {
   "cell_type": "code",
   "execution_count": 6,
   "id": "5c7b9ab8-9567-4faf-8da1-4ca0f0c1b2ac",
   "metadata": {},
   "outputs": [
    {
     "name": "stdout",
     "output_type": "stream",
     "text": [
      "1\n",
      "2\n",
      "4\n",
      "8\n",
      "16\n",
      "32\n",
      "64\n",
      "128\n",
      "256\n",
      "512\n"
     ]
    }
   ],
   "source": [
    "def PowTwoGen(max=0):\n",
    "    n = 0\n",
    "    while n < max:\n",
    "        yield 2 ** n\n",
    "        n += 1\n",
    "\n",
    "for i in PowTwoGen(10):\n",
    "    print(i)"
   ]
  },
  {
   "cell_type": "code",
   "execution_count": 7,
   "id": "45152f63-0c4d-4dd4-b3c9-4562b2e75d16",
   "metadata": {},
   "outputs": [],
   "source": [
    "## same problem one not using generator and the other using generator"
   ]
  },
  {
   "cell_type": "markdown",
   "id": "9d89dc69-d95e-49b4-9029-e40e76f3533c",
   "metadata": {},
   "source": [
    "### Pipelining Generators\n",
    "Multiple generators can be used to pipeline a series of operations.\n",
    "\n",
    "#### Example"
   ]
  },
  {
   "cell_type": "code",
   "execution_count": 8,
   "id": "9bdfb9e9-2408-4b25-8dfe-7b4608ca69cc",
   "metadata": {},
   "outputs": [
    {
     "name": "stdout",
     "output_type": "stream",
     "text": [
      "4895\n"
     ]
    }
   ],
   "source": [
    "def fibonacci_numbers(nums):\n",
    "    x,y = 0,1\n",
    "    for _ in range(nums):\n",
    "        x,y = y, x+y\n",
    "        yield x\n",
    "\n",
    "def square(nums):\n",
    "    for num in nums:\n",
    "        yield num**2\n",
    "\n",
    "\n",
    "print(sum(square(fibonacci_numbers(10))))"
   ]
  },
  {
   "cell_type": "markdown",
   "id": "feba1460-fb67-4b25-9a84-82db03f84cc7",
   "metadata": {},
   "source": [
    "## Iterables and Iterator\n",
    "\n",
    "- Iterators are methods that iterate collections like lists, tuples, etc. Using an iterator method, we can loop through an object and return its elements.\n",
    "- a Python iterator object must implement two special methods, __iter__() and __next__(), collectively called the iterator protocol.\n",
    "\n",
    "### Iterating through an iterator"
   ]
  },
  {
   "cell_type": "code",
   "execution_count": 9,
   "id": "dc8a2c29-ac22-4331-b0c1-64f38f9d1e29",
   "metadata": {},
   "outputs": [
    {
     "name": "stdout",
     "output_type": "stream",
     "text": [
      "4\n",
      "7\n",
      "0\n"
     ]
    }
   ],
   "source": [
    "# define a list\n",
    "my_list = [4, 7, 0]\n",
    "\n",
    "# create an iterator from the list\n",
    "iterator = iter(my_list)\n",
    "\n",
    "# get the first element of the iterator\n",
    "print(next(iterator))  \n",
    "\n",
    "# get the second element of the iterator\n",
    "print(next(iterator))  \n",
    "\n",
    "# get the third element of the iterator\n",
    "print(next(iterator)) \n",
    "\n",
    "##When we reach the end and there is no more data to be returned, we will get the StopIteration Exception."
   ]
  },
  {
   "cell_type": "markdown",
   "id": "8e9a5c80-c4cc-4db6-a3d9-cc2a732ce405",
   "metadata": {},
   "source": [
    "### Using for loop\n",
    "\n",
    "-A more elegant way of automatically iterating is by using the for loop. For example"
   ]
  },
  {
   "cell_type": "code",
   "execution_count": 10,
   "id": "00c19410-5770-4ea2-a068-a35da294412c",
   "metadata": {},
   "outputs": [
    {
     "name": "stdout",
     "output_type": "stream",
     "text": [
      "4\n",
      "7\n",
      "0\n"
     ]
    }
   ],
   "source": [
    "# define a list\n",
    "my_list = [4, 7, 0]\n",
    "\n",
    "for element in my_list:\n",
    "    print(element)"
   ]
  },
  {
   "cell_type": "markdown",
   "id": "7025caf5-286e-4940-9a18-4ffbd6d77b71",
   "metadata": {},
   "source": [
    "## Building Custom Iterators\n",
    "\n",
    "Building an iterator from scratch is easy in Python. We just have to implement the __iter__() and the __next__() methods,\n",
    "\n",
    "    __iter__() returns the iterator object itself. If required, some initialization can be performed.\n",
    "\n",
    "    __next__() must return the next item in the sequence. On reaching the end, and in subsequent calls, it must raise StopIteration.\n"
   ]
  },
  {
   "cell_type": "code",
   "execution_count": 11,
   "id": "36792b66-730f-40b6-bb8c-310558cc96a7",
   "metadata": {},
   "outputs": [
    {
     "name": "stdout",
     "output_type": "stream",
     "text": [
      "1\n",
      "2\n",
      "4\n",
      "8\n"
     ]
    },
    {
     "ename": "StopIteration",
     "evalue": "",
     "output_type": "error",
     "traceback": [
      "\u001b[1;31m---------------------------------------------------------------------------\u001b[0m",
      "\u001b[1;31mStopIteration\u001b[0m                             Traceback (most recent call last)",
      "Cell \u001b[1;32mIn[11], line 32\u001b[0m\n\u001b[0;32m     30\u001b[0m \u001b[38;5;28mprint\u001b[39m(\u001b[38;5;28mnext\u001b[39m(i)) \n\u001b[0;32m     31\u001b[0m \u001b[38;5;28mprint\u001b[39m(\u001b[38;5;28mnext\u001b[39m(i)) \n\u001b[1;32m---> 32\u001b[0m \u001b[38;5;28mprint\u001b[39m(\u001b[38;5;28;43mnext\u001b[39;49m\u001b[43m(\u001b[49m\u001b[43mi\u001b[49m\u001b[43m)\u001b[49m) \n",
      "Cell \u001b[1;32mIn[11], line 18\u001b[0m, in \u001b[0;36mPowTwo.__next__\u001b[1;34m(self)\u001b[0m\n\u001b[0;32m     16\u001b[0m     \u001b[38;5;28;01mreturn\u001b[39;00m result\n\u001b[0;32m     17\u001b[0m \u001b[38;5;28;01melse\u001b[39;00m:\n\u001b[1;32m---> 18\u001b[0m     \u001b[38;5;28;01mraise\u001b[39;00m \u001b[38;5;167;01mStopIteration\u001b[39;00m\n",
      "\u001b[1;31mStopIteration\u001b[0m: "
     ]
    }
   ],
   "source": [
    "class PowTwo:\n",
    "    \"\"\"Class to implement an iterator\n",
    "    of powers of two\"\"\"\n",
    "\n",
    "    def __init__(self, max=0):\n",
    "        self.max = max\n",
    "\n",
    "    def __iter__(self):\n",
    "        self.n = 0\n",
    "        return self\n",
    "\n",
    "    def __next__(self):\n",
    "        if self.n <= self.max:\n",
    "            result = 2 ** self.n\n",
    "            self.n += 1\n",
    "            return result\n",
    "        else:\n",
    "            raise StopIteration\n",
    "\n",
    "\n",
    "# create an object\n",
    "numbers = PowTwo(3)\n",
    "\n",
    "# create an iterable from the object\n",
    "i = iter(numbers)\n",
    "\n",
    "# Using next to get to the next iterator element\n",
    "print(next(i)) \n",
    "print(next(i)) \n",
    "print(next(i)) \n",
    "print(next(i)) \n",
    "print(next(i)) "
   ]
  },
  {
   "cell_type": "markdown",
   "id": "885e2d40-51c3-4e96-9644-53b476e6cf6d",
   "metadata": {},
   "source": [
    "### Python Infinite Iterators\n"
   ]
  },
  {
   "cell_type": "code",
   "execution_count": 12,
   "id": "d6287258-e55a-4c43-bf27-5984f86892cf",
   "metadata": {},
   "outputs": [
    {
     "name": "stdout",
     "output_type": "stream",
     "text": [
      "1\n",
      "2\n",
      "3\n",
      "4\n",
      "5\n"
     ]
    }
   ],
   "source": [
    "from itertools import count\n",
    "\n",
    "# create an infinite iterator that starts at 1 and increments by 1 each time\n",
    "infinite_iterator = count(1)\n",
    "\n",
    "# print the first 5 elements of the infinite iterator\n",
    "for i in range(5):\n",
    "    print(next(infinite_iterator))"
   ]
  },
  {
   "cell_type": "markdown",
   "id": "a5159c26-d90b-4a06-881e-9968667f4aba",
   "metadata": {},
   "source": [
    "## Thread Pool Management with ThreadPoolExecutor"
   ]
  },
  {
   "cell_type": "markdown",
   "id": "fff275fc-e621-4585-b9a4-36734d33786e",
   "metadata": {},
   "source": [
    "#### Threadpool\n",
    "\n",
    "- Thread pool is a collection of threads that are created in advance and can be reused to execute multiple tasks.\n",
    "- concurrent.futures module in python provides a ThreadPoolExecuter class that makes it easy to create and manage a thread pool\n",
    "\n",
    "From Python 3.2 onwards a new class called <strong>ThreadPoolExecutor</strong> was introduced in Python in concurrent.futures module to efficiently manage and create threads. But wait if python already had a threading module inbuilt then why a new module was introduced\n"
   ]
  },
  {
   "cell_type": "markdown",
   "id": "bb7d5cbb-8095-4941-8ce7-facfdee954ec",
   "metadata": {},
   "source": [
    "- Spawning new threads on the fly is not a problem when the number of threads is less, but it becomes really cumbersome to manage threads if we are dealing with many threads. Apart from this, it is computationally inefficient to create so many threads which will lead to a decline in throughput. An approach to keep up the throughput is to create & instantiate a pool of idle threads beforehand and reuse the threads from this pool until all the threads are exhausted. This way the overhead of creating new threads is reduced.\n",
    "- Also, the pool keeps track and manages the threads lifecycle and schedules them on the programmer’s behalf thus making the code much simpler and less buggy.\n",
    "\n",
    "    <b>Syntax:</b> concurrent.futures.ThreadPoolExecutor(max_workers=None, thread_name_prefix=”, initializer=None, initargs=())\n",
    "\n",
    "<strong>Parameters:</strong><br>\n",
    "\n",
    "- max_workers: It is a number of Threads aka size of pool. From 3.8 onwards default value is min(32, os.cpu_count() + 4). Out of these 5 threads are preserved for I/O bound task.\n",
    "- thread_name_prefix : thread_name_prefix was added from python 3.6 onwards to give names to thread for easier debugging purpose.\n",
    "- initializer: initializer takes a callable which is invoked on start of each worker thread.\n",
    "- initargs: It’s a tuple of arguments passed to initializer."
   ]
  },
  {
   "cell_type": "markdown",
   "id": "d7ceae2e-c005-4b99-9ab7-91f1bcb828b0",
   "metadata": {},
   "source": [
    "### ThreadPoolExecutor Methods :\n",
    "\n",
    "ThreadPoolExecutor class exposes three methods to execute threads asynchronously. A detailed explanation is given below.\n",
    "\n",
    "1. submit(fn, *args, **kwargs):\n",
    "     - It runs a callable or a method and returns a Future object representing the execution state of the method.\n",
    "\n",
    "2. map(fn, *iterables, timeout = None, chunksize = 1) : \n",
    "     - It maps the method and iterables together immediately and will raise an exception concurrent. futures.TimeoutError if it fails to do so within the timeout limit.\n",
    "     - If the iterables are very large, then having a chunk-size larger than 1 can improve performance when using ProcessPoolExecutor but with ThreadPoolExecutor it has no such advantage, ie it can be left to its default value.\n",
    "\n",
    "3. shutdown(wait = True, *, cancel_futures = False): \n",
    "   - It signals the executor to free up all resources when the futures are done executing.\n",
    "   - It must be called after executor.submit() and executor.map() method else it would throw RuntimeError.\n",
    "   - wait=True makes the method not to return until execution of all threads is done and resources are freed up.\n",
    "   - cancel_futures=True then the executor will cancel all the future threads that are yet to start."
   ]
  },
  {
   "cell_type": "code",
   "execution_count": 13,
   "id": "378efa6d-43ef-4790-a392-bc4c08f5a9fb",
   "metadata": {},
   "outputs": [
    {
     "name": "stdout",
     "output_type": "stream",
     "text": [
      "Cube of 2:8\n",
      "Cube of 3:27\n",
      "Cube of 4:64\n",
      "Cube of 6:216\n",
      "Cube of 5:125\n",
      "None\n",
      "None\n",
      "None\n",
      "None\n"
     ]
    }
   ],
   "source": [
    "# Example\n",
    "from concurrent.futures import ThreadPoolExecutor\n",
    "from time import sleep\n",
    "\n",
    "values = [3,4,5,6]\n",
    "\n",
    "def cube(x):\n",
    "    print(f'Cube of {x}:{x*x*x}')\n",
    "\n",
    "\n",
    "if __name__ == '__main__':\n",
    "    result =[]\n",
    "    with ThreadPoolExecutor(max_workers=5) as exe:\n",
    "        exe.submit(cube,2)\n",
    "        \n",
    "        # Maps the method 'cube' with a list of values.\n",
    "        result = exe.map(cube,values)\n",
    "    \n",
    "    for r in result:\n",
    "      print(r)\n"
   ]
  },
  {
   "cell_type": "code",
   "execution_count": 14,
   "id": "0bf51f7c-8a5d-4c32-b599-5199e90942ff",
   "metadata": {},
   "outputs": [
    {
     "name": "stdout",
     "output_type": "stream",
     "text": [
      "Downloading..\n",
      "Downloading..\n",
      "Downloading..\n",
      "Downloading..\n",
      "Downloading..\n",
      "Downloading..\n",
      "Single Threaded Code Took :1.935132300000987 seconds\n",
      "**************************************************\n",
      "Downloading..\n",
      "Downloading..\n",
      "Downloading..\n",
      "Downloading..\n",
      "Downloading..\n",
      "Downloading..\n",
      "MultiThreaded Code Took:0.39844069999526255 seconds\n"
     ]
    }
   ],
   "source": [
    "import requests\n",
    "import time\n",
    "import concurrent.futures\n",
    " \n",
    "img_urls = [\n",
    "    'https://media.geeksforgeeks.org/wp-content/uploads/20190623210949/download21.jpg',\n",
    "    'https://media.geeksforgeeks.org/wp-content/uploads/20190623211125/d11.jpg',\n",
    "    'https://media.geeksforgeeks.org/wp-content/uploads/20190623211655/d31.jpg',\n",
    "    'https://media.geeksforgeeks.org/wp-content/uploads/20190623212213/d4.jpg',\n",
    "    'https://media.geeksforgeeks.org/wp-content/uploads/20190623212607/d5.jpg',\n",
    "    'https://media.geeksforgeeks.org/wp-content/uploads/20190623235904/d6.jpg',\n",
    "]\n",
    " \n",
    "t1 = time.perf_counter()\n",
    "def download_image(img_url):\n",
    "    img_bytes = requests.get(img_url).content\n",
    "    print(\"Downloading..\")\n",
    " \n",
    "# Download images 1 by 1 => slow\n",
    "for img in img_urls:\n",
    "  download_image(img)\n",
    "t2 = time.perf_counter()\n",
    "print(f'Single Threaded Code Took :{t2 - t1} seconds')\n",
    " \n",
    "print('*'*50)\n",
    " \n",
    "t1 = time.perf_counter()\n",
    "def download_image(img_url):\n",
    "    img_bytes = requests.get(img_url).content\n",
    "    print(\"Downloading..\")\n",
    " \n",
    "# Fetching images concurrently thus speeds up the download.\n",
    "with concurrent.futures.ThreadPoolExecutor(3) as executor:\n",
    "    executor.map(download_image, img_urls)\n",
    " \n",
    "t2 = time.perf_counter()\n",
    "print(f'MultiThreaded Code Took:{t2 - t1} seconds')\n"
   ]
  },
  {
   "cell_type": "markdown",
   "id": "13a77bce-41ef-41c6-8e3e-5fe55b71d348",
   "metadata": {},
   "source": [
    "## asyncio in Python\n",
    "- Asyncio is a Python library that is used for concurrent programming, including the use of async iterator in Python.\n",
    "- It is not multi-threading or multi-processing.\n",
    "- Asyncio is used as a foundation for multiple Python asynchronous frameworks that provide high-performance network and web servers, database connection libraries, distributed task queues, etc"
   ]
  },
  {
   "cell_type": "markdown",
   "id": "a4e75b55-f110-4b14-b6d4-a4457b30fb33",
   "metadata": {},
   "source": [
    "### Asynchronous Programming with Asyncio in Python"
   ]
  },
  {
   "cell_type": "code",
   "execution_count": 15,
   "id": "71ef7e86-49a6-43af-a976-9535adb3610a",
   "metadata": {},
   "outputs": [
    {
     "ename": "RuntimeError",
     "evalue": "asyncio.run() cannot be called from a running event loop",
     "output_type": "error",
     "traceback": [
      "\u001b[1;31m---------------------------------------------------------------------------\u001b[0m",
      "\u001b[1;31mRuntimeError\u001b[0m                              Traceback (most recent call last)",
      "Cell \u001b[1;32mIn[15], line 10\u001b[0m\n\u001b[0;32m      7\u001b[0m \t\u001b[38;5;28;01mawait\u001b[39;00m asyncio\u001b[38;5;241m.\u001b[39msleep(\u001b[38;5;241m1\u001b[39m)\n\u001b[0;32m      8\u001b[0m \t\u001b[38;5;28mprint\u001b[39m(\u001b[38;5;124m'\u001b[39m\u001b[38;5;124mand not multi-threading\u001b[39m\u001b[38;5;124m'\u001b[39m)\n\u001b[1;32m---> 10\u001b[0m \u001b[43masyncio\u001b[49m\u001b[38;5;241;43m.\u001b[39;49m\u001b[43mrun\u001b[49m\u001b[43m(\u001b[49m\u001b[43mfn\u001b[49m\u001b[43m(\u001b[49m\u001b[43m)\u001b[49m\u001b[43m)\u001b[49m\n",
      "File \u001b[1;32m~\\AppData\\Local\\Programs\\Python\\Python313\\Lib\\asyncio\\runners.py:190\u001b[0m, in \u001b[0;36mrun\u001b[1;34m(main, debug, loop_factory)\u001b[0m\n\u001b[0;32m    161\u001b[0m \u001b[38;5;250m\u001b[39m\u001b[38;5;124;03m\"\"\"Execute the coroutine and return the result.\u001b[39;00m\n\u001b[0;32m    162\u001b[0m \n\u001b[0;32m    163\u001b[0m \u001b[38;5;124;03mThis function runs the passed coroutine, taking care of\u001b[39;00m\n\u001b[1;32m   (...)\u001b[0m\n\u001b[0;32m    186\u001b[0m \u001b[38;5;124;03m    asyncio.run(main())\u001b[39;00m\n\u001b[0;32m    187\u001b[0m \u001b[38;5;124;03m\"\"\"\u001b[39;00m\n\u001b[0;32m    188\u001b[0m \u001b[38;5;28;01mif\u001b[39;00m events\u001b[38;5;241m.\u001b[39m_get_running_loop() \u001b[38;5;129;01mis\u001b[39;00m \u001b[38;5;129;01mnot\u001b[39;00m \u001b[38;5;28;01mNone\u001b[39;00m:\n\u001b[0;32m    189\u001b[0m     \u001b[38;5;66;03m# fail fast with short traceback\u001b[39;00m\n\u001b[1;32m--> 190\u001b[0m     \u001b[38;5;28;01mraise\u001b[39;00m \u001b[38;5;167;01mRuntimeError\u001b[39;00m(\n\u001b[0;32m    191\u001b[0m         \u001b[38;5;124m\"\u001b[39m\u001b[38;5;124masyncio.run() cannot be called from a running event loop\u001b[39m\u001b[38;5;124m\"\u001b[39m)\n\u001b[0;32m    193\u001b[0m \u001b[38;5;28;01mwith\u001b[39;00m Runner(debug\u001b[38;5;241m=\u001b[39mdebug, loop_factory\u001b[38;5;241m=\u001b[39mloop_factory) \u001b[38;5;28;01mas\u001b[39;00m runner:\n\u001b[0;32m    194\u001b[0m     \u001b[38;5;28;01mreturn\u001b[39;00m runner\u001b[38;5;241m.\u001b[39mrun(main)\n",
      "\u001b[1;31mRuntimeError\u001b[0m: asyncio.run() cannot be called from a running event loop"
     ]
    }
   ],
   "source": [
    "import asyncio\n",
    "\n",
    "async def fn():\n",
    "\tprint('This is ')\n",
    "\tawait asyncio.sleep(1)\n",
    "\tprint('asynchronous programming')\n",
    "\tawait asyncio.sleep(1)\n",
    "\tprint('and not multi-threading')\n",
    "\n",
    "asyncio.run(fn())"
   ]
  },
  {
   "cell_type": "code",
   "execution_count": 16,
   "id": "15613d19-9423-43b5-82bb-cf251cd0de08",
   "metadata": {},
   "outputs": [],
   "source": [
    "## error caused due to jupyter notebook\n"
   ]
  },
  {
   "cell_type": "code",
   "execution_count": 17,
   "id": "edc9981a-3b74-4376-bcd6-02b3bc4ec68d",
   "metadata": {},
   "outputs": [
    {
     "name": "stdout",
     "output_type": "stream",
     "text": [
      "This is \n",
      "asynchronous programming\n",
      "and not multi-threading\n"
     ]
    }
   ],
   "source": [
    "import asyncio\n",
    "\n",
    "async def fn():\n",
    "    print('This is ')\n",
    "    await asyncio.sleep(1)\n",
    "    print('asynchronous programming')\n",
    "    await asyncio.sleep(1)\n",
    "    print('and not multi-threading')\n",
    "\n",
    "# Directly await the function in Jupyter Notebook\n",
    "await fn()\n"
   ]
  },
  {
   "cell_type": "markdown",
   "id": "31b4cb20-86e5-450d-bffa-c9298e050249",
   "metadata": {},
   "source": [
    "### Async Event Loop in Python\n",
    "\n",
    " await fn2() after the first print statement simply means to wait until the other function is done executing. So, first, it’s gonna print “one,” then the control shifts to the second function, and “two” and “three” are printed after which the control shifts back to the first function (because fn() has done its work) and then “four” and “five” are printed. "
   ]
  },
  {
   "cell_type": "code",
   "execution_count": 18,
   "id": "2e83ff41-194f-4e6d-910a-a0852fb5cc6d",
   "metadata": {},
   "outputs": [
    {
     "name": "stdout",
     "output_type": "stream",
     "text": [
      "one\n",
      "two\n",
      "three\n",
      "four\n",
      "five\n"
     ]
    }
   ],
   "source": [
    "import asyncio\n",
    "\n",
    "async def fn():\n",
    "\t\n",
    "\tprint(\"one\")\n",
    "\tawait asyncio.sleep(1)\n",
    "\tawait fn2()\n",
    "\tprint('four')\n",
    "\tawait asyncio.sleep(1)\n",
    "\tprint('five')\n",
    "\tawait asyncio.sleep(1)\n",
    "\n",
    "async def fn2():\n",
    "\tawait asyncio.sleep(1)\n",
    "\tprint(\"two\")\n",
    "\tawait asyncio.sleep(1)\n",
    "\tprint(\"three\")\n",
    "await(fn())\n"
   ]
  },
  {
   "cell_type": "markdown",
   "id": "b9a0c943-74e5-4cc0-95ad-bc3b5e93948c",
   "metadata": {},
   "source": [
    "For the program to be actually asynchronous, In the actual order of execution we’ll need to make tasks in order to accomplish this. This means that the other function will begin to run anytime if there is any free time using asyncio.create_task(fn2())"
   ]
  },
  {
   "cell_type": "code",
   "execution_count": 19,
   "id": "eae037a2-4d6b-4fbb-9e36-36a26b94553e",
   "metadata": {},
   "outputs": [
    {
     "name": "stdout",
     "output_type": "stream",
     "text": [
      "one\n",
      "four\n",
      "two\n",
      "five\n",
      "three\n"
     ]
    }
   ],
   "source": [
    "import asyncio\n",
    "async def fn():\n",
    "\ttask=asyncio.create_task(fn2())\n",
    "\tprint(\"one\")\n",
    "    \n",
    "\tprint('four')\n",
    "\tawait asyncio.sleep(1)\n",
    "\tprint('five')\n",
    "\tawait asyncio.sleep(1)\n",
    "\n",
    "async def fn2():\n",
    "\tprint(\"two\")\n",
    "\tawait asyncio.sleep(1)\n",
    "\tprint(\"three\")\n",
    "\t\n",
    "await(fn())\n"
   ]
  },
  {
   "cell_type": "markdown",
   "id": "9d2110c9-161e-4359-a705-720bbc8ce1ba",
   "metadata": {},
   "source": [
    "### I/O-bound tasks using asyncio.sleep()\n",
    "\n",
    "- In this example, the func1(), func2(), and func3() functions are simulated I/O-bound tasks using asyncio.sleep(). They each “wait” for a different amount of time to simulate varying levels of work.\n",
    "- tasks start concurrently, perform their work asynchronously, and then complete in parallel. The order of completion might vary depending on how the asyncio event loop schedules the tasks. This asynchronous behavior is fundamental to understanding how to manage tasks efficiently"
   ]
  },
  {
   "cell_type": "code",
   "execution_count": 20,
   "id": "c24d3143-83d1-44b1-af15-52c3110f439f",
   "metadata": {},
   "outputs": [
    {
     "name": "stdout",
     "output_type": "stream",
     "text": [
      "Function 1 started..\n",
      "Function 2 started..\n",
      "Function 3 started..\n",
      "Function 3 Ended\n",
      "Function 1 Ended\n",
      "Function 2 Ended\n",
      "Main Ended..\n"
     ]
    }
   ],
   "source": [
    "import asyncio\n",
    "\n",
    "\n",
    "async def func1():\n",
    "\tprint(\"Function 1 started..\")\n",
    "\tawait asyncio.sleep(2)\n",
    "\tprint(\"Function 1 Ended\")\n",
    "\n",
    "\n",
    "async def func2():\n",
    "\tprint(\"Function 2 started..\")\n",
    "\tawait asyncio.sleep(3)\n",
    "\tprint(\"Function 2 Ended\")\n",
    "\n",
    "\n",
    "async def func3():\n",
    "\tprint(\"Function 3 started..\")\n",
    "\tawait asyncio.sleep(1)\n",
    "\tprint(\"Function 3 Ended\")\n",
    "\n",
    "\n",
    "async def main():\n",
    "\tL = await asyncio.gather(\n",
    "\t\tfunc1(),\n",
    "\t\tfunc2(),\n",
    "\t\tfunc3(),\n",
    "\t)\n",
    "\tprint(\"Main Ended..\")\n",
    "\n",
    "\n",
    "await(main())\n"
   ]
  },
  {
   "cell_type": "markdown",
   "id": "cc08b188-df3f-4dda-81c0-6a9bc3c309df",
   "metadata": {},
   "source": [
    "### Difference Between Asynchronous and Multi-Threading Programming \n",
    "\n",
    "- Asynchronous programming allows only one part of a program to run at a specific time.\n",
    "- Consider three functions in a Python program: fn1(), fn2(), and fn3().\n",
    "- In asynchronous programming, if fn1() is not actively executing (e.g., it’s asleep, waiting, or has completed its task), it won’t block the entire program.\n",
    "- Instead, the program optimizes CPU time by allowing other functions (e.g., fn2()) to execute while fn1() is inactive.\n",
    "- Only when fn2() finishes or sleeps, the third function, fn3(), starts executing.\n",
    "- This concept of asynchronous programming ensures that one task is performed at a time, and other tasks can proceed independently.\n",
    "- In contrast, in multi-threading or multi-processing, all three functions run concurrently without waiting for each other to finish.\n",
    "- With asynchronous programming, specific functions are designated as asynchronous using the async keyword, and the asyncio Python library helps manage this asynchronous behavior.\n"
   ]
  },
  {
   "cell_type": "markdown",
   "id": "dd5d38e7-22b8-467c-add8-bd19e2aef2ab",
   "metadata": {},
   "source": [
    "## Python Requests \n",
    "\n",
    "- Used for making HTTP requests to a specified URL.\n",
    "- Python requests provide inbuilt functionalities for managing both the request and response\n",
    "- Python requests module has several built-in methods to make HTTP requests to specified URL using GET, POST, PUT, PATCH or HEAD requests.\n",
    "- HTTP request is meant to either retrieve data from a specified URL or to push data to a server\n",
    "- It works as a request-response protocol between a client and a server"
   ]
  },
  {
   "cell_type": "code",
   "execution_count": 21,
   "id": "485e00e2-e4f8-4ce4-b894-68fe71e161eb",
   "metadata": {},
   "outputs": [
    {
     "name": "stdout",
     "output_type": "stream",
     "text": [
      "200\n"
     ]
    }
   ],
   "source": [
    "import requests\n",
    "\n",
    "# GET request to GeeksforGeeks\n",
    "get_response = requests.get(\"https://www.geeksforgeeks.org/\")\n",
    "\n",
    "# Printing only the status code\n",
    "print(get_response.status_code)"
   ]
  },
  {
   "cell_type": "markdown",
   "id": "22b0f501-1c09-4285-83c5-b2bd7905e10e",
   "metadata": {},
   "source": [
    "### Python Requests module\n",
    "\n",
    "- Requests is an Apache2 Licensed HTTP library, that allows to send HTTP/1.1 requests using Python.\n",
    "- To play with web, Python Requests is must. Whether it be hitting APIs, downloading entire facebook pages, and much more cool stuff, one will have to make a request to the URL.\n",
    "- Requests play a major role is dealing with REST APIs, and Web Scraping.\n",
    "\n",
    "### GET request\n",
    "- GET method is used to retrieve information from the given server using a given URI.\n",
    "- The GET method sends the encoded user information appended to the page request.\n",
    "- The page and the encoded information are separated by the ‘?’ character.\n",
    "\n",
    "##### example\n",
    "https://www.google.com/search?q=hello\n",
    "\n",
    "#### Syntax\n",
    "\n",
    "requests.get(url, params={key: value}, args)"
   ]
  },
  {
   "cell_type": "code",
   "execution_count": 22,
   "id": "fa5182e5-f8c5-4a96-a3e7-4ce9fa979a69",
   "metadata": {},
   "outputs": [
    {
     "name": "stdout",
     "output_type": "stream",
     "text": [
      "<Response [200]>\n",
      "b'{\"login\":\"naveenkrnl\",\"id\":42272662,\"node_id\":\"MDQ6VXNlcjQyMjcyNjYy\",\"avatar_url\":\"https://avatars.githubusercontent.com/u/42272662?v=4\",\"gravatar_id\":\"\",\"url\":\"https://api.github.com/users/naveenkrnl\",\"html_url\":\"https://github.com/naveenkrnl\",\"followers_url\":\"https://api.github.com/users/naveenkrnl/followers\",\"following_url\":\"https://api.github.com/users/naveenkrnl/following{/other_user}\",\"gists_url\":\"https://api.github.com/users/naveenkrnl/gists{/gist_id}\",\"starred_url\":\"https://api.github.com/users/naveenkrnl/starred{/owner}{/repo}\",\"subscriptions_url\":\"https://api.github.com/users/naveenkrnl/subscriptions\",\"organizations_url\":\"https://api.github.com/users/naveenkrnl/orgs\",\"repos_url\":\"https://api.github.com/users/naveenkrnl/repos\",\"events_url\":\"https://api.github.com/users/naveenkrnl/events{/privacy}\",\"received_events_url\":\"https://api.github.com/users/naveenkrnl/received_events\",\"type\":\"User\",\"user_view_type\":\"public\",\"site_admin\":false,\"name\":\"Naveen Arora\",\"company\":null,\"blog\":\"\",\"location\":\"karnal, Haryana\",\"email\":null,\"hireable\":true,\"bio\":\"A person known by deeds\",\"twitter_username\":null,\"public_repos\":33,\"public_gists\":0,\"followers\":33,\"following\":7,\"created_at\":\"2018-08-10T12:53:15Z\",\"updated_at\":\"2024-02-15T18:24:53Z\"}'\n"
     ]
    }
   ],
   "source": [
    "# example \n",
    "import requests\n",
    " \n",
    "# Making a GET request\n",
    "r = requests.get('https://api.github.com/users/naveenkrnl')\n",
    "\n",
    "# check status code for response received\n",
    "# success code - 200\n",
    "print(r)\n",
    "\n",
    "# print content of request\n",
    "print(r.content)\n"
   ]
  },
  {
   "cell_type": "markdown",
   "id": "3e0a676e-77fa-4240-8f29-d26a3b0cc651",
   "metadata": {},
   "source": [
    "### HTTP Request Methods\n",
    "<strong>Method ------\tDescription</strong><br>\n",
    "- <strong>GET</strong> :-\tGET method is used to retrieve information from the given server using a given URI.\n",
    "- <strong>POST</strong> :-\tPOST request method requests that a web server accepts the data enclosed in the body of the request message, most likely for storing it\n",
    "- <strong>PUT</strong> :-\tThe PUT method requests that the enclosed entity be stored under the supplied URI. If the URI refers to an already existing resource, it is modified and if the URI does not point to an existing resource, then the server can create the resource with that URI.\n",
    "- <strong>DELETE</strong>:-\tThe DELETE method deletes the specified resource\n",
    "- <strong>HEAD</strong>:-\tThe HEAD method asks for a response identical to that of a GET request, but without the response body.\n",
    "- <strong>PATCH</strong>:-\tIt is used for modify capabilities. The PATCH request only needs to contain the changes to the resource, not the complete resource"
   ]
  },
  {
   "cell_type": "markdown",
   "id": "85a0f3b8-9fb0-476a-9342-63d00b61a30d",
   "metadata": {},
   "source": [
    "### Response Object\n",
    "- when one makes a request to a URL, it returns a response, this response in terms of python is returned by requests.method()\n",
    "- these methods can be get, post, put e.t.c\n",
    "- response is a powerful object with lots of functions and attributes that assist in normalizing data or creating ideal portions of code.\n",
    "- example:- response.status_code returns the status code from the headers itself and one can check if the request was processed successfully or not"
   ]
  },
  {
   "cell_type": "code",
   "execution_count": 23,
   "id": "a4de88c1-c355-45ba-9bb7-2a0558e14826",
   "metadata": {},
   "outputs": [
    {
     "name": "stdout",
     "output_type": "stream",
     "text": [
      "https://api.github.com/\n",
      "200\n"
     ]
    }
   ],
   "source": [
    "import requests\n",
    "\n",
    "# Making a get request\n",
    "response = requests.get('https://api.github.com/')\n",
    "\n",
    "# print request object\n",
    "print(response.url)\n",
    "\n",
    "# print status code\n",
    "print(response.status_code)"
   ]
  },
  {
   "cell_type": "markdown",
   "id": "89db4904-74a6-4697-bdd0-6b39acf38f43",
   "metadata": {},
   "source": [
    "### Response Methods\n",
    "\n",
    "<strong>Method ------\tDescription</strong>\n",
    "- <strong>response.headers</strong>\tresponse.headers returns a dictionary of response headers.\n",
    "- <strong>response.encoding</strong>\tresponse.encoding returns the encoding used to decode response.content.\n",
    "- <strong>response.elapsed</strong>\tresponse.elapsed returns a timedelta object with the time elapsed from sending the request to the arrival of the response.\n",
    "- <strong>response.close()</strong>\tresponse.close() closes the connection to the server.\n",
    "- <strong>response.content</strong>\tresponse.content returns the content of the response, in bytes.\n",
    "- <strong>response.cookies</strong>\tresponse.cookies returns a CookieJar object with the cookies sent back from the server.\n",
    "- <strong>response.history</strong>\tresponse.history returns a list of response objects holding the history of request (url).\n",
    "- <strong>response.is_permanent_redirect</strong>\tresponse.is_permanent_redirect returns True if the response is the permanent redirected url, otherwise False.\n",
    "- <strong>response.is_redirect</strong>\tresponse.is_redirect returns True if the response was redirected, otherwise False.\n",
    "- <strong>response.iter_content()</strong>\tresponse.iter_content() iterates over the response.content.\n",
    "- <strong>response.json()</strong>\tresponse.json() returns a JSON object of the result (if the result was written in JSON format, if not it raises an error).\n",
    "- <strong>response.url</strong>\tresponse.url returns the URL of the response.\n",
    "- <strong>response.text</strong>\tresponse.text returns the content of the response, in unicode.\n",
    "- <strong>response.status_code</strong>\tresponse.status_code returns a number that indicates the status (200 is OK, 404 is Not Found).\n",
    "- <strong>response.request</strong>\tresponse.request returns the request object that requested this response.\n",
    "- <strong>response.reason</strong>\tresponse.reason returns a text corresponding to the status code.\n",
    "- <strong>response.raise_for_status()</strong>\tresponse.raise_for_status() returns an HTTPError object if an error has occurred during the process.\n",
    "- <strong>response.ok</strong>\tresponse.ok returns True if status_code is less than 200, otherwise False.\n",
    "- <strong>response.links</strong>\tresponse.links returns the header links."
   ]
  },
  {
   "cell_type": "markdown",
   "id": "75776692-d02d-4763-af19-e39a22d390f3",
   "metadata": {},
   "source": [
    "### Authentication using Python Requests\n",
    "\n",
    "Authentication refers to giving a user permissions to access a particular resource. Since, everyone can’t be allowed to access data from every URL, one would require authentication primarily. To achieve this authentication, typically one provides authentication data through Authorization header or a custom header defined by server. "
   ]
  },
  {
   "cell_type": "code",
   "execution_count": 24,
   "id": "14a953ea-2317-429b-b604-95e4a5d9b00e",
   "metadata": {},
   "outputs": [],
   "source": [
    "# import requests\n",
    "# from requests.auth import HTTPBasicAuth\n",
    "# response = requests.get('https://api.github.com / user, ',\n",
    "#             auth = HTTPBasicAuth('user', 'pass'))\n",
    "# print(response)\n"
   ]
  },
  {
   "cell_type": "markdown",
   "id": "2956dce3-9a00-4584-a20f-87affb1d0c34",
   "metadata": {},
   "source": [
    "### SSL Certificate Verification\n",
    "- Secure Sockets Layer (SSL) certificate is a digital file that encrypts data between a website and a browser, or between two servers\n",
    "- Requests verifies SSL certificates for HTTPS requests, just like a web browser.\n",
    "- SSL Certificates are small data files that digitally bind a cryptographic key to an organization’s details.\n",
    "- Often, an website with a SSL certificate is termed as secure website.\n",
    "- By default, SSL verification is enabled, and Requests will throw a SSLError if it’s unable to verify the certificate.\n",
    "\n",
    "### Disabling SSL certificate verification"
   ]
  },
  {
   "cell_type": "code",
   "execution_count": 25,
   "id": "c32e6a4e-11f3-45ad-ab6d-a0f0d6e9fe84",
   "metadata": {},
   "outputs": [
    {
     "name": "stderr",
     "output_type": "stream",
     "text": [
      "C:\\Users\\Administrator\\AppData\\Local\\Programs\\Python\\Python313\\Lib\\ast.py:54: RuntimeWarning: coroutine 'fn' was never awaited\n",
      "  return compile(source, filename, mode, flags,\n",
      "RuntimeWarning: Enable tracemalloc to get the object allocation traceback\n"
     ]
    },
    {
     "ename": "SSLError",
     "evalue": "HTTPSConnectionPool(host='expired.badssl.com', port=443): Max retries exceeded with url: / (Caused by SSLError(SSLCertVerificationError(1, '[SSL: CERTIFICATE_VERIFY_FAILED] certificate verify failed: certificate has expired (_ssl.c:1020)')))",
     "output_type": "error",
     "traceback": [
      "\u001b[1;31m---------------------------------------------------------------------------\u001b[0m",
      "\u001b[1;31mSSLCertVerificationError\u001b[0m                  Traceback (most recent call last)",
      "File \u001b[1;32m~\\AppData\\Local\\Programs\\Python\\Python313\\Lib\\site-packages\\urllib3\\connectionpool.py:464\u001b[0m, in \u001b[0;36mHTTPConnectionPool._make_request\u001b[1;34m(self, conn, method, url, body, headers, retries, timeout, chunked, response_conn, preload_content, decode_content, enforce_content_length)\u001b[0m\n\u001b[0;32m    463\u001b[0m \u001b[38;5;28;01mtry\u001b[39;00m:\n\u001b[1;32m--> 464\u001b[0m     \u001b[38;5;28;43mself\u001b[39;49m\u001b[38;5;241;43m.\u001b[39;49m\u001b[43m_validate_conn\u001b[49m\u001b[43m(\u001b[49m\u001b[43mconn\u001b[49m\u001b[43m)\u001b[49m\n\u001b[0;32m    465\u001b[0m \u001b[38;5;28;01mexcept\u001b[39;00m (SocketTimeout, BaseSSLError) \u001b[38;5;28;01mas\u001b[39;00m e:\n",
      "File \u001b[1;32m~\\AppData\\Local\\Programs\\Python\\Python313\\Lib\\site-packages\\urllib3\\connectionpool.py:1093\u001b[0m, in \u001b[0;36mHTTPSConnectionPool._validate_conn\u001b[1;34m(self, conn)\u001b[0m\n\u001b[0;32m   1092\u001b[0m \u001b[38;5;28;01mif\u001b[39;00m conn\u001b[38;5;241m.\u001b[39mis_closed:\n\u001b[1;32m-> 1093\u001b[0m     \u001b[43mconn\u001b[49m\u001b[38;5;241;43m.\u001b[39;49m\u001b[43mconnect\u001b[49m\u001b[43m(\u001b[49m\u001b[43m)\u001b[49m\n\u001b[0;32m   1095\u001b[0m \u001b[38;5;66;03m# TODO revise this, see https://github.com/urllib3/urllib3/issues/2791\u001b[39;00m\n",
      "File \u001b[1;32m~\\AppData\\Local\\Programs\\Python\\Python313\\Lib\\site-packages\\urllib3\\connection.py:741\u001b[0m, in \u001b[0;36mHTTPSConnection.connect\u001b[1;34m(self)\u001b[0m\n\u001b[0;32m    739\u001b[0m server_hostname_rm_dot \u001b[38;5;241m=\u001b[39m server_hostname\u001b[38;5;241m.\u001b[39mrstrip(\u001b[38;5;124m\"\u001b[39m\u001b[38;5;124m.\u001b[39m\u001b[38;5;124m\"\u001b[39m)\n\u001b[1;32m--> 741\u001b[0m sock_and_verified \u001b[38;5;241m=\u001b[39m \u001b[43m_ssl_wrap_socket_and_match_hostname\u001b[49m\u001b[43m(\u001b[49m\n\u001b[0;32m    742\u001b[0m \u001b[43m    \u001b[49m\u001b[43msock\u001b[49m\u001b[38;5;241;43m=\u001b[39;49m\u001b[43msock\u001b[49m\u001b[43m,\u001b[49m\n\u001b[0;32m    743\u001b[0m \u001b[43m    \u001b[49m\u001b[43mcert_reqs\u001b[49m\u001b[38;5;241;43m=\u001b[39;49m\u001b[38;5;28;43mself\u001b[39;49m\u001b[38;5;241;43m.\u001b[39;49m\u001b[43mcert_reqs\u001b[49m\u001b[43m,\u001b[49m\n\u001b[0;32m    744\u001b[0m \u001b[43m    \u001b[49m\u001b[43mssl_version\u001b[49m\u001b[38;5;241;43m=\u001b[39;49m\u001b[38;5;28;43mself\u001b[39;49m\u001b[38;5;241;43m.\u001b[39;49m\u001b[43mssl_version\u001b[49m\u001b[43m,\u001b[49m\n\u001b[0;32m    745\u001b[0m \u001b[43m    \u001b[49m\u001b[43mssl_minimum_version\u001b[49m\u001b[38;5;241;43m=\u001b[39;49m\u001b[38;5;28;43mself\u001b[39;49m\u001b[38;5;241;43m.\u001b[39;49m\u001b[43mssl_minimum_version\u001b[49m\u001b[43m,\u001b[49m\n\u001b[0;32m    746\u001b[0m \u001b[43m    \u001b[49m\u001b[43mssl_maximum_version\u001b[49m\u001b[38;5;241;43m=\u001b[39;49m\u001b[38;5;28;43mself\u001b[39;49m\u001b[38;5;241;43m.\u001b[39;49m\u001b[43mssl_maximum_version\u001b[49m\u001b[43m,\u001b[49m\n\u001b[0;32m    747\u001b[0m \u001b[43m    \u001b[49m\u001b[43mca_certs\u001b[49m\u001b[38;5;241;43m=\u001b[39;49m\u001b[38;5;28;43mself\u001b[39;49m\u001b[38;5;241;43m.\u001b[39;49m\u001b[43mca_certs\u001b[49m\u001b[43m,\u001b[49m\n\u001b[0;32m    748\u001b[0m \u001b[43m    \u001b[49m\u001b[43mca_cert_dir\u001b[49m\u001b[38;5;241;43m=\u001b[39;49m\u001b[38;5;28;43mself\u001b[39;49m\u001b[38;5;241;43m.\u001b[39;49m\u001b[43mca_cert_dir\u001b[49m\u001b[43m,\u001b[49m\n\u001b[0;32m    749\u001b[0m \u001b[43m    \u001b[49m\u001b[43mca_cert_data\u001b[49m\u001b[38;5;241;43m=\u001b[39;49m\u001b[38;5;28;43mself\u001b[39;49m\u001b[38;5;241;43m.\u001b[39;49m\u001b[43mca_cert_data\u001b[49m\u001b[43m,\u001b[49m\n\u001b[0;32m    750\u001b[0m \u001b[43m    \u001b[49m\u001b[43mcert_file\u001b[49m\u001b[38;5;241;43m=\u001b[39;49m\u001b[38;5;28;43mself\u001b[39;49m\u001b[38;5;241;43m.\u001b[39;49m\u001b[43mcert_file\u001b[49m\u001b[43m,\u001b[49m\n\u001b[0;32m    751\u001b[0m \u001b[43m    \u001b[49m\u001b[43mkey_file\u001b[49m\u001b[38;5;241;43m=\u001b[39;49m\u001b[38;5;28;43mself\u001b[39;49m\u001b[38;5;241;43m.\u001b[39;49m\u001b[43mkey_file\u001b[49m\u001b[43m,\u001b[49m\n\u001b[0;32m    752\u001b[0m \u001b[43m    \u001b[49m\u001b[43mkey_password\u001b[49m\u001b[38;5;241;43m=\u001b[39;49m\u001b[38;5;28;43mself\u001b[39;49m\u001b[38;5;241;43m.\u001b[39;49m\u001b[43mkey_password\u001b[49m\u001b[43m,\u001b[49m\n\u001b[0;32m    753\u001b[0m \u001b[43m    \u001b[49m\u001b[43mserver_hostname\u001b[49m\u001b[38;5;241;43m=\u001b[39;49m\u001b[43mserver_hostname_rm_dot\u001b[49m\u001b[43m,\u001b[49m\n\u001b[0;32m    754\u001b[0m \u001b[43m    \u001b[49m\u001b[43mssl_context\u001b[49m\u001b[38;5;241;43m=\u001b[39;49m\u001b[38;5;28;43mself\u001b[39;49m\u001b[38;5;241;43m.\u001b[39;49m\u001b[43mssl_context\u001b[49m\u001b[43m,\u001b[49m\n\u001b[0;32m    755\u001b[0m \u001b[43m    \u001b[49m\u001b[43mtls_in_tls\u001b[49m\u001b[38;5;241;43m=\u001b[39;49m\u001b[43mtls_in_tls\u001b[49m\u001b[43m,\u001b[49m\n\u001b[0;32m    756\u001b[0m \u001b[43m    \u001b[49m\u001b[43massert_hostname\u001b[49m\u001b[38;5;241;43m=\u001b[39;49m\u001b[38;5;28;43mself\u001b[39;49m\u001b[38;5;241;43m.\u001b[39;49m\u001b[43massert_hostname\u001b[49m\u001b[43m,\u001b[49m\n\u001b[0;32m    757\u001b[0m \u001b[43m    \u001b[49m\u001b[43massert_fingerprint\u001b[49m\u001b[38;5;241;43m=\u001b[39;49m\u001b[38;5;28;43mself\u001b[39;49m\u001b[38;5;241;43m.\u001b[39;49m\u001b[43massert_fingerprint\u001b[49m\u001b[43m,\u001b[49m\n\u001b[0;32m    758\u001b[0m \u001b[43m\u001b[49m\u001b[43m)\u001b[49m\n\u001b[0;32m    759\u001b[0m \u001b[38;5;28mself\u001b[39m\u001b[38;5;241m.\u001b[39msock \u001b[38;5;241m=\u001b[39m sock_and_verified\u001b[38;5;241m.\u001b[39msocket\n",
      "File \u001b[1;32m~\\AppData\\Local\\Programs\\Python\\Python313\\Lib\\site-packages\\urllib3\\connection.py:920\u001b[0m, in \u001b[0;36m_ssl_wrap_socket_and_match_hostname\u001b[1;34m(sock, cert_reqs, ssl_version, ssl_minimum_version, ssl_maximum_version, cert_file, key_file, key_password, ca_certs, ca_cert_dir, ca_cert_data, assert_hostname, assert_fingerprint, server_hostname, ssl_context, tls_in_tls)\u001b[0m\n\u001b[0;32m    918\u001b[0m         server_hostname \u001b[38;5;241m=\u001b[39m normalized\n\u001b[1;32m--> 920\u001b[0m ssl_sock \u001b[38;5;241m=\u001b[39m \u001b[43mssl_wrap_socket\u001b[49m\u001b[43m(\u001b[49m\n\u001b[0;32m    921\u001b[0m \u001b[43m    \u001b[49m\u001b[43msock\u001b[49m\u001b[38;5;241;43m=\u001b[39;49m\u001b[43msock\u001b[49m\u001b[43m,\u001b[49m\n\u001b[0;32m    922\u001b[0m \u001b[43m    \u001b[49m\u001b[43mkeyfile\u001b[49m\u001b[38;5;241;43m=\u001b[39;49m\u001b[43mkey_file\u001b[49m\u001b[43m,\u001b[49m\n\u001b[0;32m    923\u001b[0m \u001b[43m    \u001b[49m\u001b[43mcertfile\u001b[49m\u001b[38;5;241;43m=\u001b[39;49m\u001b[43mcert_file\u001b[49m\u001b[43m,\u001b[49m\n\u001b[0;32m    924\u001b[0m \u001b[43m    \u001b[49m\u001b[43mkey_password\u001b[49m\u001b[38;5;241;43m=\u001b[39;49m\u001b[43mkey_password\u001b[49m\u001b[43m,\u001b[49m\n\u001b[0;32m    925\u001b[0m \u001b[43m    \u001b[49m\u001b[43mca_certs\u001b[49m\u001b[38;5;241;43m=\u001b[39;49m\u001b[43mca_certs\u001b[49m\u001b[43m,\u001b[49m\n\u001b[0;32m    926\u001b[0m \u001b[43m    \u001b[49m\u001b[43mca_cert_dir\u001b[49m\u001b[38;5;241;43m=\u001b[39;49m\u001b[43mca_cert_dir\u001b[49m\u001b[43m,\u001b[49m\n\u001b[0;32m    927\u001b[0m \u001b[43m    \u001b[49m\u001b[43mca_cert_data\u001b[49m\u001b[38;5;241;43m=\u001b[39;49m\u001b[43mca_cert_data\u001b[49m\u001b[43m,\u001b[49m\n\u001b[0;32m    928\u001b[0m \u001b[43m    \u001b[49m\u001b[43mserver_hostname\u001b[49m\u001b[38;5;241;43m=\u001b[39;49m\u001b[43mserver_hostname\u001b[49m\u001b[43m,\u001b[49m\n\u001b[0;32m    929\u001b[0m \u001b[43m    \u001b[49m\u001b[43mssl_context\u001b[49m\u001b[38;5;241;43m=\u001b[39;49m\u001b[43mcontext\u001b[49m\u001b[43m,\u001b[49m\n\u001b[0;32m    930\u001b[0m \u001b[43m    \u001b[49m\u001b[43mtls_in_tls\u001b[49m\u001b[38;5;241;43m=\u001b[39;49m\u001b[43mtls_in_tls\u001b[49m\u001b[43m,\u001b[49m\n\u001b[0;32m    931\u001b[0m \u001b[43m\u001b[49m\u001b[43m)\u001b[49m\n\u001b[0;32m    933\u001b[0m \u001b[38;5;28;01mtry\u001b[39;00m:\n",
      "File \u001b[1;32m~\\AppData\\Local\\Programs\\Python\\Python313\\Lib\\site-packages\\urllib3\\util\\ssl_.py:460\u001b[0m, in \u001b[0;36mssl_wrap_socket\u001b[1;34m(sock, keyfile, certfile, cert_reqs, ca_certs, server_hostname, ssl_version, ciphers, ssl_context, ca_cert_dir, key_password, ca_cert_data, tls_in_tls)\u001b[0m\n\u001b[0;32m    458\u001b[0m context\u001b[38;5;241m.\u001b[39mset_alpn_protocols(ALPN_PROTOCOLS)\n\u001b[1;32m--> 460\u001b[0m ssl_sock \u001b[38;5;241m=\u001b[39m \u001b[43m_ssl_wrap_socket_impl\u001b[49m\u001b[43m(\u001b[49m\u001b[43msock\u001b[49m\u001b[43m,\u001b[49m\u001b[43m \u001b[49m\u001b[43mcontext\u001b[49m\u001b[43m,\u001b[49m\u001b[43m \u001b[49m\u001b[43mtls_in_tls\u001b[49m\u001b[43m,\u001b[49m\u001b[43m \u001b[49m\u001b[43mserver_hostname\u001b[49m\u001b[43m)\u001b[49m\n\u001b[0;32m    461\u001b[0m \u001b[38;5;28;01mreturn\u001b[39;00m ssl_sock\n",
      "File \u001b[1;32m~\\AppData\\Local\\Programs\\Python\\Python313\\Lib\\site-packages\\urllib3\\util\\ssl_.py:504\u001b[0m, in \u001b[0;36m_ssl_wrap_socket_impl\u001b[1;34m(sock, ssl_context, tls_in_tls, server_hostname)\u001b[0m\n\u001b[0;32m    502\u001b[0m     \u001b[38;5;28;01mreturn\u001b[39;00m SSLTransport(sock, ssl_context, server_hostname)\n\u001b[1;32m--> 504\u001b[0m \u001b[38;5;28;01mreturn\u001b[39;00m \u001b[43mssl_context\u001b[49m\u001b[38;5;241;43m.\u001b[39;49m\u001b[43mwrap_socket\u001b[49m\u001b[43m(\u001b[49m\u001b[43msock\u001b[49m\u001b[43m,\u001b[49m\u001b[43m \u001b[49m\u001b[43mserver_hostname\u001b[49m\u001b[38;5;241;43m=\u001b[39;49m\u001b[43mserver_hostname\u001b[49m\u001b[43m)\u001b[49m\n",
      "File \u001b[1;32m~\\AppData\\Local\\Programs\\Python\\Python313\\Lib\\ssl.py:455\u001b[0m, in \u001b[0;36mSSLContext.wrap_socket\u001b[1;34m(self, sock, server_side, do_handshake_on_connect, suppress_ragged_eofs, server_hostname, session)\u001b[0m\n\u001b[0;32m    449\u001b[0m \u001b[38;5;28;01mdef\u001b[39;00m\u001b[38;5;250m \u001b[39m\u001b[38;5;21mwrap_socket\u001b[39m(\u001b[38;5;28mself\u001b[39m, sock, server_side\u001b[38;5;241m=\u001b[39m\u001b[38;5;28;01mFalse\u001b[39;00m,\n\u001b[0;32m    450\u001b[0m                 do_handshake_on_connect\u001b[38;5;241m=\u001b[39m\u001b[38;5;28;01mTrue\u001b[39;00m,\n\u001b[0;32m    451\u001b[0m                 suppress_ragged_eofs\u001b[38;5;241m=\u001b[39m\u001b[38;5;28;01mTrue\u001b[39;00m,\n\u001b[0;32m    452\u001b[0m                 server_hostname\u001b[38;5;241m=\u001b[39m\u001b[38;5;28;01mNone\u001b[39;00m, session\u001b[38;5;241m=\u001b[39m\u001b[38;5;28;01mNone\u001b[39;00m):\n\u001b[0;32m    453\u001b[0m     \u001b[38;5;66;03m# SSLSocket class handles server_hostname encoding before it calls\u001b[39;00m\n\u001b[0;32m    454\u001b[0m     \u001b[38;5;66;03m# ctx._wrap_socket()\u001b[39;00m\n\u001b[1;32m--> 455\u001b[0m     \u001b[38;5;28;01mreturn\u001b[39;00m \u001b[38;5;28;43mself\u001b[39;49m\u001b[38;5;241;43m.\u001b[39;49m\u001b[43msslsocket_class\u001b[49m\u001b[38;5;241;43m.\u001b[39;49m\u001b[43m_create\u001b[49m\u001b[43m(\u001b[49m\n\u001b[0;32m    456\u001b[0m \u001b[43m        \u001b[49m\u001b[43msock\u001b[49m\u001b[38;5;241;43m=\u001b[39;49m\u001b[43msock\u001b[49m\u001b[43m,\u001b[49m\n\u001b[0;32m    457\u001b[0m \u001b[43m        \u001b[49m\u001b[43mserver_side\u001b[49m\u001b[38;5;241;43m=\u001b[39;49m\u001b[43mserver_side\u001b[49m\u001b[43m,\u001b[49m\n\u001b[0;32m    458\u001b[0m \u001b[43m        \u001b[49m\u001b[43mdo_handshake_on_connect\u001b[49m\u001b[38;5;241;43m=\u001b[39;49m\u001b[43mdo_handshake_on_connect\u001b[49m\u001b[43m,\u001b[49m\n\u001b[0;32m    459\u001b[0m \u001b[43m        \u001b[49m\u001b[43msuppress_ragged_eofs\u001b[49m\u001b[38;5;241;43m=\u001b[39;49m\u001b[43msuppress_ragged_eofs\u001b[49m\u001b[43m,\u001b[49m\n\u001b[0;32m    460\u001b[0m \u001b[43m        \u001b[49m\u001b[43mserver_hostname\u001b[49m\u001b[38;5;241;43m=\u001b[39;49m\u001b[43mserver_hostname\u001b[49m\u001b[43m,\u001b[49m\n\u001b[0;32m    461\u001b[0m \u001b[43m        \u001b[49m\u001b[43mcontext\u001b[49m\u001b[38;5;241;43m=\u001b[39;49m\u001b[38;5;28;43mself\u001b[39;49m\u001b[43m,\u001b[49m\n\u001b[0;32m    462\u001b[0m \u001b[43m        \u001b[49m\u001b[43msession\u001b[49m\u001b[38;5;241;43m=\u001b[39;49m\u001b[43msession\u001b[49m\n\u001b[0;32m    463\u001b[0m \u001b[43m    \u001b[49m\u001b[43m)\u001b[49m\n",
      "File \u001b[1;32m~\\AppData\\Local\\Programs\\Python\\Python313\\Lib\\ssl.py:1076\u001b[0m, in \u001b[0;36mSSLSocket._create\u001b[1;34m(cls, sock, server_side, do_handshake_on_connect, suppress_ragged_eofs, server_hostname, context, session)\u001b[0m\n\u001b[0;32m   1075\u001b[0m                 \u001b[38;5;28;01mraise\u001b[39;00m \u001b[38;5;167;01mValueError\u001b[39;00m(\u001b[38;5;124m\"\u001b[39m\u001b[38;5;124mdo_handshake_on_connect should not be specified for non-blocking sockets\u001b[39m\u001b[38;5;124m\"\u001b[39m)\n\u001b[1;32m-> 1076\u001b[0m             \u001b[38;5;28;43mself\u001b[39;49m\u001b[38;5;241;43m.\u001b[39;49m\u001b[43mdo_handshake\u001b[49m\u001b[43m(\u001b[49m\u001b[43m)\u001b[49m\n\u001b[0;32m   1077\u001b[0m \u001b[38;5;28;01mexcept\u001b[39;00m:\n",
      "File \u001b[1;32m~\\AppData\\Local\\Programs\\Python\\Python313\\Lib\\ssl.py:1372\u001b[0m, in \u001b[0;36mSSLSocket.do_handshake\u001b[1;34m(self, block)\u001b[0m\n\u001b[0;32m   1371\u001b[0m         \u001b[38;5;28mself\u001b[39m\u001b[38;5;241m.\u001b[39msettimeout(\u001b[38;5;28;01mNone\u001b[39;00m)\n\u001b[1;32m-> 1372\u001b[0m     \u001b[38;5;28;43mself\u001b[39;49m\u001b[38;5;241;43m.\u001b[39;49m\u001b[43m_sslobj\u001b[49m\u001b[38;5;241;43m.\u001b[39;49m\u001b[43mdo_handshake\u001b[49m\u001b[43m(\u001b[49m\u001b[43m)\u001b[49m\n\u001b[0;32m   1373\u001b[0m \u001b[38;5;28;01mfinally\u001b[39;00m:\n",
      "\u001b[1;31mSSLCertVerificationError\u001b[0m: [SSL: CERTIFICATE_VERIFY_FAILED] certificate verify failed: certificate has expired (_ssl.c:1020)",
      "\nDuring handling of the above exception, another exception occurred:\n",
      "\u001b[1;31mSSLError\u001b[0m                                  Traceback (most recent call last)",
      "File \u001b[1;32m~\\AppData\\Local\\Programs\\Python\\Python313\\Lib\\site-packages\\urllib3\\connectionpool.py:787\u001b[0m, in \u001b[0;36mHTTPConnectionPool.urlopen\u001b[1;34m(self, method, url, body, headers, retries, redirect, assert_same_host, timeout, pool_timeout, release_conn, chunked, body_pos, preload_content, decode_content, **response_kw)\u001b[0m\n\u001b[0;32m    786\u001b[0m \u001b[38;5;66;03m# Make the request on the HTTPConnection object\u001b[39;00m\n\u001b[1;32m--> 787\u001b[0m response \u001b[38;5;241m=\u001b[39m \u001b[38;5;28;43mself\u001b[39;49m\u001b[38;5;241;43m.\u001b[39;49m\u001b[43m_make_request\u001b[49m\u001b[43m(\u001b[49m\n\u001b[0;32m    788\u001b[0m \u001b[43m    \u001b[49m\u001b[43mconn\u001b[49m\u001b[43m,\u001b[49m\n\u001b[0;32m    789\u001b[0m \u001b[43m    \u001b[49m\u001b[43mmethod\u001b[49m\u001b[43m,\u001b[49m\n\u001b[0;32m    790\u001b[0m \u001b[43m    \u001b[49m\u001b[43murl\u001b[49m\u001b[43m,\u001b[49m\n\u001b[0;32m    791\u001b[0m \u001b[43m    \u001b[49m\u001b[43mtimeout\u001b[49m\u001b[38;5;241;43m=\u001b[39;49m\u001b[43mtimeout_obj\u001b[49m\u001b[43m,\u001b[49m\n\u001b[0;32m    792\u001b[0m \u001b[43m    \u001b[49m\u001b[43mbody\u001b[49m\u001b[38;5;241;43m=\u001b[39;49m\u001b[43mbody\u001b[49m\u001b[43m,\u001b[49m\n\u001b[0;32m    793\u001b[0m \u001b[43m    \u001b[49m\u001b[43mheaders\u001b[49m\u001b[38;5;241;43m=\u001b[39;49m\u001b[43mheaders\u001b[49m\u001b[43m,\u001b[49m\n\u001b[0;32m    794\u001b[0m \u001b[43m    \u001b[49m\u001b[43mchunked\u001b[49m\u001b[38;5;241;43m=\u001b[39;49m\u001b[43mchunked\u001b[49m\u001b[43m,\u001b[49m\n\u001b[0;32m    795\u001b[0m \u001b[43m    \u001b[49m\u001b[43mretries\u001b[49m\u001b[38;5;241;43m=\u001b[39;49m\u001b[43mretries\u001b[49m\u001b[43m,\u001b[49m\n\u001b[0;32m    796\u001b[0m \u001b[43m    \u001b[49m\u001b[43mresponse_conn\u001b[49m\u001b[38;5;241;43m=\u001b[39;49m\u001b[43mresponse_conn\u001b[49m\u001b[43m,\u001b[49m\n\u001b[0;32m    797\u001b[0m \u001b[43m    \u001b[49m\u001b[43mpreload_content\u001b[49m\u001b[38;5;241;43m=\u001b[39;49m\u001b[43mpreload_content\u001b[49m\u001b[43m,\u001b[49m\n\u001b[0;32m    798\u001b[0m \u001b[43m    \u001b[49m\u001b[43mdecode_content\u001b[49m\u001b[38;5;241;43m=\u001b[39;49m\u001b[43mdecode_content\u001b[49m\u001b[43m,\u001b[49m\n\u001b[0;32m    799\u001b[0m \u001b[43m    \u001b[49m\u001b[38;5;241;43m*\u001b[39;49m\u001b[38;5;241;43m*\u001b[39;49m\u001b[43mresponse_kw\u001b[49m\u001b[43m,\u001b[49m\n\u001b[0;32m    800\u001b[0m \u001b[43m\u001b[49m\u001b[43m)\u001b[49m\n\u001b[0;32m    802\u001b[0m \u001b[38;5;66;03m# Everything went great!\u001b[39;00m\n",
      "File \u001b[1;32m~\\AppData\\Local\\Programs\\Python\\Python313\\Lib\\site-packages\\urllib3\\connectionpool.py:488\u001b[0m, in \u001b[0;36mHTTPConnectionPool._make_request\u001b[1;34m(self, conn, method, url, body, headers, retries, timeout, chunked, response_conn, preload_content, decode_content, enforce_content_length)\u001b[0m\n\u001b[0;32m    487\u001b[0m         new_e \u001b[38;5;241m=\u001b[39m _wrap_proxy_error(new_e, conn\u001b[38;5;241m.\u001b[39mproxy\u001b[38;5;241m.\u001b[39mscheme)\n\u001b[1;32m--> 488\u001b[0m     \u001b[38;5;28;01mraise\u001b[39;00m new_e\n\u001b[0;32m    490\u001b[0m \u001b[38;5;66;03m# conn.request() calls http.client.*.request, not the method in\u001b[39;00m\n\u001b[0;32m    491\u001b[0m \u001b[38;5;66;03m# urllib3.request. It also calls makefile (recv) on the socket.\u001b[39;00m\n",
      "\u001b[1;31mSSLError\u001b[0m: [SSL: CERTIFICATE_VERIFY_FAILED] certificate verify failed: certificate has expired (_ssl.c:1020)",
      "\nThe above exception was the direct cause of the following exception:\n",
      "\u001b[1;31mMaxRetryError\u001b[0m                             Traceback (most recent call last)",
      "File \u001b[1;32m~\\AppData\\Local\\Programs\\Python\\Python313\\Lib\\site-packages\\requests\\adapters.py:667\u001b[0m, in \u001b[0;36mHTTPAdapter.send\u001b[1;34m(self, request, stream, timeout, verify, cert, proxies)\u001b[0m\n\u001b[0;32m    666\u001b[0m \u001b[38;5;28;01mtry\u001b[39;00m:\n\u001b[1;32m--> 667\u001b[0m     resp \u001b[38;5;241m=\u001b[39m \u001b[43mconn\u001b[49m\u001b[38;5;241;43m.\u001b[39;49m\u001b[43murlopen\u001b[49m\u001b[43m(\u001b[49m\n\u001b[0;32m    668\u001b[0m \u001b[43m        \u001b[49m\u001b[43mmethod\u001b[49m\u001b[38;5;241;43m=\u001b[39;49m\u001b[43mrequest\u001b[49m\u001b[38;5;241;43m.\u001b[39;49m\u001b[43mmethod\u001b[49m\u001b[43m,\u001b[49m\n\u001b[0;32m    669\u001b[0m \u001b[43m        \u001b[49m\u001b[43murl\u001b[49m\u001b[38;5;241;43m=\u001b[39;49m\u001b[43murl\u001b[49m\u001b[43m,\u001b[49m\n\u001b[0;32m    670\u001b[0m \u001b[43m        \u001b[49m\u001b[43mbody\u001b[49m\u001b[38;5;241;43m=\u001b[39;49m\u001b[43mrequest\u001b[49m\u001b[38;5;241;43m.\u001b[39;49m\u001b[43mbody\u001b[49m\u001b[43m,\u001b[49m\n\u001b[0;32m    671\u001b[0m \u001b[43m        \u001b[49m\u001b[43mheaders\u001b[49m\u001b[38;5;241;43m=\u001b[39;49m\u001b[43mrequest\u001b[49m\u001b[38;5;241;43m.\u001b[39;49m\u001b[43mheaders\u001b[49m\u001b[43m,\u001b[49m\n\u001b[0;32m    672\u001b[0m \u001b[43m        \u001b[49m\u001b[43mredirect\u001b[49m\u001b[38;5;241;43m=\u001b[39;49m\u001b[38;5;28;43;01mFalse\u001b[39;49;00m\u001b[43m,\u001b[49m\n\u001b[0;32m    673\u001b[0m \u001b[43m        \u001b[49m\u001b[43massert_same_host\u001b[49m\u001b[38;5;241;43m=\u001b[39;49m\u001b[38;5;28;43;01mFalse\u001b[39;49;00m\u001b[43m,\u001b[49m\n\u001b[0;32m    674\u001b[0m \u001b[43m        \u001b[49m\u001b[43mpreload_content\u001b[49m\u001b[38;5;241;43m=\u001b[39;49m\u001b[38;5;28;43;01mFalse\u001b[39;49;00m\u001b[43m,\u001b[49m\n\u001b[0;32m    675\u001b[0m \u001b[43m        \u001b[49m\u001b[43mdecode_content\u001b[49m\u001b[38;5;241;43m=\u001b[39;49m\u001b[38;5;28;43;01mFalse\u001b[39;49;00m\u001b[43m,\u001b[49m\n\u001b[0;32m    676\u001b[0m \u001b[43m        \u001b[49m\u001b[43mretries\u001b[49m\u001b[38;5;241;43m=\u001b[39;49m\u001b[38;5;28;43mself\u001b[39;49m\u001b[38;5;241;43m.\u001b[39;49m\u001b[43mmax_retries\u001b[49m\u001b[43m,\u001b[49m\n\u001b[0;32m    677\u001b[0m \u001b[43m        \u001b[49m\u001b[43mtimeout\u001b[49m\u001b[38;5;241;43m=\u001b[39;49m\u001b[43mtimeout\u001b[49m\u001b[43m,\u001b[49m\n\u001b[0;32m    678\u001b[0m \u001b[43m        \u001b[49m\u001b[43mchunked\u001b[49m\u001b[38;5;241;43m=\u001b[39;49m\u001b[43mchunked\u001b[49m\u001b[43m,\u001b[49m\n\u001b[0;32m    679\u001b[0m \u001b[43m    \u001b[49m\u001b[43m)\u001b[49m\n\u001b[0;32m    681\u001b[0m \u001b[38;5;28;01mexcept\u001b[39;00m (ProtocolError, \u001b[38;5;167;01mOSError\u001b[39;00m) \u001b[38;5;28;01mas\u001b[39;00m err:\n",
      "File \u001b[1;32m~\\AppData\\Local\\Programs\\Python\\Python313\\Lib\\site-packages\\urllib3\\connectionpool.py:841\u001b[0m, in \u001b[0;36mHTTPConnectionPool.urlopen\u001b[1;34m(self, method, url, body, headers, retries, redirect, assert_same_host, timeout, pool_timeout, release_conn, chunked, body_pos, preload_content, decode_content, **response_kw)\u001b[0m\n\u001b[0;32m    839\u001b[0m     new_e \u001b[38;5;241m=\u001b[39m ProtocolError(\u001b[38;5;124m\"\u001b[39m\u001b[38;5;124mConnection aborted.\u001b[39m\u001b[38;5;124m\"\u001b[39m, new_e)\n\u001b[1;32m--> 841\u001b[0m retries \u001b[38;5;241m=\u001b[39m \u001b[43mretries\u001b[49m\u001b[38;5;241;43m.\u001b[39;49m\u001b[43mincrement\u001b[49m\u001b[43m(\u001b[49m\n\u001b[0;32m    842\u001b[0m \u001b[43m    \u001b[49m\u001b[43mmethod\u001b[49m\u001b[43m,\u001b[49m\u001b[43m \u001b[49m\u001b[43murl\u001b[49m\u001b[43m,\u001b[49m\u001b[43m \u001b[49m\u001b[43merror\u001b[49m\u001b[38;5;241;43m=\u001b[39;49m\u001b[43mnew_e\u001b[49m\u001b[43m,\u001b[49m\u001b[43m \u001b[49m\u001b[43m_pool\u001b[49m\u001b[38;5;241;43m=\u001b[39;49m\u001b[38;5;28;43mself\u001b[39;49m\u001b[43m,\u001b[49m\u001b[43m \u001b[49m\u001b[43m_stacktrace\u001b[49m\u001b[38;5;241;43m=\u001b[39;49m\u001b[43msys\u001b[49m\u001b[38;5;241;43m.\u001b[39;49m\u001b[43mexc_info\u001b[49m\u001b[43m(\u001b[49m\u001b[43m)\u001b[49m\u001b[43m[\u001b[49m\u001b[38;5;241;43m2\u001b[39;49m\u001b[43m]\u001b[49m\n\u001b[0;32m    843\u001b[0m \u001b[43m\u001b[49m\u001b[43m)\u001b[49m\n\u001b[0;32m    844\u001b[0m retries\u001b[38;5;241m.\u001b[39msleep()\n",
      "File \u001b[1;32m~\\AppData\\Local\\Programs\\Python\\Python313\\Lib\\site-packages\\urllib3\\util\\retry.py:519\u001b[0m, in \u001b[0;36mRetry.increment\u001b[1;34m(self, method, url, response, error, _pool, _stacktrace)\u001b[0m\n\u001b[0;32m    518\u001b[0m     reason \u001b[38;5;241m=\u001b[39m error \u001b[38;5;129;01mor\u001b[39;00m ResponseError(cause)\n\u001b[1;32m--> 519\u001b[0m     \u001b[38;5;28;01mraise\u001b[39;00m MaxRetryError(_pool, url, reason) \u001b[38;5;28;01mfrom\u001b[39;00m\u001b[38;5;250m \u001b[39m\u001b[38;5;21;01mreason\u001b[39;00m  \u001b[38;5;66;03m# type: ignore[arg-type]\u001b[39;00m\n\u001b[0;32m    521\u001b[0m log\u001b[38;5;241m.\u001b[39mdebug(\u001b[38;5;124m\"\u001b[39m\u001b[38;5;124mIncremented Retry for (url=\u001b[39m\u001b[38;5;124m'\u001b[39m\u001b[38;5;132;01m%s\u001b[39;00m\u001b[38;5;124m'\u001b[39m\u001b[38;5;124m): \u001b[39m\u001b[38;5;132;01m%r\u001b[39;00m\u001b[38;5;124m\"\u001b[39m, url, new_retry)\n",
      "\u001b[1;31mMaxRetryError\u001b[0m: HTTPSConnectionPool(host='expired.badssl.com', port=443): Max retries exceeded with url: / (Caused by SSLError(SSLCertVerificationError(1, '[SSL: CERTIFICATE_VERIFY_FAILED] certificate verify failed: certificate has expired (_ssl.c:1020)')))",
      "\nDuring handling of the above exception, another exception occurred:\n",
      "\u001b[1;31mSSLError\u001b[0m                                  Traceback (most recent call last)",
      "Cell \u001b[1;32mIn[25], line 4\u001b[0m\n\u001b[0;32m      1\u001b[0m \u001b[38;5;66;03m# example by accessing website with an invalid SSL certificate, using python requests\u001b[39;00m\n\u001b[0;32m      3\u001b[0m \u001b[38;5;28;01mimport\u001b[39;00m\u001b[38;5;250m \u001b[39m\u001b[38;5;21;01mrequests\u001b[39;00m\n\u001b[1;32m----> 4\u001b[0m response \u001b[38;5;241m=\u001b[39m \u001b[43mrequests\u001b[49m\u001b[38;5;241;43m.\u001b[39;49m\u001b[43mget\u001b[49m\u001b[43m(\u001b[49m\u001b[38;5;124;43m'\u001b[39;49m\u001b[38;5;124;43mhttps://expired.badssl.com/\u001b[39;49m\u001b[38;5;124;43m'\u001b[39;49m\u001b[43m)\u001b[49m\n\u001b[0;32m      5\u001b[0m \u001b[38;5;28mprint\u001b[39m(response)\n",
      "File \u001b[1;32m~\\AppData\\Local\\Programs\\Python\\Python313\\Lib\\site-packages\\requests\\api.py:73\u001b[0m, in \u001b[0;36mget\u001b[1;34m(url, params, **kwargs)\u001b[0m\n\u001b[0;32m     62\u001b[0m \u001b[38;5;28;01mdef\u001b[39;00m\u001b[38;5;250m \u001b[39m\u001b[38;5;21mget\u001b[39m(url, params\u001b[38;5;241m=\u001b[39m\u001b[38;5;28;01mNone\u001b[39;00m, \u001b[38;5;241m*\u001b[39m\u001b[38;5;241m*\u001b[39mkwargs):\n\u001b[0;32m     63\u001b[0m \u001b[38;5;250m    \u001b[39m\u001b[38;5;124mr\u001b[39m\u001b[38;5;124;03m\"\"\"Sends a GET request.\u001b[39;00m\n\u001b[0;32m     64\u001b[0m \n\u001b[0;32m     65\u001b[0m \u001b[38;5;124;03m    :param url: URL for the new :class:`Request` object.\u001b[39;00m\n\u001b[1;32m   (...)\u001b[0m\n\u001b[0;32m     70\u001b[0m \u001b[38;5;124;03m    :rtype: requests.Response\u001b[39;00m\n\u001b[0;32m     71\u001b[0m \u001b[38;5;124;03m    \"\"\"\u001b[39;00m\n\u001b[1;32m---> 73\u001b[0m     \u001b[38;5;28;01mreturn\u001b[39;00m \u001b[43mrequest\u001b[49m\u001b[43m(\u001b[49m\u001b[38;5;124;43m\"\u001b[39;49m\u001b[38;5;124;43mget\u001b[39;49m\u001b[38;5;124;43m\"\u001b[39;49m\u001b[43m,\u001b[49m\u001b[43m \u001b[49m\u001b[43murl\u001b[49m\u001b[43m,\u001b[49m\u001b[43m \u001b[49m\u001b[43mparams\u001b[49m\u001b[38;5;241;43m=\u001b[39;49m\u001b[43mparams\u001b[49m\u001b[43m,\u001b[49m\u001b[43m \u001b[49m\u001b[38;5;241;43m*\u001b[39;49m\u001b[38;5;241;43m*\u001b[39;49m\u001b[43mkwargs\u001b[49m\u001b[43m)\u001b[49m\n",
      "File \u001b[1;32m~\\AppData\\Local\\Programs\\Python\\Python313\\Lib\\site-packages\\requests\\api.py:59\u001b[0m, in \u001b[0;36mrequest\u001b[1;34m(method, url, **kwargs)\u001b[0m\n\u001b[0;32m     55\u001b[0m \u001b[38;5;66;03m# By using the 'with' statement we are sure the session is closed, thus we\u001b[39;00m\n\u001b[0;32m     56\u001b[0m \u001b[38;5;66;03m# avoid leaving sockets open which can trigger a ResourceWarning in some\u001b[39;00m\n\u001b[0;32m     57\u001b[0m \u001b[38;5;66;03m# cases, and look like a memory leak in others.\u001b[39;00m\n\u001b[0;32m     58\u001b[0m \u001b[38;5;28;01mwith\u001b[39;00m sessions\u001b[38;5;241m.\u001b[39mSession() \u001b[38;5;28;01mas\u001b[39;00m session:\n\u001b[1;32m---> 59\u001b[0m     \u001b[38;5;28;01mreturn\u001b[39;00m \u001b[43msession\u001b[49m\u001b[38;5;241;43m.\u001b[39;49m\u001b[43mrequest\u001b[49m\u001b[43m(\u001b[49m\u001b[43mmethod\u001b[49m\u001b[38;5;241;43m=\u001b[39;49m\u001b[43mmethod\u001b[49m\u001b[43m,\u001b[49m\u001b[43m \u001b[49m\u001b[43murl\u001b[49m\u001b[38;5;241;43m=\u001b[39;49m\u001b[43murl\u001b[49m\u001b[43m,\u001b[49m\u001b[43m \u001b[49m\u001b[38;5;241;43m*\u001b[39;49m\u001b[38;5;241;43m*\u001b[39;49m\u001b[43mkwargs\u001b[49m\u001b[43m)\u001b[49m\n",
      "File \u001b[1;32m~\\AppData\\Local\\Programs\\Python\\Python313\\Lib\\site-packages\\requests\\sessions.py:589\u001b[0m, in \u001b[0;36mSession.request\u001b[1;34m(self, method, url, params, data, headers, cookies, files, auth, timeout, allow_redirects, proxies, hooks, stream, verify, cert, json)\u001b[0m\n\u001b[0;32m    584\u001b[0m send_kwargs \u001b[38;5;241m=\u001b[39m {\n\u001b[0;32m    585\u001b[0m     \u001b[38;5;124m\"\u001b[39m\u001b[38;5;124mtimeout\u001b[39m\u001b[38;5;124m\"\u001b[39m: timeout,\n\u001b[0;32m    586\u001b[0m     \u001b[38;5;124m\"\u001b[39m\u001b[38;5;124mallow_redirects\u001b[39m\u001b[38;5;124m\"\u001b[39m: allow_redirects,\n\u001b[0;32m    587\u001b[0m }\n\u001b[0;32m    588\u001b[0m send_kwargs\u001b[38;5;241m.\u001b[39mupdate(settings)\n\u001b[1;32m--> 589\u001b[0m resp \u001b[38;5;241m=\u001b[39m \u001b[38;5;28;43mself\u001b[39;49m\u001b[38;5;241;43m.\u001b[39;49m\u001b[43msend\u001b[49m\u001b[43m(\u001b[49m\u001b[43mprep\u001b[49m\u001b[43m,\u001b[49m\u001b[43m \u001b[49m\u001b[38;5;241;43m*\u001b[39;49m\u001b[38;5;241;43m*\u001b[39;49m\u001b[43msend_kwargs\u001b[49m\u001b[43m)\u001b[49m\n\u001b[0;32m    591\u001b[0m \u001b[38;5;28;01mreturn\u001b[39;00m resp\n",
      "File \u001b[1;32m~\\AppData\\Local\\Programs\\Python\\Python313\\Lib\\site-packages\\requests\\sessions.py:703\u001b[0m, in \u001b[0;36mSession.send\u001b[1;34m(self, request, **kwargs)\u001b[0m\n\u001b[0;32m    700\u001b[0m start \u001b[38;5;241m=\u001b[39m preferred_clock()\n\u001b[0;32m    702\u001b[0m \u001b[38;5;66;03m# Send the request\u001b[39;00m\n\u001b[1;32m--> 703\u001b[0m r \u001b[38;5;241m=\u001b[39m \u001b[43madapter\u001b[49m\u001b[38;5;241;43m.\u001b[39;49m\u001b[43msend\u001b[49m\u001b[43m(\u001b[49m\u001b[43mrequest\u001b[49m\u001b[43m,\u001b[49m\u001b[43m \u001b[49m\u001b[38;5;241;43m*\u001b[39;49m\u001b[38;5;241;43m*\u001b[39;49m\u001b[43mkwargs\u001b[49m\u001b[43m)\u001b[49m\n\u001b[0;32m    705\u001b[0m \u001b[38;5;66;03m# Total elapsed time of the request (approximately)\u001b[39;00m\n\u001b[0;32m    706\u001b[0m elapsed \u001b[38;5;241m=\u001b[39m preferred_clock() \u001b[38;5;241m-\u001b[39m start\n",
      "File \u001b[1;32m~\\AppData\\Local\\Programs\\Python\\Python313\\Lib\\site-packages\\requests\\adapters.py:698\u001b[0m, in \u001b[0;36mHTTPAdapter.send\u001b[1;34m(self, request, stream, timeout, verify, cert, proxies)\u001b[0m\n\u001b[0;32m    694\u001b[0m         \u001b[38;5;28;01mraise\u001b[39;00m ProxyError(e, request\u001b[38;5;241m=\u001b[39mrequest)\n\u001b[0;32m    696\u001b[0m     \u001b[38;5;28;01mif\u001b[39;00m \u001b[38;5;28misinstance\u001b[39m(e\u001b[38;5;241m.\u001b[39mreason, _SSLError):\n\u001b[0;32m    697\u001b[0m         \u001b[38;5;66;03m# This branch is for urllib3 v1.22 and later.\u001b[39;00m\n\u001b[1;32m--> 698\u001b[0m         \u001b[38;5;28;01mraise\u001b[39;00m SSLError(e, request\u001b[38;5;241m=\u001b[39mrequest)\n\u001b[0;32m    700\u001b[0m     \u001b[38;5;28;01mraise\u001b[39;00m \u001b[38;5;167;01mConnectionError\u001b[39;00m(e, request\u001b[38;5;241m=\u001b[39mrequest)\n\u001b[0;32m    702\u001b[0m \u001b[38;5;28;01mexcept\u001b[39;00m ClosedPoolError \u001b[38;5;28;01mas\u001b[39;00m e:\n",
      "\u001b[1;31mSSLError\u001b[0m: HTTPSConnectionPool(host='expired.badssl.com', port=443): Max retries exceeded with url: / (Caused by SSLError(SSLCertVerificationError(1, '[SSL: CERTIFICATE_VERIFY_FAILED] certificate verify failed: certificate has expired (_ssl.c:1020)')))"
     ]
    }
   ],
   "source": [
    "# example by accessing website with an invalid SSL certificate, using python requests\n",
    "\n",
    "import requests\n",
    "response = requests.get('https://expired.badssl.com/')\n",
    "print(response)"
   ]
  },
  {
   "cell_type": "code",
   "execution_count": null,
   "id": "d109c28e-bd40-4e57-adf5-2164de37b1a2",
   "metadata": {},
   "outputs": [],
   "source": [
    "# This website doesn’t have SSL setup so it raises this error. one can also pass the link to the certificate for validation via python requests only. \n",
    "\n",
    "import requests\n",
    "response = requests.get('https://github.com', verify ='/path/to/certfile')\n",
    "print(response)\n",
    "\n",
    "## This would work in case the path provided is correct for SSL certificate for github.com."
   ]
  },
  {
   "cell_type": "markdown",
   "id": "851932e9-ee76-49f6-94b4-7d2dd9bae7d3",
   "metadata": {},
   "source": [
    "### Session Objects\n",
    "\n",
    "Session object allows one to persist certain parameters across requests. It also persists cookies across all requests made from the Session instance and will use urllib3’s connection pooling. So if several requests are being made to the same host, the underlying TCP connection will be reused, which can result in a significant performance increase. A session object all the methods as of requests."
   ]
  },
  {
   "cell_type": "code",
   "execution_count": null,
   "id": "ba4a771e-0152-4bda-a287-68394c5a711e",
   "metadata": {},
   "outputs": [],
   "source": [
    "# import requests module\n",
    "import requests\n",
    "\n",
    "# create a session object\n",
    "s = requests.Session()\n",
    "\n",
    "# make a get request\n",
    "s.get('https://httpbin.org/cookies/set/sessioncookie/123456789')\n",
    "\n",
    "# again make a get request\n",
    "r = s.get('https://httpbin.org/cookies')\n",
    "\n",
    "# check if cookie is still set\n",
    "print(r.text)"
   ]
  },
  {
   "cell_type": "markdown",
   "id": "0eabeb3e-aa88-4db7-91f0-7b68db35f581",
   "metadata": {},
   "source": [
    "## Context Manager in python\n",
    "- context managers are used to manage resources as it facilitates the proper handling of resources\n",
    "- most common way of handling resource using context manager is:"
   ]
  },
  {
   "cell_type": "code",
   "execution_count": null,
   "id": "380cd42e-574c-46aa-bf76-096b3d977847",
   "metadata": {},
   "outputs": [],
   "source": [
    "with open(\"random.txt\") as f: \n",
    "\tdata = f.read()\n"
   ]
  },
  {
   "cell_type": "markdown",
   "id": "1f667aba-4eff-42a7-98d4-6be709ba3cba",
   "metadata": {},
   "source": [
    "<b>Managing Resources using context manager:</b>\n",
    "- Suppose a block of code raises an exception or if it has a complex algorithm with multiple return paths,\n",
    "- it becomes cumbersome to close a file in all the places.\n",
    "- Generally in other languages when working with files try-except-finally is used to ensure that the file resource is closed after usage even if there is an exception.\n",
    "- Python provides an easy way to manage resources: Context Managers.\n",
    "- The with keyword is used.\n",
    "- When it gets evaluated it should result in an object that performs context management."
   ]
  },
  {
   "cell_type": "markdown",
   "id": "5d4de1ff-7afd-4696-a95a-4333489a3da3",
   "metadata": {},
   "source": [
    "<b>Creating a Context Manager:</b>\n",
    "- When creating context managers using classes, user need to ensure that the class has the methods:\n",
    "- __enter__() and __exit__().\n",
    "- The __enter__() returns the resource that needs to be managed and the __exit__() does not return anything but performs the cleanup operations. "
   ]
  },
  {
   "cell_type": "code",
   "execution_count": null,
   "id": "2172edac-ba29-4cf9-a6f2-946fd17f12b8",
   "metadata": {},
   "outputs": [],
   "source": [
    "class ContextManager():\n",
    "\tdef __init__(self):\n",
    "\t\tprint('init method called')\n",
    "\t\t\n",
    "\tdef __enter__(self):\n",
    "\t\tprint('enter method called')\n",
    "\t\treturn self\n",
    "\t\n",
    "\tdef __exit__(self, exc_type, exc_value, exc_traceback):\n",
    "\t\tprint('exit method called')\n",
    "\n",
    "with ContextManager() as manager:\n",
    "\tprint('with statement block')\n"
   ]
  },
  {
   "cell_type": "markdown",
   "id": "e68684d3-57d0-42a6-afa7-40f51266ac3b",
   "metadata": {},
   "source": [
    "In this case, a ContextManager object is created. This is assigned to the variable after the keyword i.e manager. On running the above program, the following get executed in sequence:\n",
    "\n",
    "    __init__()\n",
    "    __enter__()\n",
    "    statement body (code inside the with block)\n",
    "    __exit__()[the parameters in this method are used to manage exceptions]\n",
    "\n",
    "<b>File management using context manager:</b>\n",
    "- Let’s apply the above concept to create a class that helps in file resource management.\n",
    "- The FileManager class helps in opening a file, writing/reading contents, and then closing it."
   ]
  },
  {
   "cell_type": "code",
   "execution_count": 26,
   "id": "b706a0d3-fa60-47fa-8c67-40c076993850",
   "metadata": {},
   "outputs": [
    {
     "name": "stdout",
     "output_type": "stream",
     "text": [
      "True\n"
     ]
    }
   ],
   "source": [
    "\n",
    "class FileManager():\n",
    "\tdef __init__(self, filename, mode):\n",
    "\t\tself.filename = filename\n",
    "\t\tself.mode = mode\n",
    "\t\tself.file = None\n",
    "\t\t\n",
    "\tdef __enter__(self):\n",
    "\t\tself.file = open(self.filename, self.mode)\n",
    "\t\treturn self.file\n",
    "\t\n",
    "\tdef __exit__(self, exc_type, exc_value, exc_traceback):\n",
    "\t\tself.file.close()\n",
    "\n",
    "# loading a file \n",
    "with FileManager('test.txt', 'w') as f:\n",
    "\tf.write('Test')\n",
    "\n",
    "print(f.closed)\n"
   ]
  },
  {
   "cell_type": "markdown",
   "id": "b68bea3e-58ad-4078-adb3-e3340ec8d3a6",
   "metadata": {},
   "source": [
    "### File management using context manager and with statement: \n",
    "On executing the with block, the following operations happen in sequence:\n",
    "- A FileManager object is created with test.txt as the filename and w(write) as the mode when __init__ method is executed.\n",
    "- The __enter__ method opens the test.txt file in write mode(setup operation) and returns a file object to variable f.\n",
    "- The text ‘Test’ is written into the file.\n",
    "- The __exit__ method takes care of closing the file on exiting the with block(teardown operation). When print(f.closed) is run, the output is True as the FileManager has already taken care of closing the file which otherwise needed to be explicitly done.\n"
   ]
  },
  {
   "cell_type": "markdown",
   "id": "65dffed4-03f9-419e-8933-1ec6dfaefecf",
   "metadata": {},
   "source": [
    "## Python Collections Module\n",
    "\n",
    "- The collection Module in Python provides different types of containers.\n",
    "- A Container is an object that is used to store different objects and provide a way to access the contained objects and iterate over them.\n",
    "- Some of the built-in containers are Tuple, List, Dictionary, etc.\n",
    "\n",
    "<strong>Table of Content</strong>\n",
    "\n",
    "    Counters\n",
    "    OrderedDict\n",
    "    DefaultDict\n",
    "    ChainMap\n",
    "    NamedTuple\n",
    "    Deque\n",
    "    UserDict\n",
    "    UserList\n",
    "    UserString\n"
   ]
  },
  {
   "cell_type": "markdown",
   "id": "3b6cf56d-f7b5-4735-8ed9-1b97339da40b",
   "metadata": {},
   "source": [
    "### Counters\n",
    "- A counter is a sub-class of the dictionary.\n",
    "- It is used to keep the count of the elements in an iterable in the form of an unordered dictionary where the key represents the element in the iterable and value represents the count of that element in the iterable.\n",
    "\n",
    "<strong> Syntax</strong>\n",
    "class collections.Counter([iterable-or-mapping])\n",
    "\n",
    "<strong>Initializing Counter Objects\n",
    "</strong>\n",
    "The counter object can be initialized using the counter() function and this function can be called in one of the following ways:\n",
    "\n",
    "- With a sequence of items\n",
    "- With a dictionary containing keys and counts\n",
    "- With keyword arguments mapping string names to counts"
   ]
  },
  {
   "cell_type": "code",
   "execution_count": 27,
   "id": "3457b931-06d0-4a9a-b74d-a3b939cabd16",
   "metadata": {},
   "outputs": [
    {
     "name": "stdout",
     "output_type": "stream",
     "text": [
      "Counter({'B': 5, 'A': 3, 'C': 2})\n",
      "Counter({'B': 5, 'A': 3, 'C': 2})\n",
      "Counter({'B': 5, 'A': 3, 'C': 2})\n"
     ]
    }
   ],
   "source": [
    "# example\n",
    "from collections import Counter \n",
    "  \n",
    "print(Counter(['B','B','A','B','C','A','B',\n",
    "               'B','A','C']))\n",
    "  \n",
    "# with dictionary \n",
    "print(Counter({'A':3, 'B':5, 'C':2}))\n",
    "  \n",
    "# with keyword arguments \n",
    "print(Counter(A=3, B=5, C=2))"
   ]
  },
  {
   "cell_type": "markdown",
   "id": "bcccb80c-ddac-42af-b508-977a6ef32785",
   "metadata": {},
   "source": [
    "### OrderedDict\n",
    "An OrderedDict is also a sub-class of dictionary but unlike dictionary, it remembers the order in which the keys were inserted.\n",
    "\n",
    "<strong> Syntax</strong>\n",
    "class collections.OrderDict()"
   ]
  },
  {
   "cell_type": "code",
   "execution_count": 28,
   "id": "47378cb6-d4d5-47c7-8122-4527abb69e1b",
   "metadata": {},
   "outputs": [
    {
     "name": "stdout",
     "output_type": "stream",
     "text": [
      "This is a Dict:\n",
      "\n",
      "a 1\n",
      "b 2\n",
      "c 3\n",
      "d 4\n",
      "\n",
      "This is an Ordered Dict:\n",
      "\n",
      "a 1\n",
      "b 2\n",
      "c 3\n",
      "d 4\n"
     ]
    }
   ],
   "source": [
    "# example \n",
    "from collections import OrderedDict \n",
    "  \n",
    "print(\"This is a Dict:\\n\") \n",
    "d = {} \n",
    "d['a'] = 1\n",
    "d['b'] = 2\n",
    "d['c'] = 3\n",
    "d['d'] = 4\n",
    "  \n",
    "for key, value in d.items(): \n",
    "    print(key, value) \n",
    "  \n",
    "print(\"\\nThis is an Ordered Dict:\\n\") \n",
    "od = OrderedDict() \n",
    "od['a'] = 1\n",
    "od['b'] = 2\n",
    "od['c'] = 3\n",
    "od['d'] = 4\n",
    "  \n",
    "for key, value in od.items(): \n",
    "    print(key, value) "
   ]
  },
  {
   "cell_type": "code",
   "execution_count": 29,
   "id": "982b7c39-d058-4ccc-b1b6-47238e1fe134",
   "metadata": {},
   "outputs": [
    {
     "name": "stdout",
     "output_type": "stream",
     "text": [
      "Before Deleting\n",
      "a 1\n",
      "b 2\n",
      "c 3\n",
      "d 4\n",
      "\n",
      "After re-inserting\n",
      "b 2\n",
      "c 3\n",
      "d 4\n",
      "a 1\n"
     ]
    }
   ],
   "source": [
    "# While deleting and re-inserting the same key will push the key to the last to maintain the order of insertion of the key.\n",
    "from collections import OrderedDict \n",
    "\n",
    "\n",
    "od = OrderedDict() \n",
    "od['a'] = 1\n",
    "od['b'] = 2\n",
    "od['c'] = 3\n",
    "od['d'] = 4\n",
    "  \n",
    "print('Before Deleting')\n",
    "for key, value in od.items(): \n",
    "    print(key, value) \n",
    "    \n",
    "# deleting element\n",
    "od.pop('a')\n",
    "\n",
    "# Re-inserting the same\n",
    "od['a'] = 1\n",
    "\n",
    "print('\\nAfter re-inserting')\n",
    "for key, value in od.items(): \n",
    "    print(key, value)"
   ]
  },
  {
   "cell_type": "code",
   "execution_count": 30,
   "id": "df2e882d-4989-4022-9417-e532945c45e6",
   "metadata": {},
   "outputs": [],
   "source": [
    "# ordered dict maintains the order of insertion of items"
   ]
  },
  {
   "cell_type": "markdown",
   "id": "79e55c4f-cab4-482f-b28d-396c0f07026e",
   "metadata": {},
   "source": [
    "### DefaultDict\n",
    "- A DefaultDict is also a sub-class to dictionary.\n",
    "- It is used to provide some default values for the key that does not exist and never raises a KeyError.\n",
    "\n",
    "<strong> Syntax </strong>\n",
    "class collections.defaultdict(default_factory)\n",
    "\n",
    "- default_factory is a function that provides the default value for the dictionary created.\n",
    "- If this parameter is absent then the KeyError is raised."
   ]
  },
  {
   "cell_type": "code",
   "execution_count": 31,
   "id": "223c519e-c710-410e-9fd7-5814f311a98d",
   "metadata": {},
   "outputs": [
    {
     "name": "stdout",
     "output_type": "stream",
     "text": [
      "defaultdict(<class 'int'>, {1: 2, 2: 3, 3: 1, 4: 2})\n"
     ]
    }
   ],
   "source": [
    "from collections import defaultdict \n",
    "\n",
    "d = defaultdict(int) \n",
    "   \n",
    "L = [1, 2, 3, 4, 2, 4, 1, 2] \n",
    "   \n",
    "\n",
    "for i in L: \n",
    "    d[i] += 1\n",
    "       \n",
    "print(d) "
   ]
  },
  {
   "cell_type": "code",
   "execution_count": 32,
   "id": "9683cab8-b53d-4089-9473-834ae1b53997",
   "metadata": {},
   "outputs": [
    {
     "name": "stdout",
     "output_type": "stream",
     "text": [
      "Dictionary with values as list:\n",
      "defaultdict(<class 'list'>, {0: [0], 1: [1], 2: [2], 3: [3], 4: [4]})\n"
     ]
    }
   ],
   "source": [
    "from collections import defaultdict \n",
    "\n",
    "d = defaultdict(list) \n",
    "  \n",
    "for i in range(5): \n",
    "    d[i].append(i) \n",
    "      \n",
    "print(\"Dictionary with values as list:\") \n",
    "print(d) \n",
    "# define nagareko list lai ni initially 0 vanera default value rakhcha"
   ]
  },
  {
   "cell_type": "markdown",
   "id": "cb5f9930-e792-4051-b4d3-d9c808078357",
   "metadata": {},
   "source": [
    "### ChainMap\n",
    "A ChainMap encapsulates many dictionaries into a single unit and returns a list of dictionaries.\n",
    "\n",
    "<strong>Syntax:</strong>\n",
    "\n",
    "class collections.ChainMap(dict1, dict2)"
   ]
  },
  {
   "cell_type": "code",
   "execution_count": 33,
   "id": "a2e39de5-63c1-467e-9600-d3ab380fdb12",
   "metadata": {},
   "outputs": [
    {
     "name": "stdout",
     "output_type": "stream",
     "text": [
      "ChainMap({'a': 1, 'b': 2}, {'c': 3, 'd': 4}, {'e': 5, 'f': 6})\n"
     ]
    }
   ],
   "source": [
    "# example\n",
    "\n",
    "from collections import ChainMap \n",
    "   \n",
    "d1 = {'a': 1, 'b': 2}\n",
    "d2 = {'c': 3, 'd': 4}\n",
    "d3 = {'e': 5, 'f': 6}\n",
    "\n",
    "# Defining the chainmap \n",
    "c = ChainMap(d1, d2, d3) \n",
    "   \n",
    "print(c)"
   ]
  },
  {
   "cell_type": "markdown",
   "id": "5bdbbee2-3222-47fe-a08e-ae11fa45f073",
   "metadata": {},
   "source": [
    "<b> Accessing Keys and Values from ChainMap</b>\n",
    "- Values from ChainMap can be accessed using the key name.\n",
    "- They can also be accessed by using the keys() and values() method."
   ]
  },
  {
   "cell_type": "code",
   "execution_count": 34,
   "id": "0b69e0db-5ba4-40ef-87d1-ef65ec682559",
   "metadata": {},
   "outputs": [
    {
     "name": "stdout",
     "output_type": "stream",
     "text": [
      "1\n",
      "ValuesView(ChainMap({'a': 1, 'b': 2}, {'c': 3, 'd': 4}, {'e': 5, 'f': 6}))\n",
      "[5, 6, 3, 4, 1, 2]\n",
      "KeysView(ChainMap({'a': 1, 'b': 2}, {'c': 3, 'd': 4}, {'e': 5, 'f': 6}))\n"
     ]
    }
   ],
   "source": [
    "# example\n",
    "from collections import ChainMap \n",
    "   \n",
    "   \n",
    "d1 = {'a': 1, 'b': 2}\n",
    "d2 = {'c': 3, 'd': 4}\n",
    "d3 = {'e': 5, 'f': 6}\n",
    "\n",
    "c = ChainMap(d1, d2, d3) \n",
    "   \n",
    "print(c['a'])\n",
    "\n",
    "print(c.values())\n",
    "\n",
    "print(list(c.values()))\n",
    "print(c.keys())"
   ]
  },
  {
   "cell_type": "markdown",
   "id": "8c0dea08-cfa1-44aa-971c-cce1c8fcaf85",
   "metadata": {},
   "source": [
    "<b> Adding new dictionary</b>\n",
    "- A new dictionary can be added by using the new_child() method.\n",
    "- The newly added dictionary is added at the beginning of the ChainMap."
   ]
  },
  {
   "cell_type": "code",
   "execution_count": 35,
   "id": "fe9b23df-44f9-44f6-b65e-643691e8dc96",
   "metadata": {},
   "outputs": [
    {
     "name": "stdout",
     "output_type": "stream",
     "text": [
      "All the ChainMap contents are : \n",
      "ChainMap({'a': 1, 'b': 2}, {'b': 3, 'c': 4})\n",
      "Displaying new ChainMap : \n",
      "ChainMap({'f': 5}, {'a': 1, 'b': 2}, {'b': 3, 'c': 4})\n"
     ]
    }
   ],
   "source": [
    "import collections \n",
    "  \n",
    "dic1 = { 'a' : 1, 'b' : 2 } \n",
    "dic2 = { 'b' : 3, 'c' : 4 } \n",
    "dic3 = { 'f' : 5 } \n",
    "  \n",
    "chain = collections.ChainMap(dic1, dic2) \n",
    "  \n",
    "print (\"All the ChainMap contents are : \") \n",
    "print (chain) \n",
    "  \n",
    "chain1 = chain.new_child(dic3) \n",
    "  \n",
    "print (\"Displaying new ChainMap : \") \n",
    "print (chain1) "
   ]
  },
  {
   "cell_type": "markdown",
   "id": "6b050870-f506-4987-b8d6-4f539f70b7a7",
   "metadata": {},
   "source": [
    "### NamedTuple\n",
    "\n",
    "- A NamedTuple returns a tuple object with names for each position which the ordinary tuples lack.\n",
    "- For example, consider a tuple names student where the first element represents fname, second represents lname and the third element represents the DOB.\n",
    "- Suppose for calling fname instead of remembering the index position you can actually call the element by using the fname argument, then it will be really easy for accessing tuples element. This functionality is provided by the NamedTuple.\n",
    "\n",
    "<b>Syntax:</b>\n",
    "\n",
    "class collections.namedtuple(typename, field_names)\n"
   ]
  },
  {
   "cell_type": "code",
   "execution_count": 36,
   "id": "101b38d4-b5c7-48d8-9423-038d860db5b1",
   "metadata": {},
   "outputs": [
    {
     "name": "stdout",
     "output_type": "stream",
     "text": [
      "The Student age using index is : 19\n",
      "The Student name using keyname is : Nandini\n"
     ]
    }
   ],
   "source": [
    "from collections import namedtuple\n",
    "   \n",
    "Student = namedtuple('Student',['name','age','DOB']) \n",
    "  \n",
    "\n",
    "S = Student('Nandini','19','2541997') \n",
    "   \n",
    "print (\"The Student age using index is : \",end =\"\") \n",
    "print (S[1]) \n",
    "   \n",
    "print (\"The Student name using keyname is : \",end =\"\") \n",
    "print (S.name)\n"
   ]
  },
  {
   "cell_type": "markdown",
   "id": "851b140a-64f3-4132-8527-c583c44b1df9",
   "metadata": {},
   "source": [
    "<b>Conversion Operations</b> \n",
    "\n",
    "1. _make(): This function is used to return a namedtuple() from the iterable passed as argument.\n",
    "\n",
    "2. _asdict(): This function returns the OrdereDict() as constructed from the mapped values of namedtuple().\n"
   ]
  },
  {
   "cell_type": "code",
   "execution_count": 37,
   "id": "4e086ecf-21de-4d2f-aa7b-74dfd4b4514a",
   "metadata": {},
   "outputs": [
    {
     "name": "stdout",
     "output_type": "stream",
     "text": [
      "The namedtuple instance using iterable is  : \n",
      "Student(name='Manjeet', age='19', DOB='411997')\n",
      "The OrderedDict instance using namedtuple is  : \n",
      "{'name': 'Nandini', 'age': '19', 'DOB': '2541997'}\n"
     ]
    }
   ],
   "source": [
    "from collections import namedtuple\n",
    "  \n",
    "Student = namedtuple('Student',['name','age','DOB']) \n",
    "  \n",
    "S = Student('Nandini','19','2541997') \n",
    "  \n",
    "li = ['Manjeet', '19', '411997' ] \n",
    "  \n",
    "di = { 'name' : \"Nikhil\", 'age' : 19 , 'DOB' : '1391997' } \n",
    "  \n",
    "print (\"The namedtuple instance using iterable is  : \") \n",
    "print (Student._make(li)) \n",
    "   \n",
    "print (\"The OrderedDict instance using namedtuple is  : \") \n",
    "print (S._asdict()) \n",
    "\n"
   ]
  },
  {
   "cell_type": "markdown",
   "id": "4ec7c11a-4883-4c0d-98fb-a89642e166cd",
   "metadata": {},
   "source": [
    "### Deque\n",
    "\n",
    "Deque (Doubly Ended Queue) is the optimized list for quicker append and pop operations from both sides of the container. It provides O(1) time complexity for append and pop operations as compared to list with O(n) time complexity.\n",
    "\n",
    "<b>Syntax:</b>\n",
    "\n",
    "class collections.deque(list)\n",
    "\n",
    "- This function takes the list as an argument.\n",
    "  \n"
   ]
  },
  {
   "cell_type": "code",
   "execution_count": 38,
   "id": "d7e62e98-e9fe-4333-a058-ef23bf764773",
   "metadata": {},
   "outputs": [
    {
     "name": "stdout",
     "output_type": "stream",
     "text": [
      "deque(['name', 'age', 'DOB'])\n"
     ]
    }
   ],
   "source": [
    "from collections import deque\n",
    "  \n",
    "queue = deque(['name','age','DOB']) \n",
    "  \n",
    "print(queue)"
   ]
  },
  {
   "cell_type": "markdown",
   "id": "aed72540-e38f-4b22-8614-3a9e158104e6",
   "metadata": {},
   "source": [
    "<b>Inserting Elements</b>\n",
    "\n",
    "- Elements in deque can be inserted from both ends.\n",
    "- To insert the elements from right append() method is used and to insert the elements from the left appendleft() method is used.\n",
    "\n"
   ]
  },
  {
   "cell_type": "code",
   "execution_count": 39,
   "id": "f2430524-369b-40a7-9ed3-c04746b3631d",
   "metadata": {},
   "outputs": [
    {
     "name": "stdout",
     "output_type": "stream",
     "text": [
      "The deque after appending at right is : \n",
      "deque([1, 2, 3, 4])\n",
      "The deque after appending at left is : \n",
      "deque([6, 1, 2, 3, 4])\n"
     ]
    }
   ],
   "source": [
    "from collections import deque \n",
    "   \n",
    "de = deque([1,2,3]) \n",
    "  \n",
    "de.append(4) \n",
    "  \n",
    "print (\"The deque after appending at right is : \") \n",
    "print (de) \n",
    "  \n",
    "de.appendleft(6) \n",
    "  \n",
    "print (\"The deque after appending at left is : \") \n",
    "print (de) \n"
   ]
  },
  {
   "cell_type": "markdown",
   "id": "8c745432-eb3d-495f-82d4-6c72fe4175c7",
   "metadata": {},
   "source": [
    "<b>Removing Elements</b>\n",
    "\n",
    "- Elements can also be removed from the deque from both the ends.\n",
    "- To remove elements from right use pop() method and to remove elements from the left use popleft() method.\n",
    "\n"
   ]
  },
  {
   "cell_type": "code",
   "execution_count": 40,
   "id": "b2e7b48d-4938-4b84-9f69-5713f523a3c9",
   "metadata": {},
   "outputs": [
    {
     "name": "stdout",
     "output_type": "stream",
     "text": [
      "The deque after deleting from right is : \n",
      "deque([6, 1, 2, 3])\n",
      "The deque after deleting from left is : \n",
      "deque([1, 2, 3])\n"
     ]
    }
   ],
   "source": [
    "from collections import deque\n",
    "\n",
    "de = deque([6, 1, 2, 3, 4])\n",
    "\n",
    "de.pop() \n",
    "  \n",
    "print (\"The deque after deleting from right is : \") \n",
    "print (de) \n",
    "  \n",
    "de.popleft() \n",
    "  \n",
    "print (\"The deque after deleting from left is : \") \n",
    "print (de) \n",
    "\n"
   ]
  },
  {
   "cell_type": "markdown",
   "id": "66b513d8-c9e9-4999-874f-4c8530ca6e09",
   "metadata": {},
   "source": [
    "### UserDict\n",
    "\n",
    "- UserDict is a dictionary-like container that acts as a wrapper around the dictionary objects.\n",
    "- This container is used when someone wants to create their own dictionary with some modified or new functionality. \n",
    "\n",
    "<b>Syntax:</b>\n",
    "\n",
    "class collections.UserDict([initialdata])   \n",
    "  \n"
   ]
  },
  {
   "cell_type": "code",
   "execution_count": 41,
   "id": "c441659a-945e-4ed1-a6f0-4df051aeec54",
   "metadata": {},
   "outputs": [
    {
     "ename": "RuntimeError",
     "evalue": "Deletion not allowed",
     "output_type": "error",
     "traceback": [
      "\u001b[1;31m---------------------------------------------------------------------------\u001b[0m",
      "\u001b[1;31mRuntimeError\u001b[0m                              Traceback (most recent call last)",
      "Cell \u001b[1;32mIn[41], line 18\u001b[0m\n\u001b[0;32m     12\u001b[0m         \u001b[38;5;28;01mraise\u001b[39;00m \u001b[38;5;167;01mRuntimeError\u001b[39;00m(\u001b[38;5;124m\"\u001b[39m\u001b[38;5;124mDeletion not allowed\u001b[39m\u001b[38;5;124m\"\u001b[39m) \n\u001b[0;32m     14\u001b[0m d \u001b[38;5;241m=\u001b[39m MyDict({\u001b[38;5;124m'\u001b[39m\u001b[38;5;124ma\u001b[39m\u001b[38;5;124m'\u001b[39m:\u001b[38;5;241m1\u001b[39m, \n\u001b[0;32m     15\u001b[0m     \u001b[38;5;124m'\u001b[39m\u001b[38;5;124mb\u001b[39m\u001b[38;5;124m'\u001b[39m: \u001b[38;5;241m2\u001b[39m, \n\u001b[0;32m     16\u001b[0m     \u001b[38;5;124m'\u001b[39m\u001b[38;5;124mc\u001b[39m\u001b[38;5;124m'\u001b[39m: \u001b[38;5;241m3\u001b[39m})\n\u001b[1;32m---> 18\u001b[0m \u001b[43md\u001b[49m\u001b[38;5;241;43m.\u001b[39;49m\u001b[43mpop\u001b[49m\u001b[43m(\u001b[49m\u001b[38;5;241;43m1\u001b[39;49m\u001b[43m)\u001b[49m \n",
      "Cell \u001b[1;32mIn[41], line 9\u001b[0m, in \u001b[0;36mMyDict.pop\u001b[1;34m(self, s)\u001b[0m\n\u001b[0;32m      8\u001b[0m \u001b[38;5;28;01mdef\u001b[39;00m\u001b[38;5;250m \u001b[39m\u001b[38;5;21mpop\u001b[39m(\u001b[38;5;28mself\u001b[39m, s \u001b[38;5;241m=\u001b[39m \u001b[38;5;28;01mNone\u001b[39;00m): \n\u001b[1;32m----> 9\u001b[0m     \u001b[38;5;28;01mraise\u001b[39;00m \u001b[38;5;167;01mRuntimeError\u001b[39;00m(\u001b[38;5;124m\"\u001b[39m\u001b[38;5;124mDeletion not allowed\u001b[39m\u001b[38;5;124m\"\u001b[39m)\n",
      "\u001b[1;31mRuntimeError\u001b[0m: Deletion not allowed"
     ]
    }
   ],
   "source": [
    "from collections import UserDict \n",
    "   \n",
    "class MyDict(UserDict): \n",
    "    \n",
    "    def __del__(self): \n",
    "        raise RuntimeError(\"Deletion not allowed\") \n",
    "   \n",
    "    def pop(self, s = None): \n",
    "        raise RuntimeError(\"Deletion not allowed\") \n",
    "          \n",
    "    def popitem(self, s = None): \n",
    "        raise RuntimeError(\"Deletion not allowed\") \n",
    "      \n",
    "d = MyDict({'a':1, \n",
    "    'b': 2, \n",
    "    'c': 3})\n",
    "  \n",
    "d.pop(1) \n",
    "\n"
   ]
  },
  {
   "cell_type": "markdown",
   "id": "22800af0-d596-481c-ac7d-8a2618dee2d4",
   "metadata": {},
   "source": [
    "### UserList\n",
    "\n",
    "UserList is a list like container that acts as a wrapper around the list objects. This is useful when someone wants to create their own list with some modified or additional functionality.\n",
    "\n",
    "<b>Syntax:</b>\n",
    "\n",
    "class collections.UserList([list])\n",
    "  \n"
   ]
  },
  {
   "cell_type": "code",
   "execution_count": 42,
   "id": "51543d7b-c757-4c28-a6f6-e5a0c0f72e27",
   "metadata": {},
   "outputs": [
    {
     "name": "stdout",
     "output_type": "stream",
     "text": [
      "Original List\n",
      "After Insertion\n",
      "[1, 2, 3, 4, 5]\n"
     ]
    },
    {
     "ename": "RuntimeError",
     "evalue": "Deletion not allowed",
     "output_type": "error",
     "traceback": [
      "\u001b[1;31m---------------------------------------------------------------------------\u001b[0m",
      "\u001b[1;31mRuntimeError\u001b[0m                              Traceback (most recent call last)",
      "Cell \u001b[1;32mIn[42], line 20\u001b[0m\n\u001b[0;32m     17\u001b[0m \u001b[38;5;28mprint\u001b[39m(\u001b[38;5;124m\"\u001b[39m\u001b[38;5;124mAfter Insertion\u001b[39m\u001b[38;5;124m\"\u001b[39m) \n\u001b[0;32m     18\u001b[0m \u001b[38;5;28mprint\u001b[39m(L) \n\u001b[1;32m---> 20\u001b[0m \u001b[43mL\u001b[49m\u001b[38;5;241;43m.\u001b[39;49m\u001b[43mremove\u001b[49m\u001b[43m(\u001b[49m\u001b[43m)\u001b[49m \n",
      "Cell \u001b[1;32mIn[42], line 7\u001b[0m, in \u001b[0;36mMyList.remove\u001b[1;34m(self, s)\u001b[0m\n\u001b[0;32m      6\u001b[0m \u001b[38;5;28;01mdef\u001b[39;00m\u001b[38;5;250m \u001b[39m\u001b[38;5;21mremove\u001b[39m(\u001b[38;5;28mself\u001b[39m, s \u001b[38;5;241m=\u001b[39m \u001b[38;5;28;01mNone\u001b[39;00m): \n\u001b[1;32m----> 7\u001b[0m     \u001b[38;5;28;01mraise\u001b[39;00m \u001b[38;5;167;01mRuntimeError\u001b[39;00m(\u001b[38;5;124m\"\u001b[39m\u001b[38;5;124mDeletion not allowed\u001b[39m\u001b[38;5;124m\"\u001b[39m)\n",
      "\u001b[1;31mRuntimeError\u001b[0m: Deletion not allowed"
     ]
    }
   ],
   "source": [
    "from collections import UserList \n",
    "   \n",
    "\n",
    "class MyList(UserList): \n",
    "      \n",
    "    def remove(self, s = None): \n",
    "        raise RuntimeError(\"Deletion not allowed\") \n",
    "          \n",
    "    def pop(self, s = None): \n",
    "        raise RuntimeError(\"Deletion not allowed\") \n",
    "      \n",
    "L = MyList([1, 2, 3, 4]) \n",
    "  \n",
    "print(\"Original List\") \n",
    "  \n",
    "L.append(5) \n",
    "print(\"After Insertion\") \n",
    "print(L) \n",
    "  \n",
    "L.remove() \n",
    "\n"
   ]
  },
  {
   "cell_type": "markdown",
   "id": "952f37e6-82b9-44bf-a94f-ae878bc153db",
   "metadata": {},
   "source": [
    "### UserString\n",
    "\n",
    "- UserString is a string like container and just like UserDict and UserList it acts as a wrapper around string objects.\n",
    "- It is used when someone wants to create their own strings with some modified or additional functionality. \n",
    "\n",
    "<b>Syntax:</b>\n",
    "\n",
    "class collections.UserString(seq)   \n",
    "  \n"
   ]
  },
  {
   "cell_type": "code",
   "execution_count": 43,
   "id": "843429e8-f28c-4824-b83c-cc8819b4b8b7",
   "metadata": {},
   "outputs": [
    {
     "name": "stdout",
     "output_type": "stream",
     "text": [
      "Original String: Geeks\n",
      "String After Appending: Geekss\n",
      "String after Removing: Gkss\n"
     ]
    }
   ],
   "source": [
    "from collections import UserString \n",
    "   \n",
    "class Mystring(UserString): \n",
    "      \n",
    "    def append(self, s): \n",
    "        self.data += s \n",
    "          \n",
    "    def remove(self, s): \n",
    "        self.data = self.data.replace(s, \"\") \n",
    "      \n",
    "s1 = Mystring(\"Geeks\") \n",
    "print(\"Original String:\", s1.data) \n",
    "  \n",
    "s1.append(\"s\") \n",
    "print(\"String After Appending:\", s1.data) \n",
    "  \n",
    "s1.remove(\"e\") \n",
    "print(\"String after Removing:\", s1.data)\n"
   ]
  },
  {
   "cell_type": "code",
   "execution_count": null,
   "id": "eaef0e07-ecfb-4f87-9d76-6c3cfbe5f0f6",
   "metadata": {},
   "outputs": [],
   "source": []
  }
 ],
 "metadata": {
  "kernelspec": {
   "display_name": "Python 3 (ipykernel)",
   "language": "python",
   "name": "python3"
  },
  "language_info": {
   "codemirror_mode": {
    "name": "ipython",
    "version": 3
   },
   "file_extension": ".py",
   "mimetype": "text/x-python",
   "name": "python",
   "nbconvert_exporter": "python",
   "pygments_lexer": "ipython3",
   "version": "3.13.0"
  }
 },
 "nbformat": 4,
 "nbformat_minor": 5
}
