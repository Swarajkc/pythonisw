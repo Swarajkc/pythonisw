{
 "cells": [
  {
   "cell_type": "markdown",
   "id": "6a46f2ea-41fb-48cd-93af-09cc9b63adc1",
   "metadata": {},
   "source": [
    "# SFTP\n",
    "\n",
    "- SFTP stands for secure file transfer protocol\n",
    "- it is the advanced version of FTP( file transfer protocol) which ensures security while transferring files betweeen the organizations/computer\n",
    "- it is also known as SSH(Secure Shell)\n",
    "- it works on port no 22 and uses the client- server model\n",
    "\n",
    "## Features of SFTP\n",
    "\n",
    "- it encrypts the data\n",
    "- it executes the command\n",
    "- it secures and compress the data for transmission\n",
    "- it provides the authentication to username and password\n",
    "- it improves uploading and downloading files functionality\n",
    "- it also provides authentication to the public key\n",
    "\n",
    "## Working \n",
    "\n",
    "SFTP ensures data security by applying SSH Message Authentication Code(MAC) to data packets. Firstly, a safe and secure connection is established by SFTP then it provides an advanced level of protection for data transferring. The authentication of users to the file being shared on SSH data stream, everything is encrypter by SFTP. If any unauthorized person or third party tries to access the data, it will be incomprehensible or unreadable due to encryption. For Example :- In WhatsApp, messages are end to end encrypted\n",
    "\n",
    "## Advantages of SFTP:\n",
    "\n",
    "1. Speed and Efficiency\n",
    "2. Lower down risks while exchanging data\n",
    "3. Power data accessibility\n",
    "\n",
    "## Disadvantages of SFTP:\n",
    "\n",
    "1. Difficult to manage\n",
    "2. Security threat\n",
    "\n",
    "## How to secure SFTP server\n",
    "\n",
    "- use a strong password\n",
    "- keep a check on the account consistently if there are any unnecessary activities contact your administrator and change the password\n",
    "- by using a strong algorithm\n",
    "- use file security to secure the data\n",
    "- SFTP server can be secured by using blacklists and whitelists."
   ]
  },
  {
   "cell_type": "markdown",
   "id": "cc9ce1bd-1102-406d-9ef0-7fbc69e17d3f",
   "metadata": {},
   "source": [
    "## SFTP file transfer using Python\n",
    "\n",
    "- Paramiko is a python library that provides a secure way to communicate with remote servers using various protocols, including SFTP\n",
    "\n",
    "#### most common libraries for SFTP file transfer in python are \n",
    "\n",
    "1. Paramiko :- well managed and continuously updated to support the new version of python.\n",
    "2. Pysftp :- but in the case of Pysftp we can get less than Python 3.5 version\n",
    "\n",
    "### Setting up Paramiko \n",
    "- it can be installed using pip command i.e.:-\n",
    "- pip install paramiko\n",
    "\n",
    "### Establishing Connection to the server\n"
   ]
  },
  {
   "cell_type": "code",
   "execution_count": 1,
   "id": "04772657-770c-4c83-8d60-117381f2a9fa",
   "metadata": {},
   "outputs": [
    {
     "name": "stdout",
     "output_type": "stream",
     "text": [
      "connection established successfully\n"
     ]
    }
   ],
   "source": [
    "import paramiko\n",
    "\n",
    "# create ssh client \n",
    "ssh_client = paramiko.SSHClient()\n",
    "\n",
    "# remote server credentials\n",
    "host = \"test.rebex.net\"\n",
    "username = \"demo\"\n",
    "password = \"password\"\n",
    "port = 22\n",
    "\n",
    "ssh_client.set_missing_host_key_policy(paramiko.AutoAddPolicy())\n",
    "ssh_client.connect(hostname=host,port=port,username=username,password=password)\n",
    "\n",
    "print('connection established successfully')\n",
    "\n",
    "ssh_client.close()"
   ]
  },
  {
   "cell_type": "markdown",
   "id": "8d739575-ddb2-44b0-aa21-7e2f3a566bf8",
   "metadata": {},
   "source": [
    "- SHH Client: We can use the Secure Shell Protocol, SSHClient() method of the Paramiko package to create an SSH client in our program. SSH clients are used to communicating with an SFTP server for the transfer of files.\n",
    "- ssh_client.set_missing_host_key_policy(): If we call ssh_client.set_missing_host_key_policy(), and we pass “paramiko.AutoAddPolicy()” as an argument, then Paramiko will make our machine trust incoming traffic from our remote server.\n",
    "\n",
    "### List down all the directories in the SFTP"
   ]
  },
  {
   "cell_type": "code",
   "execution_count": 2,
   "id": "e9853ae8-00f5-48e0-bee5-c66e36aef168",
   "metadata": {},
   "outputs": [
    {
     "name": "stdout",
     "output_type": "stream",
     "text": [
      "Listing all the files and Directory:  ['pub', 'readme.txt']\n"
     ]
    }
   ],
   "source": [
    "import paramiko\n",
    "\n",
    "# create ssh client \n",
    "ssh_client = paramiko.SSHClient()\n",
    "\n",
    "# remote server credentials\n",
    "host = \"test.rebex.net\"\n",
    "username = \"demo\"\n",
    "password = \"password\"\n",
    "port = 22\n",
    "\n",
    "ssh_client.set_missing_host_key_policy(paramiko.AutoAddPolicy())\n",
    "ssh_client.connect(hostname=host,port=port,username=username,password=password)\n",
    "\n",
    "ftp = ssh_client.open_sftp()\n",
    "files = ftp.listdir()\n",
    "\n",
    "print(\"Listing all the files and Directory: \",files)\n",
    "\n",
    "# close the connection\n",
    "ftp.close()\n",
    "ssh_client.close()"
   ]
  },
  {
   "cell_type": "markdown",
   "id": "54f2d7fa-93e7-4031-a825-6493c5603c6f",
   "metadata": {},
   "source": [
    "- Using the above code snippets we can list down all the existing files and directories in the SFTP server.\n",
    "\n",
    "### Uploading a File to the SFTP server:\n",
    "\n",
    "To upload a file to the remote server using SFTP, we can use the SFTP client objects put method."
   ]
  },
  {
   "cell_type": "code",
   "execution_count": 6,
   "id": "47f7caaf-4c21-418d-a0af-7939949a39e6",
   "metadata": {},
   "outputs": [
    {
     "ename": "PermissionError",
     "evalue": "[Errno 13] Access denied.",
     "output_type": "error",
     "traceback": [
      "\u001b[1;31m---------------------------------------------------------------------------\u001b[0m",
      "\u001b[1;31mPermissionError\u001b[0m                           Traceback (most recent call last)",
      "Cell \u001b[1;32mIn[6], line 19\u001b[0m\n\u001b[0;32m     16\u001b[0m ftp \u001b[38;5;241m=\u001b[39m ssh_client\u001b[38;5;241m.\u001b[39mopen_sftp()\n\u001b[0;32m     18\u001b[0m \u001b[38;5;66;03m# download a file from the remote server\u001b[39;00m\n\u001b[1;32m---> 19\u001b[0m files \u001b[38;5;241m=\u001b[39m \u001b[43mftp\u001b[49m\u001b[38;5;241;43m.\u001b[39;49m\u001b[43mput\u001b[49m\u001b[43m(\u001b[49m\u001b[38;5;124;43m\"\u001b[39;49m\u001b[38;5;124;43m./employee.xlsx\u001b[39;49m\u001b[38;5;124;43m\"\u001b[39;49m\u001b[43m,\u001b[49m\u001b[38;5;124;43m\"\u001b[39;49m\u001b[38;5;124;43m/pub/employee.xlsx\u001b[39;49m\u001b[38;5;124;43m\"\u001b[39;49m\u001b[43m)\u001b[49m\n\u001b[0;32m     21\u001b[0m \u001b[38;5;66;03m# close the connection\u001b[39;00m\n\u001b[0;32m     22\u001b[0m ftp\u001b[38;5;241m.\u001b[39mclose()\n",
      "File \u001b[1;32mc:\\Users\\Administrator\\Desktop\\shreeData\\pythonisw\\.venv\\Lib\\site-packages\\paramiko\\sftp_client.py:759\u001b[0m, in \u001b[0;36mSFTPClient.put\u001b[1;34m(self, localpath, remotepath, callback, confirm)\u001b[0m\n\u001b[0;32m    757\u001b[0m file_size \u001b[38;5;241m=\u001b[39m os\u001b[38;5;241m.\u001b[39mstat(localpath)\u001b[38;5;241m.\u001b[39mst_size\n\u001b[0;32m    758\u001b[0m \u001b[38;5;28;01mwith\u001b[39;00m \u001b[38;5;28mopen\u001b[39m(localpath, \u001b[38;5;124m\"\u001b[39m\u001b[38;5;124mrb\u001b[39m\u001b[38;5;124m\"\u001b[39m) \u001b[38;5;28;01mas\u001b[39;00m fl:\n\u001b[1;32m--> 759\u001b[0m     \u001b[38;5;28;01mreturn\u001b[39;00m \u001b[38;5;28;43mself\u001b[39;49m\u001b[38;5;241;43m.\u001b[39;49m\u001b[43mputfo\u001b[49m\u001b[43m(\u001b[49m\u001b[43mfl\u001b[49m\u001b[43m,\u001b[49m\u001b[43m \u001b[49m\u001b[43mremotepath\u001b[49m\u001b[43m,\u001b[49m\u001b[43m \u001b[49m\u001b[43mfile_size\u001b[49m\u001b[43m,\u001b[49m\u001b[43m \u001b[49m\u001b[43mcallback\u001b[49m\u001b[43m,\u001b[49m\u001b[43m \u001b[49m\u001b[43mconfirm\u001b[49m\u001b[43m)\u001b[49m\n",
      "File \u001b[1;32mc:\\Users\\Administrator\\Desktop\\shreeData\\pythonisw\\.venv\\Lib\\site-packages\\paramiko\\sftp_client.py:714\u001b[0m, in \u001b[0;36mSFTPClient.putfo\u001b[1;34m(self, fl, remotepath, file_size, callback, confirm)\u001b[0m\n\u001b[0;32m    687\u001b[0m \u001b[38;5;28;01mdef\u001b[39;00m\u001b[38;5;250m \u001b[39m\u001b[38;5;21mputfo\u001b[39m(\u001b[38;5;28mself\u001b[39m, fl, remotepath, file_size\u001b[38;5;241m=\u001b[39m\u001b[38;5;241m0\u001b[39m, callback\u001b[38;5;241m=\u001b[39m\u001b[38;5;28;01mNone\u001b[39;00m, confirm\u001b[38;5;241m=\u001b[39m\u001b[38;5;28;01mTrue\u001b[39;00m):\n\u001b[0;32m    688\u001b[0m \u001b[38;5;250m    \u001b[39m\u001b[38;5;124;03m\"\"\"\u001b[39;00m\n\u001b[0;32m    689\u001b[0m \u001b[38;5;124;03m    Copy the contents of an open file object (``fl``) to the SFTP server as\u001b[39;00m\n\u001b[0;32m    690\u001b[0m \u001b[38;5;124;03m    ``remotepath``. Any exception raised by operations will be passed\u001b[39;00m\n\u001b[1;32m   (...)\u001b[0m\n\u001b[0;32m    712\u001b[0m \u001b[38;5;124;03m    .. versionadded:: 1.10\u001b[39;00m\n\u001b[0;32m    713\u001b[0m \u001b[38;5;124;03m    \"\"\"\u001b[39;00m\n\u001b[1;32m--> 714\u001b[0m     \u001b[38;5;28;01mwith\u001b[39;00m \u001b[38;5;28;43mself\u001b[39;49m\u001b[38;5;241;43m.\u001b[39;49m\u001b[43mfile\u001b[49m\u001b[43m(\u001b[49m\u001b[43mremotepath\u001b[49m\u001b[43m,\u001b[49m\u001b[43m \u001b[49m\u001b[38;5;124;43m\"\u001b[39;49m\u001b[38;5;124;43mwb\u001b[39;49m\u001b[38;5;124;43m\"\u001b[39;49m\u001b[43m)\u001b[49m \u001b[38;5;28;01mas\u001b[39;00m fr:\n\u001b[0;32m    715\u001b[0m         fr\u001b[38;5;241m.\u001b[39mset_pipelined(\u001b[38;5;28;01mTrue\u001b[39;00m)\n\u001b[0;32m    716\u001b[0m         size \u001b[38;5;241m=\u001b[39m \u001b[38;5;28mself\u001b[39m\u001b[38;5;241m.\u001b[39m_transfer_with_callback(\n\u001b[0;32m    717\u001b[0m             reader\u001b[38;5;241m=\u001b[39mfl, writer\u001b[38;5;241m=\u001b[39mfr, file_size\u001b[38;5;241m=\u001b[39mfile_size, callback\u001b[38;5;241m=\u001b[39mcallback\n\u001b[0;32m    718\u001b[0m         )\n",
      "File \u001b[1;32mc:\\Users\\Administrator\\Desktop\\shreeData\\pythonisw\\.venv\\Lib\\site-packages\\paramiko\\sftp_client.py:372\u001b[0m, in \u001b[0;36mSFTPClient.open\u001b[1;34m(self, filename, mode, bufsize)\u001b[0m\n\u001b[0;32m    370\u001b[0m     imode \u001b[38;5;241m|\u001b[39m\u001b[38;5;241m=\u001b[39m SFTP_FLAG_CREATE \u001b[38;5;241m|\u001b[39m SFTP_FLAG_EXCL\n\u001b[0;32m    371\u001b[0m attrblock \u001b[38;5;241m=\u001b[39m SFTPAttributes()\n\u001b[1;32m--> 372\u001b[0m t, msg \u001b[38;5;241m=\u001b[39m \u001b[38;5;28;43mself\u001b[39;49m\u001b[38;5;241;43m.\u001b[39;49m\u001b[43m_request\u001b[49m\u001b[43m(\u001b[49m\u001b[43mCMD_OPEN\u001b[49m\u001b[43m,\u001b[49m\u001b[43m \u001b[49m\u001b[43mfilename\u001b[49m\u001b[43m,\u001b[49m\u001b[43m \u001b[49m\u001b[43mimode\u001b[49m\u001b[43m,\u001b[49m\u001b[43m \u001b[49m\u001b[43mattrblock\u001b[49m\u001b[43m)\u001b[49m\n\u001b[0;32m    373\u001b[0m \u001b[38;5;28;01mif\u001b[39;00m t \u001b[38;5;241m!=\u001b[39m CMD_HANDLE:\n\u001b[0;32m    374\u001b[0m     \u001b[38;5;28;01mraise\u001b[39;00m SFTPError(\u001b[38;5;124m\"\u001b[39m\u001b[38;5;124mExpected handle\u001b[39m\u001b[38;5;124m\"\u001b[39m)\n",
      "File \u001b[1;32mc:\\Users\\Administrator\\Desktop\\shreeData\\pythonisw\\.venv\\Lib\\site-packages\\paramiko\\sftp_client.py:857\u001b[0m, in \u001b[0;36mSFTPClient._request\u001b[1;34m(self, t, *args)\u001b[0m\n\u001b[0;32m    855\u001b[0m \u001b[38;5;28;01mdef\u001b[39;00m\u001b[38;5;250m \u001b[39m\u001b[38;5;21m_request\u001b[39m(\u001b[38;5;28mself\u001b[39m, t, \u001b[38;5;241m*\u001b[39margs):\n\u001b[0;32m    856\u001b[0m     num \u001b[38;5;241m=\u001b[39m \u001b[38;5;28mself\u001b[39m\u001b[38;5;241m.\u001b[39m_async_request(\u001b[38;5;28mtype\u001b[39m(\u001b[38;5;28;01mNone\u001b[39;00m), t, \u001b[38;5;241m*\u001b[39margs)\n\u001b[1;32m--> 857\u001b[0m     \u001b[38;5;28;01mreturn\u001b[39;00m \u001b[38;5;28;43mself\u001b[39;49m\u001b[38;5;241;43m.\u001b[39;49m\u001b[43m_read_response\u001b[49m\u001b[43m(\u001b[49m\u001b[43mnum\u001b[49m\u001b[43m)\u001b[49m\n",
      "File \u001b[1;32mc:\\Users\\Administrator\\Desktop\\shreeData\\pythonisw\\.venv\\Lib\\site-packages\\paramiko\\sftp_client.py:909\u001b[0m, in \u001b[0;36mSFTPClient._read_response\u001b[1;34m(self, waitfor)\u001b[0m\n\u001b[0;32m    906\u001b[0m \u001b[38;5;28;01mif\u001b[39;00m num \u001b[38;5;241m==\u001b[39m waitfor:\n\u001b[0;32m    907\u001b[0m     \u001b[38;5;66;03m# synchronous\u001b[39;00m\n\u001b[0;32m    908\u001b[0m     \u001b[38;5;28;01mif\u001b[39;00m t \u001b[38;5;241m==\u001b[39m CMD_STATUS:\n\u001b[1;32m--> 909\u001b[0m         \u001b[38;5;28;43mself\u001b[39;49m\u001b[38;5;241;43m.\u001b[39;49m\u001b[43m_convert_status\u001b[49m\u001b[43m(\u001b[49m\u001b[43mmsg\u001b[49m\u001b[43m)\u001b[49m\n\u001b[0;32m    910\u001b[0m     \u001b[38;5;28;01mreturn\u001b[39;00m t, msg\n\u001b[0;32m    912\u001b[0m \u001b[38;5;66;03m# can not rewrite this to deal with E721, either as a None check\u001b[39;00m\n\u001b[0;32m    913\u001b[0m \u001b[38;5;66;03m# nor as not an instance of None or NoneType\u001b[39;00m\n",
      "File \u001b[1;32mc:\\Users\\Administrator\\Desktop\\shreeData\\pythonisw\\.venv\\Lib\\site-packages\\paramiko\\sftp_client.py:940\u001b[0m, in \u001b[0;36mSFTPClient._convert_status\u001b[1;34m(self, msg)\u001b[0m\n\u001b[0;32m    938\u001b[0m     \u001b[38;5;28;01mraise\u001b[39;00m \u001b[38;5;167;01mIOError\u001b[39;00m(errno\u001b[38;5;241m.\u001b[39mENOENT, text)\n\u001b[0;32m    939\u001b[0m \u001b[38;5;28;01melif\u001b[39;00m code \u001b[38;5;241m==\u001b[39m SFTP_PERMISSION_DENIED:\n\u001b[1;32m--> 940\u001b[0m     \u001b[38;5;28;01mraise\u001b[39;00m \u001b[38;5;167;01mIOError\u001b[39;00m(errno\u001b[38;5;241m.\u001b[39mEACCES, text)\n\u001b[0;32m    941\u001b[0m \u001b[38;5;28;01melse\u001b[39;00m:\n\u001b[0;32m    942\u001b[0m     \u001b[38;5;28;01mraise\u001b[39;00m \u001b[38;5;167;01mIOError\u001b[39;00m(text)\n",
      "\u001b[1;31mPermissionError\u001b[0m: [Errno 13] Access denied."
     ]
    }
   ],
   "source": [
    "import paramiko\n",
    "\n",
    "# create ssh client \n",
    "ssh_client = paramiko.SSHClient()\n",
    "\n",
    "# remote server credentials\n",
    "host = \"test.rebex.net\"\n",
    "username = \"demo\"\n",
    "password = \"password\"\n",
    "port = 22\n",
    "\n",
    "ssh_client.set_missing_host_key_policy(paramiko.AutoAddPolicy())\n",
    "ssh_client.connect(hostname=host,port=port,username=username,password=password)\n",
    "\n",
    "# create an SFTP client object\n",
    "ftp = ssh_client.open_sftp()\n",
    "\n",
    "# download a file from the remote server\n",
    "files = ftp.put(\"./employee.xlsx\",\"/pub/employee.xlsx\")\n",
    "\n",
    "# close the connection\n",
    "ftp.close()\n",
    "ssh_client.close()"
   ]
  },
  {
   "cell_type": "code",
   "execution_count": 7,
   "id": "b0cdba54-160a-40c1-9f92-ac8d59614f7a",
   "metadata": {},
   "outputs": [],
   "source": [
    "## rebex does not give writable permissions"
   ]
  },
  {
   "cell_type": "markdown",
   "id": "ebff95b4-bd89-4868-9d94-1bc9d96bb70c",
   "metadata": {},
   "source": [
    "### Downloading a File from the SFTP location:\n",
    "\n",
    "- To download a file from the remote server using SFTP, we can use the SFTP client objects get method."
   ]
  },
  {
   "cell_type": "code",
   "execution_count": 9,
   "id": "3b0eeb64-de3c-4dca-b715-3029143afde7",
   "metadata": {},
   "outputs": [
    {
     "name": "stdout",
     "output_type": "stream",
     "text": [
      "Files on server: ['imap-console-client.png', 'KeyGenerator.png', 'KeyGeneratorSmall.png', 'mail-editor.png', 'mail-send-winforms.png', 'mime-explorer.png', 'pocketftp.png', 'pocketftpSmall.png', 'pop3-browser.png', 'pop3-console-client.png', 'readme.txt', 'ResumableTransfer.png', 'winceclient.png', 'winceclientSmall.png', 'WinFormClient.png', 'WinFormClientSmall.png']\n"
     ]
    }
   ],
   "source": [
    "remote_directory = \"/pub/example/\"\n",
    "files = ftp.listdir(remote_directory)\n",
    "print(\"Files on server:\", files)\n"
   ]
  },
  {
   "cell_type": "code",
   "execution_count": 14,
   "id": "8d88cb96-50ee-4f62-8918-0feb46d29c61",
   "metadata": {},
   "outputs": [
    {
     "name": "stdout",
     "output_type": "stream",
     "text": [
      "File downloaded successfully to ./imap-console-client.png\n"
     ]
    }
   ],
   "source": [
    "import paramiko\n",
    "\n",
    "# create ssh client \n",
    "ssh_client = paramiko.SSHClient()\n",
    "\n",
    "# remote server credentials\n",
    "host = \"test.rebex.net\"\n",
    "username = \"demo\"\n",
    "password = \"password\"\n",
    "port = 22\n",
    "\n",
    "remote_file_path = \"/pub/example/imap-console-client.png\"  \n",
    "local_file_path = \"./imap-console-client.png\"\n",
    "\n",
    "ssh_client.set_missing_host_key_policy(paramiko.AutoAddPolicy())\n",
    "ssh_client.connect(hostname=host,port=port,username=username,password=password)\n",
    "\n",
    "ftp = ssh_client.open_sftp()\n",
    "files = ftp.get(remote_file_path,local_file_path)\n",
    "print(f\"File downloaded successfully to {local_file_path}\")\n",
    "\n",
    "# close the connection\n",
    "ftp.close()\n",
    "ssh_client.close()"
   ]
  },
  {
   "cell_type": "markdown",
   "id": "94687d92-d3fd-4929-8314-4efd8421bbd5",
   "metadata": {},
   "source": [
    "- Using the method, we can download a file from the remote server’s file path to the local file path.\n",
    "- The get method takes two arguments: the remote file path and the local file path.\n",
    "\n",
    "## Remove file from SFTP remote location\n",
    "\n",
    "- To remove a file from the remote server using SFTP, we can use the SFTP client object’s remove method.\n"
   ]
  },
  {
   "cell_type": "code",
   "execution_count": 15,
   "id": "c572b8b1-fefd-4e89-aebc-7fc1e9662ce2",
   "metadata": {},
   "outputs": [
    {
     "ename": "PermissionError",
     "evalue": "[Errno 13] Access denied.",
     "output_type": "error",
     "traceback": [
      "\u001b[1;31m---------------------------------------------------------------------------\u001b[0m",
      "\u001b[1;31mPermissionError\u001b[0m                           Traceback (most recent call last)",
      "Cell \u001b[1;32mIn[15], line 17\u001b[0m\n\u001b[0;32m     13\u001b[0m ssh_client\u001b[38;5;241m.\u001b[39mconnect(hostname\u001b[38;5;241m=\u001b[39mhost,port\u001b[38;5;241m=\u001b[39mport,username\u001b[38;5;241m=\u001b[39musername,password\u001b[38;5;241m=\u001b[39mpassword)\n\u001b[0;32m     15\u001b[0m ftp \u001b[38;5;241m=\u001b[39m ssh_client\u001b[38;5;241m.\u001b[39mopen_sftp()\n\u001b[1;32m---> 17\u001b[0m files \u001b[38;5;241m=\u001b[39m \u001b[43mftp\u001b[49m\u001b[38;5;241;43m.\u001b[39;49m\u001b[43mremove\u001b[49m\u001b[43m(\u001b[49m\u001b[38;5;124;43m\"\u001b[39;49m\u001b[38;5;124;43m/pub/example/KeyGenerator.png\u001b[39;49m\u001b[38;5;124;43m\"\u001b[39;49m\u001b[43m)\u001b[49m\n\u001b[0;32m     19\u001b[0m \u001b[38;5;66;03m# close the connection\u001b[39;00m\n\u001b[0;32m     20\u001b[0m ftp\u001b[38;5;241m.\u001b[39mclose()\n",
      "File \u001b[1;32mc:\\Users\\Administrator\\Desktop\\shreeData\\pythonisw\\.venv\\Lib\\site-packages\\paramiko\\sftp_client.py:398\u001b[0m, in \u001b[0;36mSFTPClient.remove\u001b[1;34m(self, path)\u001b[0m\n\u001b[0;32m    396\u001b[0m path \u001b[38;5;241m=\u001b[39m \u001b[38;5;28mself\u001b[39m\u001b[38;5;241m.\u001b[39m_adjust_cwd(path)\n\u001b[0;32m    397\u001b[0m \u001b[38;5;28mself\u001b[39m\u001b[38;5;241m.\u001b[39m_log(DEBUG, \u001b[38;5;124m\"\u001b[39m\u001b[38;5;124mremove(\u001b[39m\u001b[38;5;132;01m{!r}\u001b[39;00m\u001b[38;5;124m)\u001b[39m\u001b[38;5;124m\"\u001b[39m\u001b[38;5;241m.\u001b[39mformat(path))\n\u001b[1;32m--> 398\u001b[0m \u001b[38;5;28;43mself\u001b[39;49m\u001b[38;5;241;43m.\u001b[39;49m\u001b[43m_request\u001b[49m\u001b[43m(\u001b[49m\u001b[43mCMD_REMOVE\u001b[49m\u001b[43m,\u001b[49m\u001b[43m \u001b[49m\u001b[43mpath\u001b[49m\u001b[43m)\u001b[49m\n",
      "File \u001b[1;32mc:\\Users\\Administrator\\Desktop\\shreeData\\pythonisw\\.venv\\Lib\\site-packages\\paramiko\\sftp_client.py:857\u001b[0m, in \u001b[0;36mSFTPClient._request\u001b[1;34m(self, t, *args)\u001b[0m\n\u001b[0;32m    855\u001b[0m \u001b[38;5;28;01mdef\u001b[39;00m\u001b[38;5;250m \u001b[39m\u001b[38;5;21m_request\u001b[39m(\u001b[38;5;28mself\u001b[39m, t, \u001b[38;5;241m*\u001b[39margs):\n\u001b[0;32m    856\u001b[0m     num \u001b[38;5;241m=\u001b[39m \u001b[38;5;28mself\u001b[39m\u001b[38;5;241m.\u001b[39m_async_request(\u001b[38;5;28mtype\u001b[39m(\u001b[38;5;28;01mNone\u001b[39;00m), t, \u001b[38;5;241m*\u001b[39margs)\n\u001b[1;32m--> 857\u001b[0m     \u001b[38;5;28;01mreturn\u001b[39;00m \u001b[38;5;28;43mself\u001b[39;49m\u001b[38;5;241;43m.\u001b[39;49m\u001b[43m_read_response\u001b[49m\u001b[43m(\u001b[49m\u001b[43mnum\u001b[49m\u001b[43m)\u001b[49m\n",
      "File \u001b[1;32mc:\\Users\\Administrator\\Desktop\\shreeData\\pythonisw\\.venv\\Lib\\site-packages\\paramiko\\sftp_client.py:909\u001b[0m, in \u001b[0;36mSFTPClient._read_response\u001b[1;34m(self, waitfor)\u001b[0m\n\u001b[0;32m    906\u001b[0m \u001b[38;5;28;01mif\u001b[39;00m num \u001b[38;5;241m==\u001b[39m waitfor:\n\u001b[0;32m    907\u001b[0m     \u001b[38;5;66;03m# synchronous\u001b[39;00m\n\u001b[0;32m    908\u001b[0m     \u001b[38;5;28;01mif\u001b[39;00m t \u001b[38;5;241m==\u001b[39m CMD_STATUS:\n\u001b[1;32m--> 909\u001b[0m         \u001b[38;5;28;43mself\u001b[39;49m\u001b[38;5;241;43m.\u001b[39;49m\u001b[43m_convert_status\u001b[49m\u001b[43m(\u001b[49m\u001b[43mmsg\u001b[49m\u001b[43m)\u001b[49m\n\u001b[0;32m    910\u001b[0m     \u001b[38;5;28;01mreturn\u001b[39;00m t, msg\n\u001b[0;32m    912\u001b[0m \u001b[38;5;66;03m# can not rewrite this to deal with E721, either as a None check\u001b[39;00m\n\u001b[0;32m    913\u001b[0m \u001b[38;5;66;03m# nor as not an instance of None or NoneType\u001b[39;00m\n",
      "File \u001b[1;32mc:\\Users\\Administrator\\Desktop\\shreeData\\pythonisw\\.venv\\Lib\\site-packages\\paramiko\\sftp_client.py:940\u001b[0m, in \u001b[0;36mSFTPClient._convert_status\u001b[1;34m(self, msg)\u001b[0m\n\u001b[0;32m    938\u001b[0m     \u001b[38;5;28;01mraise\u001b[39;00m \u001b[38;5;167;01mIOError\u001b[39;00m(errno\u001b[38;5;241m.\u001b[39mENOENT, text)\n\u001b[0;32m    939\u001b[0m \u001b[38;5;28;01melif\u001b[39;00m code \u001b[38;5;241m==\u001b[39m SFTP_PERMISSION_DENIED:\n\u001b[1;32m--> 940\u001b[0m     \u001b[38;5;28;01mraise\u001b[39;00m \u001b[38;5;167;01mIOError\u001b[39;00m(errno\u001b[38;5;241m.\u001b[39mEACCES, text)\n\u001b[0;32m    941\u001b[0m \u001b[38;5;28;01melse\u001b[39;00m:\n\u001b[0;32m    942\u001b[0m     \u001b[38;5;28;01mraise\u001b[39;00m \u001b[38;5;167;01mIOError\u001b[39;00m(text)\n",
      "\u001b[1;31mPermissionError\u001b[0m: [Errno 13] Access denied."
     ]
    }
   ],
   "source": [
    "import paramiko\n",
    "\n",
    "# create ssh client \n",
    "ssh_client = paramiko.SSHClient()\n",
    "\n",
    "# remote server credentials\n",
    "host = \"test.rebex.net\"\n",
    "username = \"demo\"\n",
    "password = \"password\"\n",
    "port = 22\n",
    "\n",
    "ssh_client.set_missing_host_key_policy(paramiko.AutoAddPolicy())\n",
    "ssh_client.connect(hostname=host,port=port,username=username,password=password)\n",
    "\n",
    "ftp = ssh_client.open_sftp()\n",
    "\n",
    "files = ftp.remove(\"/pub/example/KeyGenerator.png\")\n",
    "\n",
    "# close the connection\n",
    "ftp.close()\n",
    "ssh_client.close()"
   ]
  },
  {
   "cell_type": "code",
   "execution_count": 16,
   "id": "841bdcdf-2d5a-4a7f-ae7e-8823081a5829",
   "metadata": {},
   "outputs": [],
   "source": [
    "## rebex does not give writable permissions"
   ]
  },
  {
   "cell_type": "markdown",
   "id": "2f156d73-4244-4c66-a330-d03a61930195",
   "metadata": {},
   "source": [
    "### Create a directory in the SFTP server\n",
    "\n",
    "- To create a directory in the SFTP server, we can use the SFTP client object’s mkdir method."
   ]
  },
  {
   "cell_type": "code",
   "execution_count": 19,
   "id": "0eef9a86-3060-46b6-9663-6fe324e492b4",
   "metadata": {},
   "outputs": [
    {
     "name": "stdout",
     "output_type": "stream",
     "text": [
      "Permission denied: [Errno 13] Access denied.\n"
     ]
    }
   ],
   "source": [
    "import paramiko\n",
    "\n",
    "# Create SSH client\n",
    "ssh_client = paramiko.SSHClient()\n",
    "\n",
    "# Remote server credentials\n",
    "host = \"test.rebex.net\"\n",
    "username = \"demo\"\n",
    "password = \"password\"\n",
    "port = 22\n",
    "\n",
    "remote_directory_path = \"/pub/new_directory\"  # Path where you want to create the directory\n",
    "\n",
    "ssh_client.set_missing_host_key_policy(paramiko.AutoAddPolicy())\n",
    "ssh_client.connect(hostname=host, port=port, username=username, password=password)\n",
    "\n",
    "# Open SFTP connection\n",
    "ftp = ssh_client.open_sftp()\n",
    "\n",
    "# Try to create the directory\n",
    "try:\n",
    "    ftp.mkdir(remote_directory_path)\n",
    "    print(f\"Directory {remote_directory_path} created successfully.\")\n",
    "except PermissionError as e:\n",
    "    print(f\"Permission denied: {e}\")\n",
    "except IOError as e:\n",
    "    print(f\"Failed to create directory: {e}\")\n",
    "except Exception as e:\n",
    "    print(f\"An error occurred: {e}\")\n",
    "\n",
    "# Close the connection\n",
    "ftp.close()\n",
    "ssh_client.close()\n"
   ]
  },
  {
   "cell_type": "code",
   "execution_count": 22,
   "id": "f1252110-79b0-405a-81f2-da2b6dc6f280",
   "metadata": {},
   "outputs": [],
   "source": [
    "# no writable permissions in the sftp server"
   ]
  },
  {
   "cell_type": "markdown",
   "id": "e3f5ad6b-4620-4363-985b-a4ed386d3740",
   "metadata": {},
   "source": [
    "## Conclusion:\n",
    "\n",
    "Paramiko is a powerful Python library that provides a secure way to communicate with remote servers using various protocols, including SFTP. With Paramiko, we can easily upload and download files securely to and from remote servers using SFTP."
   ]
  },
  {
   "cell_type": "code",
   "execution_count": null,
   "id": "2766f3b8-e095-48ce-b4c5-0e6768c4179a",
   "metadata": {},
   "outputs": [],
   "source": []
  }
 ],
 "metadata": {
  "kernelspec": {
   "display_name": "Python 3 (ipykernel)",
   "language": "python",
   "name": "python3"
  },
  "language_info": {
   "codemirror_mode": {
    "name": "ipython",
    "version": 3
   },
   "file_extension": ".py",
   "mimetype": "text/x-python",
   "name": "python",
   "nbconvert_exporter": "python",
   "pygments_lexer": "ipython3",
   "version": "3.13.0"
  }
 },
 "nbformat": 4,
 "nbformat_minor": 5
}
